{
 "cells": [
  {
   "cell_type": "markdown",
   "metadata": {},
   "source": [
    "# 範例 博客來"
   ]
  },
  {
   "cell_type": "code",
   "execution_count": 26,
   "metadata": {
    "scrolled": false
   },
   "outputs": [],
   "source": [
    "from bs4 import BeautifulSoup\n",
    "from urllib.parse import unquote\n",
    "import urllib\n",
    "import urllib.request\n",
    "import os\n",
    "import string\n",
    "\n",
    "url = 'https://search.books.com.tw/search/query/key/python/cat/all'\n",
    "#headers = {'User-Agent':'Mozilla/5.0 (Windows NT 6.1; WOW64; rv:23.0) Gecko/20100101 Firefox/23.0'}\n",
    "req = urllib.request.Request(url= urllib.parse.quote(url, safe=string.printable), headers=headers)\n",
    "html_doc = urllib.request.urlopen(req).read()\n",
    "soup = BeautifulSoup(html_doc, 'html.parser')\n",
    "form_tag = soup.find('form',class_='result')\n",
    "#form_tag\n"
   ]
  },
  {
   "cell_type": "code",
   "execution_count": 27,
   "metadata": {},
   "outputs": [
    {
     "data": {
      "text/plain": [
       "<li class=\"item\">\n",
       "<!--若無勾選選項時,可將下方input_buy的div整個拿掉-->\n",
       "<div class=\"input_buy\">\n",
       "<input name=\"C1\" type=\"checkbox\" value=\"0010869590\"/>\n",
       "</div>\n",
       "<a href=\"//search.books.com.tw/redirect/move/key/python/area/mid/item/0010869590/page/1/idx/1/cat/001/pdf/1\" rel=\"mid_image\" target=\"_blank\" title=\"Python最強入門邁向頂尖高手之路：王者歸來(第二版)全彩版\">\n",
       "<img alt=\"Python最強入門邁向頂尖高手之路：王者歸來(第二版)全彩版\" class=\"itemcov\" data-original=\"https://im1.book.com.tw/image/getImage?i=https://www.books.com.tw/img/001/086/95/0010869590.jpg&amp;w=85&amp;h=120&amp;v=5f4e22b0\" height=\"120\" width=\"85\"/>\n",
       "</a>\n",
       "<h3>\n",
       "<a href=\"//search.books.com.tw/redirect/move/key/python/area/mid/item/0010869590/page/1/idx/1/cat/001/pdf/1\" rel=\"mid_name\" target=\"_blank\" title=\"Python最強入門邁向頂尖高手之路：王者歸來(第二版)全彩版\">\n",
       "<em>Python</em>最強入門邁向頂尖高手之路：王者歸來(第二版)全彩版\t\t\t\t\t\t\t\t\t</a>\n",
       "</h3>\n",
       "<span class=\"cat\">中文書</span>\n",
       "\t                        \t,   \n",
       "\t\t\t\t                            <a href=\"//search.books.com.tw/search/query/cat/all/key/%E6%B4%AA%E9%8C%A6%E9%AD%81/adv_author/1\" rel=\"go_author\" title=\"洪錦魁\">洪錦魁</a>\n",
       "\t                            \t\t                        \t\t                       \t\t\t\t                            \t\t\t\t\t\t\t\t\t\t\t, <a href=\"//search.books.com.tw/redirect/move/type/001/key/python/area/mid_publish/pubid/deepmind/page/1/item/0010869590/idx/1/cat/001/pdf/1\" rel=\"mid_publish\" target=\"_blank\" title=\"深智數位\">深智數位</a>\n",
       "\t\t                            \t                        \t                         \n",
       "\t                            \t                                \t, 出版日期: 2020-09-17<br/>\n",
       "<span class=\"price\">\n",
       "\t                        \t\t\t\t\t\t\t\t\t\t\t\t\t\t\t\t優惠價: <strong><b>66</b> 折</strong>, <strong><b>713</b> 元</strong>\n",
       "<button class=\"btn_type01\" onclick=\"redirect('//search.books.com.tw/redirect/move/key/python/area/mid_cart/item/0010869590/page/1/cart/1/idx/1/cat/001/pdf/1');return false;\">放入購物車</button>\n",
       "<button class=\"btn_type01 btn_font1\" onclick=\"rewopen('//search.books.com.tw/redirect/move/key/python/area/mid_epub/item/0010869590/page/1/epub/1/idx/1/cat/001/pdf/1', '_blank');return false;\">試閱</button>\n",
       "</span>\n",
       "<p><em>Python</em>最強入門邁向頂尖高手之路 王者歸來 第二版 本書特色   本書第一版曾經榮登博客來、天瓏、Momo暢銷排行榜第一名   本書除了贈送全書1101個程式實例，所有是非與選擇題皆附有習題解答，實作題部分有約260多個程式實例則是...... <span><a href=\"//search.books.com.tw/redirect/move/key/python/area/mid_more/item/0010869590/page/1/idx/1/cat/001/pdf/1\" rel=\"mid_more\" target=\"_blank\">more</a></span>\n",
       "</p>\n",
       "</li>"
      ]
     },
     "execution_count": 27,
     "metadata": {},
     "output_type": "execute_result"
    }
   ],
   "source": [
    "#對著想爬蟲的資料抓取 發現單一品項容器為 <li class=\"item\">\n",
    "li_tags = form_tag.find_all('li')\n",
    "\n",
    "#在容器中尋找品項數 [0]~[x]\n",
    "li_tag = li_tags[0]\n",
    "li_tag"
   ]
  },
  {
   "cell_type": "code",
   "execution_count": 22,
   "metadata": {
    "scrolled": true
   },
   "outputs": [
    {
     "data": {
      "text/plain": [
       "'Python最強入門邁向頂尖高手之路：王者歸來(第二版)全彩版'"
      ]
     },
     "execution_count": 22,
     "metadata": {},
     "output_type": "execute_result"
    }
   ],
   "source": [
    "#<a target=\"_blank\" rel=\"mid_image\" \n",
    "# href=\"//search.books.com.tw/redirect/move/key/python/area/mid/item/0010869590/page/1/idx/1/cat/001/pdf/1\" \n",
    "# title=\"Python最強入門邁向頂尖高手之路：王者歸來(第二版)全彩版\">\n",
    "\n",
    "\n",
    "li_tag.find('a', rel='mid_image').attrs['title']\n",
    "#li_tag.find('a', rel='mid_image').attrs['href']"
   ]
  },
  {
   "cell_type": "code",
   "execution_count": 23,
   "metadata": {},
   "outputs": [
    {
     "data": {
      "text/plain": [
       "'洪錦魁'"
      ]
     },
     "execution_count": 23,
     "metadata": {},
     "output_type": "execute_result"
    }
   ],
   "source": [
    "#<a href=\"//search.books.com.tw/search/query/cat/all/key/%E6%B4%AA%E9%8C%A6%E9%AD%81/adv_author/1\" \n",
    "# rel=\"go_author\" \n",
    "# title=\"洪錦魁\">洪錦魁</a>\n",
    "\n",
    "\n",
    "li_tag.find('a', rel='go_author').attrs['title']"
   ]
  },
  {
   "cell_type": "code",
   "execution_count": 25,
   "metadata": {},
   "outputs": [
    {
     "data": {
      "text/plain": [
       "'66'"
      ]
     },
     "execution_count": 25,
     "metadata": {},
     "output_type": "execute_result"
    }
   ],
   "source": [
    "#<span class=\"price\">優惠價: \n",
    "# <strong><b>66</b> 折</strong>, <strong><b>713</b> 元</strong>\n",
    "#</span>\n",
    "\n",
    "\n",
    "li_tag.find_all('strong')[0].find('b').string"
   ]
  },
  {
   "cell_type": "code",
   "execution_count": 1,
   "metadata": {},
   "outputs": [
    {
     "name": "stdout",
     "output_type": "stream",
     "text": [
      "//search.books.com.tw/redirect/move/key/python/area/mid/item/0010869590/page/1/idx/1/cat/001/pdf/1\n",
      "[Python最強入門邁向頂尖高手之路：王者歸來(第二版)全彩版], 洪錦魁, 853元\n",
      "--------------------------------------\n",
      "//search.books.com.tw/redirect/move/key/python/area/mid/item/0010858475/page/1/idx/2/cat/001/pdf/1\n",
      "[精通 Python：運用簡單的套件進行現代運算(第二版)], Bill Lubanovic, 695元\n",
      "--------------------------------------\n",
      "//search.books.com.tw/redirect/move/key/python/area/mid/item/0010863623/page/1/idx/3/cat/001/pdf/1\n",
      "[Python初學特訓班(第四版)：從快速入門到主流應用全面實戰(附250分鐘影音教學/範例程式)], 文淵閣工作室, 379元\n",
      "--------------------------------------\n",
      "//search.books.com.tw/redirect/move/key/python/area/mid/item/0010867440/page/1/idx/4/cat/001/pdf/1\n",
      "[Python 自動化的樂趣：搞定重複瑣碎&單調無聊的工作(第二版)], Al Sweigart, 537元\n",
      "--------------------------------------\n",
      "//search.books.com.tw/redirect/move/key/python/area/mid/item/0010870722/page/1/idx/5/cat/001/pdf/1\n",
      "[Python機器學習超進化：AI影像辨識跨界應用實戰(附100分鐘影像處理入門影音教學/範例程式)], 文淵閣工作室, 356元\n",
      "--------------------------------------\n",
      "//search.books.com.tw/redirect/move/key/python/area/mid/item/0010872935/page/1/idx/6/cat/001/pdf/1\n",
      "[Python 從初學到生活應用超實務：讓 Python 幫你處理日常生活與工作中繁瑣重複的工作], 陳會安, 490元\n",
      "--------------------------------------\n",
      "//search.books.com.tw/redirect/move/key/python/area/mid/item/0010859289/page/1/idx/7/cat/001/pdf/1\n",
      "[Python大數據特訓班(第二版)：資料自動化收集、整理、清洗、儲存、分析與應用實戰(附300分鐘影音教學/範例程式)], 文淵閣工作室, 411元\n",
      "--------------------------------------\n",
      "//search.books.com.tw/redirect/move/key/python/area/mid/item/0010869555/page/1/idx/8/cat/001/pdf/1\n",
      "[Python機器學習第三版(上)], Sebastian Raschka, 490元\n",
      "--------------------------------------\n",
      "//search.books.com.tw/redirect/move/key/python/area/mid/item/0010871454/page/1/idx/9/cat/001/pdf/1\n",
      "[Python機器學習第三版(下)], Sebastian Raschka, 411元\n",
      "--------------------------------------\n",
      "//search.books.com.tw/redirect/move/key/python/area/mid/item/0010851019/page/1/idx/10/cat/001/pdf/1\n",
      "[Python自學聖經：從程式素人到開發強者的技術與實戰大全!(附影音/範例程式)], 文淵閣工作室, 695元\n",
      "--------------------------------------\n",
      "//search.books.com.tw/redirect/move/key/python/area/mid/item/0010871074/page/1/idx/11/cat/001/pdf/1\n",
      "[使用Python搜刮網路資料的12堂實習課], 何敏煌, 411元\n",
      "--------------------------------------\n",
      "//search.books.com.tw/redirect/move/key/python/area/mid/item/0010873248/page/1/idx/12/cat/001/pdf/1\n",
      "[Python for DevOps|學習精準有效的自動化], Alfredo Deza, 616元\n",
      "--------------------------------------\n",
      "//search.books.com.tw/redirect/move/key/python/area/mid/item/0010866777/page/1/idx/13/cat/001/pdf/1\n",
      "[機器學習：彩色圖解 + 基礎數學篇 + Python實作 王者歸來(全彩)], 洪錦魁, 435元\n",
      "--------------------------------------\n",
      "//search.books.com.tw/redirect/move/key/python/area/mid/item/0010874725/page/1/idx/14/cat/001/pdf/1\n",
      "[Python零基礎學程式設計與運算思維：王者歸來 (第二版)], 洪錦魁, 537元\n",
      "--------------------------------------\n",
      "//search.books.com.tw/redirect/move/key/python/area/mid/item/0010869464/page/1/idx/15/cat/001/pdf/1\n",
      "[Python程式交易應用與實作：從零開始!自動化投資實戰指南], 劉承彥, 395元\n",
      "--------------------------------------\n",
      "//search.books.com.tw/redirect/move/key/python/area/mid/item/0010852573/page/1/idx/16/cat/001/pdf/1\n",
      "[演算法：最強彩色圖鑑 + Python程式實作 王者歸來(全彩印刷)], 洪錦魁, 537元\n",
      "--------------------------------------\n",
      "//search.books.com.tw/redirect/move/key/python/area/mid/item/0010836667/page/1/idx/17/cat/001/pdf/1\n",
      "[Python網路爬蟲：大數據擷取、清洗、儲存與分析：王者歸來], 洪錦魁, 514元\n",
      "--------------------------------------\n",
      "//search.books.com.tw/redirect/move/key/python/area/mid/item/0010857799/page/1/idx/18/cat/001/pdf/1\n",
      "[深度學習的數學地圖：用 Python 實作神經網路的數學模型(附數學快查學習地圖)], Masanori Akaishi, 458元\n",
      "--------------------------------------\n",
      "//search.books.com.tw/redirect/move/key/python/area/mid/item/0010870147/page/1/idx/19/cat/001/pdf/1\n",
      "[Python資料可視化之美：極專業圖表製作高手書(全彩印刷)], 張傑, 616元\n",
      "--------------------------------------\n",
      "//search.books.com.tw/redirect/move/key/python/area/mid/item/0010822845/page/1/idx/20/cat/001/pdf/1\n",
      "[Python機器學習與深度學習特訓班：看得懂也會做的AI人工智慧實戰(附120分鐘影音教學/範例程式)], 文淵閣工作室, 411元\n",
      "--------------------------------------\n"
     ]
    }
   ],
   "source": [
    "from bs4 import BeautifulSoup\n",
    "from urllib.parse import unquote\n",
    "import urllib\n",
    "import urllib.request\n",
    "import os\n",
    "import string\n",
    "\n",
    "url = 'https://search.books.com.tw/search/query/key/python/cat/all'\n",
    "headers = {'User-Agent':'Mozilla/5.0 (Windows NT 6.1; WOW64; rv:23.0) Gecko/20100101 Firefox/23.0'}\n",
    "req = urllib.request.Request(url= urllib.parse.quote(url, safe=string.printable), headers=headers)\n",
    "html_doc = urllib.request.urlopen(req).read()\n",
    "soup = BeautifulSoup(html_doc, 'html.parser')\n",
    "form_tag = soup.find('form',class_='result')\n",
    "\n",
    "li_tags = form_tag.find_all('li')\n",
    "for li_tag in li_tags:\n",
    "    href = li_tag.find('a', rel='mid_image').attrs['href']\n",
    "    title = li_tag.find('a', rel='mid_image').attrs['title']\n",
    "    author = li_tag.find('a', rel='go_author').attrs['title']\n",
    "    print(href)\n",
    "    price = li_tag.find_all('strong')[1].find('b').string\n",
    "    print('[%s], %s, %s元'%(title, author, price))\n",
    "    print('--------------------------------------')\n"
   ]
  },
  {
   "cell_type": "markdown",
   "metadata": {},
   "source": [
    "練習題\n",
    "請完成上面的程式，讓使用者輸入關鍵字後，輸出找到前十頁的書籍內容"
   ]
  },
  {
   "cell_type": "code",
   "execution_count": 34,
   "metadata": {},
   "outputs": [
    {
     "name": "stdout",
     "output_type": "stream",
     "text": [
      "Enter your keyword:python\n"
     ]
    },
    {
     "ename": "HTTPError",
     "evalue": "HTTP Error 408: Request Timeout",
     "output_type": "error",
     "traceback": [
      "\u001b[0;31m---------------------------------------------------------------------------\u001b[0m",
      "\u001b[0;31mHTTPError\u001b[0m                                 Traceback (most recent call last)",
      "\u001b[0;32m<ipython-input-34-f24b27735b66>\u001b[0m in \u001b[0;36m<module>\u001b[0;34m\u001b[0m\n\u001b[1;32m     28\u001b[0m \u001b[0mkeyword\u001b[0m \u001b[0;34m=\u001b[0m \u001b[0minput\u001b[0m\u001b[0;34m(\u001b[0m\u001b[0;34m'Enter your keyword:'\u001b[0m\u001b[0;34m)\u001b[0m\u001b[0;34m\u001b[0m\u001b[0;34m\u001b[0m\u001b[0m\n\u001b[1;32m     29\u001b[0m \u001b[0mpageNum\u001b[0m \u001b[0;34m=\u001b[0m \u001b[0;36m2\u001b[0m\u001b[0;34m\u001b[0m\u001b[0;34m\u001b[0m\u001b[0m\n\u001b[0;32m---> 30\u001b[0;31m \u001b[0mdata\u001b[0m \u001b[0;34m=\u001b[0m \u001b[0mgetPage\u001b[0m\u001b[0;34m(\u001b[0m\u001b[0;34m'https://search.books.com.tw/search/query/key/%s/cat/all'\u001b[0m\u001b[0;34m%\u001b[0m\u001b[0mkeyword\u001b[0m\u001b[0;34m)\u001b[0m\u001b[0;34m\u001b[0m\u001b[0;34m\u001b[0m\u001b[0m\n\u001b[0m\u001b[1;32m     31\u001b[0m \u001b[0;34m\u001b[0m\u001b[0m\n\u001b[1;32m     32\u001b[0m \u001b[0;34m\u001b[0m\u001b[0m\n",
      "\u001b[0;32m<ipython-input-34-f24b27735b66>\u001b[0m in \u001b[0;36mgetPage\u001b[0;34m(url)\u001b[0m\n\u001b[1;32m     11\u001b[0m     \u001b[0mheaders\u001b[0m \u001b[0;34m=\u001b[0m \u001b[0;34m{\u001b[0m\u001b[0;34m'User-Agent'\u001b[0m\u001b[0;34m:\u001b[0m\u001b[0;34m'Mozilla/5.0 (Windows NT 6.1; WOW64; rv:23.0) Gecko/20100101 Firefox/23.0'\u001b[0m\u001b[0;34m}\u001b[0m\u001b[0;34m\u001b[0m\u001b[0;34m\u001b[0m\u001b[0m\n\u001b[1;32m     12\u001b[0m     \u001b[0mreq\u001b[0m \u001b[0;34m=\u001b[0m \u001b[0murllib\u001b[0m\u001b[0;34m.\u001b[0m\u001b[0mrequest\u001b[0m\u001b[0;34m.\u001b[0m\u001b[0mRequest\u001b[0m\u001b[0;34m(\u001b[0m\u001b[0murl\u001b[0m\u001b[0;34m=\u001b[0m \u001b[0murllib\u001b[0m\u001b[0;34m.\u001b[0m\u001b[0mparse\u001b[0m\u001b[0;34m.\u001b[0m\u001b[0mquote\u001b[0m\u001b[0;34m(\u001b[0m\u001b[0murl\u001b[0m\u001b[0;34m,\u001b[0m \u001b[0msafe\u001b[0m\u001b[0;34m=\u001b[0m\u001b[0mstring\u001b[0m\u001b[0;34m.\u001b[0m\u001b[0mprintable\u001b[0m\u001b[0;34m)\u001b[0m\u001b[0;34m,\u001b[0m \u001b[0mheaders\u001b[0m\u001b[0;34m=\u001b[0m\u001b[0mheaders\u001b[0m\u001b[0;34m)\u001b[0m\u001b[0;34m\u001b[0m\u001b[0;34m\u001b[0m\u001b[0m\n\u001b[0;32m---> 13\u001b[0;31m     \u001b[0mhtml_doc\u001b[0m \u001b[0;34m=\u001b[0m \u001b[0murllib\u001b[0m\u001b[0;34m.\u001b[0m\u001b[0mrequest\u001b[0m\u001b[0;34m.\u001b[0m\u001b[0murlopen\u001b[0m\u001b[0;34m(\u001b[0m\u001b[0mreq\u001b[0m\u001b[0;34m)\u001b[0m\u001b[0;34m.\u001b[0m\u001b[0mread\u001b[0m\u001b[0;34m(\u001b[0m\u001b[0;34m)\u001b[0m\u001b[0;34m\u001b[0m\u001b[0;34m\u001b[0m\u001b[0m\n\u001b[0m\u001b[1;32m     14\u001b[0m     \u001b[0msoup\u001b[0m \u001b[0;34m=\u001b[0m \u001b[0mBeautifulSoup\u001b[0m\u001b[0;34m(\u001b[0m\u001b[0mhtml_doc\u001b[0m\u001b[0;34m,\u001b[0m \u001b[0;34m'html.parser'\u001b[0m\u001b[0;34m)\u001b[0m\u001b[0;34m\u001b[0m\u001b[0;34m\u001b[0m\u001b[0m\n\u001b[1;32m     15\u001b[0m     \u001b[0mform_tag\u001b[0m \u001b[0;34m=\u001b[0m \u001b[0msoup\u001b[0m\u001b[0;34m.\u001b[0m\u001b[0mfind\u001b[0m\u001b[0;34m(\u001b[0m\u001b[0;34m'form'\u001b[0m\u001b[0;34m,\u001b[0m\u001b[0mclass_\u001b[0m\u001b[0;34m=\u001b[0m\u001b[0;34m'result'\u001b[0m\u001b[0;34m)\u001b[0m\u001b[0;34m\u001b[0m\u001b[0;34m\u001b[0m\u001b[0m\n",
      "\u001b[0;32m/opt/anaconda3/lib/python3.8/urllib/request.py\u001b[0m in \u001b[0;36murlopen\u001b[0;34m(url, data, timeout, cafile, capath, cadefault, context)\u001b[0m\n\u001b[1;32m    220\u001b[0m     \u001b[0;32melse\u001b[0m\u001b[0;34m:\u001b[0m\u001b[0;34m\u001b[0m\u001b[0;34m\u001b[0m\u001b[0m\n\u001b[1;32m    221\u001b[0m         \u001b[0mopener\u001b[0m \u001b[0;34m=\u001b[0m \u001b[0m_opener\u001b[0m\u001b[0;34m\u001b[0m\u001b[0;34m\u001b[0m\u001b[0m\n\u001b[0;32m--> 222\u001b[0;31m     \u001b[0;32mreturn\u001b[0m \u001b[0mopener\u001b[0m\u001b[0;34m.\u001b[0m\u001b[0mopen\u001b[0m\u001b[0;34m(\u001b[0m\u001b[0murl\u001b[0m\u001b[0;34m,\u001b[0m \u001b[0mdata\u001b[0m\u001b[0;34m,\u001b[0m \u001b[0mtimeout\u001b[0m\u001b[0;34m)\u001b[0m\u001b[0;34m\u001b[0m\u001b[0;34m\u001b[0m\u001b[0m\n\u001b[0m\u001b[1;32m    223\u001b[0m \u001b[0;34m\u001b[0m\u001b[0m\n\u001b[1;32m    224\u001b[0m \u001b[0;32mdef\u001b[0m \u001b[0minstall_opener\u001b[0m\u001b[0;34m(\u001b[0m\u001b[0mopener\u001b[0m\u001b[0;34m)\u001b[0m\u001b[0;34m:\u001b[0m\u001b[0;34m\u001b[0m\u001b[0;34m\u001b[0m\u001b[0m\n",
      "\u001b[0;32m/opt/anaconda3/lib/python3.8/urllib/request.py\u001b[0m in \u001b[0;36mopen\u001b[0;34m(self, fullurl, data, timeout)\u001b[0m\n\u001b[1;32m    529\u001b[0m         \u001b[0;32mfor\u001b[0m \u001b[0mprocessor\u001b[0m \u001b[0;32min\u001b[0m \u001b[0mself\u001b[0m\u001b[0;34m.\u001b[0m\u001b[0mprocess_response\u001b[0m\u001b[0;34m.\u001b[0m\u001b[0mget\u001b[0m\u001b[0;34m(\u001b[0m\u001b[0mprotocol\u001b[0m\u001b[0;34m,\u001b[0m \u001b[0;34m[\u001b[0m\u001b[0;34m]\u001b[0m\u001b[0;34m)\u001b[0m\u001b[0;34m:\u001b[0m\u001b[0;34m\u001b[0m\u001b[0;34m\u001b[0m\u001b[0m\n\u001b[1;32m    530\u001b[0m             \u001b[0mmeth\u001b[0m \u001b[0;34m=\u001b[0m \u001b[0mgetattr\u001b[0m\u001b[0;34m(\u001b[0m\u001b[0mprocessor\u001b[0m\u001b[0;34m,\u001b[0m \u001b[0mmeth_name\u001b[0m\u001b[0;34m)\u001b[0m\u001b[0;34m\u001b[0m\u001b[0;34m\u001b[0m\u001b[0m\n\u001b[0;32m--> 531\u001b[0;31m             \u001b[0mresponse\u001b[0m \u001b[0;34m=\u001b[0m \u001b[0mmeth\u001b[0m\u001b[0;34m(\u001b[0m\u001b[0mreq\u001b[0m\u001b[0;34m,\u001b[0m \u001b[0mresponse\u001b[0m\u001b[0;34m)\u001b[0m\u001b[0;34m\u001b[0m\u001b[0;34m\u001b[0m\u001b[0m\n\u001b[0m\u001b[1;32m    532\u001b[0m \u001b[0;34m\u001b[0m\u001b[0m\n\u001b[1;32m    533\u001b[0m         \u001b[0;32mreturn\u001b[0m \u001b[0mresponse\u001b[0m\u001b[0;34m\u001b[0m\u001b[0;34m\u001b[0m\u001b[0m\n",
      "\u001b[0;32m/opt/anaconda3/lib/python3.8/urllib/request.py\u001b[0m in \u001b[0;36mhttp_response\u001b[0;34m(self, request, response)\u001b[0m\n\u001b[1;32m    638\u001b[0m         \u001b[0;31m# request was successfully received, understood, and accepted.\u001b[0m\u001b[0;34m\u001b[0m\u001b[0;34m\u001b[0m\u001b[0;34m\u001b[0m\u001b[0m\n\u001b[1;32m    639\u001b[0m         \u001b[0;32mif\u001b[0m \u001b[0;32mnot\u001b[0m \u001b[0;34m(\u001b[0m\u001b[0;36m200\u001b[0m \u001b[0;34m<=\u001b[0m \u001b[0mcode\u001b[0m \u001b[0;34m<\u001b[0m \u001b[0;36m300\u001b[0m\u001b[0;34m)\u001b[0m\u001b[0;34m:\u001b[0m\u001b[0;34m\u001b[0m\u001b[0;34m\u001b[0m\u001b[0m\n\u001b[0;32m--> 640\u001b[0;31m             response = self.parent.error(\n\u001b[0m\u001b[1;32m    641\u001b[0m                 'http', request, response, code, msg, hdrs)\n\u001b[1;32m    642\u001b[0m \u001b[0;34m\u001b[0m\u001b[0m\n",
      "\u001b[0;32m/opt/anaconda3/lib/python3.8/urllib/request.py\u001b[0m in \u001b[0;36merror\u001b[0;34m(self, proto, *args)\u001b[0m\n\u001b[1;32m    567\u001b[0m         \u001b[0;32mif\u001b[0m \u001b[0mhttp_err\u001b[0m\u001b[0;34m:\u001b[0m\u001b[0;34m\u001b[0m\u001b[0;34m\u001b[0m\u001b[0m\n\u001b[1;32m    568\u001b[0m             \u001b[0margs\u001b[0m \u001b[0;34m=\u001b[0m \u001b[0;34m(\u001b[0m\u001b[0mdict\u001b[0m\u001b[0;34m,\u001b[0m \u001b[0;34m'default'\u001b[0m\u001b[0;34m,\u001b[0m \u001b[0;34m'http_error_default'\u001b[0m\u001b[0;34m)\u001b[0m \u001b[0;34m+\u001b[0m \u001b[0morig_args\u001b[0m\u001b[0;34m\u001b[0m\u001b[0;34m\u001b[0m\u001b[0m\n\u001b[0;32m--> 569\u001b[0;31m             \u001b[0;32mreturn\u001b[0m \u001b[0mself\u001b[0m\u001b[0;34m.\u001b[0m\u001b[0m_call_chain\u001b[0m\u001b[0;34m(\u001b[0m\u001b[0;34m*\u001b[0m\u001b[0margs\u001b[0m\u001b[0;34m)\u001b[0m\u001b[0;34m\u001b[0m\u001b[0;34m\u001b[0m\u001b[0m\n\u001b[0m\u001b[1;32m    570\u001b[0m \u001b[0;34m\u001b[0m\u001b[0m\n\u001b[1;32m    571\u001b[0m \u001b[0;31m# XXX probably also want an abstract factory that knows when it makes\u001b[0m\u001b[0;34m\u001b[0m\u001b[0;34m\u001b[0m\u001b[0;34m\u001b[0m\u001b[0m\n",
      "\u001b[0;32m/opt/anaconda3/lib/python3.8/urllib/request.py\u001b[0m in \u001b[0;36m_call_chain\u001b[0;34m(self, chain, kind, meth_name, *args)\u001b[0m\n\u001b[1;32m    500\u001b[0m         \u001b[0;32mfor\u001b[0m \u001b[0mhandler\u001b[0m \u001b[0;32min\u001b[0m \u001b[0mhandlers\u001b[0m\u001b[0;34m:\u001b[0m\u001b[0;34m\u001b[0m\u001b[0;34m\u001b[0m\u001b[0m\n\u001b[1;32m    501\u001b[0m             \u001b[0mfunc\u001b[0m \u001b[0;34m=\u001b[0m \u001b[0mgetattr\u001b[0m\u001b[0;34m(\u001b[0m\u001b[0mhandler\u001b[0m\u001b[0;34m,\u001b[0m \u001b[0mmeth_name\u001b[0m\u001b[0;34m)\u001b[0m\u001b[0;34m\u001b[0m\u001b[0;34m\u001b[0m\u001b[0m\n\u001b[0;32m--> 502\u001b[0;31m             \u001b[0mresult\u001b[0m \u001b[0;34m=\u001b[0m \u001b[0mfunc\u001b[0m\u001b[0;34m(\u001b[0m\u001b[0;34m*\u001b[0m\u001b[0margs\u001b[0m\u001b[0;34m)\u001b[0m\u001b[0;34m\u001b[0m\u001b[0;34m\u001b[0m\u001b[0m\n\u001b[0m\u001b[1;32m    503\u001b[0m             \u001b[0;32mif\u001b[0m \u001b[0mresult\u001b[0m \u001b[0;32mis\u001b[0m \u001b[0;32mnot\u001b[0m \u001b[0;32mNone\u001b[0m\u001b[0;34m:\u001b[0m\u001b[0;34m\u001b[0m\u001b[0;34m\u001b[0m\u001b[0m\n\u001b[1;32m    504\u001b[0m                 \u001b[0;32mreturn\u001b[0m \u001b[0mresult\u001b[0m\u001b[0;34m\u001b[0m\u001b[0;34m\u001b[0m\u001b[0m\n",
      "\u001b[0;32m/opt/anaconda3/lib/python3.8/urllib/request.py\u001b[0m in \u001b[0;36mhttp_error_default\u001b[0;34m(self, req, fp, code, msg, hdrs)\u001b[0m\n\u001b[1;32m    647\u001b[0m \u001b[0;32mclass\u001b[0m \u001b[0mHTTPDefaultErrorHandler\u001b[0m\u001b[0;34m(\u001b[0m\u001b[0mBaseHandler\u001b[0m\u001b[0;34m)\u001b[0m\u001b[0;34m:\u001b[0m\u001b[0;34m\u001b[0m\u001b[0;34m\u001b[0m\u001b[0m\n\u001b[1;32m    648\u001b[0m     \u001b[0;32mdef\u001b[0m \u001b[0mhttp_error_default\u001b[0m\u001b[0;34m(\u001b[0m\u001b[0mself\u001b[0m\u001b[0;34m,\u001b[0m \u001b[0mreq\u001b[0m\u001b[0;34m,\u001b[0m \u001b[0mfp\u001b[0m\u001b[0;34m,\u001b[0m \u001b[0mcode\u001b[0m\u001b[0;34m,\u001b[0m \u001b[0mmsg\u001b[0m\u001b[0;34m,\u001b[0m \u001b[0mhdrs\u001b[0m\u001b[0;34m)\u001b[0m\u001b[0;34m:\u001b[0m\u001b[0;34m\u001b[0m\u001b[0;34m\u001b[0m\u001b[0m\n\u001b[0;32m--> 649\u001b[0;31m         \u001b[0;32mraise\u001b[0m \u001b[0mHTTPError\u001b[0m\u001b[0;34m(\u001b[0m\u001b[0mreq\u001b[0m\u001b[0;34m.\u001b[0m\u001b[0mfull_url\u001b[0m\u001b[0;34m,\u001b[0m \u001b[0mcode\u001b[0m\u001b[0;34m,\u001b[0m \u001b[0mmsg\u001b[0m\u001b[0;34m,\u001b[0m \u001b[0mhdrs\u001b[0m\u001b[0;34m,\u001b[0m \u001b[0mfp\u001b[0m\u001b[0;34m)\u001b[0m\u001b[0;34m\u001b[0m\u001b[0;34m\u001b[0m\u001b[0m\n\u001b[0m\u001b[1;32m    650\u001b[0m \u001b[0;34m\u001b[0m\u001b[0m\n\u001b[1;32m    651\u001b[0m \u001b[0;32mclass\u001b[0m \u001b[0mHTTPRedirectHandler\u001b[0m\u001b[0;34m(\u001b[0m\u001b[0mBaseHandler\u001b[0m\u001b[0;34m)\u001b[0m\u001b[0;34m:\u001b[0m\u001b[0;34m\u001b[0m\u001b[0;34m\u001b[0m\u001b[0m\n",
      "\u001b[0;31mHTTPError\u001b[0m: HTTP Error 408: Request Timeout"
     ]
    }
   ],
   "source": [
    "from bs4 import BeautifulSoup\n",
    "from urllib.parse import unquote\n",
    "import urllib\n",
    "import urllib.request\n",
    "import os\n",
    "import string\n",
    "import time\n",
    "\n",
    "#url = 'https://search.books.com.tw/search/query/key/python/cat/all'\n",
    "def getPage(url):\n",
    "    headers = {'User-Agent':'Mozilla/5.0 (Windows NT 6.1; WOW64; rv:23.0) Gecko/20100101 Firefox/23.0'}\n",
    "    req = urllib.request.Request(url= urllib.parse.quote(url, safe=string.printable), headers=headers)\n",
    "    html_doc = urllib.request.urlopen(req).read()\n",
    "    soup = BeautifulSoup(html_doc, 'html.parser')\n",
    "    form_tag = soup.find('form',class_='result')\n",
    "\n",
    "    result = []\n",
    "    li_tags = form_tag.find_all('li')\n",
    "    for li_tag in li_tags:\n",
    "        href = li_tag.find('a', rel='mid_image').attrs['href']\n",
    "        title = li_tag.find('a', rel='mid_image').attrs['title']\n",
    "        author = li_tag.find('a', rel='go_author').attrs['title']\n",
    "        price = li_tag.find_all('strong')[1].find('b').string\n",
    "        result.append((href, title, author, price))\n",
    "    return result\n",
    "\n",
    "#keyword = 'python'\n",
    "keyword = input('Enter your keyword:')\n",
    "pageNum = 2\n",
    "data = getPage('https://search.books.com.tw/search/query/key/%s/cat/all'%keyword)\n",
    "\n",
    "\n",
    "for i in range(1,pageNum):\n",
    "    url = 'https://search.books.com.tw/search/query/cat/all/key/%s/sort/1/ms2/ms2_1/page/%d/v/0/'%(keyword,i)\n",
    "    data.extend(getPage(url))\n",
    "    time.sleep(1)\n",
    "    \n",
    "print(len(data))\n",
    "data\n"
   ]
  },
  {
   "cell_type": "code",
   "execution_count": null,
   "metadata": {},
   "outputs": [],
   "source": [
    "\n",
    "\n",
    "\n"
   ]
  }
 ],
 "metadata": {
  "kernelspec": {
   "display_name": "Python 3",
   "language": "python",
   "name": "python3"
  },
  "language_info": {
   "codemirror_mode": {
    "name": "ipython",
    "version": 3
   },
   "file_extension": ".py",
   "mimetype": "text/x-python",
   "name": "python",
   "nbconvert_exporter": "python",
   "pygments_lexer": "ipython3",
   "version": "3.8.3"
  }
 },
 "nbformat": 4,
 "nbformat_minor": 4
}
