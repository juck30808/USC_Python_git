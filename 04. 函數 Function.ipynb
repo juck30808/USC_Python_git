{
 "cells": [
  {
   "cell_type": "markdown",
   "metadata": {
    "id": "jmD3pROjCo_p"
   },
   "source": [
    "## 基本函式的宣告"
   ]
  },
  {
   "cell_type": "code",
   "execution_count": null,
   "metadata": {
    "id": "lHfpNyHlCo_r",
    "outputId": "bb3f865c-d858-4897-c078-690e660f1c09"
   },
   "outputs": [
    {
     "name": "stdout",
     "output_type": "stream",
     "text": [
      "Hello world!\n"
     ]
    }
   ],
   "source": [
    "# 函數的定義\n",
    "def sayHello():\n",
    "    print('Hello world!')\n",
    "\n",
    "# 主程式從這邊開始\n",
    "sayHello()"
   ]
  },
  {
   "cell_type": "code",
   "execution_count": null,
   "metadata": {
    "id": "i7L30y4SCo_y",
    "outputId": "a854ace2-bd9e-46d6-ff8c-84860ff6a1ea"
   },
   "outputs": [
    {
     "name": "stdout",
     "output_type": "stream",
     "text": [
      "Hello Clement !\n"
     ]
    }
   ],
   "source": [
    "# 函數的參數\n",
    "def sayHello(name):\n",
    "    print('Hello', name, '!')\n",
    "\n",
    "# 主程式從這邊開始\n",
    "sayHello('Clement')"
   ]
  },
  {
   "cell_type": "code",
   "execution_count": null,
   "metadata": {
    "id": "zTXQMJdCCo_3",
    "outputId": "ad93cfdf-ca37-4cbd-d741-1a25acb83ba9"
   },
   "outputs": [
    {
     "name": "stdout",
     "output_type": "stream",
     "text": [
      "數列總和為 45\n"
     ]
    }
   ],
   "source": [
    "# 回傳數值\n",
    "def sum(numbers):\n",
    "    s = 0\n",
    "    for n in numbers:\n",
    "        s += n\n",
    "    return s\n",
    "\n",
    "nums= [1,2,3,4,5,6,7,8,9]\n",
    "print('數列總和為',sum(nums))"
   ]
  },
  {
   "cell_type": "markdown",
   "metadata": {
    "id": "CBzBrWvjCo_7"
   },
   "source": [
    "## 練習題"
   ]
  },
  {
   "cell_type": "code",
   "execution_count": null,
   "metadata": {
    "id": "uZQeG57iCo_8"
   },
   "outputs": [],
   "source": [
    "# 小習題\n",
    "# 請將 sort() 這個函數完成，函數的功能是傳入一個數列，依照數列的大小排序後重新傳出已排序的數列\n",
    "def sort(num):\n",
    "    pass\n",
    "\n",
    "import random\n",
    "numList = random.sample(range(10, 30), 20)\n",
    "sortedList = sort(numList)\n",
    "print(sortedList)"
   ]
  },
  {
   "cell_type": "code",
   "execution_count": null,
   "metadata": {},
   "outputs": [],
   "source": [
    "def sort(num):\n",
    "    #r1_sort =num[:]\n",
    "    for i in range(0,len(num)):\n",
    "        for j in range(i+1,len(num)):\n",
    "            if(num[i] > num[j]):\n",
    "                (num[i],num[j]) = (num[j],num[i])\n",
    "    return num\n",
    "\n",
    "import random\n",
    "numList = random.sample(range(10, 30), 20)\n",
    "sortedList = sort(numList)\n",
    "print(sortedList)\n"
   ]
  },
  {
   "cell_type": "markdown",
   "metadata": {
    "id": "YrK-gpUTCo__"
   },
   "source": [
    "## 函式參數"
   ]
  },
  {
   "cell_type": "code",
   "execution_count": null,
   "metadata": {
    "id": "9Igo7eCsCpAA",
    "outputId": "d834aaf0-9397-4e9c-af20-d1cfad7748c5"
   },
   "outputs": [
    {
     "data": {
      "text/plain": [
       "16"
      ]
     },
     "execution_count": 8,
     "metadata": {
      "tags": []
     },
     "output_type": "execute_result"
    }
   ],
   "source": [
    "# 兩個以上的參數\n",
    "def power(base, index):\n",
    "    return base ** index\n",
    "\n",
    "power(4, 2)"
   ]
  },
  {
   "cell_type": "code",
   "execution_count": null,
   "metadata": {
    "id": "Jmu9F6-LCpAF",
    "outputId": "968095c9-b895-4f2b-b7ba-352780a53dab"
   },
   "outputs": [
    {
     "name": "stdout",
     "output_type": "stream",
     "text": [
      "64\n",
      "16\n"
     ]
    }
   ],
   "source": [
    "# 參數可以給預設值\n",
    "def power(base, index=3):\n",
    "    return base ** index\n",
    "\n",
    "print(power(4))\n",
    "print(power(4,2))"
   ]
  },
  {
   "cell_type": "code",
   "execution_count": null,
   "metadata": {
    "id": "HvYhF-rCCpAJ",
    "outputId": "3e9d0fe3-d198-470d-cc69-dbfebd45da7f"
   },
   "outputs": [
    {
     "name": "stdout",
     "output_type": "stream",
     "text": [
      "[1]\n",
      "[1, 2]\n",
      "[1, 2, 3]\n"
     ]
    }
   ],
   "source": [
    "# 這條規則在默認值為「可變對象」，列表、字典以及大多數類實例時很重要\n",
    "def f(a, L=[]):\n",
    "    L.append(a)\n",
    "    return L\n",
    "\n",
    "print(f(1))\n",
    "print(f(2))\n",
    "print(f(3))"
   ]
  },
  {
   "cell_type": "code",
   "execution_count": null,
   "metadata": {
    "id": "JWv-nuWsCpAN",
    "outputId": "2e3218e6-6482-4a9f-a44c-b9f3fc987c6c"
   },
   "outputs": [
    {
     "name": "stdout",
     "output_type": "stream",
     "text": [
      "[1]\n",
      "[2]\n",
      "[3]\n"
     ]
    }
   ],
   "source": [
    "# 「清空共享默認值」，你可以這樣寫這個函數\n",
    "def f(a, L=None):\n",
    "    if L is None:\n",
    "        L = []\n",
    "    L.append(a)\n",
    "    return L\n",
    "\n",
    "print(f(1))\n",
    "print(f(2))\n",
    "print(f(3))"
   ]
  },
  {
   "cell_type": "code",
   "execution_count": null,
   "metadata": {
    "id": "cZlzIsAOCpAS",
    "outputId": "934aadb2-870e-4672-9e57-66f5ca3fd211"
   },
   "outputs": [
    {
     "name": "stdout",
     "output_type": "stream",
     "text": [
      "(123, 'Hello', 4.35)\n"
     ]
    }
   ],
   "source": [
    "# 不定長度的參數\n",
    "def f(*args):\n",
    "    print(args)\n",
    "\n",
    "f(123, \"Hello\", 4.35)"
   ]
  },
  {
   "cell_type": "code",
   "execution_count": null,
   "metadata": {
    "id": "hJeCM4NkCpAW",
    "outputId": "2ffdfe0f-91e8-43bb-cee1-ee0c43bb0649"
   },
   "outputs": [
    {
     "data": {
      "text/plain": [
       "11"
      ]
     },
     "execution_count": 21,
     "metadata": {
      "tags": []
     },
     "output_type": "execute_result"
    }
   ],
   "source": [
    "f = lambda x,y: x + y\n",
    "f(5,6)"
   ]
  },
  {
   "cell_type": "code",
   "execution_count": null,
   "metadata": {
    "id": "r1BMJh7qCpAa",
    "outputId": "90c2b1b6-43d3-4f7b-98ba-4677c93c37f8"
   },
   "outputs": [
    {
     "name": "stdout",
     "output_type": "stream",
     "text": [
      "Do nothing, but document it.\n",
      "    No, really, it doesn't do anything.\n",
      "    \n"
     ]
    }
   ],
   "source": [
    "# 函示的註解\n",
    "def my_function():\n",
    "    \"\"\"Do nothing, but document it.\n",
    "    No, really, it doesn't do anything.\n",
    "    \"\"\"\n",
    "    pass\n",
    "\n",
    "print(my_function.__doc__)"
   ]
  },
  {
   "cell_type": "code",
   "execution_count": null,
   "metadata": {
    "id": "5XgpWdUoCpAd"
   },
   "outputs": [],
   "source": []
  },
  {
   "cell_type": "code",
   "execution_count": null,
   "metadata": {
    "id": "lX-K-3QNCpAh"
   },
   "outputs": [],
   "source": []
  },
  {
   "cell_type": "code",
   "execution_count": null,
   "metadata": {
    "id": "Sn_YygjfCpAm"
   },
   "outputs": [],
   "source": []
  },
  {
   "cell_type": "code",
   "execution_count": null,
   "metadata": {
    "id": "pmA1_3CjCpAp"
   },
   "outputs": [],
   "source": []
  },
  {
   "cell_type": "code",
   "execution_count": null,
   "metadata": {
    "id": "fwxrkTGmCpAs"
   },
   "outputs": [],
   "source": []
  },
  {
   "cell_type": "code",
   "execution_count": null,
   "metadata": {
    "id": "-mtU90_KCpAv"
   },
   "outputs": [],
   "source": []
  },
  {
   "cell_type": "code",
   "execution_count": null,
   "metadata": {
    "id": "V0yq9islCpA2"
   },
   "outputs": [],
   "source": []
  }
 ],
 "metadata": {
  "colab": {
   "name": "04. 函數 Function.ipynb",
   "provenance": []
  },
  "kernelspec": {
   "display_name": "Python 3",
   "language": "python",
   "name": "python3"
  },
  "language_info": {
   "codemirror_mode": {
    "name": "ipython",
    "version": 3
   },
   "file_extension": ".py",
   "mimetype": "text/x-python",
   "name": "python",
   "nbconvert_exporter": "python",
   "pygments_lexer": "ipython3",
   "version": "3.8.3"
  }
 },
 "nbformat": 4,
 "nbformat_minor": 1
}
