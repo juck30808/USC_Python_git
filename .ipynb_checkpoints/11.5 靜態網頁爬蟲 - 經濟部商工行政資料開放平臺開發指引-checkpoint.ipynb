{
 "cells": [
  {
   "cell_type": "code",
   "execution_count": 7,
   "metadata": {},
   "outputs": [
    {
     "name": "stdout",
     "output_type": "stream",
     "text": [
      "<class 'str'>\n"
     ]
    }
   ],
   "source": [
    "from urllib.parse import unquote\n",
    "import urllib\n",
    "import urllib.request\n",
    "import os\n",
    "import string\n",
    "import json\n",
    "\n",
    "\n",
    "cid = '20828393'\n",
    "print(type(cid))\n",
    "url = f'https://data.gcis.nat.gov.tw/od/data/api/F05D1060-7D57-4763-BDCE-0DAF5975AFE0?$format=json&$filter=Business_Accounting_NO%20eq%20{cid}&$skip=0&$top=50'\n",
    "headers = {'User-Agent':'Mozilla/5.0 (Windows NT 6.1; WOW64; rv:23.0) Gecko/20100101 Firefox/23.0'}\n",
    "req = urllib.request.Request(url= urllib.parse.quote(url, safe=string.printable), headers=headers)\n",
    "webURL = urllib.request.urlopen(url)\n",
    "data = webURL.read()\n",
    "encoding = webURL.info().get_content_charset('utf-8')\n",
    "data_str = data.decode(encoding)\n",
    "JSON_object = json.loads(data_str)"
   ]
  },
  {
   "cell_type": "code",
   "execution_count": 19,
   "metadata": {},
   "outputs": [
    {
     "data": {
      "text/plain": [
       "b'[{\"Business_Accounting_NO\":\"20828393\",\"Company_Name\":\"\\xe5\\xae\\x8f\\xe7\\xa2\\x81\\xe8\\x82\\xa1\\xe4\\xbb\\xbd\\xe6\\x9c\\x89\\xe9\\x99\\x90\\xe5\\x85\\xac\\xe5\\x8f\\xb8\",\"Company_Status\":\"01\",\"Company_Status_Desc\":\"\\xe6\\xa0\\xb8\\xe5\\x87\\x86\\xe8\\xa8\\xad\\xe7\\xab\\x8b\",\"Change_Of_Approval_Data\":\"1090928\"}]'"
      ]
     },
     "execution_count": 19,
     "metadata": {},
     "output_type": "execute_result"
    }
   ],
   "source": [
    "data"
   ]
  },
  {
   "cell_type": "code",
   "execution_count": 21,
   "metadata": {},
   "outputs": [
    {
     "data": {
      "text/plain": [
       "'[{\"Business_Accounting_NO\":\"20828393\",\"Company_Name\":\"宏碁股份有限公司\",\"Company_Status\":\"01\",\"Company_Status_Desc\":\"核准設立\",\"Change_Of_Approval_Data\":\"1090928\"}]'"
      ]
     },
     "execution_count": 21,
     "metadata": {},
     "output_type": "execute_result"
    }
   ],
   "source": [
    "data_str"
   ]
  },
  {
   "cell_type": "code",
   "execution_count": 18,
   "metadata": {},
   "outputs": [
    {
     "data": {
      "text/plain": [
       "[{'Business_Accounting_NO': '20828393',\n",
       "  'Company_Name': '宏碁股份有限公司',\n",
       "  'Company_Status': '01',\n",
       "  'Company_Status_Desc': '核准設立',\n",
       "  'Change_Of_Approval_Data': '1090928'}]"
      ]
     },
     "execution_count": 18,
     "metadata": {},
     "output_type": "execute_result"
    }
   ],
   "source": [
    "JSON_object"
   ]
  },
  {
   "cell_type": "code",
   "execution_count": 2,
   "metadata": {},
   "outputs": [
    {
     "data": {
      "text/plain": [
       "'宏碁股份有限公司'"
      ]
     },
     "execution_count": 2,
     "metadata": {},
     "output_type": "execute_result"
    }
   ],
   "source": [
    "JSON_object[0]['Company_Name']"
   ]
  },
  {
   "cell_type": "code",
   "execution_count": 8,
   "metadata": {},
   "outputs": [
    {
     "name": "stdout",
     "output_type": "stream",
     "text": [
      "請輸入統編代號：20828393\n",
      "('20828393', '宏碁股份有限公司', '01', '核准設立', '1090928')\n"
     ]
    },
    {
     "ename": "ProgrammingError",
     "evalue": "Cannot operate on a closed database.",
     "output_type": "error",
     "traceback": [
      "\u001b[0;31m---------------------------------------------------------------------------\u001b[0m",
      "\u001b[0;31mProgrammingError\u001b[0m                          Traceback (most recent call last)",
      "\u001b[0;32m<ipython-input-8-a539169ee685>\u001b[0m in \u001b[0;36m<module>\u001b[0;34m\u001b[0m\n\u001b[1;32m     43\u001b[0m \u001b[0;32melse\u001b[0m\u001b[0;34m:\u001b[0m\u001b[0;34m\u001b[0m\u001b[0;34m\u001b[0m\u001b[0m\n\u001b[1;32m     44\u001b[0m     \u001b[0mprint\u001b[0m\u001b[0;34m(\u001b[0m\u001b[0mstock_info\u001b[0m\u001b[0;34m)\u001b[0m\u001b[0;34m\u001b[0m\u001b[0;34m\u001b[0m\u001b[0m\n\u001b[0;32m---> 45\u001b[0;31m     \u001b[0mconn\u001b[0m\u001b[0;34m.\u001b[0m\u001b[0mcommit\u001b[0m\u001b[0;34m(\u001b[0m\u001b[0;34m)\u001b[0m\u001b[0;34m\u001b[0m\u001b[0;34m\u001b[0m\u001b[0m\n\u001b[0m\u001b[1;32m     46\u001b[0m     \u001b[0mconn\u001b[0m\u001b[0;34m.\u001b[0m\u001b[0mclose\u001b[0m\u001b[0;34m(\u001b[0m\u001b[0;34m)\u001b[0m\u001b[0;34m\u001b[0m\u001b[0;34m\u001b[0m\u001b[0m\n\u001b[1;32m     47\u001b[0m \u001b[0;34m\u001b[0m\u001b[0m\n",
      "\u001b[0;31mProgrammingError\u001b[0m: Cannot operate on a closed database."
     ]
    }
   ],
   "source": [
    "# 2020/11/17 實習題目候選\n",
    "# 輸入統編後將收集的公司資訊\n",
    "#-存入資料庫中\n",
    "# 輸入股票代碼後將收集的資料存入資料庫中\n",
    "# 建立一個視窗讓使用者輸入股票代碼後，在視窗上顯示公司名稱 最高與最低股價\n",
    "# 寫一個視窗版的計算機\n",
    "\n",
    "\n",
    "from urllib.parse import unquote\n",
    "import urllib\n",
    "import urllib.request\n",
    "import os\n",
    "import string\n",
    "import json\n",
    "import sqlite3\n",
    "\n",
    "\n",
    "\n",
    "def getStockInfo(i):\n",
    "    try:\n",
    "        cid = i  #'20828393' #29142083\n",
    "        #print(type(cid))\n",
    "        url = f'https://data.gcis.nat.gov.tw/od/data/api/F05D1060-7D57-4763-BDCE-0DAF5975AFE0?$format=json&$filter=Business_Accounting_NO%20eq%20{cid}&$skip=0&$top=50'\n",
    "        headers = {'User-Agent':'Mozilla/5.0 (Windows NT 6.1; WOW64; rv:23.0) Gecko/20100101 Firefox/23.0'}\n",
    "        req = urllib.request.Request(url= urllib.parse.quote(url, safe=string.printable), headers=headers)\n",
    "        webURL = urllib.request.urlopen(url)\n",
    "        data = webURL.read()\n",
    "        encoding = webURL.info().get_content_charset('utf-8')\n",
    "        data_str = data.decode(encoding)\n",
    "        JSON_object = json.loads(data_str)\n",
    "        #return JSON_object\n",
    "        \n",
    "        #連接資料庫\n",
    "        conn = sqlite3.connect('data/SQL_11.5.db')\n",
    "        cursor = conn.cursor()\n",
    "        #sql = \"INSERT INTO jerry(Business_Accounting_NO, Company_Name, Company_Status, Company_Status_Desc, Change_Of_Approval_Data) VALUES ('%s', '%s', '%s', '%s','%s')\"\n",
    "        value = (JSON_object[0]['Business_Accounting_NO'],JSON_object[0]['Company_Name'],JSON_object[0]['Company_Status'],JSON_object[0]['Company_Status_Desc'],JSON_object[0]['Change_Of_Approval_Data'])\n",
    "        #cursor.execute(sql, value)\n",
    "        return value\n",
    "    \n",
    "    except:\n",
    "        return None\n",
    "\n",
    "stock_id = input('請輸入統編代號：')\n",
    "stock_info = getStockInfo(stock_id)\n",
    "if stock_info == None:\n",
    "    print('此統編不存在')\n",
    "else:\n",
    "    print(stock_info)  \n",
    "\n",
    "    \n",
    "\n",
    "conn.commit()\n",
    "conn.close()\n",
    "\n",
    "#sql = \"INSERT INTO jerry(Business_Accounting_NO, Company_Name, Company_Status, Company_Status_Desc, Change_Of_Approval_Data) VALUES ('29142083', '綠藤生物科技股份有限公司', '01', '核准設立','1080916')\"\n",
    "#cursor.execute(sql)\n",
    "\n",
    "#sql = \"INSERT INTO jerry(Business_Accounting_NO, Company_Name, Company_Status, Company_Status_Desc, Change_Of_Approval_Data) VALUES ('%s', '%s', '%s', '%s','%s')\"\n",
    "#value = (JSON_object[0]['Business_Accounting_NO'],JSON_object[0]['Company_Name'],JSON_object[0]['Company_Status'],JSON_object[0]['Company_Status_Desc'],JSON_object[0]['Change_Of_Approval_Data'])\n",
    "#print(value)\n",
    "#cursor.execute(sql,value)"
   ]
  },
  {
   "cell_type": "code",
   "execution_count": 45,
   "metadata": {},
   "outputs": [
    {
     "name": "stdout",
     "output_type": "stream",
     "text": [
      "20828393\n",
      "宏碁股份有限公司\n",
      "01\n",
      "核准設立\n",
      "1090928\n"
     ]
    }
   ],
   "source": [
    "print(JSON_object[0]['Business_Accounting_NO'])\n",
    "print(JSON_object[0]['Company_Name'])\n",
    "print(JSON_object[0]['Company_Status'])\n",
    "print(JSON_object[0]['Company_Status_Desc'])\n",
    "print(JSON_object[0]['Change_Of_Approval_Data'])"
   ]
  },
  {
   "cell_type": "code",
   "execution_count": null,
   "metadata": {},
   "outputs": [],
   "source": []
  },
  {
   "cell_type": "code",
   "execution_count": null,
   "metadata": {},
   "outputs": [],
   "source": [
    " # 建立資料庫連線\n",
    "\n",
    "    db = pymysql.connect(host='127.0.0.1', user='root', passwd='root', db='nodejs', port=3306,\n",
    "\n",
    "                        charset='utf8')\n",
    "\n",
    "    # 獲取資料庫控制代碼\n",
    "\n",
    "    cursor = db.cursor()\n",
    "\n",
    "    # 插入資料的sql語句\n",
    "\n",
    "    sql = 'insert into food (name, price, address, time) values (%s, %s, %s, %s)'\n",
    "\n",
    "    try:\n",
    "\n",
    "        # 執行 sql 語句\n",
    "\n",
    "        value = (name, price, address, time)\n",
    "\n",
    "        cursor.execute(sql, value)\n",
    "\n",
    "        # 提交事務\n",
    "\n",
    "        db.commit()\n",
    "\n",
    "        return True\n",
    "\n",
    "    except BaseException as e:  # 如果發生錯誤則回滾\n",
    "\n",
    "        db.rollback()\n",
    "\n",
    "        print(e)\n",
    "\n",
    "    finally:  # 關閉遊標連線\n",
    "\n",
    "        cursor.close()\n",
    "\n",
    "        # 關閉資料庫連線\n",
    "\n",
    "        db.close()"
   ]
  }
 ],
 "metadata": {
  "kernelspec": {
   "display_name": "Python 3",
   "language": "python",
   "name": "python3"
  },
  "language_info": {
   "codemirror_mode": {
    "name": "ipython",
    "version": 3
   },
   "file_extension": ".py",
   "mimetype": "text/x-python",
   "name": "python",
   "nbconvert_exporter": "python",
   "pygments_lexer": "ipython3",
   "version": "3.8.3"
  }
 },
 "nbformat": 4,
 "nbformat_minor": 4
}
