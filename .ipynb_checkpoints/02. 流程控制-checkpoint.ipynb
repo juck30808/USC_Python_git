{
 "cells": [
  {
   "cell_type": "markdown",
   "metadata": {},
   "source": [
    "## IF"
   ]
  },
  {
   "cell_type": "code",
   "execution_count": 1,
   "metadata": {},
   "outputs": [
    {
     "name": "stdout",
     "output_type": "stream",
     "text": [
      "請輸入一個數字: 1\n",
      "你輸入的是奇數\n"
     ]
    }
   ],
   "source": [
    "# 使用 if 來進行條件判斷\n",
    "x = int(input(\"請輸入一個數字: \"))\n",
    "if x == 0:\n",
    "    print('你輸入的是零')\n",
    "elif (x % 2) == 0:\n",
    "    print('你輸入的是偶數')\n",
    "else:\n",
    "    print('你輸入的是奇數')\n"
   ]
  },
  {
   "cell_type": "code",
   "execution_count": 2,
   "metadata": {},
   "outputs": [
    {
     "name": "stdout",
     "output_type": "stream",
     "text": [
      "input1\n"
     ]
    }
   ],
   "source": [
    "weight = int(input(\"input\"))\n",
    "\n",
    "\n",
    "if x ==0:\n",
    "    print('')"
   ]
  },
  {
   "cell_type": "markdown",
   "metadata": {},
   "source": [
    "## FOR"
   ]
  },
  {
   "cell_type": "code",
   "execution_count": 7,
   "metadata": {},
   "outputs": [
    {
     "name": "stdout",
     "output_type": "stream",
     "text": [
      "cat 的字元長度為 3\n",
      "window 的字元長度為 6\n",
      "defenestrate 的字元長度為 12\n"
     ]
    }
   ],
   "source": [
    "# 使用 for 迴圈進行重複的運算\n",
    "words = ['cat', 'window', 'defenestrate']\n",
    "for w in words:\n",
    "    print(w + ' 的字元長度為 ' + str(len(w)) )"
   ]
  },
  {
   "cell_type": "code",
   "execution_count": 18,
   "metadata": {},
   "outputs": [
    {
     "name": "stdout",
     "output_type": "stream",
     "text": [
      "0\n",
      "1\n",
      "2\n",
      "3\n",
      "4\n",
      "131.3\n",
      "26.26\n"
     ]
    }
   ],
   "source": [
    "v = [12.3, 44.5, 37, 26, 11.5]\n",
    "\n",
    "\n",
    "total = 0\n",
    "for i in range(5):\n",
    "    total = total + v[i]\n",
    "    \n",
    "print(total)\n",
    "print(total/5)"
   ]
  },
  {
   "cell_type": "markdown",
   "metadata": {},
   "source": [
    "## Range()"
   ]
  },
  {
   "cell_type": "code",
   "execution_count": 3,
   "metadata": {},
   "outputs": [
    {
     "name": "stdout",
     "output_type": "stream",
     "text": [
      "0\n",
      "1\n",
      "2\n",
      "3\n",
      "4\n"
     ]
    }
   ],
   "source": [
    "for i in range(5):\n",
    "    print(i)"
   ]
  },
  {
   "cell_type": "code",
   "execution_count": 4,
   "metadata": {},
   "outputs": [
    {
     "name": "stdout",
     "output_type": "stream",
     "text": [
      "2\n",
      "3\n",
      "4\n"
     ]
    }
   ],
   "source": [
    "for i in range(2,5):\n",
    "    print(i)"
   ]
  },
  {
   "cell_type": "code",
   "execution_count": 5,
   "metadata": {},
   "outputs": [
    {
     "name": "stdout",
     "output_type": "stream",
     "text": [
      "2\n",
      "4\n",
      "6\n"
     ]
    }
   ],
   "source": [
    "for i in range(2,7,2):\n",
    "    print(i)"
   ]
  },
  {
   "cell_type": "code",
   "execution_count": 7,
   "metadata": {},
   "outputs": [
    {
     "name": "stdout",
     "output_type": "stream",
     "text": [
      "0 Mary\n",
      "1 had\n",
      "2 a\n",
      "3 little\n",
      "4 lamb\n"
     ]
    }
   ],
   "source": [
    "a = ['Mary', 'had', 'a', 'little', 'lamb']\n",
    "for i in range(len(a)):\n",
    "    print(i, a[i])"
   ]
  },
  {
   "cell_type": "code",
   "execution_count": 45,
   "metadata": {
    "scrolled": true
   },
   "outputs": [
    {
     "name": "stdout",
     "output_type": "stream",
     "text": [
      "[61, 85, 37, 13, 31, 17, 99, 28, 98, 63]\n",
      "99\n",
      "63\n",
      "總和為 162\n",
      "平均為 81.0\n"
     ]
    }
   ],
   "source": [
    "#請計算r1中為3的倍數的總和跟平均\n",
    "\n",
    "import random\n",
    "r1 = [random.randint(0,100)for u in range(10)]\n",
    "print(r1) #List\n",
    "\n",
    "total=0\n",
    "a=0\n",
    "for i in range(10):\n",
    "    if (r1[i]%3)==0 :\n",
    "        print(r1[i])\n",
    "        total = total + r1[i]  #12 +54 = 66 + 93= 159\n",
    "        a = a + 1              #1         2       3\n",
    "        \n",
    "print(\"總和為\",total)\n",
    "print(\"平均為\",total/a)\n"
   ]
  },
  {
   "cell_type": "markdown",
   "metadata": {},
   "source": [
    "## 迴圈控制"
   ]
  },
  {
   "cell_type": "code",
   "execution_count": 46,
   "metadata": {},
   "outputs": [
    {
     "name": "stdout",
     "output_type": "stream",
     "text": [
      "1 * 1 = 1\n",
      "1 * 2 = 2\n",
      "1 * 3 = 3\n",
      "2 * 2 = 4\n",
      "2 * 3 = 6\n",
      "3 * 3 = 9\n"
     ]
    }
   ],
   "source": [
    "# 雙層迴圈\n",
    "for x in range(1,4):\n",
    "    for y in range(x,4):\n",
    "        print(x,'*',y,'=',x*y)"
   ]
  },
  {
   "cell_type": "code",
   "execution_count": 52,
   "metadata": {},
   "outputs": [
    {
     "name": "stdout",
     "output_type": "stream",
     "text": [
      "1 X 1 = 1\n",
      "1 X 2 = 2\n",
      "1 X 3 = 3\n",
      "1 X 4 = 4\n",
      "1 X 5 = 5\n",
      "1 X 6 = 6\n",
      "1 X 7 = 7\n",
      "1 X 8 = 8\n",
      "1 X 9 = 9\n",
      "2 X 2 = 4\n",
      "2 X 3 = 6\n",
      "2 X 4 = 8\n",
      "2 X 5 = 10\n",
      "2 X 6 = 12\n",
      "2 X 7 = 14\n",
      "2 X 8 = 16\n",
      "2 X 9 = 18\n",
      "3 X 3 = 9\n",
      "3 X 4 = 12\n",
      "3 X 5 = 15\n",
      "3 X 6 = 18\n",
      "3 X 7 = 21\n",
      "3 X 8 = 24\n",
      "3 X 9 = 27\n",
      "4 X 4 = 16\n",
      "4 X 5 = 20\n",
      "4 X 6 = 24\n",
      "4 X 7 = 28\n",
      "4 X 8 = 32\n",
      "4 X 9 = 36\n",
      "5 X 5 = 25\n",
      "5 X 6 = 30\n",
      "5 X 7 = 35\n",
      "5 X 8 = 40\n",
      "5 X 9 = 45\n",
      "6 X 6 = 36\n",
      "6 X 7 = 42\n",
      "6 X 8 = 48\n",
      "6 X 9 = 54\n",
      "7 X 7 = 49\n",
      "7 X 8 = 56\n",
      "7 X 9 = 63\n",
      "8 X 8 = 64\n",
      "8 X 9 = 72\n",
      "9 X 9 = 81\n"
     ]
    }
   ],
   "source": [
    "# 雙層迴圈\n",
    "for x in range(1,10):\n",
    "    for y in range(x,10):\n",
    "        print(x,'X',y,'=',x*y)"
   ]
  },
  {
   "cell_type": "code",
   "execution_count": 13,
   "metadata": {},
   "outputs": [
    {
     "name": "stdout",
     "output_type": "stream",
     "text": [
      "1\n",
      "2\n"
     ]
    }
   ],
   "source": [
    "# break 中斷執行\n",
    "for x in range(1,6):\n",
    "    if x == 3:\n",
    "        break\n",
    "    print(x)"
   ]
  },
  {
   "cell_type": "code",
   "execution_count": 12,
   "metadata": {},
   "outputs": [
    {
     "name": "stdout",
     "output_type": "stream",
     "text": [
      "1 * 1 = 1\n",
      "2 * 1 = 2\n",
      "2 * 2 = 4\n",
      "3 * 1 = 3\n",
      "3 * 2 = 6\n",
      "3 * 3 = 9\n"
     ]
    }
   ],
   "source": [
    "for x in range(1,4):\n",
    "    for y in range(1,4):\n",
    "        if x < y : \n",
    "            break\n",
    "        print(x,'*',y,'=',x*y)\n"
   ]
  },
  {
   "cell_type": "code",
   "execution_count": 14,
   "metadata": {},
   "outputs": [
    {
     "name": "stdout",
     "output_type": "stream",
     "text": [
      "1\n",
      "2\n",
      "4\n",
      "5\n"
     ]
    }
   ],
   "source": [
    "# continue \n",
    "for x in range(1,6):\n",
    "    if x == 3:\n",
    "        continue\n",
    "    print(x)"
   ]
  },
  {
   "cell_type": "code",
   "execution_count": 17,
   "metadata": {},
   "outputs": [
    {
     "name": "stdout",
     "output_type": "stream",
     "text": [
      "( A , B )\n",
      "( A , C )\n",
      "( B , A )\n",
      "( B , C )\n",
      "( C , A )\n",
      "( C , B )\n"
     ]
    }
   ],
   "source": [
    "# 使用 continue 來進行排列\n",
    "ss = ['A','B','C']\n",
    "for s1 in ss:\n",
    "    for s2 in ss:\n",
    "        if s1 == s2 : \n",
    "            continue\n",
    "        print('(',s1,',',s2,')')"
   ]
  },
  {
   "cell_type": "code",
   "execution_count": null,
   "metadata": {},
   "outputs": [],
   "source": [
    "# pass 陳述不執行任何動作。它用在語法上需要一個陳述但不需要執行任何動作的時候。\n",
    "while True:\n",
    "    pass"
   ]
  },
  {
   "cell_type": "code",
   "execution_count": null,
   "metadata": {},
   "outputs": [],
   "source": [
    "# pass 的另一个可以使用的场合是在你编写新的代码时作为一个函数或条件子句体的占位符，\n",
    "# 允许你保持在更抽象的层次上进行思考。 pass 会被静默地忽略\n",
    "def initlog(*args):\n",
    "    pass"
   ]
  },
  {
   "cell_type": "markdown",
   "metadata": {},
   "source": [
    "## 練習題"
   ]
  },
  {
   "cell_type": "code",
   "execution_count": 5,
   "metadata": {},
   "outputs": [
    {
     "name": "stdout",
     "output_type": "stream",
     "text": [
      "19.5\n"
     ]
    },
    {
     "data": {
      "text/plain": [
       "[25,\n",
       " 10,\n",
       " 22,\n",
       " 28,\n",
       " 20,\n",
       " 12,\n",
       " 11,\n",
       " 23,\n",
       " 13,\n",
       " 27,\n",
       " 18,\n",
       " 14,\n",
       " 29,\n",
       " 21,\n",
       " 15,\n",
       " 16,\n",
       " 26,\n",
       " 19,\n",
       " 24,\n",
       " 17]"
      ]
     },
     "execution_count": 5,
     "metadata": {},
     "output_type": "execute_result"
    }
   ],
   "source": [
    "# 請計算 numList 中數值大於 20的平均值\n",
    "import random\n",
    "total = 0\n",
    "numList = random.sample(range(10, 30), 20)\n",
    "for i in range(0,20):\n",
    "    #print(numList[i])\n",
    "    total = total + numList[i]\n",
    "print(total/20)\n",
    "numList\n",
    "\n",
    "#ok"
   ]
  },
  {
   "cell_type": "code",
   "execution_count": null,
   "metadata": {},
   "outputs": [],
   "source": [
    "# 請計算 斐波那契數列 20 個\n",
    "# [1 1 2 3 5 ......]\n",
    "\n",
    "fib = lambda n:\n",
    "    n \n",
    "    if n<2 else fib(n-1) + fib(n-2)\n"
   ]
  },
  {
   "cell_type": "code",
   "execution_count": 96,
   "metadata": {},
   "outputs": [
    {
     "name": "stdout",
     "output_type": "stream",
     "text": [
      "[14, 90, 42]\n",
      "[14, 42, 90]\n"
     ]
    }
   ],
   "source": [
    "# 請將 numList 中的數列依照大小順序重新排列\n",
    "import random\n",
    "numList = random.sample(range(10, 100), 3)\n",
    "print(numList)\n",
    "temp=[]\n",
    "    \n",
    "l = len(numList)\n",
    "for i in range(l):\n",
    "    for j in range(i,l):\n",
    "        if numList[i] > numList[j] :\n",
    "            temp = numList[i]\n",
    "            numList[i] = numList[j]\n",
    "            numList[j] = temp\n",
    "        \n",
    "print(numList)\n"
   ]
  },
  {
   "cell_type": "code",
   "execution_count": 2,
   "metadata": {},
   "outputs": [
    {
     "name": "stdout",
     "output_type": "stream",
     "text": [
      "r1 =  [83, 36, 19, 49, 44, 97, 21, 70, 55, 100, 22, 45, 5, 82, 82, 69, 11, 15, 28, 98, 38, 93, 1, 77, 83, 42, 85, 97, 34, 15, 93, 4, 99, 28, 28, 35, 63, 73, 61, 70, 3, 53, 89, 38, 76, 59, 28, 57, 27, 41, 66, 50, 69, 40, 55, 55, 23, 48, 95, 33, 77, 99, 59, 17, 32, 61, 9, 17, 63, 53, 99, 25, 100, 20, 21, 86, 16, 21, 3, 38, 3, 22, 29, 55, 12, 10, 90, 44, 14, 44, 46, 31, 60, 19, 42, 71, 99, 86, 93, 49]\n",
      "平均值 49.9\n",
      "標準差 29.35421605153168\n",
      "Sort [1, 3, 3, 3, 4, 5, 9, 10, 11, 12, 14, 15, 15, 16, 17, 17, 19, 19, 20, 21, 21, 21, 22, 22, 23, 25, 27, 28, 28, 28, 28, 29, 31, 32, 33, 34, 35, 36, 38, 38, 38, 40, 41, 42, 42, 44, 44, 44, 45, 46, 48, 49, 49, 50, 53, 53, 55, 55, 55, 55, 57, 59, 59, 60, 61, 61, 63, 63, 66, 69, 69, 70, 70, 71, 73, 76, 77, 77, 82, 82, 83, 83, 85, 86, 86, 89, 90, 93, 93, 93, 95, 97, 97, 98, 99, 99, 99, 99, 100, 100]\n",
      "25%數 23\n",
      "中位數 46\n",
      "75%數 73\n"
     ]
    }
   ],
   "source": [
    "#練習題\n",
    "#請計算r1的平均值，跟四分位值，標準差\n",
    "import random\n",
    "r1 = [random.randint(0, 100) for u in range(100)]\n",
    "print('r1 = ', r1)\n",
    "\n",
    "sum = 0\n",
    "for n in r1:\n",
    "    sum += n\n",
    "xm = sum / len(r1)\n",
    "print('平均值', xm)\n",
    "\n",
    "sum = 0\n",
    "for n in r1:\n",
    "    sum += (xm-n)*(xm-n)\n",
    "sd = (sum/len(r1)) ** 0.5\n",
    "\n",
    "print('標準差', sd)\n",
    "\n",
    "r1_sort = r1[:]\n",
    "for i in range(0,len(r1)):\n",
    "    for j in range(i+1, len(r1)):\n",
    "        if(r1_sort[i] > r1_sort[j]):\n",
    "            (r1_sort[i],r1_sort[j]) = (r1_sort[j],r1_sort[i])\n",
    "\n",
    "print('Sort', r1_sort)\n",
    "print('25%數', r1_sort[int(len(r1)/4)-1])\n",
    "print('中位數', r1_sort[int(len(r1)/2)-1])\n",
    "print('75%數', r1_sort[int(len(r1)/4)*3-1])\n",
    "        "
   ]
  },
  {
   "cell_type": "code",
   "execution_count": null,
   "metadata": {},
   "outputs": [],
   "source": []
  },
  {
   "cell_type": "code",
   "execution_count": null,
   "metadata": {},
   "outputs": [],
   "source": []
  }
 ],
 "metadata": {
  "kernelspec": {
   "display_name": "Python 3",
   "language": "python",
   "name": "python3"
  },
  "language_info": {
   "codemirror_mode": {
    "name": "ipython",
    "version": 3
   },
   "file_extension": ".py",
   "mimetype": "text/x-python",
   "name": "python",
   "nbconvert_exporter": "python",
   "pygments_lexer": "ipython3",
   "version": "3.8.3"
  }
 },
 "nbformat": 4,
 "nbformat_minor": 4
}
