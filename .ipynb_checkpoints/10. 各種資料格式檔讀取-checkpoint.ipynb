{
 "cells": [
  {
   "cell_type": "markdown",
   "metadata": {},
   "source": [
    "# CSV"
   ]
  },
  {
   "cell_type": "code",
   "execution_count": 3,
   "metadata": {},
   "outputs": [
    {
     "data": {
      "text/plain": [
       "<_csv.reader at 0x2bf6c3028e0>"
      ]
     },
     "execution_count": 3,
     "metadata": {},
     "output_type": "execute_result"
    }
   ],
   "source": [
    "import csv\n",
    "csvfile = open('data/Iris_short.csv', newline='')\n",
    "rows = csv.reader(csvfile)\n",
    "rows"
   ]
  },
  {
   "cell_type": "code",
   "execution_count": 5,
   "metadata": {},
   "outputs": [
    {
     "data": {
      "text/plain": [
       "'3.2'"
      ]
     },
     "execution_count": 5,
     "metadata": {},
     "output_type": "execute_result"
    }
   ],
   "source": [
    "import csv\n",
    "csvfile = open('data/Iris_short.csv', newline='')\n",
    "rows = csv.reader(csvfile)\n",
    "# count = 0;\n",
    "data = []\n",
    "for row in rows:\n",
    "    data.append(row)\n",
    "#     print(row)\n",
    "#     count = count + 1\n",
    "#     if count > 5:\n",
    "#         break\n",
    "data[3][2]"
   ]
  },
  {
   "cell_type": "code",
   "execution_count": 26,
   "metadata": {},
   "outputs": [
    {
     "name": "stdout",
     "output_type": "stream",
     "text": [
      "write!\n",
      "END\n"
     ]
    }
   ],
   "source": [
    "import csv\n",
    "with open('data/test/names.csv', 'w', newline='') as csvfile:\n",
    "# csvfile = open('data/test/names.csv', 'w', newline='')\n",
    "    names = ['first_name', 'last_name']\n",
    "    writer = csv.DictWriter(csvfile, fieldnames=names)\n",
    "\n",
    "    writer.writeheader()\n",
    "    writer.writerow({'first_name': 'Baked', 'last_name': 'Beans'})\n",
    "    writer.writerow({'first_name': 'Lovely', 'last_name': 'Spam'})\n",
    "    writer.writerow({'first_name': 'Wonderful', 'last_name': 'Spam'})\n",
    "    print(\"write!\")\n",
    "\n",
    "print('END')"
   ]
  },
  {
   "cell_type": "code",
   "execution_count": 37,
   "metadata": {},
   "outputs": [
    {
     "name": "stdout",
     "output_type": "stream",
     "text": [
      "END\n"
     ]
    }
   ],
   "source": [
    "data = [['ABC', 'DEF'],['14','56'],['11','22']]\n",
    "\n",
    "f = open('data/test/test_sample.csv','w')\n",
    "for d in data:\n",
    "    i = 0\n",
    "    for n in d:\n",
    "        if i > 0:\n",
    "            f.write(',')\n",
    "        f.write('\"'+n+'\"')\n",
    "        i = i+1\n",
    "    f.write('\\n')\n",
    "f.close()\n",
    "print('END')"
   ]
  },
  {
   "cell_type": "markdown",
   "metadata": {},
   "source": [
    "## EXCEL\n",
    "https://openpyxl.readthedocs.io/en/stable/index.html"
   ]
  },
  {
   "cell_type": "code",
   "execution_count": 38,
   "metadata": {},
   "outputs": [
    {
     "name": "stdout",
     "output_type": "stream",
     "text": [
      "['Iris']\n",
      "Iris\n",
      "Iris\n"
     ]
    }
   ],
   "source": [
    "from openpyxl import load_workbook\n",
    "# 預設可讀寫，若有需要可以指定write_only和read_only為True\n",
    "# wb = load_workbook('data/Iris_short.xlsx', read_only = True)\n",
    "wb = load_workbook('data/Iris_short.xlsx')\n",
    "\n",
    "# 獲得所有sheet的名稱\n",
    "print(wb.sheetnames)\n",
    "# 根據sheet名字獲得sheet\n",
    "a_sheet = wb['Iris']\n",
    "# 獲得sheet名\n",
    "print(a_sheet.title)\n",
    "# 獲得當前正在顯示的sheet, 也可以用wb.get_active_sheet()\n",
    "sheet = wb.active \n",
    "print(sheet.title)"
   ]
  },
  {
   "cell_type": "code",
   "execution_count": 4,
   "metadata": {},
   "outputs": [
    {
     "name": "stdout",
     "output_type": "stream",
     "text": [
      "1\n",
      "1\n",
      "Id\n"
     ]
    }
   ],
   "source": [
    "cell = sheet['A1']\n",
    "print(cell.column)\n",
    "print(cell.row)\n",
    "print(cell.value)"
   ]
  },
  {
   "cell_type": "code",
   "execution_count": 5,
   "metadata": {},
   "outputs": [
    {
     "name": "stdout",
     "output_type": "stream",
     "text": [
      "2\n",
      "4\n",
      "4.7\n"
     ]
    }
   ],
   "source": [
    "cell = sheet.cell(row=4, column=2)\n",
    "print(cell.column)\n",
    "print(cell.row)\n",
    "print(cell.value)"
   ]
  },
  {
   "cell_type": "code",
   "execution_count": 6,
   "metadata": {},
   "outputs": [
    {
     "name": "stdout",
     "output_type": "stream",
     "text": [
      "5\n",
      "6\n"
     ]
    }
   ],
   "source": [
    "# 獲得最大列和最大行\n",
    "print(sheet.max_row)\n",
    "print(sheet.max_column)"
   ]
  },
  {
   "cell_type": "code",
   "execution_count": 7,
   "metadata": {},
   "outputs": [
    {
     "name": "stdout",
     "output_type": "stream",
     "text": [
      "Id\n",
      "SepalLengthCm\n",
      "SepalWidthCm\n",
      "PetalLengthCm\n",
      "PetalWidthCm\n",
      "Species\n",
      "1\n",
      "5.1\n",
      "3.5\n",
      "1.4\n",
      "0.2\n",
      "Iris-setosa\n",
      "2\n",
      "4.9\n",
      "3\n",
      "1.4\n",
      "0.2\n",
      "Iris-setosa\n",
      "3\n",
      "4.7\n",
      "3.2\n",
      "1.3\n",
      "0.2\n",
      "Iris-setosa\n",
      "4\n",
      "4.6\n",
      "3.1\n",
      "1.5\n",
      "0.2\n",
      "Iris-setosa\n"
     ]
    }
   ],
   "source": [
    "# 因為按行，所以返回A1, B1, C1這樣的順序\n",
    "for row in sheet.rows:\n",
    "    for cell in row:\n",
    "        print(cell.value)"
   ]
  },
  {
   "cell_type": "code",
   "execution_count": 9,
   "metadata": {},
   "outputs": [
    {
     "name": "stdout",
     "output_type": "stream",
     "text": [
      "Id\n",
      "1\n",
      "2\n",
      "3\n",
      "4\n",
      "SepalLengthCm\n",
      "5.1\n",
      "4.9\n",
      "4.7\n",
      "4.6\n",
      "SepalWidthCm\n",
      "3.5\n",
      "3\n",
      "3.2\n",
      "3.1\n",
      "PetalLengthCm\n",
      "1.4\n",
      "1.4\n",
      "1.3\n",
      "1.5\n",
      "PetalWidthCm\n",
      "0.2\n",
      "0.2\n",
      "0.2\n",
      "0.2\n",
      "Species\n",
      "Iris-setosa\n",
      "Iris-setosa\n",
      "Iris-setosa\n",
      "Iris-setosa\n"
     ]
    }
   ],
   "source": [
    "# A1, A2, A3這樣的順序\n",
    "for column in sheet.columns:\n",
    "    for cell in column:\n",
    "        print(cell.value)"
   ]
  },
  {
   "cell_type": "code",
   "execution_count": 10,
   "metadata": {},
   "outputs": [
    {
     "name": "stdout",
     "output_type": "stream",
     "text": [
      "2\n",
      "4.9\n",
      "3\n",
      "1.4\n",
      "0.2\n",
      "Iris-setosa\n"
     ]
    }
   ],
   "source": [
    "for cell in list(sheet.rows)[2]:\n",
    "    print(cell.value)"
   ]
  },
  {
   "cell_type": "code",
   "execution_count": 11,
   "metadata": {},
   "outputs": [
    {
     "name": "stdout",
     "output_type": "stream",
     "text": [
      "SepalWidthCm\n",
      "3.5\n",
      "3\n",
      "3.2\n",
      "3.1\n"
     ]
    }
   ],
   "source": [
    "for cell in list(sheet.columns)[2]:\n",
    "    print(cell.value)"
   ]
  },
  {
   "cell_type": "code",
   "execution_count": 16,
   "metadata": {},
   "outputs": [
    {
     "name": "stdout",
     "output_type": "stream",
     "text": [
      "Id\n",
      "SepalLengthCm\n",
      "1\n",
      "5.1\n",
      "2\n",
      "4.9\n"
     ]
    }
   ],
   "source": [
    "for i in range(1, 4):\n",
    "    for j in range(1, 3):\n",
    "#         print(i,j)\n",
    "        print(sheet.cell(row=i, column=j).value)"
   ]
  },
  {
   "cell_type": "code",
   "execution_count": 18,
   "metadata": {},
   "outputs": [
    {
     "name": "stdout",
     "output_type": "stream",
     "text": [
      "Id\n",
      "SepalLengthCm\n",
      "1\n",
      "5.1\n",
      "2\n",
      "4.9\n"
     ]
    }
   ],
   "source": [
    "for row_cell in sheet['A1':'B3']:\n",
    "    for cell in row_cell:\n",
    "        print(cell.value)"
   ]
  },
  {
   "cell_type": "code",
   "execution_count": 21,
   "metadata": {},
   "outputs": [],
   "source": [
    "from openpyxl import Workbook\n",
    "wb = Workbook()\n",
    "sheet = wb.create_sheet(\"Mysheet\")\n",
    "sheet.cell(row=2, column=2).value = 22\n",
    "sheet['A1'].value = 11\n",
    "wb.save('data/test/test.xlsx')"
   ]
  },
  {
   "cell_type": "code",
   "execution_count": 22,
   "metadata": {},
   "outputs": [],
   "source": [
    "from openpyxl import Workbook\n",
    "wb = Workbook()\n",
    "sheet = wb.active\n",
    "sheet.cell(row=2, column=2).value = 22\n",
    "sheet['A1'].value = 11\n",
    "wb.save('data/test/test.xlsx')"
   ]
  },
  {
   "cell_type": "markdown",
   "metadata": {},
   "source": [
    "## JSON\n",
    "https://www.json.org/ <BR>\n",
    "http://jsonviewer.stack.hu/ <BR>\n",
    "https://www.runoob.com/python/python-json.html"
   ]
  },
  {
   "cell_type": "code",
   "execution_count": 33,
   "metadata": {},
   "outputs": [
    {
     "name": "stdout",
     "output_type": "stream",
     "text": [
      "{\"a\": 1, \"b\": [3, 1, \"Hello\"], \"c\": 3, \"d\": 4, \"e\": 5}\n"
     ]
    }
   ],
   "source": [
    "import json\n",
    "\n",
    "data = { 'a' : 1, 'b' : 2, 'c' : 3, 'd' : 4, 'e' : 5 }\n",
    "data['b'] = [3,1,'Hello']\n",
    "\n",
    "data2 = json.dumps(data)\n",
    "print(data2)"
   ]
  },
  {
   "cell_type": "markdown",
   "metadata": {},
   "source": [
    "<table class=\"reference\">\n",
    "\n",
    "<thead valign=\"bottom\">\n",
    "<tr class=\"row-odd\"><th class=\"head\">Python</th>\n",
    "<th class=\"head\">JSON</th>\n",
    "</tr>\n",
    "</thead>\n",
    "<tbody valign=\"top\">\n",
    "<tr class=\"row-even\"><td>dict</td>\n",
    "<td>object</td>\n",
    "</tr>\n",
    "<tr class=\"row-odd\"><td>list, tuple</td>\n",
    "<td>array</td>\n",
    "</tr>\n",
    "<tr class=\"row-even\"><td>str, unicode</td>\n",
    "<td>string</td>\n",
    "</tr>\n",
    "<tr class=\"row-odd\"><td>int, long, float</td>\n",
    "<td>number</td>\n",
    "</tr>\n",
    "<tr class=\"row-even\"><td>True</td>\n",
    "<td>true</td>\n",
    "</tr>\n",
    "<tr class=\"row-odd\"><td>False</td>\n",
    "<td>false</td>\n",
    "</tr>\n",
    "<tr class=\"row-even\"><td>None</td>\n",
    "<td>null</td>\n",
    "</tr>\n",
    "</tbody>\n",
    "</table>\n"
   ]
  },
  {
   "cell_type": "code",
   "execution_count": 36,
   "metadata": {},
   "outputs": [
    {
     "name": "stdout",
     "output_type": "stream",
     "text": [
      "{'a': 1, 'b': [3, 1, 'Hello'], 'c': 3, 'd': 4, 'e': 5}\n"
     ]
    }
   ],
   "source": [
    "jsonstr = '{\"a\": 1, \"b\": [3, 1, \"Hello\"], \"c\": 3, \"d\": 4, \"e\": 5}'\n",
    "x = json.loads(jsonstr)\n",
    "print(x)"
   ]
  },
  {
   "cell_type": "code",
   "execution_count": 42,
   "metadata": {},
   "outputs": [
    {
     "name": "stdout",
     "output_type": "stream",
     "text": [
      "[{'月別': '2019-08', '新台幣': '31.410', '人民幣': '7.1452', '日圓': '106.51', '韓元': '1211.2', '新加坡元': '1.3884', '歐元': '1.1039', '英鎊': '1.2177', '澳幣': '0.6720'}, {'月別': '2019-09', '新台幣': '31.042', '人民幣': '7.1195', '日圓': '107.84', '韓元': '1199.9', '新加坡元': '1.3823', '歐元': '1.0918', '英鎊': '1.2280', '澳幣': '0.6758'}, {'月別': '2019-10', '新台幣': '30.462', '人民幣': '7.0350', '日圓': '108.59', '韓元': '1163.4', '新加坡元': '1.3602', '歐元': '1.1162', '英鎊': '1.2940', '澳幣': '0.6920'}, {'月別': '2019-11', '新台幣': '30.513', '人民幣': '7.0261', '日圓': '109.50', '韓元': '1181.2', '新加坡元': '1.3668', '歐元': '1.1012', '英鎊': '1.2918', '澳幣': '0.6778'}, {'月別': '2019-12', '新台幣': '30.106', '人民幣': '6.9662', '日圓': '108.64', '韓元': '1154.6', '新加坡元': '1.3461', '歐元': '1.1210', '英鎊': '1.3139', '澳幣': '0.7009'}, {'月別': '2020-01', '新台幣': '30.250', '人民幣': '6.9300', '日圓': '109.05', '韓元': '1191.8', '新加坡元': '1.3624', '歐元': '1.1028', '英鎊': '1.3128', '澳幣': '0.6710'}, {'月別': '2020-02', '新台幣': '30.330', '人民幣': '7.0161', '日圓': '110.09', '韓元': '1217.2', '新加坡元': '1.3958', '歐元': '1.0922', '英鎊': '1.2922', '澳幣': '0.6563'}, {'月別': '2020-03', '新台幣': '30.254', '人民幣': '7.0931', '日圓': '108.41', '韓元': '1217.4', '新加坡元': '1.4239', '歐元': '1.0997', '英鎊': '1.2318', '澳幣': '0.6165'}, {'月別': '2020-04', '新台幣': '29.802', '人民幣': '7.0519', '日圓': '106.59', '韓元': '1206.3', '新加坡元': '1.4097', '歐元': '1.0884', '英鎊': '1.2467', '澳幣': '0.6546'}, {'月別': '2020-05', '新台幣': '30.032', '人民幣': '7.1455', '日圓': '107.20', '韓元': '1238.5', '新加坡元': '1.4126', '歐元': '1.1105', '英鎊': '1.2321', '澳幣': '0.6655'}, {'月別': '2020-06', '新台幣': '29.660', '人民幣': '7.0741', '日圓': '107.72', '韓元': '1203.0', '新加坡元': '1.3957', '歐元': '1.1223', '英鎊': '1.2283', '澳幣': '0.6857'}, {'月別': '2020-07', '新台幣': '29.502', '人民幣': '6.9794', '日圓': '104.44', '韓元': '1191.3', '新加坡元': '1.3706', '歐元': '1.1876', '英鎊': '1.3137', '澳幣': '0.7199'}, {'月別': '2020-08', '新台幣': '29.526', '人民幣': '6.8535', '日圓': '105.81', '韓元': '1187.8', '新加坡元': '1.3610', '歐元': '1.1893', '英鎊': '1.3313', '澳幣': '0.7349'}]\n"
     ]
    }
   ],
   "source": [
    "# https://data.gov.tw/dataset/31897\n",
    "f = open(\"data/國際主要國家貨幣每月匯率概況.json\", \"r\", encoding='UTF-8')\n",
    "jsonstr = f.read()\n",
    "f.close()\n",
    "x = json.loads(jsonstr)\n",
    "print(x)"
   ]
  },
  {
   "cell_type": "code",
   "execution_count": null,
   "metadata": {},
   "outputs": [],
   "source": []
  },
  {
   "cell_type": "code",
   "execution_count": null,
   "metadata": {},
   "outputs": [],
   "source": []
  },
  {
   "cell_type": "code",
   "execution_count": null,
   "metadata": {},
   "outputs": [],
   "source": []
  },
  {
   "cell_type": "markdown",
   "metadata": {},
   "source": []
  }
 ],
 "metadata": {
  "kernelspec": {
   "display_name": "Python 3",
   "language": "python",
   "name": "python3"
  },
  "language_info": {
   "codemirror_mode": {
    "name": "ipython",
    "version": 3
   },
   "file_extension": ".py",
   "mimetype": "text/x-python",
   "name": "python",
   "nbconvert_exporter": "python",
   "pygments_lexer": "ipython3",
   "version": "3.8.3"
  }
 },
 "nbformat": 4,
 "nbformat_minor": 4
}
