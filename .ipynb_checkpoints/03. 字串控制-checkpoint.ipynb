{
 "cells": [
  {
   "cell_type": "code",
   "execution_count": 1,
   "metadata": {},
   "outputs": [],
   "source": [
    "# 字串相加\n",
    "a = 'Hello '\n",
    "b = 'world'\n",
    "c = a + b\n",
    "print(c)"
   ]
  },
  {
   "cell_type": "code",
   "execution_count": 3,
   "metadata": {},
   "outputs": [],
   "source": [
    "# 字串中包含其他型態的變數\n",
    "name = 'Clement'\n",
    "age = 48\n",
    "s = name + \"'s age is \" + str(age)"
   ]
  },
  {
   "cell_type": "code",
   "execution_count": 3,
   "metadata": {},
   "outputs": [
    {
     "name": "stdout",
     "output_type": "stream",
     "text": [
      "Clement's age is 48\n"
     ]
    }
   ],
   "source": [
    "# 正確的方法是要轉型\n",
    "name = 'Clement'\n",
    "age = 48\n",
    "s = name + \"'s age is \" + str(age)\n",
    "print(s)"
   ]
  },
  {
   "cell_type": "code",
   "execution_count": 4,
   "metadata": {},
   "outputs": [
    {
     "name": "stdout",
     "output_type": "stream",
     "text": [
      "Clement's age is 48\n"
     ]
    }
   ],
   "source": [
    "# 更好的方法\n",
    "name = 'Clement'\n",
    "age = 48\n",
    "s = \"%s's age is %d\"%(name,age)\n",
    "print(s)"
   ]
  },
  {
   "cell_type": "code",
   "execution_count": 7,
   "metadata": {},
   "outputs": [
    {
     "data": {
      "text/plain": [
       "'My age is [ 48]'"
      ]
     },
     "execution_count": 7,
     "metadata": {},
     "output_type": "execute_result"
    }
   ],
   "source": [
    "'My age is [%3d]'%(48)"
   ]
  },
  {
   "cell_type": "code",
   "execution_count": 8,
   "metadata": {},
   "outputs": [
    {
     "data": {
      "text/plain": [
       "'My age is [048]'"
      ]
     },
     "execution_count": 8,
     "metadata": {},
     "output_type": "execute_result"
    }
   ],
   "source": [
    "'My age is [%03d]'%(48)"
   ]
  },
  {
   "cell_type": "code",
   "execution_count": 5,
   "metadata": {},
   "outputs": [
    {
     "data": {
      "text/plain": [
       "'The price is 43.500000'"
      ]
     },
     "execution_count": 5,
     "metadata": {},
     "output_type": "execute_result"
    }
   ],
   "source": [
    "price = 43.5\n",
    "'The price is %f'%price"
   ]
  },
  {
   "cell_type": "code",
   "execution_count": 17,
   "metadata": {},
   "outputs": [
    {
     "data": {
      "text/plain": [
       "'The price is 12345.50'"
      ]
     },
     "execution_count": 17,
     "metadata": {},
     "output_type": "execute_result"
    }
   ],
   "source": [
    "'The price is [%1.2f]'%12345.5"
   ]
  },
  {
   "cell_type": "code",
   "execution_count": 18,
   "metadata": {},
   "outputs": [
    {
     "data": {
      "text/plain": [
       "'The price is [ 12345.50]'"
      ]
     },
     "execution_count": 18,
     "metadata": {},
     "output_type": "execute_result"
    }
   ],
   "source": [
    "'The price is [%9.2f]'%12345.5"
   ]
  },
  {
   "cell_type": "code",
   "execution_count": 20,
   "metadata": {},
   "outputs": [
    {
     "data": {
      "text/plain": [
       "'My name is [   Clement]'"
      ]
     },
     "execution_count": 20,
     "metadata": {},
     "output_type": "execute_result"
    }
   ],
   "source": [
    "'My name is [%10s]'%'Clement'"
   ]
  },
  {
   "cell_type": "code",
   "execution_count": 21,
   "metadata": {},
   "outputs": [
    {
     "name": "stdout",
     "output_type": "stream",
     "text": [
      "Clement's age is 48\n"
     ]
    }
   ],
   "source": [
    "# 3.6 版以後的作法\n",
    "name = 'Clement'\n",
    "age = 48\n",
    "s = f\"{name}'s age is {age}\"\n",
    "print(s)"
   ]
  },
  {
   "cell_type": "code",
   "execution_count": 4,
   "metadata": {},
   "outputs": [
    {
     "data": {
      "text/plain": [
       "'The price is [ 12345.50]'"
      ]
     },
     "execution_count": 4,
     "metadata": {},
     "output_type": "execute_result"
    }
   ],
   "source": [
    "x = 12345.5\n",
    "f'The price is [{x:9.2f}]'"
   ]
  },
  {
   "cell_type": "code",
   "execution_count": 28,
   "metadata": {},
   "outputs": [
    {
     "name": "stdout",
     "output_type": "stream",
     "text": [
      "1*1= 1, 1*2= 2, 1*3= 3, 1*4= 4, 1*5= 5, 1*6= 6, 1*7= 7, 1*8= 8, 1*9= 9, 換下一ㄍ \n",
      "2*1= 2, 2*2= 4, 2*3= 6, 2*4= 8, 2*5=10, 2*6=12, 2*7=14, 2*8=16, 2*9=18, 換下一ㄍ \n",
      "3*1= 3, 3*2= 6, 3*3= 9, 3*4=12, 3*5=15, 3*6=18, 3*7=21, 3*8=24, 3*9=27, 換下一ㄍ \n",
      "4*1= 4, 4*2= 8, 4*3=12, 4*4=16, 4*5=20, 4*6=24, 4*7=28, 4*8=32, 4*9=36, 換下一ㄍ \n",
      "5*1= 5, 5*2=10, 5*3=15, 5*4=20, 5*5=25, 5*6=30, 5*7=35, 5*8=40, 5*9=45, 換下一ㄍ \n",
      "6*1= 6, 6*2=12, 6*3=18, 6*4=24, 6*5=30, 6*6=36, 6*7=42, 6*8=48, 6*9=54, 換下一ㄍ \n",
      "7*1= 7, 7*2=14, 7*3=21, 7*4=28, 7*5=35, 7*6=42, 7*7=49, 7*8=56, 7*9=63, 換下一ㄍ \n",
      "8*1= 8, 8*2=16, 8*3=24, 8*4=32, 8*5=40, 8*6=48, 8*7=56, 8*8=64, 8*9=72, 換下一ㄍ \n",
      "9*1= 9, 9*2=18, 9*3=27, 9*4=36, 9*5=45, 9*6=54, 9*7=63, 9*8=72, 9*9=81, 換下一ㄍ \n"
     ]
    }
   ],
   "source": [
    "# 請寫一個程式可以輸出九九乘法表，並嚴格按照下面的格式輸出\n",
    "# 1*1=01,1*2=02,....,1*9=09\n",
    "# 2*1=02,2*2=04,....,2*9=18\n",
    "# .........................\n",
    "# 9*1=09,9*2=18,....,9*9=81\n",
    "\n",
    "for i in range(1,10):\n",
    "    for j in range(1,10):\n",
    "        print(\"%d*%d=%2d\" % (i,j,i*j),end=\", \")\n",
    "    print(\"換下一ㄍ \")"
   ]
  },
  {
   "cell_type": "markdown",
   "metadata": {},
   "source": [
    "## 字串的處理"
   ]
  },
  {
   "cell_type": "code",
   "execution_count": 29,
   "metadata": {},
   "outputs": [
    {
     "data": {
      "text/plain": [
       "'  12345  '"
      ]
     },
     "execution_count": 29,
     "metadata": {},
     "output_type": "execute_result"
    }
   ],
   "source": [
    "x = '  12345  '\n",
    "x"
   ]
  },
  {
   "cell_type": "code",
   "execution_count": 30,
   "metadata": {},
   "outputs": [
    {
     "data": {
      "text/plain": [
       "'12345'"
      ]
     },
     "execution_count": 30,
     "metadata": {},
     "output_type": "execute_result"
    }
   ],
   "source": [
    "x = '  12345  '\n",
    "x.strip()"
   ]
  },
  {
   "cell_type": "code",
   "execution_count": 31,
   "metadata": {},
   "outputs": [
    {
     "data": {
      "text/plain": [
       "'12345  '"
      ]
     },
     "execution_count": 31,
     "metadata": {},
     "output_type": "execute_result"
    }
   ],
   "source": [
    "x = '  12345  '\n",
    "x.lstrip()"
   ]
  },
  {
   "cell_type": "code",
   "execution_count": null,
   "metadata": {},
   "outputs": [],
   "source": [
    "x = '  12345  '\n",
    "x.rstrip()"
   ]
  },
  {
   "cell_type": "code",
   "execution_count": 33,
   "metadata": {},
   "outputs": [
    {
     "data": {
      "text/plain": [
       "'123__45'"
      ]
     },
     "execution_count": 33,
     "metadata": {},
     "output_type": "execute_result"
    }
   ],
   "source": [
    "x = '___123__45____'\n",
    "x.strip('_')"
   ]
  },
  {
   "cell_type": "code",
   "execution_count": 34,
   "metadata": {},
   "outputs": [
    {
     "data": {
      "text/plain": [
       "'12345'"
      ]
     },
     "execution_count": 34,
     "metadata": {},
     "output_type": "execute_result"
    }
   ],
   "source": [
    "x = '___123__45____'\n",
    "x.replace('_','')"
   ]
  },
  {
   "cell_type": "code",
   "execution_count": 36,
   "metadata": {},
   "outputs": [
    {
     "data": {
      "text/plain": [
       "'***123**45****'"
      ]
     },
     "execution_count": 36,
     "metadata": {},
     "output_type": "execute_result"
    }
   ],
   "source": [
    "x = '___123__45____'\n",
    "x.replace('_','*')"
   ]
  },
  {
   "cell_type": "code",
   "execution_count": 37,
   "metadata": {},
   "outputs": [
    {
     "data": {
      "text/plain": [
       "'789 789 7893 78934'"
      ]
     },
     "execution_count": 37,
     "metadata": {},
     "output_type": "execute_result"
    }
   ],
   "source": [
    "x = '12 12 123 1234'\n",
    "x.replace('12','789')"
   ]
  },
  {
   "cell_type": "code",
   "execution_count": 40,
   "metadata": {},
   "outputs": [
    {
     "data": {
      "text/plain": [
       "4"
      ]
     },
     "execution_count": 40,
     "metadata": {},
     "output_type": "execute_result"
    }
   ],
   "source": [
    "x = '0123456789'\n",
    "x.index('4')"
   ]
  },
  {
   "cell_type": "code",
   "execution_count": 10,
   "metadata": {},
   "outputs": [
    {
     "ename": "ValueError",
     "evalue": "substring not found",
     "output_type": "error",
     "traceback": [
      "\u001b[1;31m---------------------------------------------------------------------------\u001b[0m",
      "\u001b[1;31mValueError\u001b[0m                                Traceback (most recent call last)",
      "\u001b[1;32m<ipython-input-10-3612c5d5a7fd>\u001b[0m in \u001b[0;36m<module>\u001b[1;34m\u001b[0m\n\u001b[0;32m      1\u001b[0m \u001b[0mx\u001b[0m \u001b[1;33m=\u001b[0m \u001b[1;34m'0123456789'\u001b[0m\u001b[1;33m\u001b[0m\u001b[1;33m\u001b[0m\u001b[0m\n\u001b[1;32m----> 2\u001b[1;33m \u001b[0mx\u001b[0m\u001b[1;33m.\u001b[0m\u001b[0mindex\u001b[0m\u001b[1;33m(\u001b[0m\u001b[1;34m'AB'\u001b[0m\u001b[1;33m)\u001b[0m\u001b[1;33m\u001b[0m\u001b[1;33m\u001b[0m\u001b[0m\n\u001b[0m",
      "\u001b[1;31mValueError\u001b[0m: substring not found"
     ]
    }
   ],
   "source": [
    "x = '0123456789'\n",
    "x.index('AB')"
   ]
  },
  {
   "cell_type": "code",
   "execution_count": 62,
   "metadata": {},
   "outputs": [
    {
     "data": {
      "text/plain": [
       "4"
      ]
     },
     "execution_count": 62,
     "metadata": {},
     "output_type": "execute_result"
    }
   ],
   "source": [
    "x = '01234567890123456789'\n",
    "x.find('45')"
   ]
  },
  {
   "cell_type": "code",
   "execution_count": 9,
   "metadata": {},
   "outputs": [
    {
     "data": {
      "text/plain": [
       "-1"
      ]
     },
     "execution_count": 9,
     "metadata": {},
     "output_type": "execute_result"
    }
   ],
   "source": [
    "x = '01234567890123456789'\n",
    "x.find('AB')"
   ]
  },
  {
   "cell_type": "code",
   "execution_count": 63,
   "metadata": {},
   "outputs": [
    {
     "data": {
      "text/plain": [
       "14"
      ]
     },
     "execution_count": 63,
     "metadata": {},
     "output_type": "execute_result"
    }
   ],
   "source": [
    "x = '0123456789012345789'\n",
    "x.rfind('45')"
   ]
  },
  {
   "cell_type": "code",
   "execution_count": 50,
   "metadata": {},
   "outputs": [
    {
     "data": {
      "text/plain": [
       "['If', 'suddenlyyou', 'forget', 'medo', 'not', 'look', 'for', 'me']"
      ]
     },
     "execution_count": 50,
     "metadata": {},
     "output_type": "execute_result"
    }
   ],
   "source": [
    "x = 'If suddenly' \\\n",
    "    'you forget me' \\\n",
    "    'do not look for me'\n",
    "x.split(' ')"
   ]
  },
  {
   "cell_type": "code",
   "execution_count": 47,
   "metadata": {},
   "outputs": [
    {
     "data": {
      "text/plain": [
       "['1', '5.1', '3.5', '1.4', '0.2', 'Iris-setosa']"
      ]
     },
     "execution_count": 47,
     "metadata": {},
     "output_type": "execute_result"
    }
   ],
   "source": [
    "x = '1,5.1,3.5,1.4,0.2,Iris-setosa'\n",
    "x.split(',')"
   ]
  },
  {
   "cell_type": "code",
   "execution_count": 38,
   "metadata": {},
   "outputs": [
    {
     "name": "stdout",
     "output_type": "stream",
     "text": [
      "['cricket', 'football', 'horseback riding', 'volleyball']\n",
      "['cricket', 'football', 'volleyball']\n",
      "['cricket', 'football', 'volleyball', 'new']\n",
      "['cricket', 'football', 'new', 'volleyball']\n",
      "['volleyball', 'new', 'football', 'cricket']\n"
     ]
    }
   ],
   "source": [
    "sports = ['cricket', 'football', 'volleyball']\n",
    "sports.insert(2,\"horseback riding\") #插入\n",
    "print(sports)\n",
    "\n",
    "sports.remove(\"horseback riding\") #刪除\n",
    "print(sports)\n",
    "\n",
    "sports.append(\"new\")  #尾部新增\n",
    "print(sports)\n",
    "\n",
    "sports.sort()     #正排序\n",
    "print(sports)\n",
    "\n",
    "sports.reverse()  #倒序\n",
    "print(sports)\n"
   ]
  },
  {
   "cell_type": "code",
   "execution_count": 29,
   "metadata": {},
   "outputs": [
    {
     "name": "stdout",
     "output_type": "stream",
     "text": [
      "[['Id', 'SepalLengthCm', 'SepalWidthCm', 'PetalLengthCm', 'PetalWidthCm', 'Species'], ['1', '5.1', '3.5', '1.4', '0.2', 'Iris-setosa'], ['2', '4.9', '3.0', '1.4', '0.2', 'Iris-setosa'], ['3', '4.7', '3.2', '1.3', '0.2', 'Iris-setosa'], ['4', '4.6', '3.1', '1.5', '0.2', 'Iris-setosa'], ['5', '5.0', '3.6', '1.4', '0.2', 'Iris-setosa'], ['6', '5.4', '3.9', '1.7', '0.4', 'Iris-setosa'], ['7', '4.6', '3.4', '1.4', '0.3', 'Iris-setosa'], ['8', '5.0', '3.4', '1.5', '0.2', 'Iris-setosa'], ['9', '4.4', '2.9', '1.4', '0.2', 'Iris-setosa']]\n"
     ]
    }
   ],
   "source": [
    "#練習題----------------Hard\n",
    "#請拆解x字串的內容並放在二維的LIST裡\n",
    "x = 'Id,SepalLengthCm,SepalWidthCm,PetalLengthCm,PetalWidthCm,Species\\n' \\\n",
    "    '1,5.1,3.5,1.4,0.2,Iris-setosa\\n' \\\n",
    "    '2,4.9,3.0,1.4,0.2,Iris-setosa\\n' \\\n",
    "    '3,4.7,3.2,1.3,0.2,Iris-setosa\\n' \\\n",
    "    '4,4.6,3.1,1.5,0.2,Iris-setosa\\n' \\\n",
    "    '5,5.0,3.6,1.4,0.2,Iris-setosa\\n' \\\n",
    "    '6,5.4,3.9,1.7,0.4,Iris-setosa\\n' \\\n",
    "    '7,4.6,3.4,1.4,0.3,Iris-setosa\\n' \\\n",
    "    '8,5.0,3.4,1.5,0.2,Iris-setosa\\n' \\\n",
    "    '9,4.4,2.9,1.4,0.2,Iris-setosa'\n",
    "\n",
    "lines_data = x.split('\\n')\n",
    "\n",
    "#Lines_data\n",
    "\n",
    "data=[]\n",
    "for line in lines_data:\n",
    "    cells = line.split(',')\n",
    "    data.append(cells)\n",
    "print(data)"
   ]
  },
  {
   "cell_type": "code",
   "execution_count": 27,
   "metadata": {},
   "outputs": [
    {
     "name": "stdout",
     "output_type": "stream",
     "text": [
      "99\n",
      "0\n"
     ]
    }
   ],
   "source": [
    "twoway=[[\"1\", \"2\", \"3\"], [\"99\", \"98\", \"97\"]]\n",
    "total = 0\n",
    "\n",
    "new[] = twoway.append()\n",
    "\n",
    "print(twoway[i][0])\n",
    "\n",
    "for i in range(len(twoway)):\n",
    "    \n",
    "    totla = total + twoway[0][i]\n",
    "\n",
    "print(total)"
   ]
  },
  {
   "cell_type": "code",
   "execution_count": 43,
   "metadata": {},
   "outputs": [
    {
     "name": "stdout",
     "output_type": "stream",
     "text": [
      "['1', '5.1 ', ' 3.5 ', '1.4', ' 0.2', ' Iris-setosa']\n",
      "['1', '5.1', '3.5', '1.4', '0.2', 'Iris-setosa']\n"
     ]
    }
   ],
   "source": [
    "\n",
    "#練習題\n",
    "#請拆解x字串，並去除空白\n",
    "x = '1,5.1 , 3.5 ,1.4, 0.2, Iris-setosa'\n",
    "#x.strip()\n",
    "#x.split(',')\n",
    "\n",
    "s = x.split(',')\n",
    "print(s)\n",
    "for i in range(0,len(s)):\n",
    "    a = s[i].strip()\n",
    "    s[i] = a \n",
    "print(s)"
   ]
  },
  {
   "cell_type": "code",
   "execution_count": null,
   "metadata": {},
   "outputs": [],
   "source": [
    "#練習題\n",
    "#請計算SepalLengthCm,SepalWidthCm,PetalLengthCm,PetalWidthCm這四個欄位的平均值\n",
    "x = 'Id,SepalLengthCm,SepalWidthCm,PetalLengthCm,PetalWidthCm,Species\\n' \\\n",
    "    '1,5.1,3.5,1.4,0.2,Iris-setosa\\n' \\\n",
    "    '2,4.9,3.0,1.4,0.2,Iris-setosa\\n' \\\n",
    "    '3,4.7,3.2,1.3,0.2,Iris-setosa\\n' \\\n",
    "    '4,4.6,3.1,1.5,0.2,Iris-setosa\\n' \\\n",
    "    '5,5.0,3.6,1.4,0.2,Iris-setosa\\n' \\\n",
    "    '6,5.4,3.9,1.7,0.4,Iris-setosa\\n' \\\n",
    "    '7,4.6,3.4,1.4,0.3,Iris-setosa\\n' \\\n",
    "    '8,5.0,3.4,1.5,0.2,Iris-setosa\\n' \\\n",
    "    '9,4.4,2.9,1.4,0.2,Iris-setosa'"
   ]
  },
  {
   "cell_type": "code",
   "execution_count": 51,
   "metadata": {},
   "outputs": [
    {
     "name": "stdout",
     "output_type": "stream",
     "text": [
      "If suddenly\t you forget me\n",
      " do not look for me\n"
     ]
    }
   ],
   "source": [
    "x = 'If suddenly\\t you forget me\\n do not look for me'\n",
    "print(x)"
   ]
  },
  {
   "cell_type": "code",
   "execution_count": 54,
   "metadata": {},
   "outputs": [
    {
     "data": {
      "text/plain": [
       "'If suddenly you forget me do not look for me'"
      ]
     },
     "execution_count": 54,
     "metadata": {},
     "output_type": "execute_result"
    }
   ],
   "source": [
    "x = 'if suddenly you forget me do not look for me'\n",
    "x.capitalize()"
   ]
  },
  {
   "cell_type": "code",
   "execution_count": 56,
   "metadata": {},
   "outputs": [
    {
     "data": {
      "text/plain": [
       "'IF SUDDENLY YOU FORGET ME DO NOT LOOK FOR ME'"
      ]
     },
     "execution_count": 56,
     "metadata": {},
     "output_type": "execute_result"
    }
   ],
   "source": [
    "x = 'if suddenly you forget me do not look for me'\n",
    "x.upper()"
   ]
  },
  {
   "cell_type": "code",
   "execution_count": 57,
   "metadata": {},
   "outputs": [
    {
     "data": {
      "text/plain": [
       "'if suddenly you forget me do not look for me'"
      ]
     },
     "execution_count": 57,
     "metadata": {},
     "output_type": "execute_result"
    }
   ],
   "source": [
    "x = 'if SUDDENLY you forget me do not look for me'\n",
    "x.lower()"
   ]
  },
  {
   "cell_type": "code",
   "execution_count": 58,
   "metadata": {},
   "outputs": [
    {
     "data": {
      "text/plain": [
       "'If Suddenly You Forget Me Do Not Look For Me'"
      ]
     },
     "execution_count": 58,
     "metadata": {},
     "output_type": "execute_result"
    }
   ],
   "source": [
    "x = 'if suddenly you forget me do not look for me'\n",
    "x.title()"
   ]
  },
  {
   "cell_type": "code",
   "execution_count": 20,
   "metadata": {},
   "outputs": [
    {
     "data": {
      "text/plain": [
       "True"
      ]
     },
     "execution_count": 20,
     "metadata": {},
     "output_type": "execute_result"
    }
   ],
   "source": [
    "x = '12355'\n",
    "x.isdigit()"
   ]
  },
  {
   "cell_type": "code",
   "execution_count": 12,
   "metadata": {},
   "outputs": [
    {
     "data": {
      "text/plain": [
       "False"
      ]
     },
     "execution_count": 12,
     "metadata": {},
     "output_type": "execute_result"
    }
   ],
   "source": [
    "x = '12A55'\n",
    "x.isdigit()"
   ]
  },
  {
   "cell_type": "code",
   "execution_count": 21,
   "metadata": {},
   "outputs": [
    {
     "data": {
      "text/plain": [
       "True"
      ]
     },
     "execution_count": 21,
     "metadata": {},
     "output_type": "execute_result"
    }
   ],
   "source": [
    "x = 'ABCabc'\n",
    "x.isalpha()"
   ]
  },
  {
   "cell_type": "code",
   "execution_count": 22,
   "metadata": {},
   "outputs": [
    {
     "data": {
      "text/plain": [
       "False"
      ]
     },
     "execution_count": 22,
     "metadata": {},
     "output_type": "execute_result"
    }
   ],
   "source": [
    "x = 'ABCabc111'\n",
    "x.isalpha()"
   ]
  },
  {
   "cell_type": "code",
   "execution_count": 13,
   "metadata": {},
   "outputs": [
    {
     "data": {
      "text/plain": [
       "True"
      ]
     },
     "execution_count": 13,
     "metadata": {},
     "output_type": "execute_result"
    }
   ],
   "source": [
    "# 如果string 至少有一個字符並且所有字符都是字母或數字則返回True,否則返回False\n",
    "x = '12A55'\n",
    "x.isalnum()"
   ]
  },
  {
   "cell_type": "code",
   "execution_count": 15,
   "metadata": {},
   "outputs": [
    {
     "data": {
      "text/plain": [
       "False"
      ]
     },
     "execution_count": 15,
     "metadata": {},
     "output_type": "execute_result"
    }
   ],
   "source": [
    "x = '12A55*'\n",
    "x.isalnum()"
   ]
  },
  {
   "cell_type": "code",
   "execution_count": 8,
   "metadata": {},
   "outputs": [
    {
     "name": "stdout",
     "output_type": "stream",
     "text": [
      "['This', 'is', 'a', 'test', '', 'for', 'programing']\n"
     ]
    }
   ],
   "source": [
    "import re\n",
    "str = 'This is-a test, for programing'\n",
    "t = re.split(' |,|-',str)\n",
    "print(t)"
   ]
  },
  {
   "cell_type": "code",
   "execution_count": null,
   "metadata": {},
   "outputs": [],
   "source": [
    "#請讓使用者輸入身分證號後\n",
    "#並進行下面檢查\n",
    "# 1.檢查輸入的資料是否為10個字元 \n",
    "# 2.第一字元是否為英文字母\n",
    "# 3.後面九個字元是否為數字"
   ]
  },
  {
   "cell_type": "markdown",
   "metadata": {},
   "source": [
    "更多的字串相關函數可以參考下面網頁<BR>\n",
    "https://www.w3schools.com/python/python_ref_string.asp"
   ]
  },
  {
   "cell_type": "markdown",
   "metadata": {},
   "source": [
    "## 練習題"
   ]
  },
  {
   "cell_type": "code",
   "execution_count": 129,
   "metadata": {},
   "outputs": [
    {
     "name": "stdout",
     "output_type": "stream",
     "text": [
      "請輸入算則:\n",
      "1 + 1\n",
      "1\n",
      "<class 'str'>\n",
      "+\n",
      "<class 'str'>\n",
      "+\n"
     ]
    },
    {
     "ename": "TypeError",
     "evalue": "unsupported operand type(s) for +: 'int' and 'str'",
     "output_type": "error",
     "traceback": [
      "\u001b[0;31m---------------------------------------------------------------------------\u001b[0m",
      "\u001b[0;31mTypeError\u001b[0m                                 Traceback (most recent call last)",
      "\u001b[0;32m<ipython-input-129-d5b1a8fdebd1>\u001b[0m in \u001b[0;36m<module>\u001b[0;34m\u001b[0m\n\u001b[1;32m     21\u001b[0m         \u001b[0;32mif\u001b[0m \u001b[0md\u001b[0m\u001b[0;34m[\u001b[0m\u001b[0mi\u001b[0m\u001b[0;34m]\u001b[0m\u001b[0;34m==\u001b[0m\u001b[0;34m'+'\u001b[0m\u001b[0;34m:\u001b[0m\u001b[0;34m\u001b[0m\u001b[0;34m\u001b[0m\u001b[0m\n\u001b[1;32m     22\u001b[0m             \u001b[0mprint\u001b[0m\u001b[0;34m(\u001b[0m\u001b[0;34m'+'\u001b[0m\u001b[0;34m)\u001b[0m\u001b[0;34m\u001b[0m\u001b[0;34m\u001b[0m\u001b[0m\n\u001b[0;32m---> 23\u001b[0;31m             \u001b[0mtotal\u001b[0m \u001b[0;34m=\u001b[0m \u001b[0mtotal\u001b[0m \u001b[0;34m+\u001b[0m \u001b[0mnum1\u001b[0m \u001b[0;34m+\u001b[0m \u001b[0mnum2\u001b[0m\u001b[0;34m\u001b[0m\u001b[0;34m\u001b[0m\u001b[0m\n\u001b[0m\u001b[1;32m     24\u001b[0m         \u001b[0;32melif\u001b[0m \u001b[0md\u001b[0m\u001b[0;34m[\u001b[0m\u001b[0mi\u001b[0m\u001b[0;34m]\u001b[0m \u001b[0;34m==\u001b[0m\u001b[0;34m'-'\u001b[0m\u001b[0;34m:\u001b[0m\u001b[0;34m\u001b[0m\u001b[0;34m\u001b[0m\u001b[0m\n\u001b[1;32m     25\u001b[0m             \u001b[0mprint\u001b[0m\u001b[0;34m(\u001b[0m\u001b[0;34m'-'\u001b[0m\u001b[0;34m)\u001b[0m\u001b[0;34m\u001b[0m\u001b[0;34m\u001b[0m\u001b[0m\n",
      "\u001b[0;31mTypeError\u001b[0m: unsupported operand type(s) for +: 'int' and 'str'"
     ]
    }
   ],
   "source": [
    "# 請寫一個程式可以讓使用者輸入一串四則運算的字串後進行值的計算\n",
    "# 無需考慮先乘除後加減。並在使用者輸入 'q'後離開程式\n",
    "\n",
    "\n",
    "print('請輸入算則:')\n",
    "s = input() # 假設輸入為'12 + 3 * 4 - 11'\n",
    "d =[]\n",
    "\n",
    "total =0\n",
    "num1 = 0\n",
    "num2 = 0\n",
    "\n",
    "    id_sp[h] = int(id_sp[h])\n",
    "\n",
    "\n",
    "while s != 'q':\n",
    "    d=s.split()  #['1', '+', '2', '*', '3']\n",
    "    \n",
    "    \n",
    "    for i in range(0,len(d),2): #0,1,2\n",
    "        print(d[i])\n",
    "        if d[i]=='+':\n",
    "            print('+')\n",
    "            total = total + num1 + num2\n",
    "        elif d[i] =='-':\n",
    "            print('-')\n",
    "            total = total + num1 - num2\n",
    "        elif d[i] =='*':\n",
    "            print('*')\n",
    "            total = total + num1 * num2\n",
    "        elif d[i] =='/':\n",
    "            print('/')\n",
    "            total = total + num1 / num2\n",
    "        else:\n",
    "            num1 = int(d[i]) #0\n",
    "            num2 = int(d[i])+2\n",
    "    \n",
    "    \n",
    "    print('請輸入算則:')\n",
    "    s = input()\n",
    "print(\"exit\")"
   ]
  },
  {
   "cell_type": "code",
   "execution_count": 123,
   "metadata": {},
   "outputs": [
    {
     "name": "stdout",
     "output_type": "stream",
     "text": [
      "請輸入身分證號:A123456789\n",
      "第一次輸入 ['A', 1, 2, 3, 4, 5, 6, 7, 8, 9]\n",
      "1 0\n",
      "-----total-----\n",
      " 1\n",
      "j =  1 count= 7 sums= 8\n",
      "j =  2 count= 6 sums= 14\n",
      "j =  3 count= 5 sums= 18\n",
      "j =  4 count= 4 sums= 20\n",
      "j =  5 count= 3 sums= 20\n",
      "j =  6 count= 2 sums= 18\n",
      "j =  7 count= 1 sums= 14\n",
      "j =  8 count= 0 sums= 8\n",
      "121\n",
      "check num 9\n",
      "驗證成功 A123456789 輸入正確\n"
     ]
    }
   ],
   "source": [
    "# 身分證號碼檢查程式\n",
    "# 請讓使用者輸入身分證號碼，並檢查是否正確\n",
    "# 需要檢查格式是否正確\n",
    "# https://web.fg.tp.edu.tw/~anny/idtest.htm\n",
    "\n",
    "\n",
    "\n",
    "rule = [['A',1,0],['B',1,1],['C',1,2],['D',1,3],['E',1,4],['F',1,5],['G',1,6],['H',1,7],['I',3,4],['J',1,8],['K',1,9],['L',2,0],['M',2,1],['N',2,2],['O',3,5],['P',2,3],['Q',2,4],['R',2,5],['S',2,2],['T',2,7],['U',2,8],['V',2,9],['W',3,2],['X',3,0],['Y',3,1],['Z',3,3]]\n",
    "\n",
    "id = input('請輸入身分證號:')  #A123456789\n",
    "\n",
    "#判斷輸入值，分割為陣列\n",
    "id_sp = []\n",
    "for num in id:\n",
    "    id_sp.append(num)\n",
    "    \n",
    "id_sp[0] = id_sp[0].upper()\n",
    "for h in range(1,len(id)):\n",
    "    id_sp[h] = int(id_sp[h])\n",
    "print(\"第一次輸入\",id_sp)\n",
    "\n",
    "if len(id_sp)<10:\n",
    "    print(\"Error\")\n",
    "else:\n",
    "    #將首項英文轉換為權數\n",
    "    work1 = 0\n",
    "    work2 = 0\n",
    "    for i in range(len(rule)):\n",
    "        if id_sp[0] == rule[i][0]:\n",
    "            work1 = int(rule[i][1]) #1\n",
    "            work2 = int(rule[i][2]) #3\n",
    "    print(work1,work2)\n",
    "\n",
    "    #將數字乘上權數\n",
    "    total = work1*1 +work2*9\n",
    "\n",
    "    print(\"-----total-----\")\n",
    "    count = 8\n",
    "    for j in range(1,len(id)-1):\n",
    "        sums = id_sp[j]* count\n",
    "        total = total + sums\n",
    "        count = count-1\n",
    "        print(\"j = \",j,\"count=\",count,\"sums=\",sums)\n",
    "    print(total)\n",
    "\n",
    "\n",
    "    #相加後之值除以模數 10 取其餘數\n",
    "    check=0\n",
    "    check = 10 - total%10\n",
    "    print(\"check num\",check)\n",
    "\n",
    "    if id_sp[9] == check:\n",
    "        print(\"驗證成功\",id,\"輸入正確\")\n",
    "    else:\n",
    "        print(\"Error\")\n",
    "\n",
    "#if ((id[0] < 'A') | (id[0] > 'Z')):\n",
    " #   print(\"ERR\")\n",
    "#else:\n",
    " #   print(\"OK\")"
   ]
  },
  {
   "cell_type": "code",
   "execution_count": 101,
   "metadata": {},
   "outputs": [
    {
     "name": "stdout",
     "output_type": "stream",
     "text": [
      "11\n",
      "C\n",
      "b\n",
      "str1 =  True\n",
      "str2 =  False\n"
     ]
    }
   ],
   "source": [
    "#身分證號碼檢查的提示\n",
    "w = 'B'\n",
    "print(ord(w) - ord('A') + 10)\n",
    "\n",
    "print('c'.upper())\n",
    "print(w.lower())\n",
    "\n",
    "str1 = '123456'\n",
    "str2 = '123A456'\n",
    "print('str1 = ', str1.isdigit())\n",
    "print('str2 = ', str2.isdigit())"
   ]
  },
  {
   "cell_type": "code",
   "execution_count": null,
   "metadata": {},
   "outputs": [],
   "source": []
  }
 ],
 "metadata": {
  "kernelspec": {
   "display_name": "Python 3",
   "language": "python",
   "name": "python3"
  },
  "language_info": {
   "codemirror_mode": {
    "name": "ipython",
    "version": 3
   },
   "file_extension": ".py",
   "mimetype": "text/x-python",
   "name": "python",
   "nbconvert_exporter": "python",
   "pygments_lexer": "ipython3",
   "version": "3.8.3"
  }
 },
 "nbformat": 4,
 "nbformat_minor": 4
}
