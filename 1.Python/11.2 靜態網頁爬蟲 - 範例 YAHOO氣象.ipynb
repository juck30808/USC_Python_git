{
 "cells": [
  {
   "cell_type": "markdown",
   "metadata": {},
   "source": [
    "# Yahoo氣象\n",
    "https://tw.news.yahoo.com/weather/%E8%87%BA%E7%81%A3/%E8%87%BA%E5%8C%97%E5%B8%82/%E8%87%BA%E5%8C%97%E5%B8%82-2306179"
   ]
  },
  {
   "cell_type": "code",
   "execution_count": 69,
   "metadata": {
    "scrolled": false
   },
   "outputs": [],
   "source": [
    "from bs4 import BeautifulSoup\n",
    "from urllib.parse import unquote\n",
    "import urllib\n",
    "import urllib.request\n",
    "import os\n",
    "import string\n",
    "\n",
    "url = 'https://tw.news.yahoo.com/weather/%E8%87%BA%E7%81%A3/%E8%87%BA%E5%8C%97%E5%B8%82/%E8%87%BA%E5%8C%97%E5%B8%82-2306179'\n",
    "headers = {'User-Agent':'Mozilla/5.0 (Windows NT 6.1; WOW64; rv:23.0) Gecko/20100101 Firefox/23.0'}\n",
    "req = urllib.request.Request(url= urllib.parse.quote(url, safe=string.printable), headers=headers)\n",
    "html_doc = urllib.request.urlopen(req).read()\n",
    "soup = BeautifulSoup(html_doc, 'html.parser')\n",
    "main_tag = soup.find('div',class_='accordion Ov(h) Trsdu(.42s) daily')\n",
    "#main_tag\n"
   ]
  },
  {
   "cell_type": "code",
   "execution_count": 70,
   "metadata": {},
   "outputs": [
    {
     "data": {
      "text/plain": [
       "[<div class=\"D(ib) Va(m) W(1/4)\" data-reactid=\"195\"><span data-reactid=\"196\">星期一</span></div>,\n",
       " <div class=\"D(ib) Va(m) W(1/4)\" data-reactid=\"213\"><span data-reactid=\"214\">星期二</span></div>,\n",
       " <div class=\"D(ib) Va(m) W(1/4)\" data-reactid=\"231\"><span data-reactid=\"232\">星期三</span></div>,\n",
       " <div class=\"D(ib) Va(m) W(1/4)\" data-reactid=\"249\"><span data-reactid=\"250\">星期四</span></div>,\n",
       " <div class=\"D(ib) Va(m) W(1/4)\" data-reactid=\"267\"><span data-reactid=\"268\">星期五</span></div>,\n",
       " <div class=\"D(ib) Va(m) W(1/4)\" data-reactid=\"285\"><span data-reactid=\"286\">星期六</span></div>,\n",
       " <div class=\"D(ib) Va(m) W(1/4)\" data-reactid=\"303\"><span data-reactid=\"304\">星期日</span></div>,\n",
       " <div class=\"D(ib) Va(m) W(1/4)\" data-reactid=\"321\"><span data-reactid=\"322\">星期一</span></div>,\n",
       " <div class=\"D(ib) Va(m) W(1/4)\" data-reactid=\"339\"><span data-reactid=\"340\">星期二</span></div>,\n",
       " <div class=\"D(ib) Va(m) W(1/4)\" data-reactid=\"357\"><span data-reactid=\"358\">星期三</span></div>]"
      ]
     },
     "execution_count": 70,
     "metadata": {},
     "output_type": "execute_result"
    }
   ],
   "source": [
    "tag = soup.find_all('div',class_='D(ib) Va(m) W(1/4)') #catch all\n",
    "#tag = soup.find('div',class_='D(ib) Va(m) W(1/4)')    #cath 1 \n",
    "tag"
   ]
  },
  {
   "cell_type": "code",
   "execution_count": 71,
   "metadata": {},
   "outputs": [
    {
     "data": {
      "text/plain": [
       "<div class=\"BdB Bds(d) Bdbc(#fff.12) Fz(1.2em) Py(2px) O(0) Pos(r) forecast-item\" data-reactid=\"194\" role=\"row\" tabindex=\"0\"><div class=\"D(ib) Va(m) W(1/4)\" data-reactid=\"195\"><span data-reactid=\"196\">星期一</span></div><span class=\"D(ib) Va(m) W(1/4) Ta(c)\" data-code=\"26\" data-reactid=\"197\"><img alt=\"陰\" class=\"\" data-reactid=\"198\" height=\"32\" src=\"https://s.yimg.com/os/weather/1.0.1/shadow_icon/60x60/cloudy_day_night@2x.png\" title=\"陰\" width=\"32\"/></span><span class=\"D(ib) Va(m) W(1/4) Fz(12px)\" data-reactid=\"199\"><span class=\"D(ib) Mstart(1/3)\" data-reactid=\"200\"><img alt=\"降雨機率: 20%\" class=\"\" data-reactid=\"201\" height=\"24\" src=\"https://s.yimg.com/os/weather/1.0.1/precipitation/54x60/rain_ico_20@2x.png\" width=\"24\"/><span class=\"M(5px) D(ib)\" data-reactid=\"202\"><!-- react-text: 203 -->20<!-- /react-text --><!-- react-text: 204 -->%<!-- /react-text --></span></span></span><span class=\"D(ib) Va(m) W(1/4) Ta(end)\" data-reactid=\"205\"><span class=\"high D(ib) Miw(32px)\" data-reactid=\"206\"><!-- react-text: 207 -->22<!-- /react-text --><!-- react-text: 208 -->°<!-- /react-text --></span><span class=\"low Pstart(10px) C(#a5d6ff) D(ib) Miw(32px)\" data-reactid=\"209\"><!-- react-text: 210 -->19<!-- /react-text --><!-- react-text: 211 -->°<!-- /react-text --></span></span></div>"
      ]
     },
     "execution_count": 71,
     "metadata": {},
     "output_type": "execute_result"
    }
   ],
   "source": [
    "item_tags = main_tag.find_all('div', class_='BdB Bds(d) Bdbc(#fff.12) Fz(1.2em) Py(2px) O(0) Pos(r) forecast-item')\n",
    "item_tags[0]\n"
   ]
  },
  {
   "cell_type": "code",
   "execution_count": 74,
   "metadata": {},
   "outputs": [],
   "source": [
    "item_tag = item_tags[0]\n",
    "span_tags = item_tag.find_all('span')\n",
    "#span_tags"
   ]
  },
  {
   "cell_type": "code",
   "execution_count": 75,
   "metadata": {},
   "outputs": [
    {
     "data": {
      "text/plain": [
       "<span data-reactid=\"196\">星期一</span>"
      ]
     },
     "execution_count": 75,
     "metadata": {},
     "output_type": "execute_result"
    }
   ],
   "source": [
    "span_tags[0]"
   ]
  },
  {
   "cell_type": "code",
   "execution_count": 76,
   "metadata": {},
   "outputs": [
    {
     "data": {
      "text/plain": [
       "'星期一'"
      ]
     },
     "execution_count": 76,
     "metadata": {},
     "output_type": "execute_result"
    }
   ],
   "source": [
    "span_tags[0].getText()"
   ]
  },
  {
   "cell_type": "code",
   "execution_count": 77,
   "metadata": {},
   "outputs": [
    {
     "data": {
      "text/plain": [
       "<span class=\"D(ib) Va(m) W(1/4) Ta(c)\" data-code=\"26\" data-reactid=\"197\"><img alt=\"陰\" class=\"\" data-reactid=\"198\" height=\"32\" src=\"https://s.yimg.com/os/weather/1.0.1/shadow_icon/60x60/cloudy_day_night@2x.png\" title=\"陰\" width=\"32\"/></span>"
      ]
     },
     "execution_count": 77,
     "metadata": {},
     "output_type": "execute_result"
    }
   ],
   "source": [
    "span_tags[1]"
   ]
  },
  {
   "cell_type": "code",
   "execution_count": 78,
   "metadata": {},
   "outputs": [
    {
     "data": {
      "text/plain": [
       "<img alt=\"陰\" class=\"\" data-reactid=\"198\" height=\"32\" src=\"https://s.yimg.com/os/weather/1.0.1/shadow_icon/60x60/cloudy_day_night@2x.png\" title=\"陰\" width=\"32\"/>"
      ]
     },
     "execution_count": 78,
     "metadata": {},
     "output_type": "execute_result"
    }
   ],
   "source": [
    "span_tags[1].find('img')"
   ]
  },
  {
   "cell_type": "code",
   "execution_count": 79,
   "metadata": {},
   "outputs": [
    {
     "data": {
      "text/plain": [
       "'陰'"
      ]
     },
     "execution_count": 79,
     "metadata": {},
     "output_type": "execute_result"
    }
   ],
   "source": [
    "span_tags[1].find('img')['alt']"
   ]
  },
  {
   "cell_type": "code",
   "execution_count": 80,
   "metadata": {},
   "outputs": [
    {
     "data": {
      "text/plain": [
       "<span class=\"D(ib) Va(m) W(1/4) Fz(12px)\" data-reactid=\"199\"><span class=\"D(ib) Mstart(1/3)\" data-reactid=\"200\"><img alt=\"降雨機率: 20%\" class=\"\" data-reactid=\"201\" height=\"24\" src=\"https://s.yimg.com/os/weather/1.0.1/precipitation/54x60/rain_ico_20@2x.png\" width=\"24\"/><span class=\"M(5px) D(ib)\" data-reactid=\"202\"><!-- react-text: 203 -->20<!-- /react-text --><!-- react-text: 204 -->%<!-- /react-text --></span></span></span>"
      ]
     },
     "execution_count": 80,
     "metadata": {},
     "output_type": "execute_result"
    }
   ],
   "source": [
    "span_tags[2]"
   ]
  },
  {
   "cell_type": "code",
   "execution_count": 81,
   "metadata": {},
   "outputs": [
    {
     "data": {
      "text/plain": [
       "'降雨機率: 20%'"
      ]
     },
     "execution_count": 81,
     "metadata": {},
     "output_type": "execute_result"
    }
   ],
   "source": [
    "span_tags[2].find('img')['alt']"
   ]
  },
  {
   "cell_type": "code",
   "execution_count": 82,
   "metadata": {},
   "outputs": [
    {
     "data": {
      "text/plain": [
       "['降雨機率', ' 20%']"
      ]
     },
     "execution_count": 82,
     "metadata": {},
     "output_type": "execute_result"
    }
   ],
   "source": [
    "span_tags[2].find('img')['alt'].split(':')"
   ]
  },
  {
   "cell_type": "code",
   "execution_count": 83,
   "metadata": {},
   "outputs": [
    {
     "data": {
      "text/plain": [
       "<span class=\"high D(ib) Miw(32px)\" data-reactid=\"206\"><!-- react-text: 207 -->22<!-- /react-text --><!-- react-text: 208 -->°<!-- /react-text --></span>"
      ]
     },
     "execution_count": 83,
     "metadata": {},
     "output_type": "execute_result"
    }
   ],
   "source": [
    "span_tags[6]"
   ]
  },
  {
   "cell_type": "code",
   "execution_count": 84,
   "metadata": {},
   "outputs": [
    {
     "data": {
      "text/plain": [
       "'22°'"
      ]
     },
     "execution_count": 84,
     "metadata": {},
     "output_type": "execute_result"
    }
   ],
   "source": [
    "span_tags[6].getText()"
   ]
  },
  {
   "cell_type": "code",
   "execution_count": 85,
   "metadata": {},
   "outputs": [
    {
     "data": {
      "text/plain": [
       "'19°'"
      ]
     },
     "execution_count": 85,
     "metadata": {},
     "output_type": "execute_result"
    }
   ],
   "source": [
    "span_tags[7].getText()"
   ]
  },
  {
   "cell_type": "code",
   "execution_count": 125,
   "metadata": {},
   "outputs": [
    {
     "name": "stdout",
     "output_type": "stream",
     "text": [
      "Test時間 0%\n",
      "時間 星期一\n",
      "天氣型態 陰\n",
      "降雨機率 ['降雨機率', ' 15%']\n",
      "###3### 15%\n",
      "###4### 15%\n",
      "###5### 21°19°\n",
      "最高氣溫 21°\n",
      "最低氣溫 19°\n",
      "---------------------\n",
      "時間 星期二\n",
      "天氣型態 陰\n",
      "降雨機率 ['降雨機率', ' 20%']\n",
      "###3### 20%\n",
      "###4### 20%\n",
      "###5### 23°20°\n",
      "最高氣溫 23°\n",
      "最低氣溫 20°\n",
      "---------------------\n",
      "時間 星期三\n",
      "天氣型態 多雲\n",
      "降雨機率 ['降雨機率', ' 15%']\n",
      "###3### 15%\n",
      "###4### 15%\n",
      "###5### 24°21°\n",
      "最高氣溫 24°\n",
      "最低氣溫 21°\n",
      "---------------------\n",
      "時間 星期四\n",
      "天氣型態 陣雨\n",
      "降雨機率 ['降雨機率', ' 25%']\n",
      "###3### 25%\n",
      "###4### 25%\n",
      "###5### 25°21°\n",
      "最高氣溫 25°\n",
      "最低氣溫 21°\n",
      "---------------------\n",
      "時間 星期五\n",
      "天氣型態  零星雷雨\n",
      "降雨機率 ['降雨機率', ' 35%']\n",
      "###3### 35%\n",
      "###4### 35%\n",
      "###5### 26°22°\n",
      "最高氣溫 26°\n",
      "最低氣溫 22°\n",
      "---------------------\n",
      "時間 星期六\n",
      "天氣型態 陣雨\n",
      "降雨機率 ['降雨機率', ' 25%']\n",
      "###3### 25%\n",
      "###4### 25%\n",
      "###5### 26°22°\n",
      "最高氣溫 26°\n",
      "最低氣溫 22°\n",
      "---------------------\n",
      "時間 星期日\n",
      "天氣型態 多雲\n",
      "降雨機率 ['降雨機率', ' 5%']\n",
      "###3### 5%\n",
      "###4### 5%\n",
      "###5### 27°23°\n",
      "最高氣溫 27°\n",
      "最低氣溫 23°\n",
      "---------------------\n",
      "時間 星期一\n",
      "天氣型態 局部雷陣雨\n",
      "降雨機率 ['降雨機率', ' 15%']\n",
      "###3### 15%\n",
      "###4### 15%\n",
      "###5### 27°23°\n",
      "最高氣溫 27°\n",
      "最低氣溫 23°\n",
      "---------------------\n",
      "時間 星期二\n",
      "天氣型態 局部多雲\n",
      "降雨機率 ['降雨機率', ' 0%']\n",
      "###3### 0%\n",
      "###4### 0%\n",
      "###5### 27°22°\n",
      "最高氣溫 27°\n",
      "最低氣溫 22°\n",
      "---------------------\n",
      "時間 星期三\n",
      "天氣型態 局部多雲\n",
      "降雨機率 ['降雨機率', ' 0%']\n",
      "###3### 0%\n",
      "###4### 0%\n",
      "###5### 28°22°\n",
      "最高氣溫 28°\n",
      "最低氣溫 22°\n",
      "---------------------\n"
     ]
    }
   ],
   "source": [
    "from bs4 import BeautifulSoup\n",
    "from urllib.parse import unquote\n",
    "import urllib\n",
    "import urllib.request\n",
    "import os\n",
    "import string\n",
    "\n",
    "#catch all web in html_doc\n",
    "url = 'https://tw.news.yahoo.com/weather/%E8%87%BA%E7%81%A3/%E8%87%BA%E5%8C%97%E5%B8%82/%E8%87%BA%E5%8C%97%E5%B8%82-2306179'\n",
    "headers = {'User-Agent':'Mozilla/5.0 (Windows NT 6.1; WOW64; rv:23.0) Gecko/20100101 Firefox/23.0'}\n",
    "req = urllib.request.Request(url= urllib.parse.quote(url, safe=string.printable), headers=headers)\n",
    "html_doc = urllib.request.urlopen(req).read()\n",
    "soup = BeautifulSoup(html_doc, 'html.parser')\n",
    "#print(soup.prettify())    #sort use\n",
    "#print(soup.head.title)    #catch head with title \n",
    "#print(soup.title.string)  #catch only string\n",
    "\n",
    "\n",
    "\n",
    "\n",
    "# big div class\n",
    "main_tag = soup.find('div',class_='accordion Ov(h) Trsdu(.42s) daily')\n",
    "item_tags = main_tag.find_all('div', class_='BdB Bds(d) Bdbc(#fff.12) Fz(1.2em) Py(2px) O(0) Pos(r) forecast-item')\n",
    "#print(item_tags)\n",
    "\n",
    "\n",
    "\n",
    "#.<div class=\"BdB Bds(d) Bdbc(#fff.12) Fz(1.2em) Py(2px) O(0) Pos(r) forecast-item\" data-reactid=\"194\" role=\"row\" tabindex=\"0\">\n",
    "#.  <div class=\"D(ib) Va(m) W(1/4)\" data-reactid=\"195\">\n",
    "#.    <span data-reactid=\"196\">星期一</span>\n",
    "#.  </div>\n",
    "#.  <span class=\"D(ib) Va(m) W(1/4) Ta(c)\" data-code=\"26\" data-reactid=\"197\">\n",
    "#.    <img alt=\"陰\" class=\"\" data-reactid=\"198\" height=\"32\" src=\"https://s.yimg.com/os/weather/1.0.1/shadow_icon/60x60/cloudy_day_night@2x.png\" title=\"陰\" width=\"32\"/>\n",
    "#.  </span>\n",
    "\n",
    "#.  <span class=\"D(ib) Va(m) W(1/4) Fz(12px)\" data-reactid=\"199\">\n",
    "#.    <span class=\"D(ib) Mstart(1/3)\" data-reactid=\"200\">\n",
    "#.      <img alt=\"降雨機率: 15%\" class=\"\" data-reactid=\"201\" height=\"24\" src=\"https://s.yimg.com/os/weather/1.0.1/precipitation/54x60/rain_ico_10@2x.png\" width=\"24\"/>\n",
    "#.      <span class=\"M(5px) D(ib)\" data-reactid=\"202\"><!-- react-text: 203 -->15<!-- /react-text --><!-- react-text: 204 -->%<!-- /react-text --></span>\n",
    "#.    </span>\n",
    "#.  </span>\n",
    "\n",
    "#.  <span class=\"D(ib) Va(m) W(1/4) Ta(end)\" data-reactid=\"205\">\n",
    "#.    <span class=\"high D(ib) Miw(32px)\" data-reactid=\"206\"><!-- react-text: 207 -->22<!-- /react-text --><!-- react-text: 208 -->°<!-- /react-text --></span>\n",
    "#.    <span class=\"low Pstart(10px) C(#a5d6ff) D(ib) Miw(32px)\" data-reactid=\"209\"><!-- react-text: 210 -->19<!-- /react-text --><!-- react-text: 211 -->°<!-- /react-text --></span>\n",
    "#.  </span>\n",
    "#.</div>\n",
    " \n",
    "\n",
    "print('Test時間', span_tags[3].getText())\n",
    "\n",
    "\n",
    "#catch span_tags\n",
    "for item_tag in item_tags:\n",
    "    span_tags = item_tag.find_all('span')\n",
    "    print('時間', span_tags[0].getText())  #星期三\n",
    "    print('天氣型態', span_tags[1].find('img')['alt'])  #輸出\"\"\n",
    "    print('降雨機率', span_tags[2].find('img')['alt'].split(':')) #\"0%\"\n",
    "    print('###3###', span_tags[3].getText())  #15%\n",
    "    print('###4###', span_tags[4].getText())  #15%\n",
    "    print('###5###', span_tags[5].getText())  #21,19°\n",
    "    print('最高氣溫', span_tags[6].getText())  #21°\n",
    "    print('最低氣溫', span_tags[7].getText())  #19°\n",
    "    print('---------------------')\n",
    "    \n"
   ]
  },
  {
   "cell_type": "markdown",
   "metadata": {},
   "source": [
    "練習題\n",
    "請計算未來十天的最高氣溫與最低氣溫"
   ]
  },
  {
   "cell_type": "code",
   "execution_count": 126,
   "metadata": {},
   "outputs": [
    {
     "name": "stdout",
     "output_type": "stream",
     "text": [
      "時間 星期一\n",
      "天氣型態 陰\n",
      "降雨機率 ['降雨機率', ' 15%']\n",
      "最高氣溫 21°\n",
      "最低氣溫 19°\n",
      "---------------------\n",
      "時間 星期二\n",
      "天氣型態 陰\n",
      "降雨機率 ['降雨機率', ' 20%']\n",
      "最高氣溫 23°\n",
      "最低氣溫 20°\n",
      "---------------------\n",
      "時間 星期三\n",
      "天氣型態 多雲\n",
      "降雨機率 ['降雨機率', ' 15%']\n",
      "最高氣溫 24°\n",
      "最低氣溫 21°\n",
      "---------------------\n",
      "時間 星期四\n",
      "天氣型態 陣雨\n",
      "降雨機率 ['降雨機率', ' 25%']\n",
      "最高氣溫 25°\n",
      "最低氣溫 21°\n",
      "---------------------\n",
      "時間 星期五\n",
      "天氣型態  零星雷雨\n",
      "降雨機率 ['降雨機率', ' 35%']\n",
      "最高氣溫 26°\n",
      "最低氣溫 22°\n",
      "---------------------\n",
      "時間 星期六\n",
      "天氣型態 陣雨\n",
      "降雨機率 ['降雨機率', ' 25%']\n",
      "最高氣溫 26°\n",
      "最低氣溫 22°\n",
      "---------------------\n",
      "時間 星期日\n",
      "天氣型態 多雲\n",
      "降雨機率 ['降雨機率', ' 5%']\n",
      "最高氣溫 27°\n",
      "最低氣溫 23°\n",
      "---------------------\n",
      "時間 星期一\n",
      "天氣型態 局部雷陣雨\n",
      "降雨機率 ['降雨機率', ' 15%']\n",
      "最高氣溫 27°\n",
      "最低氣溫 23°\n",
      "---------------------\n",
      "時間 星期二\n",
      "天氣型態 局部多雲\n",
      "降雨機率 ['降雨機率', ' 0%']\n",
      "最高氣溫 27°\n",
      "最低氣溫 22°\n",
      "---------------------\n",
      "時間 星期三\n",
      "天氣型態 局部多雲\n",
      "降雨機率 ['降雨機率', ' 0%']\n",
      "最高氣溫 28°\n",
      "最低氣溫 22°\n",
      "---------------------\n",
      "未來十天最低溫度 19\n",
      "未來十天最高溫度 28\n",
      "未來十天最低溫度 19\n",
      "未來十天最高溫度 28\n"
     ]
    }
   ],
   "source": [
    "# 練習題\n",
    "# 請計算未來十天的最高氣溫與最低氣溫\n",
    "\n",
    "from bs4 import BeautifulSoup\n",
    "from urllib.parse import unquote\n",
    "import urllib\n",
    "import urllib.request\n",
    "import os\n",
    "import string\n",
    "\n",
    "url = 'https://tw.news.yahoo.com/weather/%E8%87%BA%E7%81%A3/%E8%87%BA%E5%8C%97%E5%B8%82/%E8%87%BA%E5%8C%97%E5%B8%82-2306179'\n",
    "headers = {'User-Agent':'Mozilla/5.0 (Windows NT 6.1; WOW64; rv:23.0) Gecko/20100101 Firefox/23.0'}\n",
    "req = urllib.request.Request(url= urllib.parse.quote(url, safe=string.printable), headers=headers)\n",
    "html_doc = urllib.request.urlopen(req).read()\n",
    "soup = BeautifulSoup(html_doc, 'html.parser')\n",
    "main_tag = soup.find('div',class_='accordion Ov(h) Trsdu(.42s) daily')\n",
    "item_tags = main_tag.find_all('div', class_='BdB Bds(d) Bdbc(#fff.12) Fz(1.2em) Py(2px) O(0) Pos(r) forecast-item')\n",
    "全部溫度 = []\n",
    "for item_tag in item_tags:\n",
    "    span_tags = item_tag.find_all('span')\n",
    "    print('時間', span_tags[0].getText())\n",
    "    print('天氣型態', span_tags[1].find('img')['alt'])\n",
    "    print('降雨機率', span_tags[2].find('img')['alt'].split(':'))\n",
    "    print('最高氣溫', span_tags[6].getText())\n",
    "    print('最低氣溫', span_tags[7].getText())\n",
    "    w1 = span_tags[6].getText().replace('°','')\n",
    "    w2 = span_tags[7].getText().replace('°','')\n",
    "    全部溫度.append(int(w1))\n",
    "    全部溫度.append(int(w2))\n",
    "    print('---------------------')\n",
    "    \n",
    "#方法一\n",
    "全部溫度.sort()\n",
    "print('未來十天最低溫度', 全部溫度[0])\n",
    "print('未來十天最高溫度', 全部溫度[-1])\n",
    "\n",
    "#方法二\n",
    "print('未來十天最低溫度', min(全部溫度))\n",
    "print('未來十天最高溫度', max(全部溫度))\n"
   ]
  },
  {
   "cell_type": "code",
   "execution_count": 127,
   "metadata": {},
   "outputs": [
    {
     "ename": "SyntaxError",
     "evalue": "invalid syntax (<ipython-input-127-a0e9920a00bb>, line 4)",
     "output_type": "error",
     "traceback": [
      "\u001b[0;36m  File \u001b[0;32m\"<ipython-input-127-a0e9920a00bb>\"\u001b[0;36m, line \u001b[0;32m4\u001b[0m\n\u001b[0;31m    <ul>\u001b[0m\n\u001b[0m    ^\u001b[0m\n\u001b[0;31mSyntaxError\u001b[0m\u001b[0;31m:\u001b[0m invalid syntax\n"
     ]
    }
   ],
   "source": [
    "#練習題2\n",
    "#請解析並列出24小時的氣溫\n",
    "\n",
    "<ul>\n",
    "\"hourly Whs(nw) BdB Bds(d) Bdbc(#fff.12) Ovx(s) Ovs(touch) Py(6px)\"\n",
    "\n",
    "#練習題2\n",
    "#請解析並列出24小時的氣溫\n",
    "\n",
    "from bs4 import BeautifulSoup\n",
    "from urllib.parse import unquote\n",
    "import urllib\n",
    "import urllib.request\n",
    "import os\n",
    "import string\n",
    "\n",
    "url = 'https://tw.news.yahoo.com/weather/%E8%87%BA%E7%81%A3/%E8%87%BA%E5%8C%97%E5%B8%82/%E8%87%BA%E5%8C%97%E5%B8%82-2306179'\n",
    "headers = {'User-Agent':'Mozilla/5.0 (Windows NT 6.1; WOW64; rv:23.0) Gecko/20100101 Firefox/23.0'}\n",
    "req = urllib.request.Request(url= urllib.parse.quote(url, safe=string.printable), headers=headers)\n",
    "html_doc = urllib.request.urlopen(req).read()\n",
    "soup = BeautifulSoup(html_doc, 'html.parser')\n",
    "main_tag = soup.find('ul',class_='hourly Whs(nw) BdB Bds(d) Bdbc(#fff.12) Ovx(s) Ovs(touch) Py(6px)')\n",
    "item_tags = main_tag.find_all('li')\n",
    "for item_tag in item_tags:\n",
    "    span_tags = item_tag.find_all('span')\n",
    "#     print(span_tags)\n",
    "    print(span_tags[0].get_text())\n",
    "    print(span_tags[2].get_text())\n",
    "    print('---------------------')\n",
    "    \n"
   ]
  },
  {
   "cell_type": "code",
   "execution_count": null,
   "metadata": {},
   "outputs": [],
   "source": []
  }
 ],
 "metadata": {
  "kernelspec": {
   "display_name": "Python 3",
   "language": "python",
   "name": "python3"
  },
  "language_info": {
   "codemirror_mode": {
    "name": "ipython",
    "version": 3
   },
   "file_extension": ".py",
   "mimetype": "text/x-python",
   "name": "python",
   "nbconvert_exporter": "python",
   "pygments_lexer": "ipython3",
   "version": "3.8.3"
  }
 },
 "nbformat": 4,
 "nbformat_minor": 4
}
