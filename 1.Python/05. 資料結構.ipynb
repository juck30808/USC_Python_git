{
 "cells": [
  {
   "cell_type": "markdown",
   "metadata": {
    "id": "NQwZ0bvIDHh5"
   },
   "source": [
    "## 進一步了解 List（串列）\n",
    "List（串列）這個資料型態，具有更多操作的方法。下面條列了所有關於 list 的物件方法：\n",
    "\n",
    "<font color=\"blue\"><b>list.append(x)</b>\n",
    "<font color=\"black\">將一個新的項目加到 list 的尾端。等同於 a[len(a):] = [x]。\n",
    "\n",
    "<font color=\"blue\"><b>list.extend(iterable)</b>\n",
    "<font color=\"black\">將 iterable（可列舉物件）接到 list 的尾端。等同於 a[len(a):] = iterable。\n",
    "\n",
    "<font color=\"blue\"><b>list.insert(i, x)</b>\n",
    "<font color=\"black\">將一個項目插入至 list 中給定的位置。第一個引數為插入處前元素的索引值，所以 a.insert(0, x) 會插入為 list 首位，而 a.insert(len(a), x) 則相當於 a.append(x)。\n",
    "\n",
    "<font color=\"blue\"><b>list.remove(x)</b>\n",
    "<font color=\"black\">移除列表中第一个值为 x 的元素。如果没有这样的元素，则抛出 ValueError 异常。\n",
    "\n",
    "<font color=\"blue\"><b>list.pop([i])</b>\n",
    "<font color=\"black\">移除 list 中給定位置的項目，並回傳它。如果沒有指定位置， a.pop() 將會移除 list 中最後的項目並回傳它。（在 i 周圍的方括號代表這個參數是選用的，並不代表你應該在該位置輸入方括號。你將會常常在 Python 函式庫參考指南中看見這個表示法）\n",
    "\n",
    "<font color=\"blue\"><b>list.clear()</b>\n",
    "<font color=\"black\">刪除 list 中所有項目。這等同於 del a[:] 。\n",
    "\n",
    "<font color=\"blue\"><b>list.index(x[, start[, end]])</b>\n",
    "<font color=\"black\">回傳 list 中第一個值等於 x 的項目之索引值（從零開始的索引）。若 list 中無此項目，則丟出 ValueError 錯誤。\n",
    "\n",
    "引數 start 和 end 的定義跟在 slice 表示法中相同，搜尋的動作被這兩個引數限定在 list 中特定的子序列。但要注意的是，回傳的索引值是從 list 的開頭開始算，而不是從 start 開始算。\n",
    "\n",
    "<font color=\"blue\"><b>list.count(x)</b>\n",
    "<font color=\"black\">回傳數值為 x 在 list 中所出現的次數。\n",
    "\n",
    "<font color=\"blue\"><b>list.sort(key=None, reverse=False)</b>\n",
    "<font color=\"black\">將 list 中的項目排序。（有參數可以使用來進行客製化的排序，請參考 sorted() 部分的解釋）\n",
    "\n",
    "<font color=\"blue\"><b>list.reverse()</b>\n",
    "<font color=\"black\">將 list 中的項目前後順序反過來。\n",
    "\n",
    "<font color=\"blue\"><b>list.copy()</b>\n",
    "<font color=\"black\">回傳一個淺複製 (shallow copy) 的 list 。等同於 a[:]。"
   ]
  },
  {
   "cell_type": "code",
   "execution_count": null,
   "metadata": {
    "id": "P_cZrjUlDHh6",
    "outputId": "7856f20d-e3b0-4d78-e12d-6fe461ae6044"
   },
   "outputs": [
    {
     "data": {
      "text/plain": [
       "[0, 1, 2, 3, 4, 5, 6, 7, 8]"
      ]
     },
     "execution_count": 5,
     "metadata": {
      "tags": []
     },
     "output_type": "execute_result"
    }
   ],
   "source": [
    "x = [0,1,2,3,4,5,6,7]\n",
    "x.append(8) #一次一個\n",
    "x"
   ]
  },
  {
   "cell_type": "code",
   "execution_count": null,
   "metadata": {
    "id": "Hs3E8hT5DHiB",
    "outputId": "429e67c6-3f80-4668-d442-b10ed9398be7"
   },
   "outputs": [
    {
     "data": {
      "text/plain": [
       "[0, 1, 2, 3, 4, 5, 6, 7, 9, 11, 13]"
      ]
     },
     "execution_count": 6,
     "metadata": {
      "tags": []
     },
     "output_type": "execute_result"
    }
   ],
   "source": [
    "x = [0,1,2,3,4,5,6,7]\n",
    "x.extend(range(9,15,2))\n",
    "x"
   ]
  },
  {
   "cell_type": "code",
   "execution_count": null,
   "metadata": {
    "id": "aRAVos3sDHiF",
    "outputId": "293f950f-319e-4e59-adfd-560db09786ed"
   },
   "outputs": [
    {
     "data": {
      "text/plain": [
       "[0, 1, 2, 3, 4, 5, 6, 7, range(9, 15, 2)]"
      ]
     },
     "execution_count": 7,
     "metadata": {
      "tags": []
     },
     "output_type": "execute_result"
    }
   ],
   "source": [
    "x = [0,1,2,3,4,5,6,7]\n",
    "x.append(range(9,15,2))\n",
    "x"
   ]
  },
  {
   "cell_type": "code",
   "execution_count": null,
   "metadata": {
    "id": "qPiZTrKpDHiM",
    "outputId": "8dec045f-64ce-4104-d93c-060bd19d2f15"
   },
   "outputs": [
    {
     "data": {
      "text/plain": [
       "[0, 1, 2, 3, 4, 5, 6, 7, [9, 11, 13]]"
      ]
     },
     "execution_count": 8,
     "metadata": {
      "tags": []
     },
     "output_type": "execute_result"
    }
   ],
   "source": [
    "x = [0,1,2,3,4,5,6,7]\n",
    "x.append([9,11,13])\n",
    "x"
   ]
  },
  {
   "cell_type": "code",
   "execution_count": null,
   "metadata": {
    "id": "0BYxlq40DHiQ",
    "outputId": "be868da0-ae1c-4043-d9bb-0bc4f8fbd703"
   },
   "outputs": [
    {
     "data": {
      "text/plain": [
       "[0, 1, 2, 3, 4, 5, 6, 7, 9, 11, 13]"
      ]
     },
     "execution_count": 9,
     "metadata": {
      "tags": []
     },
     "output_type": "execute_result"
    }
   ],
   "source": [
    "x = [0,1,2,3,4,5,6,7]\n",
    "x.extend([9,11,13])\n",
    "x"
   ]
  },
  {
   "cell_type": "code",
   "execution_count": null,
   "metadata": {
    "id": "dDn1dErEDHiU",
    "outputId": "010c1e33-e9f5-404d-92d6-9b8448d368d3"
   },
   "outputs": [
    {
     "data": {
      "text/plain": [
       "[0, 1, 2, 3, 'SS', 4, 5, 6, 7]"
      ]
     },
     "execution_count": 13,
     "metadata": {
      "tags": []
     },
     "output_type": "execute_result"
    }
   ],
   "source": [
    "x = [0,1,2,3,4,5,6,7]\n",
    "x.insert(4,'SS')\n",
    "x"
   ]
  },
  {
   "cell_type": "code",
   "execution_count": null,
   "metadata": {
    "id": "obNTRcpwDHiY",
    "outputId": "2a13b926-66db-4a40-f561-30853de5122d"
   },
   "outputs": [
    {
     "data": {
      "text/plain": [
       "[0, 1, 2, 3, 5, 6, 7, 0, 1, 2, 3, 4, 5, 6, 7]"
      ]
     },
     "execution_count": 17,
     "metadata": {
      "tags": []
     },
     "output_type": "execute_result"
    }
   ],
   "source": [
    "x = [0,1,2,3,4,5,6,7,0,1,2,3,4,5,6,7]\n",
    "x.remove(4)\n",
    "x"
   ]
  },
  {
   "cell_type": "code",
   "execution_count": null,
   "metadata": {
    "id": "pZGk3ainDHid",
    "outputId": "e1842acd-fda6-41d6-bcd4-ee7968f05e64"
   },
   "outputs": [
    {
     "data": {
      "text/plain": [
       "[0, 1, 2, 3, 4, 5, 6, 7, 0, 1, 2, 3, 4, 5, 6]"
      ]
     },
     "execution_count": 18,
     "metadata": {
      "tags": []
     },
     "output_type": "execute_result"
    }
   ],
   "source": [
    "x = [0,1,2,3,4,5,6,7,0,1,2,3,4,5,6,7]\n",
    "x.pop()\n",
    "x"
   ]
  },
  {
   "cell_type": "code",
   "execution_count": null,
   "metadata": {
    "id": "BtOC2zy4DHih",
    "outputId": "a79655e4-13f7-465a-c8cc-74faf6a739ae"
   },
   "outputs": [
    {
     "data": {
      "text/plain": [
       "[0, 1, 2, 3, 4, 5, 6, 7, 0, 1, 3, 4, 5, 6, 7]"
      ]
     },
     "execution_count": 20,
     "metadata": {
      "tags": []
     },
     "output_type": "execute_result"
    }
   ],
   "source": [
    "x = [0,1,2,3,4,5,6,7,0,1,2,3,4,5,6,7]\n",
    "x.pop(10)\n",
    "x"
   ]
  },
  {
   "cell_type": "code",
   "execution_count": null,
   "metadata": {
    "id": "Lkfy24x7DHik",
    "outputId": "193f81b3-3bb6-43ea-85ba-5502d1ebad07"
   },
   "outputs": [
    {
     "data": {
      "text/plain": [
       "[]"
      ]
     },
     "execution_count": 21,
     "metadata": {
      "tags": []
     },
     "output_type": "execute_result"
    }
   ],
   "source": [
    "x = [0,1,2,3,4,5,6,7]\n",
    "x.clear()\n",
    "x"
   ]
  },
  {
   "cell_type": "code",
   "execution_count": null,
   "metadata": {
    "id": "km_WiK2ADHio",
    "outputId": "80e33c3e-b6a5-403c-889f-185179adc4de"
   },
   "outputs": [
    {
     "name": "stdout",
     "output_type": "stream",
     "text": [
      "2\n"
     ]
    }
   ],
   "source": [
    "x = ['A1','B2','C3','D4','E5']\n",
    "print(x.index('C3'))"
   ]
  },
  {
   "cell_type": "code",
   "execution_count": null,
   "metadata": {
    "id": "grmzm2DrDHit",
    "outputId": "c97b81ae-ec05-4e88-d9c9-6b56e4ccab82"
   },
   "outputs": [
    {
     "name": "stdout",
     "output_type": "stream",
     "text": [
      "2\n"
     ]
    }
   ],
   "source": [
    "x = ['A1','B2','C3','D4','E5','A1','B2','C3','D4','E5']\n",
    "print(x.index('C3'))"
   ]
  },
  {
   "cell_type": "code",
   "execution_count": null,
   "metadata": {
    "id": "KYhp9J2HDHiw",
    "outputId": "648a218a-a9a0-4dd3-e060-5fa5f43fc058"
   },
   "outputs": [
    {
     "name": "stdout",
     "output_type": "stream",
     "text": [
      "7\n"
     ]
    }
   ],
   "source": [
    "x = ['A1','B2','C3','D4','E5','A1','B2','C3','D4','E5']\n",
    "print(x.index('C3',4))"
   ]
  },
  {
   "cell_type": "code",
   "execution_count": null,
   "metadata": {
    "id": "dSrTWGAYDHi0",
    "outputId": "029ffc47-1994-46be-944a-f6d9711065bc"
   },
   "outputs": [
    {
     "name": "stdout",
     "output_type": "stream",
     "text": [
      "2\n"
     ]
    }
   ],
   "source": [
    "x = ['A1','B2','C3','D4','E5','A1','B2','C3','D4','E5']\n",
    "print(x.count('C3'))"
   ]
  },
  {
   "cell_type": "code",
   "execution_count": null,
   "metadata": {
    "id": "Jg5Da0kuDHi4",
    "outputId": "5c31afd4-c77c-41be-90b4-73b5caec221c"
   },
   "outputs": [
    {
     "name": "stdout",
     "output_type": "stream",
     "text": [
      "[17, 27, 10, 1, 6, 3, 24, 15, 21, 5]\n",
      "[1, 3, 5, 6, 10, 15, 17, 21, 24, 27]\n",
      "[27, 24, 21, 17, 15, 10, 6, 5, 3, 1]\n"
     ]
    }
   ],
   "source": [
    "import random\n",
    "x = random.sample(range(1, 30),10)\n",
    "print(x)\n",
    "x.sort()\n",
    "print(x)\n",
    "x.sort(reverse=True)\n",
    "print(x)"
   ]
  },
  {
   "cell_type": "code",
   "execution_count": null,
   "metadata": {
    "id": "atkA1oC1DHi8",
    "outputId": "8dbc3b76-9604-4642-9ef8-e0f6209194ef"
   },
   "outputs": [
    {
     "name": "stdout",
     "output_type": "stream",
     "text": [
      "[16, 24, 6, 14, 7, 23, 26, 18, 13, 17]\n",
      "[17, 13, 18, 26, 23, 7, 14, 6, 24, 16]\n"
     ]
    }
   ],
   "source": [
    "import random\n",
    "x = random.sample(range(1, 30),10)\n",
    "print(x)\n",
    "x.reverse()\n",
    "print(x)"
   ]
  },
  {
   "cell_type": "code",
   "execution_count": null,
   "metadata": {
    "id": "nZ_YXtrXDHi_",
    "outputId": "a6af1b38-c20e-44c1-df6e-52d844697103"
   },
   "outputs": [
    {
     "name": "stdout",
     "output_type": "stream",
     "text": [
      "y =  [0, 1, 'A', 3, 4, 5, 6, 7]\n",
      "x =  [0, 1, 'A', 3, 4, 5, 6, 7]\n"
     ]
    }
   ],
   "source": [
    "# List的錯誤複製\n",
    "x = [0,1,2,3,4,5,6,7]\n",
    "y = x\n",
    "y[2] = 'A'\n",
    "print('y = ',y)\n",
    "print('x = ',x)"
   ]
  },
  {
   "cell_type": "code",
   "execution_count": null,
   "metadata": {
    "id": "cMwgrhMuDHjC",
    "outputId": "51a4765d-8e26-43f3-d0c4-9b7e2ed9a512"
   },
   "outputs": [
    {
     "name": "stdout",
     "output_type": "stream",
     "text": [
      "y =  [0, 1, 'A', 3, 4, 5, 6, 7]\n",
      "x =  [0, 1, 2, 3, 4, 5, 6, 7]\n"
     ]
    }
   ],
   "source": [
    "# List的正確複製\n",
    "x = [0,1,2,3,4,5,6,7]\n",
    "y = x.copy()\n",
    "y[2] = 'A'\n",
    "print('y = ',y)\n",
    "print('x = ',x)"
   ]
  },
  {
   "cell_type": "code",
   "execution_count": null,
   "metadata": {
    "id": "brCBDQihDHjF",
    "outputId": "acb009f5-3dbe-4450-e0ed-9855d512c8b9"
   },
   "outputs": [
    {
     "name": "stdout",
     "output_type": "stream",
     "text": [
      "y =  [0, 1, 'A', ['B', 1, 2], 4, 5, 6, 7]\n",
      "x =  [0, 1, 2, ['B', 1, 2], 4, 5, 6, 7]\n"
     ]
    }
   ],
   "source": [
    "# 但是copy()只是淺複製\n",
    "x = [0,1,2,[0,1,2],4,5,6,7]\n",
    "y = x.copy()\n",
    "y[2] = 'A'\n",
    "y[3][0] = 'B'\n",
    "print('y = ',y)\n",
    "print('x = ',x)"
   ]
  },
  {
   "cell_type": "code",
   "execution_count": null,
   "metadata": {
    "id": "YmVogdzsDHjJ",
    "outputId": "fcd9e331-a875-4b5c-cf80-3b38b194fdd4"
   },
   "outputs": [
    {
     "name": "stdout",
     "output_type": "stream",
     "text": [
      "y =  [0, 1, 'A', ['B', 1, 2], 4, 5, 6, 7]\n",
      "x =  [0, 1, 2, [0, 1, 2], 4, 5, 6, 7]\n"
     ]
    }
   ],
   "source": [
    "# 淺複製解決方法\n",
    "import copy\n",
    "x = [0,1,2,[0,1,2],4,5,6,7]\n",
    "y = copy.deepcopy(x)\n",
    "y[2] = 'A'\n",
    "y[3][0] = 'B'\n",
    "print('y = ',y)\n",
    "print('x = ',x)"
   ]
  },
  {
   "cell_type": "markdown",
   "metadata": {
    "id": "ZE4wc0-MDHjM"
   },
   "source": [
    "## 將 List 作為 Stack（堆疊）使用"
   ]
  },
  {
   "cell_type": "code",
   "execution_count": null,
   "metadata": {
    "id": "L4rvlpTlDHjN",
    "outputId": "353d0265-5689-4656-dec1-14581ac32d54"
   },
   "outputs": [
    {
     "data": {
      "text/plain": [
       "[3, 4, 5, 6, 7]"
      ]
     },
     "execution_count": 47,
     "metadata": {
      "tags": []
     },
     "output_type": "execute_result"
    }
   ],
   "source": [
    "stack = [3, 4, 5]\n",
    "stack.append(6)\n",
    "stack.append(7)\n",
    "stack"
   ]
  },
  {
   "cell_type": "code",
   "execution_count": null,
   "metadata": {
    "id": "iUyg6MzMDHjQ",
    "outputId": "6f50c77e-f1a7-4124-dbdf-1e65158b6846"
   },
   "outputs": [
    {
     "name": "stdout",
     "output_type": "stream",
     "text": [
      "7\n",
      "[3, 4, 5, 6]\n"
     ]
    }
   ],
   "source": [
    "x = stack.pop()\n",
    "print(x)\n",
    "print(stack)"
   ]
  },
  {
   "cell_type": "markdown",
   "metadata": {
    "id": "kTMcCTc5DHjT"
   },
   "source": [
    "## 將 List 作為 Queue（佇列）使用\n",
    "我們也可以將 list 當作 queue（佇列）使用，即最先加入元素最先被取回（先進先出，\"first-in, first-out\"）的資料結構。然而，list 在這種使用方式下效率較差。使用 append 和 pop 來加入和取出尾端的元素較快，而使用 insert 和 pop 來插入和取出頭端的元素較慢（因為其他元素都需要挪動一格）。\n",
    "\n",
    "如果要實作 queue，請使用 collections.deque ，其被設計成能快速的從頭尾兩端加入和取出"
   ]
  },
  {
   "cell_type": "code",
   "execution_count": null,
   "metadata": {
    "id": "kNQN2I3PDHjU",
    "outputId": "a90df0cc-dda5-44c9-d7d9-a2fd1f185318"
   },
   "outputs": [
    {
     "name": "stdout",
     "output_type": "stream",
     "text": [
      "Eric\n",
      "deque(['John', 'Michael', 'Terry', 'Graham'])\n"
     ]
    }
   ],
   "source": [
    "from collections import deque\n",
    "queue = deque([\"Eric\", \"John\", \"Michael\"])\n",
    "queue.append(\"Terry\")\n",
    "queue.append(\"Graham\")\n",
    "x = queue.popleft()\n",
    "print(x)\n",
    "print(queue)"
   ]
  },
  {
   "cell_type": "markdown",
   "metadata": {
    "id": "h3qs7XSgDHjX"
   },
   "source": [
    "## List Comprehensions（串列綜合運算）\n",
    "List Comprehension（串列綜合運算）讓你可以用簡潔的方法創建 list。常見的應用是基於一個 list 或 iterable（可列舉物件），將每一個元素經過某個運算的結果串接起來成為一個新的 list 。或是創建一個 list 的子序列，其每一個元素皆滿足一個特定的條件。"
   ]
  },
  {
   "cell_type": "code",
   "execution_count": null,
   "metadata": {
    "id": "dyooGLYIDHjY",
    "outputId": "feabbd64-f145-49bb-edde-a075a70c3ccc"
   },
   "outputs": [
    {
     "data": {
      "text/plain": [
       "[0, 1, 4, 9, 16, 25, 36, 49, 64, 81]"
      ]
     },
     "execution_count": 52,
     "metadata": {
      "tags": []
     },
     "output_type": "execute_result"
    }
   ],
   "source": [
    "squares = []\n",
    "for x in range(10):\n",
    "    squares.append(x**2)\n",
    "squares"
   ]
  },
  {
   "cell_type": "code",
   "execution_count": null,
   "metadata": {
    "id": "9i1AQC40DHjd",
    "outputId": "89ba8c85-4cd7-4dc2-dd0d-52ae3c5668bd"
   },
   "outputs": [
    {
     "data": {
      "text/plain": [
       "[0, 1, 4, 9, 16, 25, 36, 49, 64, 81]"
      ]
     },
     "execution_count": 53,
     "metadata": {
      "tags": []
     },
     "output_type": "execute_result"
    }
   ],
   "source": [
    "squares = list(map(lambda x: x**2, range(10)))\n",
    "squares"
   ]
  },
  {
   "cell_type": "code",
   "execution_count": null,
   "metadata": {
    "id": "XQ3KMnKYDHjg",
    "outputId": "968c6ad6-c3d7-4b3e-f6a8-5806dae35e10"
   },
   "outputs": [
    {
     "data": {
      "text/plain": [
       "[0, 1, 4, 9, 16, 25, 36, 49, 64, 81]"
      ]
     },
     "execution_count": 54,
     "metadata": {
      "tags": []
     },
     "output_type": "execute_result"
    }
   ],
   "source": [
    "squares = [x**2 for x in range(10)]\n",
    "squares"
   ]
  },
  {
   "cell_type": "code",
   "execution_count": null,
   "metadata": {
    "id": "bCsSg3onDHjj",
    "outputId": "69c48d1e-1fa2-4729-b375-ced8408d59ff"
   },
   "outputs": [
    {
     "data": {
      "text/plain": [
       "[(1, 3), (1, 4), (2, 3), (2, 1), (2, 4), (3, 1), (3, 4)]"
      ]
     },
     "execution_count": 55,
     "metadata": {
      "tags": []
     },
     "output_type": "execute_result"
    }
   ],
   "source": [
    "[(x, y) for x in [1,2,3] for y in [3,1,4] if x != y]"
   ]
  },
  {
   "cell_type": "code",
   "execution_count": null,
   "metadata": {
    "id": "9u8pmrS3DHjm",
    "outputId": "7fd190df-4528-4e0d-e85d-8e966695ea22"
   },
   "outputs": [
    {
     "data": {
      "text/plain": [
       "['3.1', '3.14', '3.142', '3.1416', '3.14159']"
      ]
     },
     "execution_count": 56,
     "metadata": {
      "tags": []
     },
     "output_type": "execute_result"
    }
   ],
   "source": [
    "from math import pi\n",
    "[str(round(pi, i)) for i in range(1, 6)]"
   ]
  },
  {
   "cell_type": "markdown",
   "metadata": {
    "id": "S1ZMhyCZDHjo"
   },
   "source": [
    "## del 语句\n",
    "有一种方式可以从列表按照给定的索引而不是值来移除一个元素: 那就是 del 语句。 它不同于会返回一个值的 pop() 方法。 del 语句也可以用来从列表中移除切片或者清空整个列表（我们之前用过的方式是将一个空列表赋值给指定的切片）。"
   ]
  },
  {
   "cell_type": "code",
   "execution_count": null,
   "metadata": {
    "id": "XgWRFZm6DHjp",
    "outputId": "693fa8d9-1c3d-4485-99bf-6609b8e5769e"
   },
   "outputs": [
    {
     "ename": "ValueError",
     "evalue": "list.remove(x): x not in list",
     "output_type": "error",
     "traceback": [
      "\u001b[1;31m---------------------------------------------------------------------------\u001b[0m",
      "\u001b[1;31mValueError\u001b[0m                                Traceback (most recent call last)",
      "\u001b[1;32m<ipython-input-57-5d0f1eb3a4db>\u001b[0m in \u001b[0;36m<module>\u001b[1;34m\u001b[0m\n\u001b[0;32m      1\u001b[0m \u001b[0mx\u001b[0m \u001b[1;33m=\u001b[0m \u001b[1;33m[\u001b[0m\u001b[1;34m'A'\u001b[0m\u001b[1;33m,\u001b[0m\u001b[1;34m'B'\u001b[0m\u001b[1;33m,\u001b[0m\u001b[1;34m'C'\u001b[0m\u001b[1;33m,\u001b[0m\u001b[1;34m'D'\u001b[0m\u001b[1;33m,\u001b[0m\u001b[1;34m'E'\u001b[0m\u001b[1;33m]\u001b[0m\u001b[1;33m\u001b[0m\u001b[1;33m\u001b[0m\u001b[0m\n\u001b[1;32m----> 2\u001b[1;33m \u001b[0mx\u001b[0m\u001b[1;33m.\u001b[0m\u001b[0mremove\u001b[0m\u001b[1;33m(\u001b[0m\u001b[1;36m2\u001b[0m\u001b[1;33m)\u001b[0m\u001b[1;33m\u001b[0m\u001b[1;33m\u001b[0m\u001b[0m\n\u001b[0m\u001b[0;32m      3\u001b[0m \u001b[0mx\u001b[0m\u001b[1;33m\u001b[0m\u001b[1;33m\u001b[0m\u001b[0m\n",
      "\u001b[1;31mValueError\u001b[0m: list.remove(x): x not in list"
     ]
    }
   ],
   "source": [
    "x = ['A','B','C','D','E']\n",
    "x.remove(2)\n",
    "x"
   ]
  },
  {
   "cell_type": "code",
   "execution_count": null,
   "metadata": {
    "id": "VRbDkDQBDHjs",
    "outputId": "99888f9c-c4bc-43fb-a09e-f4cf3034ae02"
   },
   "outputs": [
    {
     "data": {
      "text/plain": [
       "['A', 'B', 'D', 'E']"
      ]
     },
     "execution_count": 58,
     "metadata": {
      "tags": []
     },
     "output_type": "execute_result"
    }
   ],
   "source": [
    "x = ['A','B','C','D','E']\n",
    "x.remove('C')\n",
    "x"
   ]
  },
  {
   "cell_type": "code",
   "execution_count": null,
   "metadata": {
    "id": "T-TqLeOdDHjw",
    "outputId": "546b83e5-e15b-49c5-b8dd-5ff36a6d44ec"
   },
   "outputs": [
    {
     "data": {
      "text/plain": [
       "['A', 'B', 'D', 'E']"
      ]
     },
     "execution_count": 59,
     "metadata": {
      "tags": []
     },
     "output_type": "execute_result"
    }
   ],
   "source": [
    "x = ['A','B','C','D','E']\n",
    "del x[2]\n",
    "x"
   ]
  },
  {
   "cell_type": "code",
   "execution_count": null,
   "metadata": {
    "id": "hSvAve49DHjz",
    "outputId": "3f8dd96e-cdb7-45c6-f124-214072b37e03"
   },
   "outputs": [
    {
     "data": {
      "text/plain": [
       "['A', 'B', 'E']"
      ]
     },
     "execution_count": 60,
     "metadata": {
      "tags": []
     },
     "output_type": "execute_result"
    }
   ],
   "source": [
    "x = ['A','B','C','D','E']\n",
    "del x[2:4]\n",
    "x"
   ]
  },
  {
   "cell_type": "markdown",
   "metadata": {
    "id": "TfTBGACvDHj2"
   },
   "source": [
    "## 集合 (Sets)\n",
    "Python 也包含了一種用在集合 (sets) 的資料結構。一個 set 是一組無序且沒有重複的元素。基本的使用方式包括了成員測試和消除重複項。 Set 物件也支援聯集，交集，差集和互斥等數學操作。"
   ]
  },
  {
   "cell_type": "code",
   "execution_count": null,
   "metadata": {
    "id": "iZAKzaOVDHj2",
    "outputId": "5cf7afa4-3d1e-4acf-9ad5-83b9e3d9faa4"
   },
   "outputs": [
    {
     "data": {
      "text/plain": [
       "{'apple', 'banana', 'orange', 'pear'}"
      ]
     },
     "execution_count": 61,
     "metadata": {
      "tags": []
     },
     "output_type": "execute_result"
    }
   ],
   "source": [
    "basket = {'apple', 'orange', 'apple', 'pear', 'orange', 'banana'}\n",
    "basket"
   ]
  },
  {
   "cell_type": "code",
   "execution_count": null,
   "metadata": {
    "id": "104bqLtkDHj5",
    "outputId": "74e7228e-8fee-4574-f343-348c3c895d29"
   },
   "outputs": [
    {
     "data": {
      "text/plain": [
       "True"
      ]
     },
     "execution_count": 62,
     "metadata": {
      "tags": []
     },
     "output_type": "execute_result"
    }
   ],
   "source": [
    "basket = {'apple', 'orange', 'apple', 'pear', 'orange', 'banana'}\n",
    "'orange' in basket"
   ]
  },
  {
   "cell_type": "code",
   "execution_count": null,
   "metadata": {
    "id": "rbfLr3eADHj9",
    "outputId": "dda4b3e0-6657-49c0-8140-ed375fbf21d0"
   },
   "outputs": [
    {
     "data": {
      "text/plain": [
       "False"
      ]
     },
     "execution_count": 63,
     "metadata": {
      "tags": []
     },
     "output_type": "execute_result"
    }
   ],
   "source": [
    "basket = {'apple', 'orange', 'apple', 'pear', 'orange', 'banana'}\n",
    "'crabgrass' in basket"
   ]
  },
  {
   "cell_type": "code",
   "execution_count": null,
   "metadata": {
    "id": "YrR7LJ4HDHj_",
    "outputId": "d8af20ed-ca0f-45fd-90ee-dc892e070400"
   },
   "outputs": [
    {
     "name": "stdout",
     "output_type": "stream",
     "text": [
      "{'r', 'c', 'a', 'd', 'b'}\n",
      "{'z', 'm', 'c', 'a', 'l'}\n"
     ]
    }
   ],
   "source": [
    "a = set('abracadabra')\n",
    "b = set('alacazam')\n",
    "print(a)\n",
    "print(b)"
   ]
  },
  {
   "cell_type": "code",
   "execution_count": null,
   "metadata": {
    "id": "_7tVPKi7DHkE",
    "outputId": "9464c858-5132-408b-ec00-691b217f2e41"
   },
   "outputs": [
    {
     "data": {
      "text/plain": [
       "{'b', 'd', 'r'}"
      ]
     },
     "execution_count": 65,
     "metadata": {
      "tags": []
     },
     "output_type": "execute_result"
    }
   ],
   "source": [
    "a - b"
   ]
  },
  {
   "cell_type": "code",
   "execution_count": null,
   "metadata": {
    "id": "RfuT-JinDHkL",
    "outputId": "a5ec03dc-ff96-4d21-b09f-9bfb709c77f6"
   },
   "outputs": [
    {
     "data": {
      "text/plain": [
       "{'a', 'b', 'c', 'd', 'l', 'm', 'r', 'z'}"
      ]
     },
     "execution_count": 67,
     "metadata": {
      "tags": []
     },
     "output_type": "execute_result"
    }
   ],
   "source": [
    "a | b"
   ]
  },
  {
   "cell_type": "code",
   "execution_count": null,
   "metadata": {
    "id": "7jb1eWC_DHkO",
    "outputId": "45db36ca-ff78-4a53-eaf9-c33e2d0d48c5"
   },
   "outputs": [
    {
     "data": {
      "text/plain": [
       "{'a', 'c'}"
      ]
     },
     "execution_count": 68,
     "metadata": {
      "tags": []
     },
     "output_type": "execute_result"
    }
   ],
   "source": [
    "a & b"
   ]
  },
  {
   "cell_type": "code",
   "execution_count": null,
   "metadata": {
    "id": "Rhbm0xpVDHkR",
    "outputId": "950c558b-9dd2-476a-8b59-28026a902a86"
   },
   "outputs": [
    {
     "data": {
      "text/plain": [
       "{'b', 'd', 'l', 'm', 'r', 'z'}"
      ]
     },
     "execution_count": 69,
     "metadata": {
      "tags": []
     },
     "output_type": "execute_result"
    }
   ],
   "source": [
    "a ^ b"
   ]
  },
  {
   "cell_type": "code",
   "execution_count": null,
   "metadata": {
    "id": "MmDEDN3oDHkW",
    "outputId": "1a9e8408-a764-4ba4-fc77-2621196edbc4"
   },
   "outputs": [
    {
     "data": {
      "text/plain": [
       "{'b', 'd', 'l', 'm', 'r', 'z'}"
      ]
     },
     "execution_count": 70,
     "metadata": {
      "tags": []
     },
     "output_type": "execute_result"
    }
   ],
   "source": [
    "(a | b) - (a & b)"
   ]
  },
  {
   "cell_type": "markdown",
   "metadata": {
    "id": "LDUtD-iHDHka"
   },
   "source": [
    "## 字典（Dictionary）\n",
    "下一個常用的 python 內建資料結構為 dictionary （請參考 映射类型 --- dict ）。 Dictionary 有時被稱為 \"關聯記憶體\" (associative memories) 或 \"關聯矩陣\" (associative arrays) 。不像序列是由一個範圍內的數字當作索引， dictionary 是由 key （鍵）來當索引， key 可以是任何不可變的型態；字串和數字都可以當作 key 。 Tuple 也可以當作 key 如果他們只含有字串、數字或 tuple；若一個 tuple 直接或間接地含有任何可變的物件，它就不能當作 key 。我們無法使用 list 當作 key ，因為 list 可以經由索引操作、切片操作或是方法像是 append() 和 extend() 來修改。\n",
    "\n",
    "思考 dict 最好的方式是把它想成是一組鍵值對 (key: value pair) 的集合，其中 key 在同一個 dictionary（字典）裡必須是獨一無二的。使用一對大括號可創建一個空的字典 ：{}。將一串由逗號分隔的鍵值對置於大括號則可初始化字典。這同樣也是字典輸出時的格式。\n",
    "\n",
    "Dict 主要的操作為藉由鍵來儲存一個值並且可藉由該鍵來取出該值。也可以使用 del 來刪除鍵值對。如果我們使用用過的鍵來儲存，該鍵所對應的較舊的值會被覆蓋。使用不存在的鍵來取出值會造成錯誤。\n",
    "\n",
    "對字典使用 list(d) 會得到一個包含該字典所有鍵（key）的 list，其排列順序為插入時的順序。（若想要排序，則使用 sorted(d) 代替即可）。如果想確認一個鍵是否已存在於字典中，可使用關鍵字 in 。"
   ]
  },
  {
   "cell_type": "code",
   "execution_count": null,
   "metadata": {
    "id": "NIfUF7CYDHka",
    "outputId": "21b7f268-a4f9-43e8-8673-ef68ef05f0b1"
   },
   "outputs": [
    {
     "data": {
      "text/plain": [
       "{'jack': 4098, 'david': 4139, 'mark': 4127}"
      ]
     },
     "execution_count": 79,
     "metadata": {
      "tags": []
     },
     "output_type": "execute_result"
    }
   ],
   "source": [
    "tel = {'jack': 4098, 'david': 4139}\n",
    "tel['mark'] = 4127\n",
    "tel"
   ]
  },
  {
   "cell_type": "code",
   "execution_count": null,
   "metadata": {
    "id": "8hyXusWZDHke",
    "outputId": "5ccc2935-0ef7-4359-a476-2671540f49fc"
   },
   "outputs": [
    {
     "data": {
      "text/plain": [
       "4098"
      ]
     },
     "execution_count": 80,
     "metadata": {
      "tags": []
     },
     "output_type": "execute_result"
    }
   ],
   "source": [
    "tel['jack']"
   ]
  },
  {
   "cell_type": "code",
   "execution_count": null,
   "metadata": {
    "id": "KeFGQBfPDHkg",
    "outputId": "e2469d26-12e6-4045-a911-5ff04dba4ee1"
   },
   "outputs": [
    {
     "data": {
      "text/plain": [
       "{'jack': 4098, 'mark': 4127}"
      ]
     },
     "execution_count": 81,
     "metadata": {
      "tags": []
     },
     "output_type": "execute_result"
    }
   ],
   "source": [
    "del tel['david']\n",
    "tel"
   ]
  },
  {
   "cell_type": "code",
   "execution_count": null,
   "metadata": {
    "id": "l3vmKoItDHkk",
    "outputId": "2fb2dbde-960f-4bd3-bf93-f5a70c1608e9"
   },
   "outputs": [
    {
     "data": {
      "text/plain": [
       "{'jack': 4098, 'mark': 4127, 'sam': 4127}"
      ]
     },
     "execution_count": 82,
     "metadata": {
      "tags": []
     },
     "output_type": "execute_result"
    }
   ],
   "source": [
    "tel['sam'] = 4127\n",
    "tel"
   ]
  },
  {
   "cell_type": "code",
   "execution_count": null,
   "metadata": {
    "id": "yXFW6CExDHko",
    "outputId": "8bb14baf-bd41-43c8-9418-b0f4c83897bb"
   },
   "outputs": [
    {
     "data": {
      "text/plain": [
       "['jack', 'mark', 'sam']"
      ]
     },
     "execution_count": 83,
     "metadata": {
      "tags": []
     },
     "output_type": "execute_result"
    }
   ],
   "source": [
    "list(tel)"
   ]
  },
  {
   "cell_type": "code",
   "execution_count": null,
   "metadata": {
    "id": "XUmIBtMtDHks",
    "outputId": "991be054-f9ca-440c-ee2c-c613b5191ee1"
   },
   "outputs": [
    {
     "data": {
      "text/plain": [
       "['jack', 'mark', 'sam']"
      ]
     },
     "execution_count": 84,
     "metadata": {
      "tags": []
     },
     "output_type": "execute_result"
    }
   ],
   "source": [
    "sorted(tel)"
   ]
  },
  {
   "cell_type": "code",
   "execution_count": null,
   "metadata": {
    "id": "X9A8XjG6DHkv",
    "outputId": "9d3eac86-cbb1-4808-c138-0670d20507ae"
   },
   "outputs": [
    {
     "data": {
      "text/plain": [
       "True"
      ]
     },
     "execution_count": 85,
     "metadata": {
      "tags": []
     },
     "output_type": "execute_result"
    }
   ],
   "source": [
    "'mark' in tel"
   ]
  },
  {
   "cell_type": "code",
   "execution_count": null,
   "metadata": {
    "id": "iWBwWEPFDHkx",
    "outputId": "8cd5bfdb-7ed1-40c4-c78b-d7b8d475479d"
   },
   "outputs": [
    {
     "data": {
      "text/plain": [
       "False"
      ]
     },
     "execution_count": 86,
     "metadata": {
      "tags": []
     },
     "output_type": "execute_result"
    }
   ],
   "source": [
    "'jack' not in tel"
   ]
  },
  {
   "cell_type": "code",
   "execution_count": null,
   "metadata": {
    "id": "CDNxv46ADHk1",
    "outputId": "edef6866-4232-4555-d763-ecc8da5a4339"
   },
   "outputs": [
    {
     "data": {
      "text/plain": [
       "{'sape': 4139, 'guido': 4127, 'jack': 4098}"
      ]
     },
     "execution_count": 87,
     "metadata": {
      "tags": []
     },
     "output_type": "execute_result"
    }
   ],
   "source": [
    "# 函式 dict() 可直接透過一串鍵值對序列來創建 dict\n",
    "dict([('sape', 4139), ('guido', 4127), ('jack', 4098)])"
   ]
  },
  {
   "cell_type": "code",
   "execution_count": null,
   "metadata": {
    "id": "-b9rlTK_DHk4",
    "outputId": "6703373e-3ad9-4bde-b69e-a4bd63892907"
   },
   "outputs": [
    {
     "data": {
      "text/plain": [
       "{2: 4, 4: 16, 6: 36}"
      ]
     },
     "execution_count": 88,
     "metadata": {
      "tags": []
     },
     "output_type": "execute_result"
    }
   ],
   "source": [
    "# 此外， dict comprehensions 也可以透過鍵與值的陳述式來創建 dict \n",
    "{x: x**2 for x in (2, 4, 6)}"
   ]
  },
  {
   "cell_type": "code",
   "execution_count": null,
   "metadata": {
    "id": "ycgt7Na1DHk-",
    "outputId": "0158e655-f8bd-49bd-a168-2b1bb0987584"
   },
   "outputs": [
    {
     "data": {
      "text/plain": [
       "{'sape': 4139, 'guido': 4127, 'jack': 4098}"
      ]
     },
     "execution_count": 89,
     "metadata": {
      "tags": []
     },
     "output_type": "execute_result"
    }
   ],
   "source": [
    "# 當鍵是簡單的字串時，使用關鍵字引數 (keyword arguments) 有時會較為簡潔\n",
    "dict(sape=4139, guido=4127, jack=4098)"
   ]
  },
  {
   "cell_type": "code",
   "execution_count": null,
   "metadata": {
    "id": "A2TVcwDUDHlA",
    "outputId": "2f162eda-f98b-4290-97d4-1368cd93e8c7"
   },
   "outputs": [
    {
     "name": "stdout",
     "output_type": "stream",
     "text": [
      "sape's tel number is 4139\n",
      "guido's tel number is 4127\n",
      "jack's tel number is 4098\n"
     ]
    }
   ],
   "source": [
    "# 當對 dict 作迴圈時，鍵以及其對應的值可以藉由使用 items() 方法來同時取得\n",
    "tel = dict(sape=4139, guido=4127, jack=4098)\n",
    "for key, value in tel.items():\n",
    "    print(f'{key}\\'s tel number is {value}')"
   ]
  },
  {
   "cell_type": "code",
   "execution_count": null,
   "metadata": {
    "id": "-dd1uW1SDHlD",
    "outputId": "8460e586-38e9-42da-b457-23c60e81c218"
   },
   "outputs": [
    {
     "name": "stdout",
     "output_type": "stream",
     "text": [
      "0 A0\n",
      "1 B1\n",
      "2 C2\n"
     ]
    }
   ],
   "source": [
    "# 當對序列作迴圈時，位置索引及其對應的值可以藉由使用 enumerate() 函式來同時取得\n",
    "for i, v in enumerate(['A0', 'B1', 'C2']):\n",
    "    print(i, v)"
   ]
  },
  {
   "cell_type": "code",
   "execution_count": null,
   "metadata": {
    "id": "b1cQL8YZDHlG",
    "outputId": "a84bcb0a-f649-46c6-de96-9c2b3d1960d4"
   },
   "outputs": [
    {
     "name": "stdout",
     "output_type": "stream",
     "text": [
      "A D\n",
      "B E\n",
      "C F\n"
     ]
    }
   ],
   "source": [
    "# 要同時對兩個以上的序列作迴圈，可以將其以成對的方式放入 zip() 函式：\n",
    "x = ['A','B','C']\n",
    "y = ['D','E','F']\n",
    "for i, j in zip(x, y):\n",
    "    print(i,j)"
   ]
  },
  {
   "cell_type": "code",
   "execution_count": null,
   "metadata": {
    "id": "JCE72pNWDHlK",
    "outputId": "ea2bd32c-dc81-4d1b-c388-52bce370b7c0"
   },
   "outputs": [
    {
     "name": "stdout",
     "output_type": "stream",
     "text": [
      "A D\n",
      "B E\n",
      "C F\n"
     ]
    }
   ],
   "source": [
    "# 當 list 長度不一樣時\n",
    "x = ['A','B','C']\n",
    "y = ['D','E','F','G']\n",
    "for i, j in zip(x, y):\n",
    "    print(i,j)"
   ]
  },
  {
   "cell_type": "code",
   "execution_count": null,
   "metadata": {
    "id": "p9ePmnLSDHlR",
    "outputId": "cc4690fb-ba5a-4f8e-b774-a329a9f7d7ff"
   },
   "outputs": [
    {
     "name": "stdout",
     "output_type": "stream",
     "text": [
      "9\n",
      "7\n",
      "5\n",
      "3\n",
      "1\n"
     ]
    }
   ],
   "source": [
    "# 要對序列作反向的迴圈，首先先寫出正向的序列，在對其使用 reversed() 函式\n",
    "for i in reversed(range(1, 10, 2)):\n",
    "    print(i)"
   ]
  },
  {
   "cell_type": "code",
   "execution_count": null,
   "metadata": {
    "id": "Ay-YFjI_DHlU",
    "outputId": "5e49a93f-3a39-4055-9c02-ed62826c55fa"
   },
   "outputs": [
    {
     "name": "stdout",
     "output_type": "stream",
     "text": [
      "apple\n",
      "apple\n",
      "banana\n",
      "orange\n",
      "orange\n",
      "pear\n"
     ]
    }
   ],
   "source": [
    "# 要以迴圈對序列作排序，使用 sorted() 函式會得到一個新的經排序過的 list ，但不會改變原本的序列\n",
    "basket = ['apple', 'orange', 'apple', 'pear', 'orange', 'banana']\n",
    "for i in sorted(basket):\n",
    "    print(i)    "
   ]
  },
  {
   "cell_type": "code",
   "execution_count": null,
   "metadata": {
    "id": "48P-XOr9DHla",
    "outputId": "fb5f4502-2a83-4236-be32-095ec1635a12"
   },
   "outputs": [
    {
     "name": "stdout",
     "output_type": "stream",
     "text": [
      "apple\n",
      "banana\n",
      "orange\n",
      "pear\n"
     ]
    }
   ],
   "source": [
    "# 對一個序列使用set()將去除重複的元素。對一個序列使用sorted()加set()則是按排序後順序循環遍歷序列中唯一元素的一種慣用方式。\n",
    "basket = ['apple', 'orange', 'apple', 'pear', 'orange', 'banana']\n",
    "for f in sorted(set(basket)):\n",
    "    print(f)"
   ]
  },
  {
   "cell_type": "code",
   "execution_count": null,
   "metadata": {
    "id": "_r-Fw8EUDHld",
    "outputId": "3ab2dcbb-9cf2-4f98-aa47-3ce30535e5a5"
   },
   "outputs": [
    {
     "name": "stdout",
     "output_type": "stream",
     "text": [
      "[-24, -4, -23, 9, 21, 20, 13, -5, -8, 11]\n",
      "[-24, -4, -23, 9, 21, 20, 13, -5, -8, 11]\n"
     ]
    }
   ],
   "source": [
    "# 將數列的值進行絕對值計算\n",
    "import random\n",
    "x = random.sample(range(-30, 30),10)\n",
    "print(x)\n",
    "for v in x:\n",
    "    if v < 0:\n",
    "        v = v*-1\n",
    "print(x)"
   ]
  },
  {
   "cell_type": "code",
   "execution_count": null,
   "metadata": {
    "id": "ClPvkOxFDHlg",
    "outputId": "ea2d3e8f-ffde-4768-da3a-675a80088df4"
   },
   "outputs": [
    {
     "name": "stdout",
     "output_type": "stream",
     "text": [
      "[-17, 5, 18, -18, -23, 4, -7, -22, -10, -8]\n",
      "[17, 5, 18, 18, 23, 4, 7, 22, 10, 8]\n"
     ]
    }
   ],
   "source": [
    "# 通常創建一個新的 list 會更簡單且安全：\n",
    "import random\n",
    "x = random.sample(range(-30, 30),10)\n",
    "y = []\n",
    "print(x)\n",
    "for v in x:\n",
    "    if v < 0:\n",
    "        y.append(v*-1)\n",
    "    else:\n",
    "        y.append(v)\n",
    "print(y)"
   ]
  },
  {
   "cell_type": "code",
   "execution_count": null,
   "metadata": {
    "id": "lIKkxTZgDHli",
    "outputId": "493e559d-5384-464c-acee-5a79f875ba0b"
   },
   "outputs": [
    {
     "name": "stdout",
     "output_type": "stream",
     "text": [
      "[17, -9, -16, 28, 5, 18, 20, -13, 12, -3]\n",
      "[17, 9, 16, 28, 5, 18, 20, 13, 12, 3]\n"
     ]
    }
   ],
   "source": [
    "# 還有另一種作法\n",
    "import random\n",
    "x = random.sample(range(-30, 30),10)\n",
    "print(x)\n",
    "for i, v in enumerate(x):\n",
    "    if v < 0:\n",
    "        x[i] = v*-1\n",
    "print(x)"
   ]
  },
  {
   "cell_type": "code",
   "execution_count": null,
   "metadata": {
    "id": "Fr-Kn17mDHll"
   },
   "outputs": [],
   "source": []
  },
  {
   "cell_type": "code",
   "execution_count": null,
   "metadata": {
    "id": "5hObnMPMDHln"
   },
   "outputs": [],
   "source": []
  }
 ],
 "metadata": {
  "colab": {
   "name": "05. 資料結構.ipynb",
   "provenance": []
  },
  "kernelspec": {
   "display_name": "Python 3",
   "language": "python",
   "name": "python3"
  },
  "language_info": {
   "codemirror_mode": {
    "name": "ipython",
    "version": 3
   },
   "file_extension": ".py",
   "mimetype": "text/x-python",
   "name": "python",
   "nbconvert_exporter": "python",
   "pygments_lexer": "ipython3",
   "version": "3.8.3"
  }
 },
 "nbformat": 4,
 "nbformat_minor": 1
}
