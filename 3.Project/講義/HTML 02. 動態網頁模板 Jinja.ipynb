{
 "cells": [
  {
   "cell_type": "markdown",
   "metadata": {},
   "source": [
    "pip install Jinja2"
   ]
  },
  {
   "cell_type": "code",
   "execution_count": 7,
   "metadata": {},
   "outputs": [],
   "source": [
    "from jinja2 import Template\n",
    "from jinja2 import Environment, PackageLoader, select_autoescape"
   ]
  },
  {
   "cell_type": "markdown",
   "metadata": {},
   "source": [
    "## 使用jinja2進行樣板解碼"
   ]
  },
  {
   "cell_type": "code",
   "execution_count": 4,
   "metadata": {},
   "outputs": [
    {
     "name": "stdout",
     "output_type": "stream",
     "text": [
      "Hello John Doe!\n"
     ]
    }
   ],
   "source": [
    "template = Template('Hello {{ name }}!')\n",
    "str = template.render(name='John Doe')\n",
    "print(str)"
   ]
  },
  {
   "cell_type": "code",
   "execution_count": 26,
   "metadata": {},
   "outputs": [
    {
     "name": "stdout",
     "output_type": "stream",
     "text": [
      "Hello John Doe!\n",
      "Today is 2020/12/23\n"
     ]
    }
   ],
   "source": [
    "template = Template('Hello {{ name }}!\\nToday is {{date}}')\n",
    "str = template.render(name='John Doe', date='2020/12/23')\n",
    "print(str)"
   ]
  },
  {
   "cell_type": "markdown",
   "metadata": {},
   "source": [
    "## 使用HTML檔案當成樣板"
   ]
  },
  {
   "cell_type": "code",
   "execution_count": 14,
   "metadata": {},
   "outputs": [
    {
     "name": "stdout",
     "output_type": "stream",
     "text": [
      "<!DOCTYPE html>\n",
      "<html>\n",
      "<head>\n",
      "<title>這裡是標題</title>\n",
      "</head>\n",
      "<body>\n",
      "\n",
      "<div>\n",
      "<h1>Matplotlib 圖形顯示</h1>\n",
      "</div>\n",
      "<div align='center'>\n",
      "<img src=\"output/image_01.jpg\" alt=\"Matplotlib的圖表\" width=\"80%\">\n",
      "</div>\n",
      "\n",
      "</body>\n",
      "</html>\n"
     ]
    }
   ],
   "source": [
    "file = open('HTML_01.html', 'r',encoding=\"utf-8\")\n",
    "template = Template(file.read())\n",
    "html = template.render()\n",
    "print(html)"
   ]
  },
  {
   "cell_type": "code",
   "execution_count": 21,
   "metadata": {},
   "outputs": [
    {
     "name": "stdout",
     "output_type": "stream",
     "text": [
      "<!DOCTYPE html>\n",
      "<html>\n",
      "<head>\n",
      "<title>這裡是標題</title>\n",
      "</head>\n",
      "<body>\n",
      "\n",
      "<div>\n",
      "<h1>Matplotlib 圖形顯示</h1>\n",
      "</div>\n",
      "<div align='center'>\n",
      "<img src=\"output/image_01.jpg\" alt=\"Matplotlib的圖表\" width=\"80%\">\n",
      "</div>\n",
      "\n",
      "</body>\n",
      "</html>\n"
     ]
    }
   ],
   "source": [
    "file = open('HTML_04.html', 'r',encoding=\"utf-8\")\n",
    "template = Template(file.read())\n",
    "html = template.render(image_name='output/image_01.jpg')\n",
    "print(html)\n",
    "\n",
    "file = open('HTML_04_render.html','w')\n",
    "file.write(html)\n",
    "file.close()"
   ]
  },
  {
   "cell_type": "markdown",
   "metadata": {},
   "source": [
    "## 動態產生網頁與圖形的範例"
   ]
  },
  {
   "cell_type": "code",
   "execution_count": 25,
   "metadata": {},
   "outputs": [
    {
     "name": "stdout",
     "output_type": "stream",
     "text": [
      "<!DOCTYPE html>\n",
      "<html>\n",
      "<head>\n",
      "<title>這裡是標題</title>\n",
      "</head>\n",
      "<body>\n",
      "\n",
      "<div>\n",
      "<h1>Matplotlib 圖形顯示</h1>\n",
      "</div>\n",
      "<div align='center'>\n",
      "<img src=\"output/image_1608693890.jpg\" alt=\"Matplotlib的圖表\" width=\"80%\">\n",
      "</div>\n",
      "\n",
      "</body>\n",
      "</html>\n",
      "image file name is output/image_1608693890.jpg\n",
      "HTML file name is HTML_04_render_1608693890.html\n"
     ]
    },
    {
     "data": {
      "image/png": "[encoded data removed]",
      "text/plain": [
       "<Figure size 432x288 with 1 Axes>"
      ]
     },
     "metadata": {
      "needs_background": "light"
     },
     "output_type": "display_data"
    }
   ],
   "source": [
    "import numpy as np\n",
    "import pandas as pd\n",
    "import matplotlib.pyplot as plt\n",
    "import seaborn as sns\n",
    "import time\n",
    "\n",
    "iris = pd.read_csv(\"Iris.csv\")\n",
    "plt.close()\n",
    "sns.kdeplot(data=iris, x=\"SepalLengthCm\", hue=\"Species\")\n",
    "image_name_01 = 'output/image_%d.jpg'%(time.time())\n",
    "plt.savefig(image_name_01, dpi=300)\n",
    "\n",
    "file = open('HTML_04.html', 'r',encoding=\"utf-8\")\n",
    "template = Template(file.read())\n",
    "html = template.render(image_name=image_name_01)\n",
    "print(html)\n",
    "\n",
    "html_name_01 = 'HTML_04_render_%d.html'%(time.time())\n",
    "file = open(html_name_01,'w')\n",
    "file.write(html)\n",
    "file.close()\n",
    "\n",
    "print('image file name is',image_name_01)\n",
    "print('HTML file name is',html_name_01)"
   ]
  },
  {
   "cell_type": "code",
   "execution_count": null,
   "metadata": {},
   "outputs": [],
   "source": []
  }
 ],
 "metadata": {
  "kernelspec": {
   "display_name": "Python 3",
   "language": "python",
   "name": "python3"
  },
  "language_info": {
   "codemirror_mode": {
    "name": "ipython",
    "version": 3
   },
   "file_extension": ".py",
   "mimetype": "text/x-python",
   "name": "python",
   "nbconvert_exporter": "python",
   "pygments_lexer": "ipython3",
   "version": "3.8.5"
  }
 },
 "nbformat": 4,
 "nbformat_minor": 4
}
