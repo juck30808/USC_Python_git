{
 "cells": [
  {
   "cell_type": "markdown",
   "metadata": {
    "id": "u7zpRA_bDkiE"
   },
   "source": [
    "## 檔案的讀寫"
   ]
  },
  {
   "cell_type": "code",
   "execution_count": 5,
   "metadata": {
    "id": "je9yIdedDkiG",
    "outputId": "53100798-9147-4287-fb6d-a9cf872063c0"
   },
   "outputs": [
    {
     "name": "stdout",
     "output_type": "stream",
     "text": [
      "Id,SepalLengthCm,SepalWidthCm,PetalLengthCm,PetalWidthCm,Species\n",
      "1,5.1,3.5,1.4,0.2,Iris-setosa\n",
      "2,4.9,3.0,1.4,0.2,Iris-setosa\n",
      "3,4.7,3.2,1.3,0.2,Iris-setosa\n",
      "4,4.6,3.1,1.5,0.2,Iris-setosa\n",
      "5,5.0,3.6,1.4,0.2,Iris-setosa\n",
      "6,5.4,3.9,1.7,0.4,Iris-setosa\n",
      "7,4.6,3.4,1.4,0.3,Iris-setosa\n",
      "8,5.0,3.4,1.5,0.2,Iris-setosa\n",
      "9,4.4,2.9,1.4,0.2,Iris-setosa\n",
      "10,4.9,3.1,1.5,0.1,Iris-setosa\n",
      "11,5.4,3.7,1.5,0.2,Iris-setosa\n",
      "12,4.8,3.4,1.6,0.2,Iris-setosa\n",
      "13,4.8,3.0,1.4,0.1,Iris-setosa\n",
      "14,4.3,3.0,1.1,0.1,Iris-setosa\n",
      "15,5.8,4.0,1.2,0.2,Iris-setosa\n",
      "16,5.7,4.4,1.5,0.4,Iris-setosa\n",
      "17,5.4,3.9,1.3,0.4,Iris-setosa\n",
      "18,5.1,3.5,1.4,0.3,Iris-setosa\n",
      "19,5.7,3.8,1.7,0.3,Iris-setosa\n",
      "20,5.1,3.8,1.5,0.3,Iris-setosa\n",
      "21,5.4,3.4,1.7,0.2,Iris-setosa\n",
      "22,5.1,3.7,1.5,0.4,Iris-setosa\n",
      "23,4.6,3.6,1.0,0.2,Iris-setosa\n",
      "24,5.1,3.3,1.7,0.5,Iris-setosa\n",
      "25,4.8,3.4,1.9,0.2,Iris-setosa\n",
      "26,5.0,3.0,1.6,0.2,Iris-setosa\n",
      "27,5.0,3.4,1.6,0.4,Iris-setosa\n",
      "28,5.2,3.5,1.5,0.2,Iris-setosa\n",
      "29,5.2,3.4,1.4,0.2,Iris-setosa\n",
      "30,4.7,3.2,1.6,0.2,Iris-setosa\n",
      "31,4.8,3.1,1.6,0.2,Iris-setosa\n",
      "32,5.4,3.4,1.5,0.4,Iris-setosa\n",
      "33,5.2,4.1,1.5,0.1,Iris-setosa\n",
      "34,5.5,4.2,1.4,0.2,Iris-setosa\n",
      "35,4.9,3.1,1.5,0.1,Iris-setosa\n",
      "36,5.0,3.2,1.2,0.2,Iris-setosa\n",
      "37,5.5,3.5,1.3,0.2,Iris-setosa\n",
      "38,4.9,3.1,1.5,0.1,Iris-setosa\n",
      "39,4.4,3.0,1.3,0.2,Iris-setosa\n",
      "40,5.1,3.4,1.5,0.2,Iris-setosa\n",
      "41,5.0,3.5,1.3,0.3,Iris-setosa\n",
      "42,4.5,2.3,1.3,0.3,Iris-setosa\n",
      "43,4.4,3.2,1.3,0.2,Iris-setosa\n",
      "44,5.0,3.5,1.6,0.6,Iris-setosa\n",
      "45,5.1,3.8,1.9,0.4,Iris-setosa\n",
      "46,4.8,3.0,1.4,0.3,Iris-setosa\n",
      "47,5.1,3.8,1.6,0.2,Iris-setosa\n",
      "48,4.6,3.2,1.4,0.2,Iris-setosa\n",
      "49,5.3,3.7,1.5,0.2,Iris-setosa\n",
      "50,5.0,3.3,1.4,0.2,Iris-setosa\n",
      "51,7.0,3.2,4.7,1.4,Iris-versicolor\n",
      "52,6.4,3.2,4.5,1.5,Iris-versicolor\n",
      "53,6.9,3.1,4.9,1.5,Iris-versicolor\n",
      "54,5.5,2.3,4.0,1.3,Iris-versicolor\n",
      "55,6.5,2.8,4.6,1.5,Iris-versicolor\n",
      "56,5.7,2.8,4.5,1.3,Iris-versicolor\n",
      "57,6.3,3.3,4.7,1.6,Iris-versicolor\n",
      "58,4.9,2.4,3.3,1.0,Iris-versicolor\n",
      "59,6.6,2.9,4.6,1.3,Iris-versicolor\n",
      "60,5.2,2.7,3.9,1.4,Iris-versicolor\n",
      "61,5.0,2.0,3.5,1.0,Iris-versicolor\n",
      "62,5.9,3.0,4.2,1.5,Iris-versicolor\n",
      "63,6.0,2.2,4.0,1.0,Iris-versicolor\n",
      "64,6.1,2.9,4.7,1.4,Iris-versicolor\n",
      "65,5.6,2.9,3.6,1.3,Iris-versicolor\n",
      "66,6.7,3.1,4.4,1.4,Iris-versicolor\n",
      "67,5.6,3.0,4.5,1.5,Iris-versicolor\n",
      "68,5.8,2.7,4.1,1.0,Iris-versicolor\n",
      "69,6.2,2.2,4.5,1.5,Iris-versicolor\n",
      "70,5.6,2.5,3.9,1.1,Iris-versicolor\n",
      "71,5.9,3.2,4.8,1.8,Iris-versicolor\n",
      "72,6.1,2.8,4.0,1.3,Iris-versicolor\n",
      "73,6.3,2.5,4.9,1.5,Iris-versicolor\n",
      "74,6.1,2.8,4.7,1.2,Iris-versicolor\n",
      "75,6.4,2.9,4.3,1.3,Iris-versicolor\n",
      "76,6.6,3.0,4.4,1.4,Iris-versicolor\n",
      "77,6.8,2.8,4.8,1.4,Iris-versicolor\n",
      "78,6.7,3.0,5.0,1.7,Iris-versicolor\n",
      "79,6.0,2.9,4.5,1.5,Iris-versicolor\n",
      "80,5.7,2.6,3.5,1.0,Iris-versicolor\n",
      "81,5.5,2.4,3.8,1.1,Iris-versicolor\n",
      "82,5.5,2.4,3.7,1.0,Iris-versicolor\n",
      "83,5.8,2.7,3.9,1.2,Iris-versicolor\n",
      "84,6.0,2.7,5.1,1.6,Iris-versicolor\n",
      "85,5.4,3.0,4.5,1.5,Iris-versicolor\n",
      "86,6.0,3.4,4.5,1.6,Iris-versicolor\n",
      "87,6.7,3.1,4.7,1.5,Iris-versicolor\n",
      "88,6.3,2.3,4.4,1.3,Iris-versicolor\n",
      "89,5.6,3.0,4.1,1.3,Iris-versicolor\n",
      "90,5.5,2.5,4.0,1.3,Iris-versicolor\n",
      "91,5.5,2.6,4.4,1.2,Iris-versicolor\n",
      "92,6.1,3.0,4.6,1.4,Iris-versicolor\n",
      "93,5.8,2.6,4.0,1.2,Iris-versicolor\n",
      "94,5.0,2.3,3.3,1.0,Iris-versicolor\n",
      "95,5.6,2.7,4.2,1.3,Iris-versicolor\n",
      "96,5.7,3.0,4.2,1.2,Iris-versicolor\n",
      "97,5.7,2.9,4.2,1.3,Iris-versicolor\n",
      "98,6.2,2.9,4.3,1.3,Iris-versicolor\n",
      "99,5.1,2.5,3.0,1.1,Iris-versicolor\n",
      "100,5.7,2.8,4.1,1.3,Iris-versicolor\n",
      "101,6.3,3.3,6.0,2.5,Iris-virginica\n",
      "102,5.8,2.7,5.1,1.9,Iris-virginica\n",
      "103,7.1,3.0,5.9,2.1,Iris-virginica\n",
      "104,6.3,2.9,5.6,1.8,Iris-virginica\n",
      "105,6.5,3.0,5.8,2.2,Iris-virginica\n",
      "106,7.6,3.0,6.6,2.1,Iris-virginica\n",
      "107,4.9,2.5,4.5,1.7,Iris-virginica\n",
      "108,7.3,2.9,6.3,1.8,Iris-virginica\n",
      "109,6.7,2.5,5.8,1.8,Iris-virginica\n",
      "110,7.2,3.6,6.1,2.5,Iris-virginica\n",
      "111,6.5,3.2,5.1,2.0,Iris-virginica\n",
      "112,6.4,2.7,5.3,1.9,Iris-virginica\n",
      "113,6.8,3.0,5.5,2.1,Iris-virginica\n",
      "114,5.7,2.5,5.0,2.0,Iris-virginica\n",
      "115,5.8,2.8,5.1,2.4,Iris-virginica\n",
      "116,6.4,3.2,5.3,2.3,Iris-virginica\n",
      "117,6.5,3.0,5.5,1.8,Iris-virginica\n",
      "118,7.7,3.8,6.7,2.2,Iris-virginica\n",
      "119,7.7,2.6,6.9,2.3,Iris-virginica\n",
      "120,6.0,2.2,5.0,1.5,Iris-virginica\n",
      "121,6.9,3.2,5.7,2.3,Iris-virginica\n",
      "122,5.6,2.8,4.9,2.0,Iris-virginica\n",
      "123,7.7,2.8,6.7,2.0,Iris-virginica\n",
      "124,6.3,2.7,4.9,1.8,Iris-virginica\n",
      "125,6.7,3.3,5.7,2.1,Iris-virginica\n",
      "126,7.2,3.2,6.0,1.8,Iris-virginica\n",
      "127,6.2,2.8,4.8,1.8,Iris-virginica\n",
      "128,6.1,3.0,4.9,1.8,Iris-virginica\n",
      "129,6.4,2.8,5.6,2.1,Iris-virginica\n",
      "130,7.2,3.0,5.8,1.6,Iris-virginica\n",
      "131,7.4,2.8,6.1,1.9,Iris-virginica\n",
      "132,7.9,3.8,6.4,2.0,Iris-virginica\n",
      "133,6.4,2.8,5.6,2.2,Iris-virginica\n",
      "134,6.3,2.8,5.1,1.5,Iris-virginica\n",
      "135,6.1,2.6,5.6,1.4,Iris-virginica\n",
      "136,7.7,3.0,6.1,2.3,Iris-virginica\n",
      "137,6.3,3.4,5.6,2.4,Iris-virginica\n",
      "138,6.4,3.1,5.5,1.8,Iris-virginica\n",
      "139,6.0,3.0,4.8,1.8,Iris-virginica\n",
      "140,6.9,3.1,5.4,2.1,Iris-virginica\n",
      "141,6.7,3.1,5.6,2.4,Iris-virginica\n",
      "142,6.9,3.1,5.1,2.3,Iris-virginica\n",
      "143,5.8,2.7,5.1,1.9,Iris-virginica\n",
      "144,6.8,3.2,5.9,2.3,Iris-virginica\n",
      "145,6.7,3.3,5.7,2.5,Iris-virginica\n",
      "146,6.7,3.0,5.2,2.3,Iris-virginica\n",
      "147,6.3,2.5,5.0,1.9,Iris-virginica\n",
      "148,6.5,3.0,5.2,2.0,Iris-virginica\n",
      "149,6.2,3.4,5.4,2.3,Iris-virginica\n",
      "150,5.9,3.0,5.1,1.8,Iris-virginica\n",
      "\n"
     ]
    }
   ],
   "source": [
    "# 開檔與讀檔\n",
    "#f = open('data/test/myfile.txt', 'r')\n",
    "f = open('data/Iris.csv', 'r') \n",
    "read_data = f.read()\n",
    "print(read_data)\n",
    "f.close()"
   ]
  },
  {
   "cell_type": "code",
   "execution_count": 11,
   "metadata": {
    "id": "WkqpoqGPDkiL",
    "outputId": "43840b91-4bcf-4fe8-e896-2119ccf59dce"
   },
   "outputs": [
    {
     "name": "stdout",
     "output_type": "stream",
     "text": [
      "3,4.7,3.2,1.3,0.2,Iris-setosa\n",
      "\n"
     ]
    }
   ],
   "source": [
    "# 開檔與讀檔\n",
    "f = open('data/Iris.csv', 'r')\n",
    "data = []\n",
    "count = 1\n",
    "\n",
    "#while True: #我不知道他有多少行\n",
    "#    line_data = f.readline()\n",
    "#    if len(line_data) == 0:  #若是這種寫法，當有空格行也會break\n",
    "#        break\n",
    "#    print(f'Line_{count}: {line_data}')\n",
    "#    count = count+1\n",
    "    \n",
    "while True: #我不知道他有多少行\n",
    "    line_data = f.readline()\n",
    "    if len(line_data) == 0:  #若是這種寫法，當有空格行也會break\n",
    "        break\n",
    "    data.append(line_data)\n",
    "print(data[3])\n",
    "f.close()"
   ]
  },
  {
   "cell_type": "code",
   "execution_count": null,
   "metadata": {
    "id": "bUCiTH1zDkiP",
    "outputId": "2a068b5a-4046-48d9-cc88-5f6731f4a78e"
   },
   "outputs": [
    {
     "name": "stdout",
     "output_type": "stream",
     "text": [
      "['這是一個測試用的文字檔\\n', '用來測試檔案系統使用\\n', 'EDF\\n', 'QWE']\n"
     ]
    }
   ],
   "source": [
    "# 開檔與讀檔\n",
    "f = open('data/test/myfile.txt', 'r')\n",
    "lines_data = f.readlines()\n",
    "print(lines_data)\n",
    "f.close()"
   ]
  },
  {
   "cell_type": "code",
   "execution_count": null,
   "metadata": {
    "id": "RapmyAhGDkiT"
   },
   "outputs": [],
   "source": [
    "# 存檔\n",
    "data = '這是一個測試用的文字檔\\n用來測試檔案系統使用\\nEDF\\nQWE'\n",
    "f = open('data/test/saveTest.txt', 'w')\n",
    "f.write(data)\n",
    "f.close()"
   ]
  },
  {
   "cell_type": "code",
   "execution_count": null,
   "metadata": {
    "id": "Z2rl_QKYDkiX"
   },
   "outputs": [],
   "source": [
    "# 多次存檔\n",
    "data = ['這是一個測試用的文字檔\\n', '用來測試檔案系統使用\\n', 'EDF\\n', 'QWE']\n",
    "f = open('data/test/saveTest2.txt', 'w')\n",
    "for n in data:\n",
    "    f.write(n)\n",
    "f.close()"
   ]
  },
  {
   "cell_type": "code",
   "execution_count": null,
   "metadata": {
    "id": "OmiLoB5GDkib"
   },
   "outputs": [],
   "source": [
    "# 新增在檔案後面存檔\n",
    "data = '這是一個測試用的文字檔\\n用來測試檔案系統使用\\nEDF\\nQWE'\n",
    "f = open('data/test/saveTest.txt', 'a')\n",
    "f.write(data)\n",
    "f.close()"
   ]
  },
  {
   "cell_type": "code",
   "execution_count": null,
   "metadata": {
    "id": "TdE2VmYaDkif",
    "outputId": "2e5a412d-757e-4e40-fcec-fb4a15cca08a"
   },
   "outputs": [
    {
     "ename": "FileNotFoundError",
     "evalue": "[Errno 2] No such file or directory: '一個不存在的檔案.txt'",
     "output_type": "error",
     "traceback": [
      "\u001b[1;31m---------------------------------------------------------------------------\u001b[0m",
      "\u001b[1;31mFileNotFoundError\u001b[0m                         Traceback (most recent call last)",
      "\u001b[1;32m<ipython-input-17-baa6a2b7a580>\u001b[0m in \u001b[0;36m<module>\u001b[1;34m\u001b[0m\n\u001b[0;32m      1\u001b[0m \u001b[1;31m# 如果檔案不存在時會產生錯誤\u001b[0m\u001b[1;33m\u001b[0m\u001b[1;33m\u001b[0m\u001b[1;33m\u001b[0m\u001b[0m\n\u001b[1;32m----> 2\u001b[1;33m \u001b[0mf\u001b[0m \u001b[1;33m=\u001b[0m \u001b[0mopen\u001b[0m\u001b[1;33m(\u001b[0m\u001b[1;34m'一個不存在的檔案.txt'\u001b[0m\u001b[1;33m,\u001b[0m \u001b[1;34m'r'\u001b[0m\u001b[1;33m)\u001b[0m\u001b[1;33m\u001b[0m\u001b[1;33m\u001b[0m\u001b[0m\n\u001b[0m\u001b[0;32m      3\u001b[0m \u001b[0mread_data\u001b[0m \u001b[1;33m=\u001b[0m \u001b[0mf\u001b[0m\u001b[1;33m.\u001b[0m\u001b[0mread\u001b[0m\u001b[1;33m(\u001b[0m\u001b[1;33m)\u001b[0m\u001b[1;33m\u001b[0m\u001b[1;33m\u001b[0m\u001b[0m\n\u001b[0;32m      4\u001b[0m \u001b[0mprint\u001b[0m\u001b[1;33m(\u001b[0m\u001b[0mread_data\u001b[0m\u001b[1;33m)\u001b[0m\u001b[1;33m\u001b[0m\u001b[1;33m\u001b[0m\u001b[0m\n\u001b[0;32m      5\u001b[0m \u001b[0mf\u001b[0m\u001b[1;33m.\u001b[0m\u001b[0mclose\u001b[0m\u001b[1;33m(\u001b[0m\u001b[1;33m)\u001b[0m\u001b[1;33m\u001b[0m\u001b[1;33m\u001b[0m\u001b[0m\n",
      "\u001b[1;31mFileNotFoundError\u001b[0m: [Errno 2] No such file or directory: '一個不存在的檔案.txt'"
     ]
    }
   ],
   "source": [
    "# 如果檔案不存在時會產生錯誤\n",
    "f = open('一個不存在的檔案.txt', 'r')\n",
    "read_data = f.read()\n",
    "print(read_data)\n",
    "f.close()"
   ]
  },
  {
   "cell_type": "code",
   "execution_count": null,
   "metadata": {
    "id": "-j7fcYGCDkik",
    "outputId": "4feb9d87-c81c-40b0-a989-de16e87a72c6"
   },
   "outputs": [
    {
     "name": "stdout",
     "output_type": "stream",
     "text": [
      "找不到檔案\n"
     ]
    }
   ],
   "source": [
    "# 必須使用try except來預防\n",
    "try:\n",
    "    f = open('一個不存在的檔案.txt', 'r')\n",
    "    read_data = f.read()\n",
    "    print(read_data)\n",
    "    f.close()\n",
    "except FileNotFoundError:\n",
    "    print('找不到檔案')\n"
   ]
  },
  {
   "cell_type": "markdown",
   "metadata": {
    "id": "43OwlT7kDkin"
   },
   "source": [
    "## 習題作業"
   ]
  },
  {
   "cell_type": "code",
   "execution_count": null,
   "metadata": {
    "id": "Jv7nOqvpDkio"
   },
   "outputs": [],
   "source": [
    "# 請讀取 data/Iris.csv \n",
    "# 並計算 SepalLengthCm,SepalWidthCm,PetalLengthCm,PetalWidthCm 這四個欄位的平均值\n",
    "# 然後將答案儲存到 data/IrisMean.txt 中"
   ]
  },
  {
   "cell_type": "markdown",
   "metadata": {
    "id": "ODAs-Q_JDkis"
   },
   "source": [
    "## 檔案系統的操作"
   ]
  },
  {
   "cell_type": "code",
   "execution_count": null,
   "metadata": {
    "id": "wcswzxKADkit",
    "outputId": "85a7557f-bdb9-4794-9414-bf074976c8b6"
   },
   "outputs": [
    {
     "data": {
      "text/plain": [
       "True"
      ]
     },
     "execution_count": 9,
     "metadata": {
      "tags": []
     },
     "output_type": "execute_result"
    }
   ],
   "source": [
    "# 檢查檔案是否存在\n",
    "import os\n",
    "os.path.exists('data/test/myfile.txt')"
   ]
  },
  {
   "cell_type": "code",
   "execution_count": null,
   "metadata": {
    "id": "Pl0iiPb5Dkiw",
    "outputId": "a36cbc46-2756-4467-c567-ccb1b8a7595c"
   },
   "outputs": [
    {
     "data": {
      "text/plain": [
       "True"
      ]
     },
     "execution_count": 12,
     "metadata": {
      "tags": []
     },
     "output_type": "execute_result"
    }
   ],
   "source": [
    "# 是否為檔案\n",
    "os.path.isfile('data/test/myfile.txt')"
   ]
  },
  {
   "cell_type": "code",
   "execution_count": null,
   "metadata": {
    "id": "H7viNeP2Dki7",
    "outputId": "3b2fc371-3381-41bd-8ba2-f7db2a855ebc"
   },
   "outputs": [
    {
     "data": {
      "text/plain": [
       "False"
      ]
     },
     "execution_count": 14,
     "metadata": {
      "tags": []
     },
     "output_type": "execute_result"
    }
   ],
   "source": [
    "# 是否為路徑\n",
    "os.path.isdir('data/test/myfile.txt')"
   ]
  },
  {
   "cell_type": "code",
   "execution_count": null,
   "metadata": {
    "id": "31rH7GJwDki_",
    "outputId": "6d2cdb1c-1502-4716-915e-e0b4690d314f"
   },
   "outputs": [
    {
     "data": {
      "text/plain": [
       "False"
      ]
     },
     "execution_count": 16,
     "metadata": {
      "tags": []
     },
     "output_type": "execute_result"
    }
   ],
   "source": [
    "# 當檔案或路徑不存在時\n",
    "os.path.isdir('一個不存在的檔案.txt')"
   ]
  },
  {
   "cell_type": "code",
   "execution_count": null,
   "metadata": {
    "id": "OC84KzrADkjC",
    "outputId": "384e1902-8f40-4dc7-80a7-f929b67b7b8f"
   },
   "outputs": [
    {
     "name": "stdout",
     "output_type": "stream",
     "text": [
      "檔案已存在。\n"
     ]
    }
   ],
   "source": [
    "# 建立目錄\n",
    "try:\n",
    "    os.makedirs('data/test/TEST_DIR2')\n",
    "    print(\"已經建立。\")\n",
    "except FileExistsError:\n",
    "    print(\"檔案已存在。\")"
   ]
  },
  {
   "cell_type": "code",
   "execution_count": null,
   "metadata": {
    "id": "bk7-4abuDkjG",
    "outputId": "a7a2ef34-e45d-453a-e97f-9248736d5b8d"
   },
   "outputs": [
    {
     "name": "stdout",
     "output_type": "stream",
     "text": [
      "data\n",
      "['test']\n",
      "['data_01.txt']\n",
      "=============\n",
      "data\\test\n",
      "['TEST_DIR', 'TEST_DIR2']\n",
      "['myfile.txt', 'saveTest.txt', 'saveTest2.txt']\n",
      "=============\n",
      "data\\test\\TEST_DIR\n",
      "[]\n",
      "['1.txt', '2.txt', '3.txt']\n",
      "=============\n",
      "data\\test\\TEST_DIR2\n",
      "[]\n",
      "[]\n",
      "=============\n"
     ]
    }
   ],
   "source": [
    "# 列出所有子目錄與檔案\n",
    "for root, dirs, files in os.walk('data'):\n",
    "    print(root)\n",
    "    print(dirs)\n",
    "    print(files)\n",
    "    print('=============')"
   ]
  },
  {
   "cell_type": "code",
   "execution_count": null,
   "metadata": {
    "id": "GtPcHP9VDkjK",
    "outputId": "d1e9affb-2676-4946-92fe-34876db01f6b"
   },
   "outputs": [
    {
     "data": {
      "text/plain": [
       "'data/test/TEST_DIR2\\\\1.txt'"
      ]
     },
     "execution_count": 39,
     "metadata": {
      "tags": []
     },
     "output_type": "execute_result"
    }
   ],
   "source": [
    "# 搬移檔案\n",
    "import shutil\n",
    "shutil.move('data/test/TEST_DIR/1.txt', 'data/test/TEST_DIR2')"
   ]
  },
  {
   "cell_type": "code",
   "execution_count": null,
   "metadata": {
    "id": "8q_TJMZFDkjN",
    "outputId": "97df9948-8688-4fab-aa8f-be3ba5e882c1"
   },
   "outputs": [
    {
     "data": {
      "text/plain": [
       "'data/test/TEST_DIR2\\\\TEST_DIR'"
      ]
     },
     "execution_count": 40,
     "metadata": {
      "tags": []
     },
     "output_type": "execute_result"
    }
   ],
   "source": [
    "# 搬移目錄\n",
    "import shutil\n",
    "shutil.move('data/test/TEST_DIR', 'data/test/TEST_DIR2')"
   ]
  },
  {
   "cell_type": "code",
   "execution_count": null,
   "metadata": {
    "id": "lTltjifKDkjS"
   },
   "outputs": [],
   "source": []
  }
 ],
 "metadata": {
  "colab": {
   "name": "08. 檔案系統.ipynb",
   "provenance": []
  },
  "kernelspec": {
   "display_name": "Python 3",
   "language": "python",
   "name": "python3"
  },
  "language_info": {
   "codemirror_mode": {
    "name": "ipython",
    "version": 3
   },
   "file_extension": ".py",
   "mimetype": "text/x-python",
   "name": "python",
   "nbconvert_exporter": "python",
   "pygments_lexer": "ipython3",
   "version": "3.8.3"
  }
 },
 "nbformat": 4,
 "nbformat_minor": 1
}
