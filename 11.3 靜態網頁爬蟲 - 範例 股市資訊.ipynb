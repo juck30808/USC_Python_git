{
 "cells": [
  {
   "cell_type": "markdown",
   "metadata": {},
   "source": [
    "# 台灣股市資訊網\n",
    "https://goodinfo.tw/StockInfo/StockDetail.asp?STOCK_ID=2002"
   ]
  },
  {
   "cell_type": "code",
   "execution_count": 2,
   "metadata": {},
   "outputs": [
    {
     "data": {
      "text/plain": [
       "<table border=\"0\" cellpadding=\"0\" cellspacing=\"0\" class=\"solid_1_padding_3_1_tbl\" style=\"width:100%;font-size:11pt;\"> <tr><td class=\"head_td\" colspan=\"8\"><table class=\"none_tbl\" style=\"width:100%\"><tr align=\"left\" height=\"35px\" valign=\"bottom\"><td style=\"padding:0 2px 5px 20px;width:10px;\"><nobr><a class=\"link_blue\" href=\"StockDetail.asp?STOCK_ID=2002\" style=\"font-size:14pt;font-weight:bold;\">2002 中鋼</a></nobr></td><td style=\"padding:0 0 5px 10px;width:10px;\"><nobr style=\"cursor:default;font-size:9pt;color:red;background-color:yellow;\">期貨標的</nobr></td><td style=\"padding:0 0 5px 10px;width:10px;\"><nobr style=\"cursor:default;font-size:9pt;color:red;background-color:yellow;\">選擇權標的</nobr></td><td style=\"padding:0 0 5px 10px;width:10px;\"><nobr style=\"cursor:default;font-size:9pt;color:red;background-color:yellow;\">權證標的</nobr></td><td style=\"padding:0 18px 5px 0;text-align:right;\"><nobr style=\"font-size:9pt;color:gray;\">資料日期: 11/06</nobr></td></tr></table></td></tr> <tr align=\"center\" bgcolor=\"#ebf3fa\" height=\"32px\" valign=\"middle\"> <td width=\"13%\"><nobr>成交價</nobr></td> <td width=\"13%\"><nobr>昨收</nobr></td> <td width=\"13%\"><nobr>漲跌價</nobr></td> <td width=\"13%\"><nobr>漲跌幅</nobr></td> <td width=\"13%\"><nobr>振幅</nobr></td> <td width=\"10%\"><nobr>開盤</nobr></td> <td width=\"10%\"><nobr>最高</nobr></td> <td width=\"10%\"><nobr>最低</nobr></td> </tr> <tr align=\"center\" bgcolor=\"white\" height=\"32px\"> <td style=\"font-weight:bold;color:black\">20.7</td> <td>20.7</td> <td style=\"color:black\">0</td> <td style=\"color:black\">0%</td> <td>0.72%</td> <td style=\"color:black\">20.7</td> <td style=\"color:black\">20.7</td> <td style=\"color:green\">20.55</td> </tr> <tr align=\"center\" bgcolor=\"#ebf3fa\" height=\"32px\" valign=\"middle\"> <td><nobr>成交張數</nobr></td> <td><nobr>成交金額</nobr></td> <td><nobr>成交筆數</nobr></td> <td><nobr>成交均張</nobr></td> <td><nobr>成交均價</nobr></td> <td title=\"PBR=成交價/最近一季BPS\"><nobr>PBR</nobr></td> <td title=\"PER=成交價/近四季合計EPS\"><nobr>PER</nobr></td> <td title=\"PEG=PER/近四季合計稅後淨利年成長率\"><nobr>PEG</nobr></td> </tr> <tr align=\"center\" bgcolor=\"white\" height=\"32px\"> <td>9,949</td><td><nobr>2.05 億</nobr></td> <td>2,796</td> <td><nobr>3.6 張/筆</nobr></td> <td><nobr>20.64 元</nobr></td> <td title=\"PBR=成交價/最近一季BPS\">1.11</td> <td title=\"PER=成交價/近四季合計EPS\">N/A</td> <td style=\"color:black\" title=\"PEG=PER/近四季合計稅後淨利年成長率\">N/A</td> </tr> <tr align=\"center\" bgcolor=\"#ebf3fa\" height=\"32px\" valign=\"middle\"> <td><nobr>昨日張數</nobr></td> <td><nobr>昨日金額</nobr></td> <td><nobr>昨日筆數</nobr></td> <td><nobr>昨日均張</nobr></td> <td><nobr>昨日均價</nobr></td> <td colspan=\"3\"><nobr>昨漲跌價 (幅)</nobr></td> </tr> <tr align=\"center\" bgcolor=\"white\" height=\"32px\"> <td>9,896</td><td><nobr>2.04 億</nobr></td> <td>3,463</td> <td><nobr>2.9 張/筆</nobr></td> <td><nobr>20.66 元</nobr></td> <td colspan=\"3\" style=\"color:red\"><nobr>+0.05 (+0.24%)</nobr></td></tr> <tr align=\"left\" bgcolor=\"#d7e6f4\" height=\"38px\" style=\"font-size:10pt\" valign=\"top\"> <td class=\"head_td\" colspan=\"8\"><p style=\"margin:3px 0 3px 6px;line-height:18px;\"><nobr>連漲連跌: <font style=\"color:black\">連4漲→平盤  ( 0元 / 0%)</font>        <br/>財報評分: <a class=\"link_green\" href=\"StockFinGrade.asp?STOCK_ID=2002&amp;RPT_CAT=M_YEAR\" target=\"_self\" title=\"最近一個財報年度的評分\">最新36分</a> / <span style=\"color:black\" title=\"歷年各年度財報的平均分數\">平均41分</span>        <span style=\"color:blue\"><a class=\"link_blue\" href=\"StockIdxDetail.asp?STOCK_ID=%E5%8A%A0%E6%AC%8A%E6%8C%87%E6%95%B8\" target=\"_self\">上市指數</a>: </span><span style=\"color:red\">12973.53 (54.73 / +0.42%)</span></nobr></p></td></tr></table>"
      ]
     },
     "execution_count": 2,
     "metadata": {},
     "output_type": "execute_result"
    }
   ],
   "source": [
    "from bs4 import BeautifulSoup\n",
    "from urllib.parse import unquote\n",
    "import urllib\n",
    "import urllib.request\n",
    "import os\n",
    "import string\n",
    "\n",
    "url = 'https://goodinfo.tw/StockInfo/StockDetail.asp?STOCK_ID=2002'\n",
    "headers = {'User-Agent':'Mozilla/5.0 (Windows NT 6.1; WOW64; rv:23.0) Gecko/20100101 Firefox/23.0'}\n",
    "req = urllib.request.Request(url= urllib.parse.quote(url, safe=string.printable), headers=headers)\n",
    "html_doc = urllib.request.urlopen(req).read()\n",
    "soup = BeautifulSoup(html_doc, 'html.parser')\n",
    "main_tag = soup.find('table',class_='solid_1_padding_3_1_tbl')\n",
    "main_tag"
   ]
  },
  {
   "cell_type": "code",
   "execution_count": 4,
   "metadata": {},
   "outputs": [
    {
     "data": {
      "text/plain": [
       "[<td class=\"head_td\" colspan=\"8\"><table class=\"none_tbl\" style=\"width:100%\"><tr align=\"left\" height=\"35px\" valign=\"bottom\"><td style=\"padding:0 2px 5px 20px;width:10px;\"><nobr><a class=\"link_blue\" href=\"StockDetail.asp?STOCK_ID=2002\" style=\"font-size:14pt;font-weight:bold;\">2002 中鋼</a></nobr></td><td style=\"padding:0 0 5px 10px;width:10px;\"><nobr style=\"cursor:default;font-size:9pt;color:red;background-color:yellow;\">期貨標的</nobr></td><td style=\"padding:0 0 5px 10px;width:10px;\"><nobr style=\"cursor:default;font-size:9pt;color:red;background-color:yellow;\">選擇權標的</nobr></td><td style=\"padding:0 0 5px 10px;width:10px;\"><nobr style=\"cursor:default;font-size:9pt;color:red;background-color:yellow;\">權證標的</nobr></td><td style=\"padding:0 18px 5px 0;text-align:right;\"><nobr style=\"font-size:9pt;color:gray;\">資料日期: 11/06</nobr></td></tr></table></td>,\n",
       " <td style=\"padding:0 2px 5px 20px;width:10px;\"><nobr><a class=\"link_blue\" href=\"StockDetail.asp?STOCK_ID=2002\" style=\"font-size:14pt;font-weight:bold;\">2002 中鋼</a></nobr></td>,\n",
       " <td style=\"padding:0 0 5px 10px;width:10px;\"><nobr style=\"cursor:default;font-size:9pt;color:red;background-color:yellow;\">期貨標的</nobr></td>,\n",
       " <td style=\"padding:0 0 5px 10px;width:10px;\"><nobr style=\"cursor:default;font-size:9pt;color:red;background-color:yellow;\">選擇權標的</nobr></td>,\n",
       " <td style=\"padding:0 0 5px 10px;width:10px;\"><nobr style=\"cursor:default;font-size:9pt;color:red;background-color:yellow;\">權證標的</nobr></td>,\n",
       " <td style=\"padding:0 18px 5px 0;text-align:right;\"><nobr style=\"font-size:9pt;color:gray;\">資料日期: 11/06</nobr></td>,\n",
       " <td width=\"13%\"><nobr>成交價</nobr></td>,\n",
       " <td width=\"13%\"><nobr>昨收</nobr></td>,\n",
       " <td width=\"13%\"><nobr>漲跌價</nobr></td>,\n",
       " <td width=\"13%\"><nobr>漲跌幅</nobr></td>,\n",
       " <td width=\"13%\"><nobr>振幅</nobr></td>,\n",
       " <td width=\"10%\"><nobr>開盤</nobr></td>,\n",
       " <td width=\"10%\"><nobr>最高</nobr></td>,\n",
       " <td width=\"10%\"><nobr>最低</nobr></td>,\n",
       " <td style=\"font-weight:bold;color:black\">20.7</td>,\n",
       " <td>20.7</td>,\n",
       " <td style=\"color:black\">0</td>,\n",
       " <td style=\"color:black\">0%</td>,\n",
       " <td>0.72%</td>,\n",
       " <td style=\"color:black\">20.7</td>,\n",
       " <td style=\"color:black\">20.7</td>,\n",
       " <td style=\"color:green\">20.55</td>,\n",
       " <td><nobr>成交張數</nobr></td>,\n",
       " <td><nobr>成交金額</nobr></td>,\n",
       " <td><nobr>成交筆數</nobr></td>,\n",
       " <td><nobr>成交均張</nobr></td>,\n",
       " <td><nobr>成交均價</nobr></td>,\n",
       " <td title=\"PBR=成交價/最近一季BPS\"><nobr>PBR</nobr></td>,\n",
       " <td title=\"PER=成交價/近四季合計EPS\"><nobr>PER</nobr></td>,\n",
       " <td title=\"PEG=PER/近四季合計稅後淨利年成長率\"><nobr>PEG</nobr></td>,\n",
       " <td>9,949</td>,\n",
       " <td><nobr>2.05 億</nobr></td>,\n",
       " <td>2,796</td>,\n",
       " <td><nobr>3.6 張/筆</nobr></td>,\n",
       " <td><nobr>20.64 元</nobr></td>,\n",
       " <td title=\"PBR=成交價/最近一季BPS\">1.11</td>,\n",
       " <td title=\"PER=成交價/近四季合計EPS\">N/A</td>,\n",
       " <td style=\"color:black\" title=\"PEG=PER/近四季合計稅後淨利年成長率\">N/A</td>,\n",
       " <td><nobr>昨日張數</nobr></td>,\n",
       " <td><nobr>昨日金額</nobr></td>,\n",
       " <td><nobr>昨日筆數</nobr></td>,\n",
       " <td><nobr>昨日均張</nobr></td>,\n",
       " <td><nobr>昨日均價</nobr></td>,\n",
       " <td colspan=\"3\"><nobr>昨漲跌價 (幅)</nobr></td>,\n",
       " <td>9,896</td>,\n",
       " <td><nobr>2.04 億</nobr></td>,\n",
       " <td>3,463</td>,\n",
       " <td><nobr>2.9 張/筆</nobr></td>,\n",
       " <td><nobr>20.66 元</nobr></td>,\n",
       " <td colspan=\"3\" style=\"color:red\"><nobr>+0.05 (+0.24%)</nobr></td>,\n",
       " <td class=\"head_td\" colspan=\"8\"><p style=\"margin:3px 0 3px 6px;line-height:18px;\"><nobr>連漲連跌: <font style=\"color:black\">連4漲→平盤  ( 0元 / 0%)</font>        <br/>財報評分: <a class=\"link_green\" href=\"StockFinGrade.asp?STOCK_ID=2002&amp;RPT_CAT=M_YEAR\" target=\"_self\" title=\"最近一個財報年度的評分\">最新36分</a> / <span style=\"color:black\" title=\"歷年各年度財報的平均分數\">平均41分</span>        <span style=\"color:blue\"><a class=\"link_blue\" href=\"StockIdxDetail.asp?STOCK_ID=%E5%8A%A0%E6%AC%8A%E6%8C%87%E6%95%B8\" target=\"_self\">上市指數</a>: </span><span style=\"color:red\">12973.53 (54.73 / +0.42%)</span></nobr></p></td>]"
      ]
     },
     "execution_count": 4,
     "metadata": {},
     "output_type": "execute_result"
    }
   ],
   "source": [
    "td_tags = main_tag.find_all('td')\n",
    "td_tags"
   ]
  },
  {
   "cell_type": "code",
   "execution_count": 8,
   "metadata": {},
   "outputs": [
    {
     "name": "stdout",
     "output_type": "stream",
     "text": [
      "0 2002 中鋼期貨標的選擇權標的權證標的資料日期: 11/06\n",
      "1 2002 中鋼\n",
      "2 期貨標的\n",
      "3 選擇權標的\n",
      "4 權證標的\n",
      "5 資料日期: 11/06\n",
      "6 成交價\n",
      "7 昨收\n",
      "8 漲跌價\n",
      "9 漲跌幅\n",
      "10 振幅\n",
      "11 開盤\n",
      "12 最高\n",
      "13 最低\n",
      "14 20.7\n",
      "15 20.7\n",
      "16 0\n",
      "17 0%\n",
      "18 0.72%\n",
      "19 20.7\n",
      "20 20.7\n",
      "21 20.55\n",
      "22 成交張數\n",
      "23 成交金額\n",
      "24 成交筆數\n",
      "25 成交均張\n",
      "26 成交均價\n",
      "27 PBR\n",
      "28 PER\n",
      "29 PEG\n",
      "30 9,949\n",
      "31 2.05 億\n",
      "32 2,796\n",
      "33 3.6 張/筆\n",
      "34 20.64 元\n",
      "35 1.11\n",
      "36 N/A\n",
      "37 N/A\n",
      "38 昨日張數\n",
      "39 昨日金額\n",
      "40 昨日筆數\n",
      "41 昨日均張\n",
      "42 昨日均價\n",
      "43 昨漲跌價 (幅)\n",
      "44 9,896\n",
      "45 2.04 億\n",
      "46 3,463\n",
      "47 2.9 張/筆\n",
      "48 20.66 元\n",
      "49 +0.05 (+0.24%)\n",
      "50 連漲連跌: 連4漲→平盤  ( 0元 / 0%)        財報評分: 最新36分 / 平均41分        上市指數: 12973.53 (54.73 / +0.42%)\n"
     ]
    }
   ],
   "source": [
    "for i in range (0, len(td_tags)):\n",
    "    print(i, td_tags[i].getText())"
   ]
  },
  {
   "cell_type": "code",
   "execution_count": 12,
   "metadata": {},
   "outputs": [
    {
     "data": {
      "text/plain": [
       "'2002\\xa0中鋼'"
      ]
     },
     "execution_count": 12,
     "metadata": {},
     "output_type": "execute_result"
    }
   ],
   "source": [
    "company_name = td_tags[1].getText()\n",
    "company_name"
   ]
  },
  {
   "cell_type": "code",
   "execution_count": 13,
   "metadata": {},
   "outputs": [
    {
     "data": {
      "text/plain": [
       "'2002 中鋼'"
      ]
     },
     "execution_count": 13,
     "metadata": {},
     "output_type": "execute_result"
    }
   ],
   "source": [
    "company_name = td_tags[1].getText().replace('\\xa0',' ')\n",
    "company_name"
   ]
  },
  {
   "cell_type": "code",
   "execution_count": 11,
   "metadata": {},
   "outputs": [
    {
     "data": {
      "text/plain": [
       "[('成交價', '20.7'),\n",
       " ('昨收', '20.7'),\n",
       " ('漲跌價', '0'),\n",
       " ('漲跌幅', '0%'),\n",
       " ('振幅', '0.72%'),\n",
       " ('開盤', '20.7'),\n",
       " ('最高', '20.7'),\n",
       " ('最低', '20.55'),\n",
       " ('20.7', '成交張數'),\n",
       " ('20.7', '成交金額'),\n",
       " ('0', '成交筆數'),\n",
       " ('0%', '成交均張'),\n",
       " ('0.72%', '成交均價'),\n",
       " ('20.7', 'PBR'),\n",
       " ('20.7', 'PER'),\n",
       " ('20.55', 'PEG'),\n",
       " ('成交張數', '9,949'),\n",
       " ('成交金額', '2.05\\xa0億'),\n",
       " ('成交筆數', '2,796'),\n",
       " ('成交均張', '3.6\\xa0張/筆'),\n",
       " ('成交均價', '20.64\\xa0元'),\n",
       " ('PBR', '1.11'),\n",
       " ('PER', 'N/A'),\n",
       " ('PEG', 'N/A')]"
      ]
     },
     "execution_count": 11,
     "metadata": {},
     "output_type": "execute_result"
    }
   ],
   "source": [
    "data = []\n",
    "for i in range(0,3):\n",
    "    for j in range(0,8):\n",
    "        index1 = 6 + i*8 + j\n",
    "        index2 = index1 + 8\n",
    "        data.append((td_tags[index1].getText(), td_tags[index2].getText()))\n",
    "\n",
    "data"
   ]
  },
  {
   "cell_type": "markdown",
   "metadata": {},
   "source": [
    "練習題\n",
    "請完成此程式，讓使用者輸入股票代號後，輸出上面的基本訊息"
   ]
  },
  {
   "cell_type": "markdown",
   "metadata": {},
   "source": [
    "練習題\n",
    "請解析 \"公司基本資料\" 的資訊"
   ]
  },
  {
   "cell_type": "code",
   "execution_count": null,
   "metadata": {},
   "outputs": [],
   "source": [
    "練習題\n",
    "請計算近十年發放的現金股利平均值"
   ]
  },
  {
   "cell_type": "code",
   "execution_count": null,
   "metadata": {},
   "outputs": [],
   "source": []
  },
  {
   "cell_type": "code",
   "execution_count": null,
   "metadata": {},
   "outputs": [],
   "source": []
  },
  {
   "cell_type": "code",
   "execution_count": null,
   "metadata": {},
   "outputs": [],
   "source": []
  },
  {
   "cell_type": "code",
   "execution_count": null,
   "metadata": {},
   "outputs": [],
   "source": []
  }
 ],
 "metadata": {
  "kernelspec": {
   "display_name": "Python 3",
   "language": "python",
   "name": "python3"
  },
  "language_info": {
   "codemirror_mode": {
    "name": "ipython",
    "version": 3
   },
   "file_extension": ".py",
   "mimetype": "text/x-python",
   "name": "python",
   "nbconvert_exporter": "python",
   "pygments_lexer": "ipython3",
   "version": "3.8.5"
  }
 },
 "nbformat": 4,
 "nbformat_minor": 4
}
