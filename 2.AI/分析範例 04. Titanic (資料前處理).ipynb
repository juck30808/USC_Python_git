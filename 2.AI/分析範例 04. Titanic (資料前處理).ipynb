{
 "cells": [
  {
   "cell_type": "markdown",
   "metadata": {},
   "source": [
    "https://www.kaggle.com/hasanburakavci/titanic-eda-and-classification"
   ]
  },
  {
   "cell_type": "markdown",
   "metadata": {
    "papermill": {
     "duration": 0.066016,
     "end_time": "2020-12-04T13:28:23.647845",
     "exception": false,
     "start_time": "2020-12-04T13:28:23.581829",
     "status": "completed"
    },
    "tags": []
   },
   "source": [
    "<font color='red'>\n",
    "\n",
    "# Titanic EDA Project\n",
    "    \n",
    "<font color='black'>\n",
    "\n",
    "Content of The Titanic Exploratory Data Analysis\n",
    "1. [Chapter-1 Data Load and Check](#1)\n",
    "    * [1-Outlier Detection](#2)\n",
    "    * [2-Joining Test and Train Data](#3)\n",
    "    * [3-Feature Check](#4)\n",
    "1. [Chapter-2 Data Analysis](#5)\n",
    "    * [1-Feature Analysis](#6)\n",
    "    * [2-Corelation Between Feature](#7)\n",
    "1. [Chapter-3 Missing Value](#8)\n",
    "    * [1-Find Missing Value](#9)\n",
    "    * [2-Fill Missing Value](#10)\n",
    "1. [Chapter-4 Data Engineering](#11)\n",
    "    * [1-New Feature](#12)\n",
    "    * [2-Drop Feature](#13)\n",
    "    * [3-One Hot Encoding](#14)\n",
    "1. [Chapter-5 Modeling](#16)\n",
    "    * [1-Train-Test Split](#17)\n",
    "    * [2-Classification Methods](#18)\n",
    "    * [3-Ensemble Modeling](#19)\n",
    "    * [4-Result](#20)\n",
    "\n",
    "\n",
    "   \n",
    "    \n",
    "    \n",
    "    \n",
    "    \n",
    "\n",
    "\n",
    "\n",
    "    \n",
    "    \n",
    "    "
   ]
  },
  {
   "cell_type": "markdown",
   "metadata": {
    "papermill": {
     "duration": 0.064023,
     "end_time": "2020-12-04T13:28:23.776503",
     "exception": false,
     "start_time": "2020-12-04T13:28:23.712480",
     "status": "completed"
    },
    "tags": []
   },
   "source": [
    "<a id='1'></a><br>\n",
    "# Chapter:1 Data Load And Check"
   ]
  },
  {
   "cell_type": "code",
   "execution_count": 1,
   "metadata": {
    "_cell_guid": "b1076dfc-b9ad-4769-8c92-a6c4dae69d19",
    "_uuid": "8f2839f25d086af736a60e9eeb907d3b93b6e0e5",
    "execution": {
     "iopub.execute_input": "2020-12-04T13:28:23.912715Z",
     "iopub.status.busy": "2020-12-04T13:28:23.911930Z",
     "iopub.status.idle": "2020-12-04T13:28:24.920146Z",
     "shell.execute_reply": "2020-12-04T13:28:24.919112Z"
    },
    "papermill": {
     "duration": 1.079938,
     "end_time": "2020-12-04T13:28:24.920297",
     "exception": false,
     "start_time": "2020-12-04T13:28:23.840359",
     "status": "completed"
    },
    "tags": []
   },
   "outputs": [
    {
     "data": {
      "text/plain": [
       "Index(['PassengerId', 'Survived', 'Pclass', 'Name', 'Sex', 'Age', 'SibSp',\n",
       "       'Parch', 'Ticket', 'Fare', 'Cabin', 'Embarked'],\n",
       "      dtype='object')"
      ]
     },
     "execution_count": 1,
     "metadata": {},
     "output_type": "execute_result"
    }
   ],
   "source": [
    "import numpy as np \n",
    "import pandas as pd \n",
    "import matplotlib.pyplot as plt \n",
    "import seaborn as sns  \n",
    "\n",
    "train_data = pd.read_csv(\"data/titanic_train.csv\")\n",
    "test_data = pd.read_csv(\"data/titanic_test.csv\")\n",
    "train_data.columns"
   ]
  },
  {
   "cell_type": "code",
   "execution_count": 2,
   "metadata": {
    "execution": {
     "iopub.execute_input": "2020-12-04T13:28:25.241812Z",
     "iopub.status.busy": "2020-12-04T13:28:25.241050Z",
     "iopub.status.idle": "2020-12-04T13:28:25.253682Z",
     "shell.execute_reply": "2020-12-04T13:28:25.253020Z"
    },
    "papermill": {
     "duration": 0.098336,
     "end_time": "2020-12-04T13:28:25.253811",
     "exception": false,
     "start_time": "2020-12-04T13:28:25.155475",
     "status": "completed"
    },
    "tags": []
   },
   "outputs": [
    {
     "data": {
      "text/html": [
       "<div>\n",
       "<style scoped>\n",
       "    .dataframe tbody tr th:only-of-type {\n",
       "        vertical-align: middle;\n",
       "    }\n",
       "\n",
       "    .dataframe tbody tr th {\n",
       "        vertical-align: top;\n",
       "    }\n",
       "\n",
       "    .dataframe thead th {\n",
       "        text-align: right;\n",
       "    }\n",
       "</style>\n",
       "<table border=\"1\" class=\"dataframe\">\n",
       "  <thead>\n",
       "    <tr style=\"text-align: right;\">\n",
       "      <th></th>\n",
       "      <th>PassengerId</th>\n",
       "      <th>Survived</th>\n",
       "      <th>Pclass</th>\n",
       "      <th>Name</th>\n",
       "      <th>Sex</th>\n",
       "      <th>Age</th>\n",
       "      <th>SibSp</th>\n",
       "      <th>Parch</th>\n",
       "      <th>Ticket</th>\n",
       "      <th>Fare</th>\n",
       "      <th>Cabin</th>\n",
       "      <th>Embarked</th>\n",
       "    </tr>\n",
       "  </thead>\n",
       "  <tbody>\n",
       "    <tr>\n",
       "      <th>0</th>\n",
       "      <td>1</td>\n",
       "      <td>0</td>\n",
       "      <td>3</td>\n",
       "      <td>Braund, Mr. Owen Harris</td>\n",
       "      <td>male</td>\n",
       "      <td>22.0</td>\n",
       "      <td>1</td>\n",
       "      <td>0</td>\n",
       "      <td>A/5 21171</td>\n",
       "      <td>7.2500</td>\n",
       "      <td>NaN</td>\n",
       "      <td>S</td>\n",
       "    </tr>\n",
       "    <tr>\n",
       "      <th>1</th>\n",
       "      <td>2</td>\n",
       "      <td>1</td>\n",
       "      <td>1</td>\n",
       "      <td>Cumings, Mrs. John Bradley (Florence Briggs Th...</td>\n",
       "      <td>female</td>\n",
       "      <td>38.0</td>\n",
       "      <td>1</td>\n",
       "      <td>0</td>\n",
       "      <td>PC 17599</td>\n",
       "      <td>71.2833</td>\n",
       "      <td>C85</td>\n",
       "      <td>C</td>\n",
       "    </tr>\n",
       "    <tr>\n",
       "      <th>2</th>\n",
       "      <td>3</td>\n",
       "      <td>1</td>\n",
       "      <td>3</td>\n",
       "      <td>Heikkinen, Miss. Laina</td>\n",
       "      <td>female</td>\n",
       "      <td>26.0</td>\n",
       "      <td>0</td>\n",
       "      <td>0</td>\n",
       "      <td>STON/O2. 3101282</td>\n",
       "      <td>7.9250</td>\n",
       "      <td>NaN</td>\n",
       "      <td>S</td>\n",
       "    </tr>\n",
       "    <tr>\n",
       "      <th>3</th>\n",
       "      <td>4</td>\n",
       "      <td>1</td>\n",
       "      <td>1</td>\n",
       "      <td>Futrelle, Mrs. Jacques Heath (Lily May Peel)</td>\n",
       "      <td>female</td>\n",
       "      <td>35.0</td>\n",
       "      <td>1</td>\n",
       "      <td>0</td>\n",
       "      <td>113803</td>\n",
       "      <td>53.1000</td>\n",
       "      <td>C123</td>\n",
       "      <td>S</td>\n",
       "    </tr>\n",
       "    <tr>\n",
       "      <th>4</th>\n",
       "      <td>5</td>\n",
       "      <td>0</td>\n",
       "      <td>3</td>\n",
       "      <td>Allen, Mr. William Henry</td>\n",
       "      <td>male</td>\n",
       "      <td>35.0</td>\n",
       "      <td>0</td>\n",
       "      <td>0</td>\n",
       "      <td>373450</td>\n",
       "      <td>8.0500</td>\n",
       "      <td>NaN</td>\n",
       "      <td>S</td>\n",
       "    </tr>\n",
       "  </tbody>\n",
       "</table>\n",
       "</div>"
      ],
      "text/plain": [
       "   PassengerId  Survived  Pclass  \\\n",
       "0            1         0       3   \n",
       "1            2         1       1   \n",
       "2            3         1       3   \n",
       "3            4         1       1   \n",
       "4            5         0       3   \n",
       "\n",
       "                                                Name     Sex   Age  SibSp  \\\n",
       "0                            Braund, Mr. Owen Harris    male  22.0      1   \n",
       "1  Cumings, Mrs. John Bradley (Florence Briggs Th...  female  38.0      1   \n",
       "2                             Heikkinen, Miss. Laina  female  26.0      0   \n",
       "3       Futrelle, Mrs. Jacques Heath (Lily May Peel)  female  35.0      1   \n",
       "4                           Allen, Mr. William Henry    male  35.0      0   \n",
       "\n",
       "   Parch            Ticket     Fare Cabin Embarked  \n",
       "0      0         A/5 21171   7.2500   NaN        S  \n",
       "1      0          PC 17599  71.2833   C85        C  \n",
       "2      0  STON/O2. 3101282   7.9250   NaN        S  \n",
       "3      0            113803  53.1000  C123        S  \n",
       "4      0            373450   8.0500   NaN        S  "
      ]
     },
     "execution_count": 2,
     "metadata": {},
     "output_type": "execute_result"
    }
   ],
   "source": [
    "train_data.head()"
   ]
  },
  {
   "cell_type": "code",
   "execution_count": 3,
   "metadata": {
    "execution": {
     "iopub.execute_input": "2020-12-04T13:28:25.407198Z",
     "iopub.status.busy": "2020-12-04T13:28:25.405938Z",
     "iopub.status.idle": "2020-12-04T13:28:25.410416Z",
     "shell.execute_reply": "2020-12-04T13:28:25.411340Z"
    },
    "papermill": {
     "duration": 0.091718,
     "end_time": "2020-12-04T13:28:25.411562",
     "exception": false,
     "start_time": "2020-12-04T13:28:25.319844",
     "status": "completed"
    },
    "tags": []
   },
   "outputs": [
    {
     "name": "stdout",
     "output_type": "stream",
     "text": [
      "<class 'pandas.core.frame.DataFrame'>\n",
      "RangeIndex: 891 entries, 0 to 890\n",
      "Data columns (total 12 columns):\n",
      " #   Column       Non-Null Count  Dtype  \n",
      "---  ------       --------------  -----  \n",
      " 0   PassengerId  891 non-null    int64  \n",
      " 1   Survived     891 non-null    int64  \n",
      " 2   Pclass       891 non-null    int64  \n",
      " 3   Name         891 non-null    object \n",
      " 4   Sex          891 non-null    object \n",
      " 5   Age          714 non-null    float64\n",
      " 6   SibSp        891 non-null    int64  \n",
      " 7   Parch        891 non-null    int64  \n",
      " 8   Ticket       891 non-null    object \n",
      " 9   Fare         891 non-null    float64\n",
      " 10  Cabin        204 non-null    object \n",
      " 11  Embarked     889 non-null    object \n",
      "dtypes: float64(2), int64(5), object(5)\n",
      "memory usage: 83.7+ KB\n"
     ]
    }
   ],
   "source": [
    "train_data.info()"
   ]
  },
  {
   "attachments": {
    "oie_384549KoGQkTap.png": {
     "image/png": "[encoded data removed]"
    }
   },
   "cell_type": "markdown",
   "metadata": {
    "papermill": {
     "duration": 0.070577,
     "end_time": "2020-12-04T13:28:25.574243",
     "exception": false,
     "start_time": "2020-12-04T13:28:25.503666",
     "status": "completed"
    },
    "tags": []
   },
   "source": [
    " <a id='2'></a><br>\n",
    "## 1-Outlier Detection\n",
    "\n",
    "\n",
    "![oie_384549KoGQkTap.png](attachment:oie_384549KoGQkTap.png)\n",
    "\n",
    "* Q1 = 1.Quartile 25%\n",
    "* Q2 = 2.Quartile 50% (median)\n",
    "* Q3 = 3.Quartile 75%\n",
    "* IQR = Q3 - Q1\n",
    "* Outlier data = (Q1 - 1.5 IQR ) U (Q3 + 1.5 IQR)\n",
    "\n"
   ]
  },
  {
   "cell_type": "code",
   "execution_count": 4,
   "metadata": {
    "execution": {
     "iopub.execute_input": "2020-12-04T13:28:25.734152Z",
     "iopub.status.busy": "2020-12-04T13:28:25.733389Z",
     "iopub.status.idle": "2020-12-04T13:28:25.766213Z",
     "shell.execute_reply": "2020-12-04T13:28:25.767052Z"
    },
    "papermill": {
     "duration": 0.125357,
     "end_time": "2020-12-04T13:28:25.767247",
     "exception": false,
     "start_time": "2020-12-04T13:28:25.641890",
     "status": "completed"
    },
    "tags": []
   },
   "outputs": [
    {
     "data": {
      "text/html": [
       "<div>\n",
       "<style scoped>\n",
       "    .dataframe tbody tr th:only-of-type {\n",
       "        vertical-align: middle;\n",
       "    }\n",
       "\n",
       "    .dataframe tbody tr th {\n",
       "        vertical-align: top;\n",
       "    }\n",
       "\n",
       "    .dataframe thead th {\n",
       "        text-align: right;\n",
       "    }\n",
       "</style>\n",
       "<table border=\"1\" class=\"dataframe\">\n",
       "  <thead>\n",
       "    <tr style=\"text-align: right;\">\n",
       "      <th></th>\n",
       "      <th>PassengerId</th>\n",
       "      <th>Survived</th>\n",
       "      <th>Pclass</th>\n",
       "      <th>Age</th>\n",
       "      <th>SibSp</th>\n",
       "      <th>Parch</th>\n",
       "      <th>Fare</th>\n",
       "    </tr>\n",
       "  </thead>\n",
       "  <tbody>\n",
       "    <tr>\n",
       "      <th>count</th>\n",
       "      <td>891.000000</td>\n",
       "      <td>891.000000</td>\n",
       "      <td>891.000000</td>\n",
       "      <td>714.000000</td>\n",
       "      <td>891.000000</td>\n",
       "      <td>891.000000</td>\n",
       "      <td>891.000000</td>\n",
       "    </tr>\n",
       "    <tr>\n",
       "      <th>mean</th>\n",
       "      <td>446.000000</td>\n",
       "      <td>0.383838</td>\n",
       "      <td>2.308642</td>\n",
       "      <td>29.699118</td>\n",
       "      <td>0.523008</td>\n",
       "      <td>0.381594</td>\n",
       "      <td>32.204208</td>\n",
       "    </tr>\n",
       "    <tr>\n",
       "      <th>std</th>\n",
       "      <td>257.353842</td>\n",
       "      <td>0.486592</td>\n",
       "      <td>0.836071</td>\n",
       "      <td>14.526497</td>\n",
       "      <td>1.102743</td>\n",
       "      <td>0.806057</td>\n",
       "      <td>49.693429</td>\n",
       "    </tr>\n",
       "    <tr>\n",
       "      <th>min</th>\n",
       "      <td>1.000000</td>\n",
       "      <td>0.000000</td>\n",
       "      <td>1.000000</td>\n",
       "      <td>0.420000</td>\n",
       "      <td>0.000000</td>\n",
       "      <td>0.000000</td>\n",
       "      <td>0.000000</td>\n",
       "    </tr>\n",
       "    <tr>\n",
       "      <th>25%</th>\n",
       "      <td>223.500000</td>\n",
       "      <td>0.000000</td>\n",
       "      <td>2.000000</td>\n",
       "      <td>20.125000</td>\n",
       "      <td>0.000000</td>\n",
       "      <td>0.000000</td>\n",
       "      <td>7.910400</td>\n",
       "    </tr>\n",
       "    <tr>\n",
       "      <th>50%</th>\n",
       "      <td>446.000000</td>\n",
       "      <td>0.000000</td>\n",
       "      <td>3.000000</td>\n",
       "      <td>28.000000</td>\n",
       "      <td>0.000000</td>\n",
       "      <td>0.000000</td>\n",
       "      <td>14.454200</td>\n",
       "    </tr>\n",
       "    <tr>\n",
       "      <th>75%</th>\n",
       "      <td>668.500000</td>\n",
       "      <td>1.000000</td>\n",
       "      <td>3.000000</td>\n",
       "      <td>38.000000</td>\n",
       "      <td>1.000000</td>\n",
       "      <td>0.000000</td>\n",
       "      <td>31.000000</td>\n",
       "    </tr>\n",
       "    <tr>\n",
       "      <th>max</th>\n",
       "      <td>891.000000</td>\n",
       "      <td>1.000000</td>\n",
       "      <td>3.000000</td>\n",
       "      <td>80.000000</td>\n",
       "      <td>8.000000</td>\n",
       "      <td>6.000000</td>\n",
       "      <td>512.329200</td>\n",
       "    </tr>\n",
       "  </tbody>\n",
       "</table>\n",
       "</div>"
      ],
      "text/plain": [
       "       PassengerId    Survived      Pclass         Age       SibSp  \\\n",
       "count   891.000000  891.000000  891.000000  714.000000  891.000000   \n",
       "mean    446.000000    0.383838    2.308642   29.699118    0.523008   \n",
       "std     257.353842    0.486592    0.836071   14.526497    1.102743   \n",
       "min       1.000000    0.000000    1.000000    0.420000    0.000000   \n",
       "25%     223.500000    0.000000    2.000000   20.125000    0.000000   \n",
       "50%     446.000000    0.000000    3.000000   28.000000    0.000000   \n",
       "75%     668.500000    1.000000    3.000000   38.000000    1.000000   \n",
       "max     891.000000    1.000000    3.000000   80.000000    8.000000   \n",
       "\n",
       "            Parch        Fare  \n",
       "count  891.000000  891.000000  \n",
       "mean     0.381594   32.204208  \n",
       "std      0.806057   49.693429  \n",
       "min      0.000000    0.000000  \n",
       "25%      0.000000    7.910400  \n",
       "50%      0.000000   14.454200  \n",
       "75%      0.000000   31.000000  \n",
       "max      6.000000  512.329200  "
      ]
     },
     "execution_count": 4,
     "metadata": {},
     "output_type": "execute_result"
    }
   ],
   "source": [
    "train_data.describe()"
   ]
  },
  {
   "cell_type": "code",
   "execution_count": 5,
   "metadata": {
    "execution": {
     "iopub.execute_input": "2020-12-04T13:28:25.921193Z",
     "iopub.status.busy": "2020-12-04T13:28:25.920029Z",
     "iopub.status.idle": "2020-12-04T13:28:25.923735Z",
     "shell.execute_reply": "2020-12-04T13:28:25.922783Z"
    },
    "papermill": {
     "duration": 0.084003,
     "end_time": "2020-12-04T13:28:25.923891",
     "exception": false,
     "start_time": "2020-12-04T13:28:25.839888",
     "status": "completed"
    },
    "tags": []
   },
   "outputs": [],
   "source": [
    "from collections import Counter\n",
    "def outlier_detect(feature, data):\n",
    "    outlier_index = []\n",
    "\n",
    "    for each in feature:\n",
    "        Q1 = np.percentile(data[each], 25)\n",
    "        Q3 = np.percentile(data[each], 75)\n",
    "        IQR = Q3 - Q1\n",
    "        outlier_list = data[(data[each] < Q1 - 1.5*IQR) | (data[each] > Q3 + 1.5*IQR)].index\n",
    "        outlier_index.extend(outlier_list)\n",
    "        \n",
    "    outlier_index = Counter(outlier_index)\n",
    "    outlier_data = list(i for i, v in outlier_index.items() if v > 3)\n",
    "    return outlier_data"
   ]
  },
  {
   "cell_type": "code",
   "execution_count": 6,
   "metadata": {
    "execution": {
     "iopub.execute_input": "2020-12-04T13:28:26.076661Z",
     "iopub.status.busy": "2020-12-04T13:28:26.072704Z",
     "iopub.status.idle": "2020-12-04T13:28:26.115202Z",
     "shell.execute_reply": "2020-12-04T13:28:26.114444Z"
    },
    "papermill": {
     "duration": 0.12008,
     "end_time": "2020-12-04T13:28:26.115341",
     "exception": false,
     "start_time": "2020-12-04T13:28:25.995261",
     "status": "completed"
    },
    "tags": []
   },
   "outputs": [
    {
     "data": {
      "text/html": [
       "<div>\n",
       "<style scoped>\n",
       "    .dataframe tbody tr th:only-of-type {\n",
       "        vertical-align: middle;\n",
       "    }\n",
       "\n",
       "    .dataframe tbody tr th {\n",
       "        vertical-align: top;\n",
       "    }\n",
       "\n",
       "    .dataframe thead th {\n",
       "        text-align: right;\n",
       "    }\n",
       "</style>\n",
       "<table border=\"1\" class=\"dataframe\">\n",
       "  <thead>\n",
       "    <tr style=\"text-align: right;\">\n",
       "      <th></th>\n",
       "      <th>PassengerId</th>\n",
       "      <th>Survived</th>\n",
       "      <th>Pclass</th>\n",
       "      <th>Name</th>\n",
       "      <th>Sex</th>\n",
       "      <th>Age</th>\n",
       "      <th>SibSp</th>\n",
       "      <th>Parch</th>\n",
       "      <th>Ticket</th>\n",
       "      <th>Fare</th>\n",
       "      <th>Cabin</th>\n",
       "      <th>Embarked</th>\n",
       "    </tr>\n",
       "  </thead>\n",
       "  <tbody>\n",
       "  </tbody>\n",
       "</table>\n",
       "</div>"
      ],
      "text/plain": [
       "Empty DataFrame\n",
       "Columns: [PassengerId, Survived, Pclass, Name, Sex, Age, SibSp, Parch, Ticket, Fare, Cabin, Embarked]\n",
       "Index: []"
      ]
     },
     "execution_count": 6,
     "metadata": {},
     "output_type": "execute_result"
    }
   ],
   "source": [
    "outlier_data = outlier_detect([\"Age\",\"SibSp\",\"Parch\",\"Fare\"], train_data)\n",
    "train_data.loc[outlier_data]"
   ]
  },
  {
   "cell_type": "code",
   "execution_count": 7,
   "metadata": {},
   "outputs": [
    {
     "data": {
      "text/plain": [
       "[]"
      ]
     },
     "execution_count": 7,
     "metadata": {},
     "output_type": "execute_result"
    }
   ],
   "source": [
    "outlier_data"
   ]
  },
  {
   "cell_type": "code",
   "execution_count": 8,
   "metadata": {
    "execution": {
     "iopub.execute_input": "2020-12-04T13:28:26.270955Z",
     "iopub.status.busy": "2020-12-04T13:28:26.270158Z",
     "iopub.status.idle": "2020-12-04T13:28:26.274935Z",
     "shell.execute_reply": "2020-12-04T13:28:26.274231Z"
    },
    "papermill": {
     "duration": 0.079827,
     "end_time": "2020-12-04T13:28:26.275073",
     "exception": false,
     "start_time": "2020-12-04T13:28:26.195246",
     "status": "completed"
    },
    "tags": []
   },
   "outputs": [],
   "source": [
    "train_data = train_data.drop(outlier_data, axis=0).reset_index(drop=True)"
   ]
  },
  {
   "cell_type": "markdown",
   "metadata": {
    "papermill": {
     "duration": 0.068443,
     "end_time": "2020-12-04T13:28:26.412445",
     "exception": false,
     "start_time": "2020-12-04T13:28:26.344002",
     "status": "completed"
    },
    "tags": []
   },
   "source": [
    "<a id='3'></a><br>\n",
    "## 2-Combining Train and Test Data\n",
    "\n",
    "\n",
    "* Train_data and test_data are combined so that data is obtained. \n"
   ]
  },
  {
   "cell_type": "code",
   "execution_count": 9,
   "metadata": {
    "execution": {
     "iopub.execute_input": "2020-12-04T13:28:26.565765Z",
     "iopub.status.busy": "2020-12-04T13:28:26.565040Z",
     "iopub.status.idle": "2020-12-04T13:28:26.568563Z",
     "shell.execute_reply": "2020-12-04T13:28:26.567907Z"
    },
    "papermill": {
     "duration": 0.087285,
     "end_time": "2020-12-04T13:28:26.568687",
     "exception": false,
     "start_time": "2020-12-04T13:28:26.481402",
     "status": "completed"
    },
    "tags": []
   },
   "outputs": [],
   "source": [
    "# 因為後面會重新整理欄位的值，所以需要將資料先合併在一起\n",
    "# train與test資料結合後index還是會維持原本兩邊的，這樣會有重複的值出現\n",
    "# 因此需要重設index，reset_index會重新將index編號。\n",
    "# drop = True 的意思是把原先的index丟掉。\n",
    "#    如果沒有這個參數，原先的index會變成一個新欄位\n",
    "data = pd.concat([train_data, test_data], axis=0).reset_index(drop=True)"
   ]
  },
  {
   "cell_type": "markdown",
   "metadata": {
    "papermill": {
     "duration": 0.068992,
     "end_time": "2020-12-04T13:28:26.707111",
     "exception": false,
     "start_time": "2020-12-04T13:28:26.638119",
     "status": "completed"
    },
    "tags": []
   },
   "source": [
    "<a id='4'></a><br>\n",
    "## 3-Feature Analysis\n",
    "\n",
    "Object\n",
    "1. Name        : \n",
    "1. Sex         : male and female\n",
    "1. Ticket      : ticket number 票號\n",
    "1. Cabin       : cabin category 船艙號碼\n",
    "1. Embarked    : port C, Q and S 出發地\n",
    "\n",
    "Int64\n",
    "1. PassengerId : unique id number 乘客代碼\n",
    "1. Survived    : 0 -> died ,1-> survived 是否存活\n",
    "1. Pclasss     : 1, 2 and 3 船票等級\n",
    "1. SibSp       : number of siblings/spouse 兄弟姊妹與伴侶數量\n",
    "1. Parch       : number of parent/children 父母跟子女的數量\n",
    "\n",
    "Float64\n",
    "1. Age         : age of passenger 乘客年紀\n",
    "1. Fare        : price of the ticket 票價"
   ]
  },
  {
   "cell_type": "markdown",
   "metadata": {
    "papermill": {
     "duration": 0.069454,
     "end_time": "2020-12-04T13:28:26.846608",
     "exception": false,
     "start_time": "2020-12-04T13:28:26.777154",
     "status": "completed"
    },
    "tags": []
   },
   "source": [
    "### Survived"
   ]
  },
  {
   "cell_type": "code",
   "execution_count": 10,
   "metadata": {
    "execution": {
     "iopub.execute_input": "2020-12-04T13:28:27.003427Z",
     "iopub.status.busy": "2020-12-04T13:28:27.002455Z",
     "iopub.status.idle": "2020-12-04T13:28:27.204171Z",
     "shell.execute_reply": "2020-12-04T13:28:27.203450Z"
    },
    "papermill": {
     "duration": 0.288734,
     "end_time": "2020-12-04T13:28:27.204301",
     "exception": false,
     "start_time": "2020-12-04T13:28:26.915567",
     "status": "completed"
    },
    "tags": []
   },
   "outputs": [
    {
     "data": {
      "text/plain": [
       "<AxesSubplot:xlabel='Survived', ylabel='count'>"
      ]
     },
     "execution_count": 10,
     "metadata": {},
     "output_type": "execute_result"
    },
    {
     "data": {
      "image/png": "[encoded data removed]",
      "text/plain": [
       "<Figure size 432x288 with 1 Axes>"
      ]
     },
     "metadata": {
      "needs_background": "light"
     },
     "output_type": "display_data"
    }
   ],
   "source": [
    "sns.countplot(x='Survived',data=train_data )"
   ]
  },
  {
   "cell_type": "code",
   "execution_count": 11,
   "metadata": {},
   "outputs": [
    {
     "data": {
      "text/plain": [
       "0.0    549\n",
       "1.0    342\n",
       "Name: Survived, dtype: int64"
      ]
     },
     "execution_count": 11,
     "metadata": {},
     "output_type": "execute_result"
    }
   ],
   "source": [
    "data['Survived'].value_counts()"
   ]
  },
  {
   "cell_type": "code",
   "execution_count": 12,
   "metadata": {},
   "outputs": [
    {
     "name": "stdout",
     "output_type": "stream",
     "text": [
      "整體生存率 0.3838383838383838\n"
     ]
    }
   ],
   "source": [
    "print('整體生存率', 342/(342+549))"
   ]
  },
  {
   "cell_type": "code",
   "execution_count": 13,
   "metadata": {
    "execution": {
     "iopub.execute_input": "2020-12-04T13:28:27.354834Z",
     "iopub.status.busy": "2020-12-04T13:28:27.354100Z",
     "iopub.status.idle": "2020-12-04T13:28:27.386546Z",
     "shell.execute_reply": "2020-12-04T13:28:27.385814Z"
    },
    "papermill": {
     "duration": 0.110053,
     "end_time": "2020-12-04T13:28:27.386665",
     "exception": false,
     "start_time": "2020-12-04T13:28:27.276612",
     "status": "completed"
    },
    "tags": []
   },
   "outputs": [
    {
     "data": {
      "text/html": [
       "<div>\n",
       "<style scoped>\n",
       "    .dataframe tbody tr th:only-of-type {\n",
       "        vertical-align: middle;\n",
       "    }\n",
       "\n",
       "    .dataframe tbody tr th {\n",
       "        vertical-align: top;\n",
       "    }\n",
       "\n",
       "    .dataframe thead th {\n",
       "        text-align: right;\n",
       "    }\n",
       "</style>\n",
       "<table border=\"1\" class=\"dataframe\">\n",
       "  <thead>\n",
       "    <tr style=\"text-align: right;\">\n",
       "      <th></th>\n",
       "      <th>PassengerId</th>\n",
       "      <th>Survived</th>\n",
       "      <th>Pclass</th>\n",
       "      <th>Age</th>\n",
       "      <th>SibSp</th>\n",
       "      <th>Parch</th>\n",
       "      <th>Fare</th>\n",
       "    </tr>\n",
       "  </thead>\n",
       "  <tbody>\n",
       "    <tr>\n",
       "      <th>count</th>\n",
       "      <td>1309.000000</td>\n",
       "      <td>891.000000</td>\n",
       "      <td>1309.000000</td>\n",
       "      <td>1046.000000</td>\n",
       "      <td>1309.000000</td>\n",
       "      <td>1309.000000</td>\n",
       "      <td>1308.000000</td>\n",
       "    </tr>\n",
       "    <tr>\n",
       "      <th>mean</th>\n",
       "      <td>655.000000</td>\n",
       "      <td>0.383838</td>\n",
       "      <td>2.294882</td>\n",
       "      <td>29.881138</td>\n",
       "      <td>0.498854</td>\n",
       "      <td>0.385027</td>\n",
       "      <td>33.295479</td>\n",
       "    </tr>\n",
       "    <tr>\n",
       "      <th>std</th>\n",
       "      <td>378.020061</td>\n",
       "      <td>0.486592</td>\n",
       "      <td>0.837836</td>\n",
       "      <td>14.413493</td>\n",
       "      <td>1.041658</td>\n",
       "      <td>0.865560</td>\n",
       "      <td>51.758668</td>\n",
       "    </tr>\n",
       "    <tr>\n",
       "      <th>min</th>\n",
       "      <td>1.000000</td>\n",
       "      <td>0.000000</td>\n",
       "      <td>1.000000</td>\n",
       "      <td>0.170000</td>\n",
       "      <td>0.000000</td>\n",
       "      <td>0.000000</td>\n",
       "      <td>0.000000</td>\n",
       "    </tr>\n",
       "    <tr>\n",
       "      <th>25%</th>\n",
       "      <td>328.000000</td>\n",
       "      <td>0.000000</td>\n",
       "      <td>2.000000</td>\n",
       "      <td>21.000000</td>\n",
       "      <td>0.000000</td>\n",
       "      <td>0.000000</td>\n",
       "      <td>7.895800</td>\n",
       "    </tr>\n",
       "    <tr>\n",
       "      <th>50%</th>\n",
       "      <td>655.000000</td>\n",
       "      <td>0.000000</td>\n",
       "      <td>3.000000</td>\n",
       "      <td>28.000000</td>\n",
       "      <td>0.000000</td>\n",
       "      <td>0.000000</td>\n",
       "      <td>14.454200</td>\n",
       "    </tr>\n",
       "    <tr>\n",
       "      <th>75%</th>\n",
       "      <td>982.000000</td>\n",
       "      <td>1.000000</td>\n",
       "      <td>3.000000</td>\n",
       "      <td>39.000000</td>\n",
       "      <td>1.000000</td>\n",
       "      <td>0.000000</td>\n",
       "      <td>31.275000</td>\n",
       "    </tr>\n",
       "    <tr>\n",
       "      <th>max</th>\n",
       "      <td>1309.000000</td>\n",
       "      <td>1.000000</td>\n",
       "      <td>3.000000</td>\n",
       "      <td>80.000000</td>\n",
       "      <td>8.000000</td>\n",
       "      <td>9.000000</td>\n",
       "      <td>512.329200</td>\n",
       "    </tr>\n",
       "  </tbody>\n",
       "</table>\n",
       "</div>"
      ],
      "text/plain": [
       "       PassengerId    Survived       Pclass          Age        SibSp  \\\n",
       "count  1309.000000  891.000000  1309.000000  1046.000000  1309.000000   \n",
       "mean    655.000000    0.383838     2.294882    29.881138     0.498854   \n",
       "std     378.020061    0.486592     0.837836    14.413493     1.041658   \n",
       "min       1.000000    0.000000     1.000000     0.170000     0.000000   \n",
       "25%     328.000000    0.000000     2.000000    21.000000     0.000000   \n",
       "50%     655.000000    0.000000     3.000000    28.000000     0.000000   \n",
       "75%     982.000000    1.000000     3.000000    39.000000     1.000000   \n",
       "max    1309.000000    1.000000     3.000000    80.000000     8.000000   \n",
       "\n",
       "             Parch         Fare  \n",
       "count  1309.000000  1308.000000  \n",
       "mean      0.385027    33.295479  \n",
       "std       0.865560    51.758668  \n",
       "min       0.000000     0.000000  \n",
       "25%       0.000000     7.895800  \n",
       "50%       0.000000    14.454200  \n",
       "75%       0.000000    31.275000  \n",
       "max       9.000000   512.329200  "
      ]
     },
     "execution_count": 13,
     "metadata": {},
     "output_type": "execute_result"
    }
   ],
   "source": [
    "data.describe()"
   ]
  },
  {
   "cell_type": "markdown",
   "metadata": {
    "papermill": {
     "duration": 0.071371,
     "end_time": "2020-12-04T13:28:27.530695",
     "exception": false,
     "start_time": "2020-12-04T13:28:27.459324",
     "status": "completed"
    },
    "tags": []
   },
   "source": [
    "<a id='5'></a><br>\n",
    "# Chapter:2 Data Analysis\n",
    "\n",
    "* Feature Analysis\n",
    "* Corelation Between Features\n",
    "\n"
   ]
  },
  {
   "cell_type": "markdown",
   "metadata": {
    "papermill": {
     "duration": 0.071672,
     "end_time": "2020-12-04T13:28:27.674034",
     "exception": false,
     "start_time": "2020-12-04T13:28:27.602362",
     "status": "completed"
    },
    "tags": []
   },
   "source": [
    "<a id='6'></a><br>\n",
    "## 1- Feature Analysis\n",
    "\n",
    "* Sex - Survived\n",
    "* Pclass - Survived\n",
    "* Embarked - Survived\n",
    "* SibSp - Survived\n",
    "* Parch - Survived\n",
    "* Age - Survived\n",
    "* Fare - Survived"
   ]
  },
  {
   "cell_type": "markdown",
   "metadata": {
    "papermill": {
     "duration": 0.071532,
     "end_time": "2020-12-04T13:28:27.818354",
     "exception": false,
     "start_time": "2020-12-04T13:28:27.746822",
     "status": "completed"
    },
    "tags": []
   },
   "source": [
    "### Sex - Survived\n",
    "\n",
    "Female are more likely to survive than male."
   ]
  },
  {
   "cell_type": "code",
   "execution_count": 14,
   "metadata": {
    "execution": {
     "iopub.execute_input": "2020-12-04T13:28:27.971029Z",
     "iopub.status.busy": "2020-12-04T13:28:27.970265Z",
     "iopub.status.idle": "2020-12-04T13:28:27.984216Z",
     "shell.execute_reply": "2020-12-04T13:28:27.983414Z"
    },
    "papermill": {
     "duration": 0.09459,
     "end_time": "2020-12-04T13:28:27.984345",
     "exception": false,
     "start_time": "2020-12-04T13:28:27.889755",
     "status": "completed"
    },
    "tags": []
   },
   "outputs": [
    {
     "data": {
      "text/html": [
       "<div>\n",
       "<style scoped>\n",
       "    .dataframe tbody tr th:only-of-type {\n",
       "        vertical-align: middle;\n",
       "    }\n",
       "\n",
       "    .dataframe tbody tr th {\n",
       "        vertical-align: top;\n",
       "    }\n",
       "\n",
       "    .dataframe thead th {\n",
       "        text-align: right;\n",
       "    }\n",
       "</style>\n",
       "<table border=\"1\" class=\"dataframe\">\n",
       "  <thead>\n",
       "    <tr style=\"text-align: right;\">\n",
       "      <th></th>\n",
       "      <th>Sex</th>\n",
       "      <th>Survived</th>\n",
       "    </tr>\n",
       "  </thead>\n",
       "  <tbody>\n",
       "    <tr>\n",
       "      <th>0</th>\n",
       "      <td>female</td>\n",
       "      <td>0.742038</td>\n",
       "    </tr>\n",
       "    <tr>\n",
       "      <th>1</th>\n",
       "      <td>male</td>\n",
       "      <td>0.188908</td>\n",
       "    </tr>\n",
       "  </tbody>\n",
       "</table>\n",
       "</div>"
      ],
      "text/plain": [
       "      Sex  Survived\n",
       "0  female  0.742038\n",
       "1    male  0.188908"
      ]
     },
     "execution_count": 14,
     "metadata": {},
     "output_type": "execute_result"
    }
   ],
   "source": [
    "data[[\"Sex\", \"Survived\"]].groupby([\"Sex\"], as_index = False).mean()\n",
    "# groupby預設會把群聚的欄位變成index，as_index=False會將群聚的欄位依然保持為欄位"
   ]
  },
  {
   "cell_type": "code",
   "execution_count": 15,
   "metadata": {},
   "outputs": [
    {
     "data": {
      "text/html": [
       "<div>\n",
       "<style scoped>\n",
       "    .dataframe tbody tr th:only-of-type {\n",
       "        vertical-align: middle;\n",
       "    }\n",
       "\n",
       "    .dataframe tbody tr th {\n",
       "        vertical-align: top;\n",
       "    }\n",
       "\n",
       "    .dataframe thead th {\n",
       "        text-align: right;\n",
       "    }\n",
       "</style>\n",
       "<table border=\"1\" class=\"dataframe\">\n",
       "  <thead>\n",
       "    <tr style=\"text-align: right;\">\n",
       "      <th></th>\n",
       "      <th>Sex</th>\n",
       "      <th>Survived</th>\n",
       "    </tr>\n",
       "  </thead>\n",
       "  <tbody>\n",
       "    <tr>\n",
       "      <th>0</th>\n",
       "      <td>female</td>\n",
       "      <td>0.742038</td>\n",
       "    </tr>\n",
       "    <tr>\n",
       "      <th>1</th>\n",
       "      <td>male</td>\n",
       "      <td>0.188908</td>\n",
       "    </tr>\n",
       "  </tbody>\n",
       "</table>\n",
       "</div>"
      ],
      "text/plain": [
       "      Sex  Survived\n",
       "0  female  0.742038\n",
       "1    male  0.188908"
      ]
     },
     "execution_count": 15,
     "metadata": {},
     "output_type": "execute_result"
    }
   ],
   "source": [
    "# 下面的方式等同上面的方法\n",
    "data[[\"Sex\", \"Survived\"]].groupby([\"Sex\"]).mean().reset_index()"
   ]
  },
  {
   "cell_type": "code",
   "execution_count": 16,
   "metadata": {
    "execution": {
     "iopub.execute_input": "2020-12-04T13:28:28.153622Z",
     "iopub.status.busy": "2020-12-04T13:28:28.139435Z",
     "iopub.status.idle": "2020-12-04T13:28:28.388158Z",
     "shell.execute_reply": "2020-12-04T13:28:28.387429Z"
    },
    "papermill": {
     "duration": 0.328953,
     "end_time": "2020-12-04T13:28:28.388279",
     "exception": false,
     "start_time": "2020-12-04T13:28:28.059326",
     "status": "completed"
    },
    "tags": []
   },
   "outputs": [
    {
     "data": {
      "image/png": "[encoded data removed]",
      "text/plain": [
       "<Figure size 216x216 with 1 Axes>"
      ]
     },
     "metadata": {
      "needs_background": "light"
     },
     "output_type": "display_data"
    }
   ],
   "source": [
    "g = sns.catplot(x=\"Sex\", y =\"Survived\", data=data, kind=\"bar\", height=3)\n",
    "plt.show()"
   ]
  },
  {
   "cell_type": "markdown",
   "metadata": {
    "papermill": {
     "duration": 0.072588,
     "end_time": "2020-12-04T13:28:28.533890",
     "exception": false,
     "start_time": "2020-12-04T13:28:28.461302",
     "status": "completed"
    },
    "tags": []
   },
   "source": [
    "### Pclass - Survived"
   ]
  },
  {
   "cell_type": "code",
   "execution_count": 17,
   "metadata": {
    "execution": {
     "iopub.execute_input": "2020-12-04T13:28:28.701466Z",
     "iopub.status.busy": "2020-12-04T13:28:28.688642Z",
     "iopub.status.idle": "2020-12-04T13:28:28.974388Z",
     "shell.execute_reply": "2020-12-04T13:28:28.974919Z"
    },
    "papermill": {
     "duration": 0.368183,
     "end_time": "2020-12-04T13:28:28.975096",
     "exception": false,
     "start_time": "2020-12-04T13:28:28.606913",
     "status": "completed"
    },
    "tags": []
   },
   "outputs": [
    {
     "data": {
      "image/png": "[encoded data removed]",
      "text/plain": [
       "<Figure size 216x216 with 1 Axes>"
      ]
     },
     "metadata": {
      "needs_background": "light"
     },
     "output_type": "display_data"
    }
   ],
   "source": [
    "sns.catplot(x=\"Pclass\", y =\"Survived\", data=data, kind=\"bar\", height=3)\n",
    "plt.show()"
   ]
  },
  {
   "cell_type": "markdown",
   "metadata": {
    "papermill": {
     "duration": 0.073557,
     "end_time": "2020-12-04T13:28:29.123167",
     "exception": false,
     "start_time": "2020-12-04T13:28:29.049610",
     "status": "completed"
    },
    "tags": []
   },
   "source": [
    "### Embarked - Survived"
   ]
  },
  {
   "cell_type": "code",
   "execution_count": 18,
   "metadata": {
    "execution": {
     "iopub.execute_input": "2020-12-04T13:28:29.279840Z",
     "iopub.status.busy": "2020-12-04T13:28:29.279079Z",
     "iopub.status.idle": "2020-12-04T13:28:29.580523Z",
     "shell.execute_reply": "2020-12-04T13:28:29.579768Z"
    },
    "papermill": {
     "duration": 0.38314,
     "end_time": "2020-12-04T13:28:29.580645",
     "exception": false,
     "start_time": "2020-12-04T13:28:29.197505",
     "status": "completed"
    },
    "tags": []
   },
   "outputs": [
    {
     "data": {
      "image/png": "[encoded data removed]",
      "text/plain": [
       "<Figure size 216x216 with 1 Axes>"
      ]
     },
     "metadata": {
      "needs_background": "light"
     },
     "output_type": "display_data"
    }
   ],
   "source": [
    "sns.catplot(x=\"Embarked\", y =\"Survived\", data=data, kind=\"bar\", height=3)\n",
    "plt.show()"
   ]
  },
  {
   "cell_type": "markdown",
   "metadata": {
    "papermill": {
     "duration": 0.074393,
     "end_time": "2020-12-04T13:28:29.729944",
     "exception": false,
     "start_time": "2020-12-04T13:28:29.655551",
     "status": "completed"
    },
    "tags": []
   },
   "source": [
    "### SibSp - Survived"
   ]
  },
  {
   "cell_type": "code",
   "execution_count": 19,
   "metadata": {
    "execution": {
     "iopub.execute_input": "2020-12-04T13:28:29.889741Z",
     "iopub.status.busy": "2020-12-04T13:28:29.888992Z",
     "iopub.status.idle": "2020-12-04T13:28:30.337489Z",
     "shell.execute_reply": "2020-12-04T13:28:30.336573Z"
    },
    "papermill": {
     "duration": 0.531266,
     "end_time": "2020-12-04T13:28:30.337624",
     "exception": false,
     "start_time": "2020-12-04T13:28:29.806358",
     "status": "completed"
    },
    "tags": []
   },
   "outputs": [
    {
     "data": {
      "image/png": "[encoded data removed]",
      "text/plain": [
       "<Figure size 216x216 with 1 Axes>"
      ]
     },
     "metadata": {
      "needs_background": "light"
     },
     "output_type": "display_data"
    }
   ],
   "source": [
    "sns.catplot(x=\"SibSp\", y =\"Survived\", data=data, kind=\"bar\", height=3)\n",
    "plt.show()"
   ]
  },
  {
   "cell_type": "markdown",
   "metadata": {
    "papermill": {
     "duration": 0.075624,
     "end_time": "2020-12-04T13:28:30.493232",
     "exception": false,
     "start_time": "2020-12-04T13:28:30.417608",
     "status": "completed"
    },
    "tags": []
   },
   "source": [
    "### Parch - Survived"
   ]
  },
  {
   "cell_type": "code",
   "execution_count": 20,
   "metadata": {
    "execution": {
     "iopub.execute_input": "2020-12-04T13:28:30.652854Z",
     "iopub.status.busy": "2020-12-04T13:28:30.652141Z",
     "iopub.status.idle": "2020-12-04T13:28:31.156551Z",
     "shell.execute_reply": "2020-12-04T13:28:31.155817Z"
    },
    "papermill": {
     "duration": 0.587617,
     "end_time": "2020-12-04T13:28:31.156672",
     "exception": false,
     "start_time": "2020-12-04T13:28:30.569055",
     "status": "completed"
    },
    "tags": []
   },
   "outputs": [
    {
     "data": {
      "image/png": "[encoded data removed]",
      "text/plain": [
       "<Figure size 216x216 with 1 Axes>"
      ]
     },
     "metadata": {
      "needs_background": "light"
     },
     "output_type": "display_data"
    }
   ],
   "source": [
    "sns.catplot(x=\"Parch\", y =\"Survived\", data=data, kind=\"bar\", height=3)\n",
    "plt.show()"
   ]
  },
  {
   "cell_type": "markdown",
   "metadata": {
    "papermill": {
     "duration": 0.077176,
     "end_time": "2020-12-04T13:28:31.310278",
     "exception": false,
     "start_time": "2020-12-04T13:28:31.233102",
     "status": "completed"
    },
    "tags": []
   },
   "source": [
    " ### Age - Survived"
   ]
  },
  {
   "cell_type": "code",
   "execution_count": 21,
   "metadata": {
    "execution": {
     "iopub.execute_input": "2020-12-04T13:28:31.476586Z",
     "iopub.status.busy": "2020-12-04T13:28:31.471114Z",
     "iopub.status.idle": "2020-12-04T13:28:32.113598Z",
     "shell.execute_reply": "2020-12-04T13:28:32.112808Z"
    },
    "papermill": {
     "duration": 0.726714,
     "end_time": "2020-12-04T13:28:32.113723",
     "exception": false,
     "start_time": "2020-12-04T13:28:31.387009",
     "status": "completed"
    },
    "tags": []
   },
   "outputs": [
    {
     "data": {
      "image/png": "[encoded data removed]",
      "text/plain": [
       "<Figure size 216x432 with 2 Axes>"
      ]
     },
     "metadata": {
      "needs_background": "light"
     },
     "output_type": "display_data"
    }
   ],
   "source": [
    "g = sns.FacetGrid(data, row=\"Survived\")\n",
    "g.map(sns.histplot, \"Age\", bins=25)\n",
    "plt.show()"
   ]
  },
  {
   "cell_type": "markdown",
   "metadata": {
    "papermill": {
     "duration": 0.077341,
     "end_time": "2020-12-04T13:28:32.269185",
     "exception": false,
     "start_time": "2020-12-04T13:28:32.191844",
     "status": "completed"
    },
    "tags": []
   },
   "source": [
    " ### Fare - Survived"
   ]
  },
  {
   "cell_type": "code",
   "execution_count": 22,
   "metadata": {
    "execution": {
     "iopub.execute_input": "2020-12-04T13:28:32.445334Z",
     "iopub.status.busy": "2020-12-04T13:28:32.444250Z",
     "iopub.status.idle": "2020-12-04T13:28:33.070584Z",
     "shell.execute_reply": "2020-12-04T13:28:33.069919Z"
    },
    "papermill": {
     "duration": 0.723868,
     "end_time": "2020-12-04T13:28:33.070708",
     "exception": false,
     "start_time": "2020-12-04T13:28:32.346840",
     "status": "completed"
    },
    "tags": []
   },
   "outputs": [
    {
     "data": {
      "image/png": "[encoded data removed]",
      "text/plain": [
       "<Figure size 216x432 with 2 Axes>"
      ]
     },
     "metadata": {
      "needs_background": "light"
     },
     "output_type": "display_data"
    }
   ],
   "source": [
    "g = sns.FacetGrid(data, row=\"Survived\")\n",
    "g.map(sns.histplot, \"Fare\", bins=25)\n",
    "plt.show()"
   ]
  },
  {
   "cell_type": "markdown",
   "metadata": {
    "papermill": {
     "duration": 0.126177,
     "end_time": "2020-12-04T13:28:33.276525",
     "exception": false,
     "start_time": "2020-12-04T13:28:33.150348",
     "status": "completed"
    },
    "tags": []
   },
   "source": [
    "<a id='7'></a><br>\n",
    "## 2-Colelation Between Features"
   ]
  },
  {
   "cell_type": "code",
   "execution_count": 23,
   "metadata": {
    "execution": {
     "iopub.execute_input": "2020-12-04T13:28:33.453433Z",
     "iopub.status.busy": "2020-12-04T13:28:33.452362Z",
     "iopub.status.idle": "2020-12-04T13:28:33.922444Z",
     "shell.execute_reply": "2020-12-04T13:28:33.921695Z"
    },
    "papermill": {
     "duration": 0.566911,
     "end_time": "2020-12-04T13:28:33.922570",
     "exception": false,
     "start_time": "2020-12-04T13:28:33.355659",
     "status": "completed"
    },
    "tags": []
   },
   "outputs": [
    {
     "data": {
      "image/png": "[encoded data removed]",
      "text/plain": [
       "<Figure size 432x288 with 2 Axes>"
      ]
     },
     "metadata": {
      "needs_background": "light"
     },
     "output_type": "display_data"
    }
   ],
   "source": [
    "#data[\"Sex\"] = [0 if i == \"male\" else 1 for i in data[\"Sex\"]]\n",
    "data['Sex'].replace(['male','female'],[0,1],inplace=True)\n",
    "data['Embarked'].replace(['S','C','Q'],[0,1,2],inplace=True)\n",
    "# male: 0, famela: 1\n",
    "sns.heatmap(data[[\"Age\",\"Sex\",\"SibSp\",\"Parch\",\"Pclass\",\"Fare\",\"Embarked\", \"Survived\"]].corr(), annot = True)\n",
    "plt.show()"
   ]
  },
  {
   "cell_type": "markdown",
   "metadata": {},
   "source": [
    "與生存率有高相關性的欄位 (>0.2)\n",
    "- 性別 (0.54)\n",
    "- 船票等級 (-0.34) \n",
    "- 票價 (0.26)\n",
    "\n",
    "其他有高相關性的欄位組合\n",
    "- 子女 跟 性別 (0.21)\n",
    "- 攜帶的兄弟姊妹跟配偶數目 與 年齡 (-0.24)\n",
    "- 船票等級 與 年齡 (-0.41)\n",
    "- 攜帶的兄弟姊妹跟配偶數目 與 攜帶父母與子女數目 (0.37)\n",
    "- 船票等級 與 票價 (-0.56)"
   ]
  },
  {
   "cell_type": "markdown",
   "metadata": {
    "papermill": {
     "duration": 0.080986,
     "end_time": "2020-12-04T13:28:34.085724",
     "exception": false,
     "start_time": "2020-12-04T13:28:34.004738",
     "status": "completed"
    },
    "tags": []
   },
   "source": [
    "**Outcome**    \n",
    "\n",
    "* Sex, Pclass, Fare and Embarked are associated with Survived. \n"
   ]
  },
  {
   "cell_type": "markdown",
   "metadata": {
    "papermill": {
     "duration": 0.080815,
     "end_time": "2020-12-04T13:28:34.247695",
     "exception": false,
     "start_time": "2020-12-04T13:28:34.166880",
     "status": "completed"
    },
    "tags": []
   },
   "source": [
    "<a id='8'></a><br>\n",
    "# Chapter-3 Missing Value\n",
    "\n",
    "* Find Missing Value\n",
    "* Fill Missing Value\n"
   ]
  },
  {
   "cell_type": "markdown",
   "metadata": {
    "papermill": {
     "duration": 0.080664,
     "end_time": "2020-12-04T13:28:34.409265",
     "exception": false,
     "start_time": "2020-12-04T13:28:34.328601",
     "status": "completed"
    },
    "tags": []
   },
   "source": [
    "<a id='9'></a><br>\n",
    "## 1-Find Missing Value"
   ]
  },
  {
   "cell_type": "code",
   "execution_count": 24,
   "metadata": {
    "execution": {
     "iopub.execute_input": "2020-12-04T13:28:34.580219Z",
     "iopub.status.busy": "2020-12-04T13:28:34.579329Z",
     "iopub.status.idle": "2020-12-04T13:28:34.583165Z",
     "shell.execute_reply": "2020-12-04T13:28:34.583723Z"
    },
    "papermill": {
     "duration": 0.093511,
     "end_time": "2020-12-04T13:28:34.583891",
     "exception": false,
     "start_time": "2020-12-04T13:28:34.490380",
     "status": "completed"
    },
    "tags": []
   },
   "outputs": [
    {
     "data": {
      "text/plain": [
       "Index(['Survived', 'Age', 'Fare', 'Cabin', 'Embarked'], dtype='object')"
      ]
     },
     "execution_count": 24,
     "metadata": {},
     "output_type": "execute_result"
    }
   ],
   "source": [
    "data.columns[data.isnull().any()]"
   ]
  },
  {
   "cell_type": "code",
   "execution_count": 25,
   "metadata": {
    "execution": {
     "iopub.execute_input": "2020-12-04T13:28:34.754503Z",
     "iopub.status.busy": "2020-12-04T13:28:34.753684Z",
     "iopub.status.idle": "2020-12-04T13:28:34.761298Z",
     "shell.execute_reply": "2020-12-04T13:28:34.760559Z"
    },
    "papermill": {
     "duration": 0.095712,
     "end_time": "2020-12-04T13:28:34.761419",
     "exception": false,
     "start_time": "2020-12-04T13:28:34.665707",
     "status": "completed"
    },
    "tags": []
   },
   "outputs": [
    {
     "data": {
      "text/plain": [
       "PassengerId       0\n",
       "Survived        418\n",
       "Pclass            0\n",
       "Name              0\n",
       "Sex               0\n",
       "Age             263\n",
       "SibSp             0\n",
       "Parch             0\n",
       "Ticket            0\n",
       "Fare              1\n",
       "Cabin          1014\n",
       "Embarked          2\n",
       "dtype: int64"
      ]
     },
     "execution_count": 25,
     "metadata": {},
     "output_type": "execute_result"
    }
   ],
   "source": [
    "data.isnull().sum()"
   ]
  },
  {
   "cell_type": "markdown",
   "metadata": {
    "papermill": {
     "duration": 0.082315,
     "end_time": "2020-12-04T13:28:34.926463",
     "exception": false,
     "start_time": "2020-12-04T13:28:34.844148",
     "status": "completed"
    },
    "tags": []
   },
   "source": [
    "<a id='10'></a><br>\n",
    "## 2-Fill Missing Value\n",
    "\n",
    "* Cabin has 1007 missing value\n",
    "* Age has 256 missing value\n",
    "* Embarked has 2 missing value\n",
    "* Fare has 1 missing value\n",
    "\n",
    "**Not: Survived has 418 missing value (only test value) 因為測試資料缺少生存這個欄位**"
   ]
  },
  {
   "cell_type": "markdown",
   "metadata": {
    "papermill": {
     "duration": 0.081583,
     "end_time": "2020-12-04T13:28:35.094878",
     "exception": false,
     "start_time": "2020-12-04T13:28:35.013295",
     "status": "completed"
    },
    "tags": []
   },
   "source": [
    "### Fare Fill Value"
   ]
  },
  {
   "cell_type": "code",
   "execution_count": 26,
   "metadata": {
    "execution": {
     "iopub.execute_input": "2020-12-04T13:28:35.276577Z",
     "iopub.status.busy": "2020-12-04T13:28:35.275597Z",
     "iopub.status.idle": "2020-12-04T13:28:35.280503Z",
     "shell.execute_reply": "2020-12-04T13:28:35.279793Z"
    },
    "papermill": {
     "duration": 0.103793,
     "end_time": "2020-12-04T13:28:35.280618",
     "exception": false,
     "start_time": "2020-12-04T13:28:35.176825",
     "status": "completed"
    },
    "tags": []
   },
   "outputs": [
    {
     "data": {
      "text/html": [
       "<div>\n",
       "<style scoped>\n",
       "    .dataframe tbody tr th:only-of-type {\n",
       "        vertical-align: middle;\n",
       "    }\n",
       "\n",
       "    .dataframe tbody tr th {\n",
       "        vertical-align: top;\n",
       "    }\n",
       "\n",
       "    .dataframe thead th {\n",
       "        text-align: right;\n",
       "    }\n",
       "</style>\n",
       "<table border=\"1\" class=\"dataframe\">\n",
       "  <thead>\n",
       "    <tr style=\"text-align: right;\">\n",
       "      <th></th>\n",
       "      <th>PassengerId</th>\n",
       "      <th>Survived</th>\n",
       "      <th>Pclass</th>\n",
       "      <th>Name</th>\n",
       "      <th>Sex</th>\n",
       "      <th>Age</th>\n",
       "      <th>SibSp</th>\n",
       "      <th>Parch</th>\n",
       "      <th>Ticket</th>\n",
       "      <th>Fare</th>\n",
       "      <th>Cabin</th>\n",
       "      <th>Embarked</th>\n",
       "    </tr>\n",
       "  </thead>\n",
       "  <tbody>\n",
       "    <tr>\n",
       "      <th>1043</th>\n",
       "      <td>1044</td>\n",
       "      <td>NaN</td>\n",
       "      <td>3</td>\n",
       "      <td>Storey, Mr. Thomas</td>\n",
       "      <td>0</td>\n",
       "      <td>60.5</td>\n",
       "      <td>0</td>\n",
       "      <td>0</td>\n",
       "      <td>3701</td>\n",
       "      <td>NaN</td>\n",
       "      <td>NaN</td>\n",
       "      <td>0.0</td>\n",
       "    </tr>\n",
       "  </tbody>\n",
       "</table>\n",
       "</div>"
      ],
      "text/plain": [
       "      PassengerId  Survived  Pclass                Name  Sex   Age  SibSp  \\\n",
       "1043         1044       NaN       3  Storey, Mr. Thomas    0  60.5      0   \n",
       "\n",
       "      Parch Ticket  Fare Cabin  Embarked  \n",
       "1043      0   3701   NaN   NaN       0.0  "
      ]
     },
     "execution_count": 26,
     "metadata": {},
     "output_type": "execute_result"
    }
   ],
   "source": [
    "data[data[\"Fare\"].isnull()]"
   ]
  },
  {
   "cell_type": "code",
   "execution_count": 27,
   "metadata": {
    "execution": {
     "iopub.execute_input": "2020-12-04T13:28:35.464281Z",
     "iopub.status.busy": "2020-12-04T13:28:35.463382Z",
     "iopub.status.idle": "2020-12-04T13:28:35.467619Z",
     "shell.execute_reply": "2020-12-04T13:28:35.466895Z"
    },
    "papermill": {
     "duration": 0.104121,
     "end_time": "2020-12-04T13:28:35.467750",
     "exception": false,
     "start_time": "2020-12-04T13:28:35.363629",
     "status": "completed"
    },
    "tags": []
   },
   "outputs": [
    {
     "data": {
      "text/html": [
       "<div>\n",
       "<style scoped>\n",
       "    .dataframe tbody tr th:only-of-type {\n",
       "        vertical-align: middle;\n",
       "    }\n",
       "\n",
       "    .dataframe tbody tr th {\n",
       "        vertical-align: top;\n",
       "    }\n",
       "\n",
       "    .dataframe thead th {\n",
       "        text-align: right;\n",
       "    }\n",
       "</style>\n",
       "<table border=\"1\" class=\"dataframe\">\n",
       "  <thead>\n",
       "    <tr style=\"text-align: right;\">\n",
       "      <th></th>\n",
       "      <th>PassengerId</th>\n",
       "      <th>Survived</th>\n",
       "      <th>Pclass</th>\n",
       "      <th>Name</th>\n",
       "      <th>Sex</th>\n",
       "      <th>Age</th>\n",
       "      <th>SibSp</th>\n",
       "      <th>Parch</th>\n",
       "      <th>Ticket</th>\n",
       "      <th>Fare</th>\n",
       "      <th>Cabin</th>\n",
       "      <th>Embarked</th>\n",
       "    </tr>\n",
       "  </thead>\n",
       "  <tbody>\n",
       "  </tbody>\n",
       "</table>\n",
       "</div>"
      ],
      "text/plain": [
       "Empty DataFrame\n",
       "Columns: [PassengerId, Survived, Pclass, Name, Sex, Age, SibSp, Parch, Ticket, Fare, Cabin, Embarked]\n",
       "Index: []"
      ]
     },
     "execution_count": 27,
     "metadata": {},
     "output_type": "execute_result"
    }
   ],
   "source": [
    "# 將同樣出發地跟同樣船票等級的票價平均值當成缺失資料的值\n",
    "data[\"Fare\"] = data[\"Fare\"].fillna(\n",
    "    np.mean(data[((data[\"Pclass\"]==3) & (data[\"Embarked\"]==0))][\"Fare\"]))\n",
    "data[data[\"Fare\"].isnull()]"
   ]
  },
  {
   "cell_type": "markdown",
   "metadata": {
    "papermill": {
     "duration": 0.083748,
     "end_time": "2020-12-04T13:28:35.635119",
     "exception": false,
     "start_time": "2020-12-04T13:28:35.551371",
     "status": "completed"
    },
    "tags": []
   },
   "source": [
    "### Embarked Fill Value\n",
    "S = 0,  C = 1 and Q = 2"
   ]
  },
  {
   "cell_type": "code",
   "execution_count": 28,
   "metadata": {
    "execution": {
     "iopub.execute_input": "2020-12-04T13:28:35.821146Z",
     "iopub.status.busy": "2020-12-04T13:28:35.814958Z",
     "iopub.status.idle": "2020-12-04T13:28:35.826060Z",
     "shell.execute_reply": "2020-12-04T13:28:35.825331Z"
    },
    "papermill": {
     "duration": 0.107713,
     "end_time": "2020-12-04T13:28:35.826178",
     "exception": false,
     "start_time": "2020-12-04T13:28:35.718465",
     "status": "completed"
    },
    "tags": []
   },
   "outputs": [
    {
     "data": {
      "text/html": [
       "<div>\n",
       "<style scoped>\n",
       "    .dataframe tbody tr th:only-of-type {\n",
       "        vertical-align: middle;\n",
       "    }\n",
       "\n",
       "    .dataframe tbody tr th {\n",
       "        vertical-align: top;\n",
       "    }\n",
       "\n",
       "    .dataframe thead th {\n",
       "        text-align: right;\n",
       "    }\n",
       "</style>\n",
       "<table border=\"1\" class=\"dataframe\">\n",
       "  <thead>\n",
       "    <tr style=\"text-align: right;\">\n",
       "      <th></th>\n",
       "      <th>PassengerId</th>\n",
       "      <th>Survived</th>\n",
       "      <th>Pclass</th>\n",
       "      <th>Name</th>\n",
       "      <th>Sex</th>\n",
       "      <th>Age</th>\n",
       "      <th>SibSp</th>\n",
       "      <th>Parch</th>\n",
       "      <th>Ticket</th>\n",
       "      <th>Fare</th>\n",
       "      <th>Cabin</th>\n",
       "      <th>Embarked</th>\n",
       "    </tr>\n",
       "  </thead>\n",
       "  <tbody>\n",
       "    <tr>\n",
       "      <th>61</th>\n",
       "      <td>62</td>\n",
       "      <td>1.0</td>\n",
       "      <td>1</td>\n",
       "      <td>Icard, Miss. Amelie</td>\n",
       "      <td>1</td>\n",
       "      <td>38.0</td>\n",
       "      <td>0</td>\n",
       "      <td>0</td>\n",
       "      <td>113572</td>\n",
       "      <td>80.0</td>\n",
       "      <td>B28</td>\n",
       "      <td>NaN</td>\n",
       "    </tr>\n",
       "    <tr>\n",
       "      <th>829</th>\n",
       "      <td>830</td>\n",
       "      <td>1.0</td>\n",
       "      <td>1</td>\n",
       "      <td>Stone, Mrs. George Nelson (Martha Evelyn)</td>\n",
       "      <td>1</td>\n",
       "      <td>62.0</td>\n",
       "      <td>0</td>\n",
       "      <td>0</td>\n",
       "      <td>113572</td>\n",
       "      <td>80.0</td>\n",
       "      <td>B28</td>\n",
       "      <td>NaN</td>\n",
       "    </tr>\n",
       "  </tbody>\n",
       "</table>\n",
       "</div>"
      ],
      "text/plain": [
       "     PassengerId  Survived  Pclass                                       Name  \\\n",
       "61            62       1.0       1                        Icard, Miss. Amelie   \n",
       "829          830       1.0       1  Stone, Mrs. George Nelson (Martha Evelyn)   \n",
       "\n",
       "     Sex   Age  SibSp  Parch  Ticket  Fare Cabin  Embarked  \n",
       "61     1  38.0      0      0  113572  80.0   B28       NaN  \n",
       "829    1  62.0      0      0  113572  80.0   B28       NaN  "
      ]
     },
     "execution_count": 28,
     "metadata": {},
     "output_type": "execute_result"
    }
   ],
   "source": [
    "data[data[\"Embarked\"].isnull()]"
   ]
  },
  {
   "cell_type": "markdown",
   "metadata": {},
   "source": [
    "這兩筆資料缺少出發地，原則上相同出發地與船票等級的票價應該接近。所以可以根據出發地與船票等級來聚類找出票價中位數最接近的一組。"
   ]
  },
  {
   "cell_type": "code",
   "execution_count": 29,
   "metadata": {},
   "outputs": [
    {
     "data": {
      "text/plain": [
       "Embarked  Pclass\n",
       "0.0       1         52.0000\n",
       "          2         15.3750\n",
       "          3          8.0500\n",
       "1.0       1         76.7292\n",
       "          2         15.3146\n",
       "          3          7.8958\n",
       "2.0       1         90.0000\n",
       "          2         12.3500\n",
       "          3          7.7500\n",
       "Name: Fare, dtype: float64"
      ]
     },
     "execution_count": 29,
     "metadata": {},
     "output_type": "execute_result"
    }
   ],
   "source": [
    "data.groupby(['Embarked','Pclass'])['Fare'].median()"
   ]
  },
  {
   "cell_type": "markdown",
   "metadata": {},
   "source": [
    "Pclass=1時，三個出發地票價的中位數最接近80的是 Embarked='C' (1.0)"
   ]
  },
  {
   "cell_type": "code",
   "execution_count": 30,
   "metadata": {
    "execution": {
     "iopub.execute_input": "2020-12-04T13:28:36.012248Z",
     "iopub.status.busy": "2020-12-04T13:28:36.011300Z",
     "iopub.status.idle": "2020-12-04T13:28:36.015362Z",
     "shell.execute_reply": "2020-12-04T13:28:36.015889Z"
    },
    "papermill": {
     "duration": 0.103672,
     "end_time": "2020-12-04T13:28:36.016067",
     "exception": false,
     "start_time": "2020-12-04T13:28:35.912395",
     "status": "completed"
    },
    "tags": []
   },
   "outputs": [
    {
     "data": {
      "text/html": [
       "<div>\n",
       "<style scoped>\n",
       "    .dataframe tbody tr th:only-of-type {\n",
       "        vertical-align: middle;\n",
       "    }\n",
       "\n",
       "    .dataframe tbody tr th {\n",
       "        vertical-align: top;\n",
       "    }\n",
       "\n",
       "    .dataframe thead th {\n",
       "        text-align: right;\n",
       "    }\n",
       "</style>\n",
       "<table border=\"1\" class=\"dataframe\">\n",
       "  <thead>\n",
       "    <tr style=\"text-align: right;\">\n",
       "      <th></th>\n",
       "      <th>PassengerId</th>\n",
       "      <th>Survived</th>\n",
       "      <th>Pclass</th>\n",
       "      <th>Name</th>\n",
       "      <th>Sex</th>\n",
       "      <th>Age</th>\n",
       "      <th>SibSp</th>\n",
       "      <th>Parch</th>\n",
       "      <th>Ticket</th>\n",
       "      <th>Fare</th>\n",
       "      <th>Cabin</th>\n",
       "      <th>Embarked</th>\n",
       "    </tr>\n",
       "  </thead>\n",
       "  <tbody>\n",
       "  </tbody>\n",
       "</table>\n",
       "</div>"
      ],
      "text/plain": [
       "Empty DataFrame\n",
       "Columns: [PassengerId, Survived, Pclass, Name, Sex, Age, SibSp, Parch, Ticket, Fare, Cabin, Embarked]\n",
       "Index: []"
      ]
     },
     "execution_count": 30,
     "metadata": {},
     "output_type": "execute_result"
    }
   ],
   "source": [
    "data[\"Embarked\"] = data[\"Embarked\"].fillna(1)\n",
    "data[data[\"Embarked\"].isnull()]"
   ]
  },
  {
   "cell_type": "markdown",
   "metadata": {
    "papermill": {
     "duration": 0.085189,
     "end_time": "2020-12-04T13:28:36.187043",
     "exception": false,
     "start_time": "2020-12-04T13:28:36.101854",
     "status": "completed"
    },
    "tags": []
   },
   "source": [
    "### Age Fill Value\n",
    "\n",
    "\n",
    "* Age feature will be done later"
   ]
  },
  {
   "cell_type": "code",
   "execution_count": 31,
   "metadata": {
    "execution": {
     "iopub.execute_input": "2020-12-04T13:28:36.389861Z",
     "iopub.status.busy": "2020-12-04T13:28:36.388814Z",
     "iopub.status.idle": "2020-12-04T13:28:36.393901Z",
     "shell.execute_reply": "2020-12-04T13:28:36.393292Z"
    },
    "papermill": {
     "duration": 0.121536,
     "end_time": "2020-12-04T13:28:36.394038",
     "exception": false,
     "start_time": "2020-12-04T13:28:36.272502",
     "status": "completed"
    },
    "tags": []
   },
   "outputs": [
    {
     "data": {
      "text/html": [
       "<div>\n",
       "<style scoped>\n",
       "    .dataframe tbody tr th:only-of-type {\n",
       "        vertical-align: middle;\n",
       "    }\n",
       "\n",
       "    .dataframe tbody tr th {\n",
       "        vertical-align: top;\n",
       "    }\n",
       "\n",
       "    .dataframe thead th {\n",
       "        text-align: right;\n",
       "    }\n",
       "</style>\n",
       "<table border=\"1\" class=\"dataframe\">\n",
       "  <thead>\n",
       "    <tr style=\"text-align: right;\">\n",
       "      <th></th>\n",
       "      <th>PassengerId</th>\n",
       "      <th>Survived</th>\n",
       "      <th>Pclass</th>\n",
       "      <th>Name</th>\n",
       "      <th>Sex</th>\n",
       "      <th>Age</th>\n",
       "      <th>SibSp</th>\n",
       "      <th>Parch</th>\n",
       "      <th>Ticket</th>\n",
       "      <th>Fare</th>\n",
       "      <th>Cabin</th>\n",
       "      <th>Embarked</th>\n",
       "    </tr>\n",
       "  </thead>\n",
       "  <tbody>\n",
       "    <tr>\n",
       "      <th>5</th>\n",
       "      <td>6</td>\n",
       "      <td>0.0</td>\n",
       "      <td>3</td>\n",
       "      <td>Moran, Mr. James</td>\n",
       "      <td>0</td>\n",
       "      <td>NaN</td>\n",
       "      <td>0</td>\n",
       "      <td>0</td>\n",
       "      <td>330877</td>\n",
       "      <td>8.4583</td>\n",
       "      <td>NaN</td>\n",
       "      <td>2.0</td>\n",
       "    </tr>\n",
       "    <tr>\n",
       "      <th>17</th>\n",
       "      <td>18</td>\n",
       "      <td>1.0</td>\n",
       "      <td>2</td>\n",
       "      <td>Williams, Mr. Charles Eugene</td>\n",
       "      <td>0</td>\n",
       "      <td>NaN</td>\n",
       "      <td>0</td>\n",
       "      <td>0</td>\n",
       "      <td>244373</td>\n",
       "      <td>13.0000</td>\n",
       "      <td>NaN</td>\n",
       "      <td>0.0</td>\n",
       "    </tr>\n",
       "    <tr>\n",
       "      <th>19</th>\n",
       "      <td>20</td>\n",
       "      <td>1.0</td>\n",
       "      <td>3</td>\n",
       "      <td>Masselmani, Mrs. Fatima</td>\n",
       "      <td>1</td>\n",
       "      <td>NaN</td>\n",
       "      <td>0</td>\n",
       "      <td>0</td>\n",
       "      <td>2649</td>\n",
       "      <td>7.2250</td>\n",
       "      <td>NaN</td>\n",
       "      <td>1.0</td>\n",
       "    </tr>\n",
       "    <tr>\n",
       "      <th>26</th>\n",
       "      <td>27</td>\n",
       "      <td>0.0</td>\n",
       "      <td>3</td>\n",
       "      <td>Emir, Mr. Farred Chehab</td>\n",
       "      <td>0</td>\n",
       "      <td>NaN</td>\n",
       "      <td>0</td>\n",
       "      <td>0</td>\n",
       "      <td>2631</td>\n",
       "      <td>7.2250</td>\n",
       "      <td>NaN</td>\n",
       "      <td>1.0</td>\n",
       "    </tr>\n",
       "    <tr>\n",
       "      <th>28</th>\n",
       "      <td>29</td>\n",
       "      <td>1.0</td>\n",
       "      <td>3</td>\n",
       "      <td>O'Dwyer, Miss. Ellen \"Nellie\"</td>\n",
       "      <td>1</td>\n",
       "      <td>NaN</td>\n",
       "      <td>0</td>\n",
       "      <td>0</td>\n",
       "      <td>330959</td>\n",
       "      <td>7.8792</td>\n",
       "      <td>NaN</td>\n",
       "      <td>2.0</td>\n",
       "    </tr>\n",
       "    <tr>\n",
       "      <th>...</th>\n",
       "      <td>...</td>\n",
       "      <td>...</td>\n",
       "      <td>...</td>\n",
       "      <td>...</td>\n",
       "      <td>...</td>\n",
       "      <td>...</td>\n",
       "      <td>...</td>\n",
       "      <td>...</td>\n",
       "      <td>...</td>\n",
       "      <td>...</td>\n",
       "      <td>...</td>\n",
       "      <td>...</td>\n",
       "    </tr>\n",
       "    <tr>\n",
       "      <th>1299</th>\n",
       "      <td>1300</td>\n",
       "      <td>NaN</td>\n",
       "      <td>3</td>\n",
       "      <td>Riordan, Miss. Johanna Hannah\"\"</td>\n",
       "      <td>1</td>\n",
       "      <td>NaN</td>\n",
       "      <td>0</td>\n",
       "      <td>0</td>\n",
       "      <td>334915</td>\n",
       "      <td>7.7208</td>\n",
       "      <td>NaN</td>\n",
       "      <td>2.0</td>\n",
       "    </tr>\n",
       "    <tr>\n",
       "      <th>1301</th>\n",
       "      <td>1302</td>\n",
       "      <td>NaN</td>\n",
       "      <td>3</td>\n",
       "      <td>Naughton, Miss. Hannah</td>\n",
       "      <td>1</td>\n",
       "      <td>NaN</td>\n",
       "      <td>0</td>\n",
       "      <td>0</td>\n",
       "      <td>365237</td>\n",
       "      <td>7.7500</td>\n",
       "      <td>NaN</td>\n",
       "      <td>2.0</td>\n",
       "    </tr>\n",
       "    <tr>\n",
       "      <th>1304</th>\n",
       "      <td>1305</td>\n",
       "      <td>NaN</td>\n",
       "      <td>3</td>\n",
       "      <td>Spector, Mr. Woolf</td>\n",
       "      <td>0</td>\n",
       "      <td>NaN</td>\n",
       "      <td>0</td>\n",
       "      <td>0</td>\n",
       "      <td>A.5. 3236</td>\n",
       "      <td>8.0500</td>\n",
       "      <td>NaN</td>\n",
       "      <td>0.0</td>\n",
       "    </tr>\n",
       "    <tr>\n",
       "      <th>1307</th>\n",
       "      <td>1308</td>\n",
       "      <td>NaN</td>\n",
       "      <td>3</td>\n",
       "      <td>Ware, Mr. Frederick</td>\n",
       "      <td>0</td>\n",
       "      <td>NaN</td>\n",
       "      <td>0</td>\n",
       "      <td>0</td>\n",
       "      <td>359309</td>\n",
       "      <td>8.0500</td>\n",
       "      <td>NaN</td>\n",
       "      <td>0.0</td>\n",
       "    </tr>\n",
       "    <tr>\n",
       "      <th>1308</th>\n",
       "      <td>1309</td>\n",
       "      <td>NaN</td>\n",
       "      <td>3</td>\n",
       "      <td>Peter, Master. Michael J</td>\n",
       "      <td>0</td>\n",
       "      <td>NaN</td>\n",
       "      <td>1</td>\n",
       "      <td>1</td>\n",
       "      <td>2668</td>\n",
       "      <td>22.3583</td>\n",
       "      <td>NaN</td>\n",
       "      <td>1.0</td>\n",
       "    </tr>\n",
       "  </tbody>\n",
       "</table>\n",
       "<p>263 rows × 12 columns</p>\n",
       "</div>"
      ],
      "text/plain": [
       "      PassengerId  Survived  Pclass                             Name  Sex  \\\n",
       "5               6       0.0       3                 Moran, Mr. James    0   \n",
       "17             18       1.0       2     Williams, Mr. Charles Eugene    0   \n",
       "19             20       1.0       3          Masselmani, Mrs. Fatima    1   \n",
       "26             27       0.0       3          Emir, Mr. Farred Chehab    0   \n",
       "28             29       1.0       3    O'Dwyer, Miss. Ellen \"Nellie\"    1   \n",
       "...           ...       ...     ...                              ...  ...   \n",
       "1299         1300       NaN       3  Riordan, Miss. Johanna Hannah\"\"    1   \n",
       "1301         1302       NaN       3           Naughton, Miss. Hannah    1   \n",
       "1304         1305       NaN       3               Spector, Mr. Woolf    0   \n",
       "1307         1308       NaN       3              Ware, Mr. Frederick    0   \n",
       "1308         1309       NaN       3         Peter, Master. Michael J    0   \n",
       "\n",
       "      Age  SibSp  Parch     Ticket     Fare Cabin  Embarked  \n",
       "5     NaN      0      0     330877   8.4583   NaN       2.0  \n",
       "17    NaN      0      0     244373  13.0000   NaN       0.0  \n",
       "19    NaN      0      0       2649   7.2250   NaN       1.0  \n",
       "26    NaN      0      0       2631   7.2250   NaN       1.0  \n",
       "28    NaN      0      0     330959   7.8792   NaN       2.0  \n",
       "...   ...    ...    ...        ...      ...   ...       ...  \n",
       "1299  NaN      0      0     334915   7.7208   NaN       2.0  \n",
       "1301  NaN      0      0     365237   7.7500   NaN       2.0  \n",
       "1304  NaN      0      0  A.5. 3236   8.0500   NaN       0.0  \n",
       "1307  NaN      0      0     359309   8.0500   NaN       0.0  \n",
       "1308  NaN      1      1       2668  22.3583   NaN       1.0  \n",
       "\n",
       "[263 rows x 12 columns]"
      ]
     },
     "execution_count": 31,
     "metadata": {},
     "output_type": "execute_result"
    }
   ],
   "source": [
    "data[data[\"Age\"].isnull()]"
   ]
  },
  {
   "cell_type": "markdown",
   "metadata": {
    "papermill": {
     "duration": 0.085657,
     "end_time": "2020-12-04T13:28:36.565407",
     "exception": false,
     "start_time": "2020-12-04T13:28:36.479750",
     "status": "completed"
    },
    "tags": []
   },
   "source": [
    "<a id='8'></a><br>\n",
    "# Chapter-4 Data Engineering\n",
    "\n",
    "* New Feature\n",
    "* Edit Feature\n",
    "* Drop Feature\n",
    "* Normalization"
   ]
  },
  {
   "cell_type": "markdown",
   "metadata": {
    "papermill": {
     "duration": 0.102506,
     "end_time": "2020-12-04T13:28:36.753886",
     "exception": false,
     "start_time": "2020-12-04T13:28:36.651380",
     "status": "completed"
    },
    "tags": []
   },
   "source": [
    "<a id='12'></a><br>\n",
    "## 1-New - Feature\n",
    "* Alone and Family\n",
    "* Name - Title\n",
    "* Age Missing Value\n",
    "* Age Limit"
   ]
  },
  {
   "cell_type": "markdown",
   "metadata": {
    "papermill": {
     "duration": 0.089112,
     "end_time": "2020-12-04T13:28:36.949521",
     "exception": false,
     "start_time": "2020-12-04T13:28:36.860409",
     "status": "completed"
    },
    "tags": []
   },
   "source": [
    "### Family \n",
    "增加一個欄位: 家庭人數\n",
    "* SibSp + Parch = family \n"
   ]
  },
  {
   "cell_type": "code",
   "execution_count": 32,
   "metadata": {
    "execution": {
     "iopub.execute_input": "2020-12-04T13:28:37.142115Z",
     "iopub.status.busy": "2020-12-04T13:28:37.141325Z",
     "iopub.status.idle": "2020-12-04T13:28:37.662152Z",
     "shell.execute_reply": "2020-12-04T13:28:37.661416Z"
    },
    "papermill": {
     "duration": 0.626278,
     "end_time": "2020-12-04T13:28:37.662273",
     "exception": false,
     "start_time": "2020-12-04T13:28:37.035995",
     "status": "completed"
    },
    "tags": []
   },
   "outputs": [
    {
     "data": {
      "image/png": "[encoded data removed]",
      "text/plain": [
       "<Figure size 216x216 with 1 Axes>"
      ]
     },
     "metadata": {
      "needs_background": "light"
     },
     "output_type": "display_data"
    }
   ],
   "source": [
    "data[\"Family\"] = data[\"SibSp\"] + data[\"Parch\"]\n",
    "sns.catplot(x=\"Family\", y =\"Survived\", data=data, kind=\"bar\", height=3)\n",
    "plt.show()"
   ]
  },
  {
   "cell_type": "code",
   "execution_count": 33,
   "metadata": {
    "execution": {
     "iopub.execute_input": "2020-12-04T13:28:37.857584Z",
     "iopub.status.busy": "2020-12-04T13:28:37.856515Z",
     "iopub.status.idle": "2020-12-04T13:28:37.876631Z",
     "shell.execute_reply": "2020-12-04T13:28:37.877230Z"
    },
    "papermill": {
     "duration": 0.117831,
     "end_time": "2020-12-04T13:28:37.877382",
     "exception": false,
     "start_time": "2020-12-04T13:28:37.759551",
     "status": "completed"
    },
    "tags": []
   },
   "outputs": [
    {
     "data": {
      "text/html": [
       "<div>\n",
       "<style scoped>\n",
       "    .dataframe tbody tr th:only-of-type {\n",
       "        vertical-align: middle;\n",
       "    }\n",
       "\n",
       "    .dataframe tbody tr th {\n",
       "        vertical-align: top;\n",
       "    }\n",
       "\n",
       "    .dataframe thead th {\n",
       "        text-align: right;\n",
       "    }\n",
       "</style>\n",
       "<table border=\"1\" class=\"dataframe\">\n",
       "  <thead>\n",
       "    <tr style=\"text-align: right;\">\n",
       "      <th></th>\n",
       "      <th>PassengerId</th>\n",
       "      <th>Survived</th>\n",
       "      <th>Pclass</th>\n",
       "      <th>Name</th>\n",
       "      <th>Sex</th>\n",
       "      <th>Age</th>\n",
       "      <th>SibSp</th>\n",
       "      <th>Parch</th>\n",
       "      <th>Ticket</th>\n",
       "      <th>Fare</th>\n",
       "      <th>Cabin</th>\n",
       "      <th>Embarked</th>\n",
       "      <th>Family</th>\n",
       "      <th>Alone</th>\n",
       "    </tr>\n",
       "  </thead>\n",
       "  <tbody>\n",
       "    <tr>\n",
       "      <th>0</th>\n",
       "      <td>1</td>\n",
       "      <td>0.0</td>\n",
       "      <td>3</td>\n",
       "      <td>Braund, Mr. Owen Harris</td>\n",
       "      <td>0</td>\n",
       "      <td>22.0</td>\n",
       "      <td>1</td>\n",
       "      <td>0</td>\n",
       "      <td>A/5 21171</td>\n",
       "      <td>7.2500</td>\n",
       "      <td>NaN</td>\n",
       "      <td>0.0</td>\n",
       "      <td>1</td>\n",
       "      <td>0</td>\n",
       "    </tr>\n",
       "    <tr>\n",
       "      <th>1</th>\n",
       "      <td>2</td>\n",
       "      <td>1.0</td>\n",
       "      <td>1</td>\n",
       "      <td>Cumings, Mrs. John Bradley (Florence Briggs Th...</td>\n",
       "      <td>1</td>\n",
       "      <td>38.0</td>\n",
       "      <td>1</td>\n",
       "      <td>0</td>\n",
       "      <td>PC 17599</td>\n",
       "      <td>71.2833</td>\n",
       "      <td>C85</td>\n",
       "      <td>1.0</td>\n",
       "      <td>1</td>\n",
       "      <td>0</td>\n",
       "    </tr>\n",
       "    <tr>\n",
       "      <th>2</th>\n",
       "      <td>3</td>\n",
       "      <td>1.0</td>\n",
       "      <td>3</td>\n",
       "      <td>Heikkinen, Miss. Laina</td>\n",
       "      <td>1</td>\n",
       "      <td>26.0</td>\n",
       "      <td>0</td>\n",
       "      <td>0</td>\n",
       "      <td>STON/O2. 3101282</td>\n",
       "      <td>7.9250</td>\n",
       "      <td>NaN</td>\n",
       "      <td>0.0</td>\n",
       "      <td>0</td>\n",
       "      <td>1</td>\n",
       "    </tr>\n",
       "    <tr>\n",
       "      <th>3</th>\n",
       "      <td>4</td>\n",
       "      <td>1.0</td>\n",
       "      <td>1</td>\n",
       "      <td>Futrelle, Mrs. Jacques Heath (Lily May Peel)</td>\n",
       "      <td>1</td>\n",
       "      <td>35.0</td>\n",
       "      <td>1</td>\n",
       "      <td>0</td>\n",
       "      <td>113803</td>\n",
       "      <td>53.1000</td>\n",
       "      <td>C123</td>\n",
       "      <td>0.0</td>\n",
       "      <td>1</td>\n",
       "      <td>0</td>\n",
       "    </tr>\n",
       "    <tr>\n",
       "      <th>4</th>\n",
       "      <td>5</td>\n",
       "      <td>0.0</td>\n",
       "      <td>3</td>\n",
       "      <td>Allen, Mr. William Henry</td>\n",
       "      <td>0</td>\n",
       "      <td>35.0</td>\n",
       "      <td>0</td>\n",
       "      <td>0</td>\n",
       "      <td>373450</td>\n",
       "      <td>8.0500</td>\n",
       "      <td>NaN</td>\n",
       "      <td>0.0</td>\n",
       "      <td>0</td>\n",
       "      <td>1</td>\n",
       "    </tr>\n",
       "  </tbody>\n",
       "</table>\n",
       "</div>"
      ],
      "text/plain": [
       "   PassengerId  Survived  Pclass  \\\n",
       "0            1       0.0       3   \n",
       "1            2       1.0       1   \n",
       "2            3       1.0       3   \n",
       "3            4       1.0       1   \n",
       "4            5       0.0       3   \n",
       "\n",
       "                                                Name  Sex   Age  SibSp  Parch  \\\n",
       "0                            Braund, Mr. Owen Harris    0  22.0      1      0   \n",
       "1  Cumings, Mrs. John Bradley (Florence Briggs Th...    1  38.0      1      0   \n",
       "2                             Heikkinen, Miss. Laina    1  26.0      0      0   \n",
       "3       Futrelle, Mrs. Jacques Heath (Lily May Peel)    1  35.0      1      0   \n",
       "4                           Allen, Mr. William Henry    0  35.0      0      0   \n",
       "\n",
       "             Ticket     Fare Cabin  Embarked  Family  Alone  \n",
       "0         A/5 21171   7.2500   NaN       0.0       1      0  \n",
       "1          PC 17599  71.2833   C85       1.0       1      0  \n",
       "2  STON/O2. 3101282   7.9250   NaN       0.0       0      1  \n",
       "3            113803  53.1000  C123       0.0       1      0  \n",
       "4            373450   8.0500   NaN       0.0       0      1  "
      ]
     },
     "execution_count": 33,
     "metadata": {},
     "output_type": "execute_result"
    }
   ],
   "source": [
    "# 增加一個是否單身的欄位\n",
    "data[\"Alone\"] = [1 if i == 0 else 0 for i in data[\"Family\"]]\n",
    "\n",
    "# 家人數目在1~3人時，有比較高的生存率\n",
    "# 因此將 1~3人聚成一類\n",
    "data[\"Family\"].replace([0,1,2,3,4,5,6,7,10], [0,1,1,1,0,2,0,2,2], inplace=True)\n",
    "data.head()"
   ]
  },
  {
   "cell_type": "markdown",
   "metadata": {
    "papermill": {
     "duration": 0.08853,
     "end_time": "2020-12-04T13:28:38.053548",
     "exception": false,
     "start_time": "2020-12-04T13:28:37.965018",
     "status": "completed"
    },
    "tags": []
   },
   "source": [
    "### Name - Title\n",
    "頭銜"
   ]
  },
  {
   "cell_type": "code",
   "execution_count": 34,
   "metadata": {
    "execution": {
     "iopub.execute_input": "2020-12-04T13:28:38.243485Z",
     "iopub.status.busy": "2020-12-04T13:28:38.242715Z",
     "iopub.status.idle": "2020-12-04T13:28:38.250647Z",
     "shell.execute_reply": "2020-12-04T13:28:38.249797Z"
    },
    "papermill": {
     "duration": 0.108129,
     "end_time": "2020-12-04T13:28:38.250776",
     "exception": false,
     "start_time": "2020-12-04T13:28:38.142647",
     "status": "completed"
    },
    "tags": []
   },
   "outputs": [],
   "source": [
    "# 將頭銜從姓名的欄位中獨立萃取出來\n",
    "data['Title']=data.Name.str.extract('([A-Za-z]+)\\.')"
   ]
  },
  {
   "cell_type": "code",
   "execution_count": 35,
   "metadata": {
    "execution": {
     "iopub.execute_input": "2020-12-04T13:28:38.433673Z",
     "iopub.status.busy": "2020-12-04T13:28:38.432903Z",
     "iopub.status.idle": "2020-12-04T13:28:38.667876Z",
     "shell.execute_reply": "2020-12-04T13:28:38.667127Z"
    },
    "papermill": {
     "duration": 0.329152,
     "end_time": "2020-12-04T13:28:38.668020",
     "exception": false,
     "start_time": "2020-12-04T13:28:38.338868",
     "status": "completed"
    },
    "tags": []
   },
   "outputs": [
    {
     "data": {
      "image/png": "[encoded data removed]",
      "text/plain": [
       "<Figure size 432x288 with 1 Axes>"
      ]
     },
     "metadata": {
      "needs_background": "light"
     },
     "output_type": "display_data"
    }
   ],
   "source": [
    "# 觀看各種不同頭銜的人數統計\n",
    "sns.countplot(x = 'Title', data = data)\n",
    "plt.xticks(rotation = 90)\n",
    "plt.show()"
   ]
  },
  {
   "cell_type": "code",
   "execution_count": 36,
   "metadata": {
    "execution": {
     "iopub.execute_input": "2020-12-04T13:28:38.891725Z",
     "iopub.status.busy": "2020-12-04T13:28:38.890669Z",
     "iopub.status.idle": "2020-12-04T13:28:38.898894Z",
     "shell.execute_reply": "2020-12-04T13:28:38.898147Z"
    },
    "papermill": {
     "duration": 0.126855,
     "end_time": "2020-12-04T13:28:38.899054",
     "exception": false,
     "start_time": "2020-12-04T13:28:38.772199",
     "status": "completed"
    },
    "tags": []
   },
   "outputs": [],
   "source": [
    "# 有些頭銜代表相同的意義，所以重新整理與對應\n",
    "data['Title'].replace(\n",
    "    ['Mme','Ms','Mlle','Lady','Countess','Dona','Dr','Major','Sir','Capt','Don','Rev','Col', 'Jonkheer'],\n",
    "    ['Miss','Miss','Miss','Mrs','Mrs','Mrs','Mr','Mr','Mr','Mr','Mr','Other','Other','Other'], \n",
    "    inplace=True)"
   ]
  },
  {
   "cell_type": "code",
   "execution_count": 37,
   "metadata": {
    "execution": {
     "iopub.execute_input": "2020-12-04T13:28:39.086302Z",
     "iopub.status.busy": "2020-12-04T13:28:39.085430Z",
     "iopub.status.idle": "2020-12-04T13:28:39.236987Z",
     "shell.execute_reply": "2020-12-04T13:28:39.236266Z"
    },
    "papermill": {
     "duration": 0.247431,
     "end_time": "2020-12-04T13:28:39.237117",
     "exception": false,
     "start_time": "2020-12-04T13:28:38.989686",
     "status": "completed"
    },
    "tags": []
   },
   "outputs": [
    {
     "data": {
      "image/png": "[encoded data removed]",
      "text/plain": [
       "<Figure size 432x288 with 1 Axes>"
      ]
     },
     "metadata": {
      "needs_background": "light"
     },
     "output_type": "display_data"
    }
   ],
   "source": [
    "# 再一次觀看整理後不同頭銜的人數統計\n",
    "sns.countplot(x = 'Title', data=data)\n",
    "plt.show()"
   ]
  },
  {
   "cell_type": "code",
   "execution_count": 38,
   "metadata": {
    "execution": {
     "iopub.execute_input": "2020-12-04T13:28:39.424990Z",
     "iopub.status.busy": "2020-12-04T13:28:39.424092Z",
     "iopub.status.idle": "2020-12-04T13:28:39.794432Z",
     "shell.execute_reply": "2020-12-04T13:28:39.793762Z"
    },
    "papermill": {
     "duration": 0.467339,
     "end_time": "2020-12-04T13:28:39.794570",
     "exception": false,
     "start_time": "2020-12-04T13:28:39.327231",
     "status": "completed"
    },
    "tags": []
   },
   "outputs": [
    {
     "data": {
      "image/png": "[encoded data removed]",
      "text/plain": [
       "<Figure size 216x216 with 1 Axes>"
      ]
     },
     "metadata": {
      "needs_background": "light"
     },
     "output_type": "display_data"
    }
   ],
   "source": [
    "# 列出不同頭銜的生存率\n",
    "sns.catplot(x=\"Title\", y =\"Survived\", data=data, kind=\"bar\", height=3)\n",
    "plt.show()"
   ]
  },
  {
   "cell_type": "markdown",
   "metadata": {},
   "source": [
    "- 女性頭銜的生存率最高\n",
    "- Mrs 又比 Miss 高一些，可能是因為有帶小孩\n",
    "- Master 頭銜的人生存率比 Mr 高數倍"
   ]
  },
  {
   "cell_type": "code",
   "execution_count": 39,
   "metadata": {
    "execution": {
     "iopub.execute_input": "2020-12-04T13:28:39.990720Z",
     "iopub.status.busy": "2020-12-04T13:28:39.989787Z",
     "iopub.status.idle": "2020-12-04T13:28:39.995326Z",
     "shell.execute_reply": "2020-12-04T13:28:39.994687Z"
    },
    "papermill": {
     "duration": 0.105746,
     "end_time": "2020-12-04T13:28:39.995464",
     "exception": false,
     "start_time": "2020-12-04T13:28:39.889718",
     "status": "completed"
    },
    "tags": []
   },
   "outputs": [],
   "source": [
    "# 將頭銜重新編碼\n",
    "data[\"Title\"].replace([\"Mr\",\"Mrs\",\"Miss\",\"Master\",\"Other\"], [1,2,3,4,5], inplace=True)"
   ]
  },
  {
   "cell_type": "markdown",
   "metadata": {
    "papermill": {
     "duration": 0.090964,
     "end_time": "2020-12-04T13:28:40.181573",
     "exception": false,
     "start_time": "2020-12-04T13:28:40.090609",
     "status": "completed"
    },
    "tags": []
   },
   "source": [
    "### Age Missing Value\n",
    "處理年齡這個欄位缺失值"
   ]
  },
  {
   "cell_type": "code",
   "execution_count": 40,
   "metadata": {
    "execution": {
     "iopub.execute_input": "2020-12-04T13:28:40.371540Z",
     "iopub.status.busy": "2020-12-04T13:28:40.370267Z",
     "iopub.status.idle": "2020-12-04T13:28:41.009223Z",
     "shell.execute_reply": "2020-12-04T13:28:41.008523Z"
    },
    "papermill": {
     "duration": 0.73661,
     "end_time": "2020-12-04T13:28:41.009355",
     "exception": false,
     "start_time": "2020-12-04T13:28:40.272745",
     "status": "completed"
    },
    "tags": []
   },
   "outputs": [
    {
     "data": {
      "text/plain": [
       "<AxesSubplot:>"
      ]
     },
     "execution_count": 40,
     "metadata": {},
     "output_type": "execute_result"
    },
    {
     "data": {
      "image/png": "[encoded data removed]",
      "text/plain": [
       "<Figure size 432x288 with 2 Axes>"
      ]
     },
     "metadata": {
      "needs_background": "light"
     },
     "output_type": "display_data"
    }
   ],
   "source": [
    "sns.heatmap(data[[\"Age\",\"Sex\",\"SibSp\",\"Parch\",\"Pclass\",\"Fare\",\"Embarked\", \"Title\"]].corr(), annot = True)\n",
    "# 檢視年齡跟其他欄位的關係，以供補缺失值的參考"
   ]
  },
  {
   "cell_type": "markdown",
   "metadata": {},
   "source": [
    "年齡與 **船票等級**跟**頭銜**這兩個欄位的相關性極高"
   ]
  },
  {
   "cell_type": "code",
   "execution_count": 41,
   "metadata": {},
   "outputs": [
    {
     "data": {
      "text/plain": [
       "263"
      ]
     },
     "execution_count": 41,
     "metadata": {},
     "output_type": "execute_result"
    }
   ],
   "source": [
    "# 原本年齡欄位的缺失數量\n",
    "data['Age'].isnull().sum()"
   ]
  },
  {
   "cell_type": "code",
   "execution_count": 42,
   "metadata": {
    "execution": {
     "iopub.execute_input": "2020-12-04T13:28:41.209134Z",
     "iopub.status.busy": "2020-12-04T13:28:41.208292Z",
     "iopub.status.idle": "2020-12-04T13:28:41.590035Z",
     "shell.execute_reply": "2020-12-04T13:28:41.589272Z"
    },
    "papermill": {
     "duration": 0.486964,
     "end_time": "2020-12-04T13:28:41.590163",
     "exception": false,
     "start_time": "2020-12-04T13:28:41.103199",
     "status": "completed"
    },
    "tags": []
   },
   "outputs": [],
   "source": [
    "data_age_nan_index = data[data[\"Age\"].isnull()].index #年齡欄位有缺失值的資料位置\n",
    "for i in data_age_nan_index:\n",
    "    # 計算相同 船票等級 跟 頭銜 的人的年齡平均值，用來當作缺失值的補值\n",
    "    mean_age = data.loc[(data[\"Pclass\"]==data.iloc[i][\"Pclass\"]) & ((data[\"Title\"]==data.iloc[i][\"Title\"]))][\"Age\"].mean()\n",
    "    data.loc[i, 'Age'] = mean_age"
   ]
  },
  {
   "cell_type": "code",
   "execution_count": 43,
   "metadata": {},
   "outputs": [
    {
     "data": {
      "text/plain": [
       "0"
      ]
     },
     "execution_count": 43,
     "metadata": {},
     "output_type": "execute_result"
    }
   ],
   "source": [
    "# 修正後年齡欄位的缺失數量\n",
    "data['Age'].isnull().sum()"
   ]
  },
  {
   "cell_type": "code",
   "execution_count": 44,
   "metadata": {
    "execution": {
     "iopub.execute_input": "2020-12-04T13:28:41.790451Z",
     "iopub.status.busy": "2020-12-04T13:28:41.789105Z",
     "iopub.status.idle": "2020-12-04T13:28:41.794265Z",
     "shell.execute_reply": "2020-12-04T13:28:41.793516Z"
    },
    "papermill": {
     "duration": 0.110936,
     "end_time": "2020-12-04T13:28:41.794390",
     "exception": false,
     "start_time": "2020-12-04T13:28:41.683454",
     "status": "completed"
    },
    "tags": []
   },
   "outputs": [],
   "source": [
    "# 將頭銜重新編碼\n",
    "data[\"Title\"].replace([1,2,3,4,5], [1,2,2,3,1], inplace=True)"
   ]
  },
  {
   "cell_type": "markdown",
   "metadata": {
    "papermill": {
     "duration": 0.095047,
     "end_time": "2020-12-04T13:28:41.982806",
     "exception": false,
     "start_time": "2020-12-04T13:28:41.887759",
     "status": "completed"
    },
    "tags": []
   },
   "source": [
    "### Age Limit"
   ]
  },
  {
   "cell_type": "markdown",
   "metadata": {},
   "source": [
    "[**pd.cut()** 跟 **pd.qcut()** 的參考](https://medium.com/@morris_tai/pandas%E7%9A%84cut-qcut%E5%87%BD%E6%95%B8-93c244e34cfc)"
   ]
  },
  {
   "cell_type": "code",
   "execution_count": 45,
   "metadata": {
    "execution": {
     "iopub.execute_input": "2020-12-04T13:28:42.187467Z",
     "iopub.status.busy": "2020-12-04T13:28:42.179365Z",
     "iopub.status.idle": "2020-12-04T13:28:42.201515Z",
     "shell.execute_reply": "2020-12-04T13:28:42.200775Z"
    },
    "papermill": {
     "duration": 0.122935,
     "end_time": "2020-12-04T13:28:42.201639",
     "exception": false,
     "start_time": "2020-12-04T13:28:42.078704",
     "status": "completed"
    },
    "tags": []
   },
   "outputs": [
    {
     "data": {
      "text/plain": [
       "Age_Limit\n",
       "(0.0902, 16.136]    0.548077\n",
       "(16.136, 32.102]    0.332627\n",
       "(32.102, 48.068]    0.412766\n",
       "(48.068, 64.034]    0.434783\n",
       "(64.034, 80.0]      0.090909\n",
       "Name: Survived, dtype: float64"
      ]
     },
     "execution_count": 45,
     "metadata": {},
     "output_type": "execute_result"
    }
   ],
   "source": [
    "# 將年齡均分成五等分，看看生存率是否有差別\n",
    "data['Age_Limit']=pd.cut(data['Age'], 5)\n",
    "data.groupby(['Age_Limit'])['Survived'].mean()"
   ]
  },
  {
   "cell_type": "markdown",
   "metadata": {},
   "source": [
    "- 未成年人的生存率有高一些\n",
    "- 16~32歲的年輕人生存率略低\n",
    "- 64歲以上的老年人生存率急遽降低"
   ]
  },
  {
   "cell_type": "code",
   "execution_count": 46,
   "metadata": {
    "execution": {
     "iopub.execute_input": "2020-12-04T13:28:42.401123Z",
     "iopub.status.busy": "2020-12-04T13:28:42.399991Z",
     "iopub.status.idle": "2020-12-04T13:28:42.409480Z",
     "shell.execute_reply": "2020-12-04T13:28:42.408726Z"
    },
    "papermill": {
     "duration": 0.114168,
     "end_time": "2020-12-04T13:28:42.409603",
     "exception": false,
     "start_time": "2020-12-04T13:28:42.295435",
     "status": "completed"
    },
    "tags": []
   },
   "outputs": [],
   "source": [
    "# 將年齡均分並編號\n",
    "data['Age_Limit']=0\n",
    "data.loc[data['Age']<=16,'Age_Limit']=0\n",
    "data.loc[(data['Age']>16)&(data['Age']<=32),'Age_Limit']=1\n",
    "data.loc[(data['Age']>32)&(data['Age']<=48),'Age_Limit']=2\n",
    "data.loc[(data['Age']>48)&(data['Age']<=60),'Age_Limit']=3\n",
    "data.loc[data['Age']>60,'Age_Limit']=4"
   ]
  },
  {
   "cell_type": "markdown",
   "metadata": {
    "papermill": {
     "duration": 0.093973,
     "end_time": "2020-12-04T13:28:42.597863",
     "exception": false,
     "start_time": "2020-12-04T13:28:42.503890",
     "status": "completed"
    },
    "tags": []
   },
   "source": [
    "### Fare Limit"
   ]
  },
  {
   "cell_type": "code",
   "execution_count": 47,
   "metadata": {
    "execution": {
     "iopub.execute_input": "2020-12-04T13:28:42.804253Z",
     "iopub.status.busy": "2020-12-04T13:28:42.797768Z",
     "iopub.status.idle": "2020-12-04T13:28:42.970180Z",
     "shell.execute_reply": "2020-12-04T13:28:42.969571Z"
    },
    "papermill": {
     "duration": 0.278115,
     "end_time": "2020-12-04T13:28:42.970309",
     "exception": false,
     "start_time": "2020-12-04T13:28:42.692194",
     "status": "completed"
    },
    "tags": []
   },
   "outputs": [
    {
     "data": {
      "text/html": [
       "<style  type=\"text/css\" >\n",
       "#T_7c33927b_379f_11eb_8693_3ca067e9032erow0_col0{\n",
       "            background-color:  #f8fc66;\n",
       "            color:  #000000;\n",
       "        }#T_7c33927b_379f_11eb_8693_3ca067e9032erow1_col0{\n",
       "            background-color:  #ffff66;\n",
       "            color:  #000000;\n",
       "        }#T_7c33927b_379f_11eb_8693_3ca067e9032erow2_col0{\n",
       "            background-color:  #a6d266;\n",
       "            color:  #000000;\n",
       "        }#T_7c33927b_379f_11eb_8693_3ca067e9032erow3_col0,#T_7c33927b_379f_11eb_8693_3ca067e9032erow4_col0{\n",
       "            background-color:  #83c166;\n",
       "            color:  #000000;\n",
       "        }#T_7c33927b_379f_11eb_8693_3ca067e9032erow5_col0{\n",
       "            background-color:  #008066;\n",
       "            color:  #f1f1f1;\n",
       "        }</style><table id=\"T_7c33927b_379f_11eb_8693_3ca067e9032e\" ><thead>    <tr>        <th class=\"blank level0\" ></th>        <th class=\"col_heading level0 col0\" >Survived</th>    </tr>    <tr>        <th class=\"index_name level0\" >Fare_Range</th>        <th class=\"blank\" ></th>    </tr></thead><tbody>\n",
       "                <tr>\n",
       "                        <th id=\"T_7c33927b_379f_11eb_8693_3ca067e9032elevel0_row0\" class=\"row_heading level0 row0\" >(-0.001, 7.775]</th>\n",
       "                        <td id=\"T_7c33927b_379f_11eb_8693_3ca067e9032erow0_col0\" class=\"data row0 col0\" >0.205128</td>\n",
       "            </tr>\n",
       "            <tr>\n",
       "                        <th id=\"T_7c33927b_379f_11eb_8693_3ca067e9032elevel0_row1\" class=\"row_heading level0 row1\" >(7.775, 8.662]</th>\n",
       "                        <td id=\"T_7c33927b_379f_11eb_8693_3ca067e9032erow1_col0\" class=\"data row1 col0\" >0.190789</td>\n",
       "            </tr>\n",
       "            <tr>\n",
       "                        <th id=\"T_7c33927b_379f_11eb_8693_3ca067e9032elevel0_row2\" class=\"row_heading level0 row2\" >(8.662, 14.454]</th>\n",
       "                        <td id=\"T_7c33927b_379f_11eb_8693_3ca067e9032erow2_col0\" class=\"data row2 col0\" >0.366906</td>\n",
       "            </tr>\n",
       "            <tr>\n",
       "                        <th id=\"T_7c33927b_379f_11eb_8693_3ca067e9032elevel0_row3\" class=\"row_heading level0 row3\" >(14.454, 26.0]</th>\n",
       "                        <td id=\"T_7c33927b_379f_11eb_8693_3ca067e9032erow3_col0\" class=\"data row3 col0\" >0.436242</td>\n",
       "            </tr>\n",
       "            <tr>\n",
       "                        <th id=\"T_7c33927b_379f_11eb_8693_3ca067e9032elevel0_row4\" class=\"row_heading level0 row4\" >(26.0, 53.1]</th>\n",
       "                        <td id=\"T_7c33927b_379f_11eb_8693_3ca067e9032erow4_col0\" class=\"data row4 col0\" >0.435065</td>\n",
       "            </tr>\n",
       "            <tr>\n",
       "                        <th id=\"T_7c33927b_379f_11eb_8693_3ca067e9032elevel0_row5\" class=\"row_heading level0 row5\" >(53.1, 512.329]</th>\n",
       "                        <td id=\"T_7c33927b_379f_11eb_8693_3ca067e9032erow5_col0\" class=\"data row5 col0\" >0.695035</td>\n",
       "            </tr>\n",
       "    </tbody></table>"
      ],
      "text/plain": [
       "<pandas.io.formats.style.Styler at 0x15dcd0d3e50>"
      ]
     },
     "execution_count": 47,
     "metadata": {},
     "output_type": "execute_result"
    }
   ],
   "source": [
    "data['Fare_Range']=pd.qcut(data['Fare'],6)\n",
    "data.groupby(['Fare_Range'])['Survived'].mean().to_frame().style.background_gradient(cmap='summer_r')"
   ]
  },
  {
   "cell_type": "markdown",
   "metadata": {},
   "source": [
    "票價與生存率有非常高的相關性，尤其是最高票價區間的"
   ]
  },
  {
   "cell_type": "code",
   "execution_count": 48,
   "metadata": {
    "execution": {
     "iopub.execute_input": "2020-12-04T13:28:43.173371Z",
     "iopub.status.busy": "2020-12-04T13:28:43.172515Z",
     "iopub.status.idle": "2020-12-04T13:28:43.180864Z",
     "shell.execute_reply": "2020-12-04T13:28:43.180123Z"
    },
    "papermill": {
     "duration": 0.114725,
     "end_time": "2020-12-04T13:28:43.181002",
     "exception": false,
     "start_time": "2020-12-04T13:28:43.066277",
     "status": "completed"
    },
    "tags": []
   },
   "outputs": [],
   "source": [
    "# 將票價按照區間重新編碼\n",
    "data['Fare_Limit']=0\n",
    "data.loc[data['Fare']<=8.662,'Fare_Limit']=0\n",
    "data.loc[(data['Fare']>8.662)&(data['Fare']<=14.454),'Fare_Limit']=1\n",
    "data.loc[(data['Fare']>14.454)&(data['Fare']<=53.1),'Fare_Limit']=2\n",
    "data.loc[data['Fare']>53.1,'Fare_Limit']=3"
   ]
  },
  {
   "cell_type": "code",
   "execution_count": 49,
   "metadata": {
    "execution": {
     "iopub.execute_input": "2020-12-04T13:28:43.386274Z",
     "iopub.status.busy": "2020-12-04T13:28:43.385090Z",
     "iopub.status.idle": "2020-12-04T13:28:43.725219Z",
     "shell.execute_reply": "2020-12-04T13:28:43.725761Z"
    },
    "papermill": {
     "duration": 0.447871,
     "end_time": "2020-12-04T13:28:43.725930",
     "exception": false,
     "start_time": "2020-12-04T13:28:43.278059",
     "status": "completed"
    },
    "tags": []
   },
   "outputs": [
    {
     "data": {
      "image/png": "[encoded data removed]",
      "text/plain": [
       "<Figure size 216x216 with 1 Axes>"
      ]
     },
     "metadata": {
      "needs_background": "light"
     },
     "output_type": "display_data"
    }
   ],
   "source": [
    "# 畫出4個不同票價區間與生存率的關係\n",
    "sns.catplot(x=\"Fare_Limit\", y =\"Survived\", data=data, kind=\"bar\", height=3)\n",
    "plt.show()"
   ]
  },
  {
   "cell_type": "markdown",
   "metadata": {
    "papermill": {
     "duration": 0.098065,
     "end_time": "2020-12-04T13:28:43.933563",
     "exception": false,
     "start_time": "2020-12-04T13:28:43.835498",
     "status": "completed"
    },
    "tags": []
   },
   "source": [
    "### Corelation Matrix"
   ]
  },
  {
   "cell_type": "code",
   "execution_count": 50,
   "metadata": {
    "execution": {
     "iopub.execute_input": "2020-12-04T13:28:44.137636Z",
     "iopub.status.busy": "2020-12-04T13:28:44.136536Z",
     "iopub.status.idle": "2020-12-04T13:28:44.824248Z",
     "shell.execute_reply": "2020-12-04T13:28:44.823510Z"
    },
    "papermill": {
     "duration": 0.793207,
     "end_time": "2020-12-04T13:28:44.824379",
     "exception": false,
     "start_time": "2020-12-04T13:28:44.031172",
     "status": "completed"
    },
    "tags": []
   },
   "outputs": [
    {
     "data": {
      "image/png": "[encoded data removed]",
      "text/plain": [
       "<Figure size 720x432 with 2 Axes>"
      ]
     },
     "metadata": {
      "needs_background": "light"
     },
     "output_type": "display_data"
    }
   ],
   "source": [
    "plt.figure(figsize=(10,6))\n",
    "sns.heatmap(data[[\"Age\",\"Age_Limit\",\"Fare\",\"Fare_Limit\", \n",
    "                  \"SibSp\",\"Parch\",\"Family\", \n",
    "                  \"Title\",\"Sex\",\"Pclass\",\"Embarked\", \"Survived\"]].corr(), annot = True)\n",
    "plt.show()"
   ]
  },
  {
   "cell_type": "markdown",
   "metadata": {},
   "source": [
    "查看新增的欄位跟生存率的關係\n",
    "- Title 欄位有高相關性\n",
    "- Fare_Limit 比起 Fare 與生存率的相關性更高了\n",
    "- 合併 SibSp,Parch為Family後相關性高出許多\n",
    "- 將Age分群成Age_Limit後相關性並沒有比較高"
   ]
  },
  {
   "cell_type": "markdown",
   "metadata": {
    "papermill": {
     "duration": 0.102086,
     "end_time": "2020-12-04T13:28:45.026780",
     "exception": false,
     "start_time": "2020-12-04T13:28:44.924694",
     "status": "completed"
    },
    "tags": []
   },
   "source": [
    "<a id='13'></a><br>\n",
    "## 2- Drop Features\n",
    "* Ticket, Cabin, Name, PassengerId and Age are deleted according to the result of the corelation matrix."
   ]
  },
  {
   "cell_type": "code",
   "execution_count": 51,
   "metadata": {
    "execution": {
     "iopub.execute_input": "2020-12-04T13:28:45.232398Z",
     "iopub.status.busy": "2020-12-04T13:28:45.231183Z",
     "iopub.status.idle": "2020-12-04T13:28:45.249391Z",
     "shell.execute_reply": "2020-12-04T13:28:45.248636Z"
    },
    "papermill": {
     "duration": 0.124222,
     "end_time": "2020-12-04T13:28:45.249512",
     "exception": false,
     "start_time": "2020-12-04T13:28:45.125290",
     "status": "completed"
    },
    "tags": []
   },
   "outputs": [
    {
     "data": {
      "text/html": [
       "<div>\n",
       "<style scoped>\n",
       "    .dataframe tbody tr th:only-of-type {\n",
       "        vertical-align: middle;\n",
       "    }\n",
       "\n",
       "    .dataframe tbody tr th {\n",
       "        vertical-align: top;\n",
       "    }\n",
       "\n",
       "    .dataframe thead th {\n",
       "        text-align: right;\n",
       "    }\n",
       "</style>\n",
       "<table border=\"1\" class=\"dataframe\">\n",
       "  <thead>\n",
       "    <tr style=\"text-align: right;\">\n",
       "      <th></th>\n",
       "      <th>Survived</th>\n",
       "      <th>Pclass</th>\n",
       "      <th>Sex</th>\n",
       "      <th>SibSp</th>\n",
       "      <th>Parch</th>\n",
       "      <th>Embarked</th>\n",
       "      <th>Family</th>\n",
       "      <th>Alone</th>\n",
       "      <th>Title</th>\n",
       "      <th>Age_Limit</th>\n",
       "      <th>Fare_Limit</th>\n",
       "    </tr>\n",
       "  </thead>\n",
       "  <tbody>\n",
       "    <tr>\n",
       "      <th>0</th>\n",
       "      <td>0.0</td>\n",
       "      <td>3</td>\n",
       "      <td>0</td>\n",
       "      <td>1</td>\n",
       "      <td>0</td>\n",
       "      <td>0.0</td>\n",
       "      <td>1</td>\n",
       "      <td>0</td>\n",
       "      <td>1</td>\n",
       "      <td>1</td>\n",
       "      <td>0</td>\n",
       "    </tr>\n",
       "    <tr>\n",
       "      <th>1</th>\n",
       "      <td>1.0</td>\n",
       "      <td>1</td>\n",
       "      <td>1</td>\n",
       "      <td>1</td>\n",
       "      <td>0</td>\n",
       "      <td>1.0</td>\n",
       "      <td>1</td>\n",
       "      <td>0</td>\n",
       "      <td>2</td>\n",
       "      <td>2</td>\n",
       "      <td>3</td>\n",
       "    </tr>\n",
       "    <tr>\n",
       "      <th>2</th>\n",
       "      <td>1.0</td>\n",
       "      <td>3</td>\n",
       "      <td>1</td>\n",
       "      <td>0</td>\n",
       "      <td>0</td>\n",
       "      <td>0.0</td>\n",
       "      <td>0</td>\n",
       "      <td>1</td>\n",
       "      <td>2</td>\n",
       "      <td>1</td>\n",
       "      <td>0</td>\n",
       "    </tr>\n",
       "    <tr>\n",
       "      <th>3</th>\n",
       "      <td>1.0</td>\n",
       "      <td>1</td>\n",
       "      <td>1</td>\n",
       "      <td>1</td>\n",
       "      <td>0</td>\n",
       "      <td>0.0</td>\n",
       "      <td>1</td>\n",
       "      <td>0</td>\n",
       "      <td>2</td>\n",
       "      <td>2</td>\n",
       "      <td>2</td>\n",
       "    </tr>\n",
       "    <tr>\n",
       "      <th>4</th>\n",
       "      <td>0.0</td>\n",
       "      <td>3</td>\n",
       "      <td>0</td>\n",
       "      <td>0</td>\n",
       "      <td>0</td>\n",
       "      <td>0.0</td>\n",
       "      <td>0</td>\n",
       "      <td>1</td>\n",
       "      <td>1</td>\n",
       "      <td>2</td>\n",
       "      <td>0</td>\n",
       "    </tr>\n",
       "  </tbody>\n",
       "</table>\n",
       "</div>"
      ],
      "text/plain": [
       "   Survived  Pclass  Sex  SibSp  Parch  Embarked  Family  Alone  Title  \\\n",
       "0       0.0       3    0      1      0       0.0       1      0      1   \n",
       "1       1.0       1    1      1      0       1.0       1      0      2   \n",
       "2       1.0       3    1      0      0       0.0       0      1      2   \n",
       "3       1.0       1    1      1      0       0.0       1      0      2   \n",
       "4       0.0       3    0      0      0       0.0       0      1      1   \n",
       "\n",
       "   Age_Limit  Fare_Limit  \n",
       "0          1           0  \n",
       "1          2           3  \n",
       "2          1           0  \n",
       "3          2           2  \n",
       "4          2           0  "
      ]
     },
     "execution_count": 51,
     "metadata": {},
     "output_type": "execute_result"
    }
   ],
   "source": [
    "# 將不需要用到的欄位移除\n",
    "data.drop(labels=[\"Age\",\"Fare\",\"Fare_Range\", \"Ticket\",\"Cabin\", \"Name\", \"PassengerId\"], axis=1, inplace = True)\n",
    "data.head()"
   ]
  },
  {
   "cell_type": "markdown",
   "metadata": {
    "papermill": {
     "duration": 0.098607,
     "end_time": "2020-12-04T13:28:45.447307",
     "exception": false,
     "start_time": "2020-12-04T13:28:45.348700",
     "status": "completed"
    },
    "tags": []
   },
   "source": [
    "<a id='14'></a><br>\n",
    "## 3 - One Hot Encoding"
   ]
  },
  {
   "cell_type": "code",
   "execution_count": 52,
   "metadata": {},
   "outputs": [
    {
     "data": {
      "text/html": [
       "<div>\n",
       "<style scoped>\n",
       "    .dataframe tbody tr th:only-of-type {\n",
       "        vertical-align: middle;\n",
       "    }\n",
       "\n",
       "    .dataframe tbody tr th {\n",
       "        vertical-align: top;\n",
       "    }\n",
       "\n",
       "    .dataframe thead th {\n",
       "        text-align: right;\n",
       "    }\n",
       "</style>\n",
       "<table border=\"1\" class=\"dataframe\">\n",
       "  <thead>\n",
       "    <tr style=\"text-align: right;\">\n",
       "      <th></th>\n",
       "      <th>Survived</th>\n",
       "      <th>SibSp</th>\n",
       "      <th>Parch</th>\n",
       "      <th>Alone</th>\n",
       "      <th>Title</th>\n",
       "      <th>Pclass_1</th>\n",
       "      <th>Pclass_2</th>\n",
       "      <th>Pclass_3</th>\n",
       "      <th>Sex_0</th>\n",
       "      <th>Sex_1</th>\n",
       "      <th>...</th>\n",
       "      <th>Family_2</th>\n",
       "      <th>Age_Limit_0</th>\n",
       "      <th>Age_Limit_1</th>\n",
       "      <th>Age_Limit_2</th>\n",
       "      <th>Age_Limit_3</th>\n",
       "      <th>Age_Limit_4</th>\n",
       "      <th>Fare_Limit_0</th>\n",
       "      <th>Fare_Limit_1</th>\n",
       "      <th>Fare_Limit_2</th>\n",
       "      <th>Fare_Limit_3</th>\n",
       "    </tr>\n",
       "  </thead>\n",
       "  <tbody>\n",
       "    <tr>\n",
       "      <th>0</th>\n",
       "      <td>0.0</td>\n",
       "      <td>1</td>\n",
       "      <td>0</td>\n",
       "      <td>0</td>\n",
       "      <td>1</td>\n",
       "      <td>0</td>\n",
       "      <td>0</td>\n",
       "      <td>1</td>\n",
       "      <td>1</td>\n",
       "      <td>0</td>\n",
       "      <td>...</td>\n",
       "      <td>0</td>\n",
       "      <td>0</td>\n",
       "      <td>1</td>\n",
       "      <td>0</td>\n",
       "      <td>0</td>\n",
       "      <td>0</td>\n",
       "      <td>1</td>\n",
       "      <td>0</td>\n",
       "      <td>0</td>\n",
       "      <td>0</td>\n",
       "    </tr>\n",
       "    <tr>\n",
       "      <th>1</th>\n",
       "      <td>1.0</td>\n",
       "      <td>1</td>\n",
       "      <td>0</td>\n",
       "      <td>0</td>\n",
       "      <td>2</td>\n",
       "      <td>1</td>\n",
       "      <td>0</td>\n",
       "      <td>0</td>\n",
       "      <td>0</td>\n",
       "      <td>1</td>\n",
       "      <td>...</td>\n",
       "      <td>0</td>\n",
       "      <td>0</td>\n",
       "      <td>0</td>\n",
       "      <td>1</td>\n",
       "      <td>0</td>\n",
       "      <td>0</td>\n",
       "      <td>0</td>\n",
       "      <td>0</td>\n",
       "      <td>0</td>\n",
       "      <td>1</td>\n",
       "    </tr>\n",
       "    <tr>\n",
       "      <th>2</th>\n",
       "      <td>1.0</td>\n",
       "      <td>0</td>\n",
       "      <td>0</td>\n",
       "      <td>1</td>\n",
       "      <td>2</td>\n",
       "      <td>0</td>\n",
       "      <td>0</td>\n",
       "      <td>1</td>\n",
       "      <td>0</td>\n",
       "      <td>1</td>\n",
       "      <td>...</td>\n",
       "      <td>0</td>\n",
       "      <td>0</td>\n",
       "      <td>1</td>\n",
       "      <td>0</td>\n",
       "      <td>0</td>\n",
       "      <td>0</td>\n",
       "      <td>1</td>\n",
       "      <td>0</td>\n",
       "      <td>0</td>\n",
       "      <td>0</td>\n",
       "    </tr>\n",
       "    <tr>\n",
       "      <th>3</th>\n",
       "      <td>1.0</td>\n",
       "      <td>1</td>\n",
       "      <td>0</td>\n",
       "      <td>0</td>\n",
       "      <td>2</td>\n",
       "      <td>1</td>\n",
       "      <td>0</td>\n",
       "      <td>0</td>\n",
       "      <td>0</td>\n",
       "      <td>1</td>\n",
       "      <td>...</td>\n",
       "      <td>0</td>\n",
       "      <td>0</td>\n",
       "      <td>0</td>\n",
       "      <td>1</td>\n",
       "      <td>0</td>\n",
       "      <td>0</td>\n",
       "      <td>0</td>\n",
       "      <td>0</td>\n",
       "      <td>1</td>\n",
       "      <td>0</td>\n",
       "    </tr>\n",
       "    <tr>\n",
       "      <th>4</th>\n",
       "      <td>0.0</td>\n",
       "      <td>0</td>\n",
       "      <td>0</td>\n",
       "      <td>1</td>\n",
       "      <td>1</td>\n",
       "      <td>0</td>\n",
       "      <td>0</td>\n",
       "      <td>1</td>\n",
       "      <td>1</td>\n",
       "      <td>0</td>\n",
       "      <td>...</td>\n",
       "      <td>0</td>\n",
       "      <td>0</td>\n",
       "      <td>0</td>\n",
       "      <td>1</td>\n",
       "      <td>0</td>\n",
       "      <td>0</td>\n",
       "      <td>1</td>\n",
       "      <td>0</td>\n",
       "      <td>0</td>\n",
       "      <td>0</td>\n",
       "    </tr>\n",
       "  </tbody>\n",
       "</table>\n",
       "<p>5 rows × 25 columns</p>\n",
       "</div>"
      ],
      "text/plain": [
       "   Survived  SibSp  Parch  Alone  Title  Pclass_1  Pclass_2  Pclass_3  Sex_0  \\\n",
       "0       0.0      1      0      0      1         0         0         1      1   \n",
       "1       1.0      1      0      0      2         1         0         0      0   \n",
       "2       1.0      0      0      1      2         0         0         1      0   \n",
       "3       1.0      1      0      0      2         1         0         0      0   \n",
       "4       0.0      0      0      1      1         0         0         1      1   \n",
       "\n",
       "   Sex_1  ...  Family_2  Age_Limit_0  Age_Limit_1  Age_Limit_2  Age_Limit_3  \\\n",
       "0      0  ...         0            0            1            0            0   \n",
       "1      1  ...         0            0            0            1            0   \n",
       "2      1  ...         0            0            1            0            0   \n",
       "3      1  ...         0            0            0            1            0   \n",
       "4      0  ...         0            0            0            1            0   \n",
       "\n",
       "   Age_Limit_4  Fare_Limit_0  Fare_Limit_1  Fare_Limit_2  Fare_Limit_3  \n",
       "0            0             1             0             0             0  \n",
       "1            0             0             0             0             1  \n",
       "2            0             1             0             0             0  \n",
       "3            0             0             0             1             0  \n",
       "4            0             1             0             0             0  \n",
       "\n",
       "[5 rows x 25 columns]"
      ]
     },
     "execution_count": 52,
     "metadata": {},
     "output_type": "execute_result"
    }
   ],
   "source": [
    "data = pd.get_dummies(data,columns=[\"Pclass\",\"Sex\",\"Embarked\",\"Family\",\"Age_Limit\",\"Fare_Limit\"])\n",
    "data.head()"
   ]
  },
  {
   "cell_type": "markdown",
   "metadata": {
    "papermill": {
     "duration": 0.100654,
     "end_time": "2020-12-04T13:28:45.922825",
     "exception": false,
     "start_time": "2020-12-04T13:28:45.822171",
     "status": "completed"
    },
    "tags": []
   },
   "source": [
    "<a id='16'></a><br>\n",
    "# Chapter:5 Modeling"
   ]
  },
  {
   "cell_type": "code",
   "execution_count": 53,
   "metadata": {
    "execution": {
     "iopub.execute_input": "2020-12-04T13:28:46.131025Z",
     "iopub.status.busy": "2020-12-04T13:28:46.130228Z",
     "iopub.status.idle": "2020-12-04T13:28:46.496061Z",
     "shell.execute_reply": "2020-12-04T13:28:46.495278Z"
    },
    "papermill": {
     "duration": 0.47181,
     "end_time": "2020-12-04T13:28:46.496186",
     "exception": false,
     "start_time": "2020-12-04T13:28:46.024376",
     "status": "completed"
    },
    "tags": []
   },
   "outputs": [],
   "source": [
    "from sklearn.model_selection import train_test_split\n",
    "\n",
    "\n",
    "from sklearn.linear_model import LogisticRegression\n",
    "from sklearn.ensemble import RandomForestClassifier, VotingClassifier\n",
    "from sklearn.neighbors import KNeighborsClassifier\n",
    "from sklearn.svm import SVC"
   ]
  },
  {
   "cell_type": "markdown",
   "metadata": {
    "papermill": {
     "duration": 0.100245,
     "end_time": "2020-12-04T13:28:46.697173",
     "exception": false,
     "start_time": "2020-12-04T13:28:46.596928",
     "status": "completed"
    },
    "tags": []
   },
   "source": [
    "<a id='17'></a><br>\n",
    "## 1-Train Test Split"
   ]
  },
  {
   "cell_type": "code",
   "execution_count": 54,
   "metadata": {
    "execution": {
     "iopub.execute_input": "2020-12-04T13:28:46.906349Z",
     "iopub.status.busy": "2020-12-04T13:28:46.905416Z",
     "iopub.status.idle": "2020-12-04T13:28:46.908885Z",
     "shell.execute_reply": "2020-12-04T13:28:46.909537Z"
    },
    "papermill": {
     "duration": 0.110777,
     "end_time": "2020-12-04T13:28:46.909693",
     "exception": false,
     "start_time": "2020-12-04T13:28:46.798916",
     "status": "completed"
    },
    "tags": []
   },
   "outputs": [
    {
     "name": "stdout",
     "output_type": "stream",
     "text": [
      "success\n"
     ]
    }
   ],
   "source": [
    "# 檢查先前的前處理是否有改變資料數量\n",
    "if len(data) == (len(train_data) + len(test_data)):\n",
    "    print(\"success\")"
   ]
  },
  {
   "cell_type": "markdown",
   "metadata": {},
   "source": [
    "將資料重新分成**訓練組**與**測試組**"
   ]
  },
  {
   "cell_type": "code",
   "execution_count": 55,
   "metadata": {
    "execution": {
     "iopub.execute_input": "2020-12-04T13:28:47.122101Z",
     "iopub.status.busy": "2020-12-04T13:28:47.121344Z",
     "iopub.status.idle": "2020-12-04T13:28:47.124930Z",
     "shell.execute_reply": "2020-12-04T13:28:47.124186Z"
    },
    "papermill": {
     "duration": 0.112793,
     "end_time": "2020-12-04T13:28:47.125090",
     "exception": false,
     "start_time": "2020-12-04T13:28:47.012297",
     "status": "completed"
    },
    "tags": []
   },
   "outputs": [],
   "source": [
    "test = data[len(train_data):].copy()\n",
    "test.drop(labels=\"Survived\", axis=1, inplace=True)"
   ]
  },
  {
   "cell_type": "code",
   "execution_count": 56,
   "metadata": {
    "execution": {
     "iopub.execute_input": "2020-12-04T13:28:47.337146Z",
     "iopub.status.busy": "2020-12-04T13:28:47.336333Z",
     "iopub.status.idle": "2020-12-04T13:28:47.342058Z",
     "shell.execute_reply": "2020-12-04T13:28:47.342631Z"
    },
    "papermill": {
     "duration": 0.115859,
     "end_time": "2020-12-04T13:28:47.342782",
     "exception": false,
     "start_time": "2020-12-04T13:28:47.226923",
     "status": "completed"
    },
    "tags": []
   },
   "outputs": [],
   "source": [
    "# 將訓練組又再區分成 訓練資料與驗證資料 Train and Valid\n",
    "train = data[:len(train_data)].copy()\n",
    "X_train = train.drop(labels = \"Survived\", axis=1)\n",
    "y_train = train[\"Survived\"]\n",
    "X_train, X_test, y_train, y_test = train_test_split(X_train, y_train, test_size=0.30, random_state=42)"
   ]
  },
  {
   "cell_type": "markdown",
   "metadata": {
    "papermill": {
     "duration": 0.101638,
     "end_time": "2020-12-04T13:28:47.546056",
     "exception": false,
     "start_time": "2020-12-04T13:28:47.444418",
     "status": "completed"
    },
    "tags": []
   },
   "source": [
    "<a id='18'></a><br>\n",
    "## 2-Classificaiton Methods\n",
    "\n",
    "\n",
    "* Logistic Regression\n",
    "* Random Forest Regression\n",
    "* Support Vector Machine (SVM)\n",
    "* K-Nearest Neighbors (KNN)"
   ]
  },
  {
   "cell_type": "markdown",
   "metadata": {
    "papermill": {
     "duration": 0.101312,
     "end_time": "2020-12-04T13:28:47.748802",
     "exception": false,
     "start_time": "2020-12-04T13:28:47.647490",
     "status": "completed"
    },
    "tags": []
   },
   "source": [
    "### Logistic Regression"
   ]
  },
  {
   "cell_type": "code",
   "execution_count": 57,
   "metadata": {
    "execution": {
     "iopub.execute_input": "2020-12-04T13:28:47.964674Z",
     "iopub.status.busy": "2020-12-04T13:28:47.963853Z",
     "iopub.status.idle": "2020-12-04T13:28:48.004833Z",
     "shell.execute_reply": "2020-12-04T13:28:48.003704Z"
    },
    "papermill": {
     "duration": 0.153801,
     "end_time": "2020-12-04T13:28:48.005006",
     "exception": false,
     "start_time": "2020-12-04T13:28:47.851205",
     "status": "completed"
    },
    "tags": []
   },
   "outputs": [
    {
     "name": "stdout",
     "output_type": "stream",
     "text": [
      "Accuracy:  0.8171641791044776\n"
     ]
    }
   ],
   "source": [
    "log_reg = LogisticRegression(random_state=42)\n",
    "log_reg.fit(X_train, y_train)\n",
    "print(\"Accuracy: \", log_reg.score(X_test,y_test))"
   ]
  },
  {
   "cell_type": "markdown",
   "metadata": {
    "papermill": {
     "duration": 0.102737,
     "end_time": "2020-12-04T13:28:48.212803",
     "exception": false,
     "start_time": "2020-12-04T13:28:48.110066",
     "status": "completed"
    },
    "tags": []
   },
   "source": [
    "### Random Forest Regression"
   ]
  },
  {
   "cell_type": "code",
   "execution_count": 58,
   "metadata": {
    "execution": {
     "iopub.execute_input": "2020-12-04T13:28:48.426826Z",
     "iopub.status.busy": "2020-12-04T13:28:48.426046Z",
     "iopub.status.idle": "2020-12-04T13:28:48.691210Z",
     "shell.execute_reply": "2020-12-04T13:28:48.691808Z"
    },
    "papermill": {
     "duration": 0.377002,
     "end_time": "2020-12-04T13:28:48.691960",
     "exception": false,
     "start_time": "2020-12-04T13:28:48.314958",
     "status": "completed"
    },
    "tags": []
   },
   "outputs": [
    {
     "name": "stdout",
     "output_type": "stream",
     "text": [
      "Accuracy:  0.7873134328358209\n"
     ]
    }
   ],
   "source": [
    "rf_reg = RandomForestClassifier(random_state=42)\n",
    "rf_reg.fit(X_train, y_train)\n",
    "print(\"Accuracy: \", rf_reg.score(X_test,y_test))"
   ]
  },
  {
   "cell_type": "markdown",
   "metadata": {
    "papermill": {
     "duration": 0.102718,
     "end_time": "2020-12-04T13:28:48.897725",
     "exception": false,
     "start_time": "2020-12-04T13:28:48.795007",
     "status": "completed"
    },
    "tags": []
   },
   "source": [
    "### Support Vector Machine (SVM)"
   ]
  },
  {
   "cell_type": "code",
   "execution_count": 59,
   "metadata": {
    "execution": {
     "iopub.execute_input": "2020-12-04T13:28:49.140067Z",
     "iopub.status.busy": "2020-12-04T13:28:49.139028Z",
     "iopub.status.idle": "2020-12-04T13:28:49.166750Z",
     "shell.execute_reply": "2020-12-04T13:28:49.167534Z"
    },
    "papermill": {
     "duration": 0.154831,
     "end_time": "2020-12-04T13:28:49.167740",
     "exception": false,
     "start_time": "2020-12-04T13:28:49.012909",
     "status": "completed"
    },
    "tags": []
   },
   "outputs": [
    {
     "name": "stdout",
     "output_type": "stream",
     "text": [
      "Accuracy:  0.835820895522388\n"
     ]
    }
   ],
   "source": [
    "svm_clsf = SVC()\n",
    "svm_clsf.fit(X_train, y_train)\n",
    "print(\"Accuracy: \", svm_clsf.score(X_test,y_test))"
   ]
  },
  {
   "cell_type": "markdown",
   "metadata": {
    "papermill": {
     "duration": 0.102353,
     "end_time": "2020-12-04T13:28:49.373666",
     "exception": false,
     "start_time": "2020-12-04T13:28:49.271313",
     "status": "completed"
    },
    "tags": []
   },
   "source": [
    "### KNN"
   ]
  },
  {
   "cell_type": "code",
   "execution_count": 60,
   "metadata": {
    "execution": {
     "iopub.execute_input": "2020-12-04T13:28:49.589163Z",
     "iopub.status.busy": "2020-12-04T13:28:49.588288Z",
     "iopub.status.idle": "2020-12-04T13:28:49.843139Z",
     "shell.execute_reply": "2020-12-04T13:28:49.843670Z"
    },
    "papermill": {
     "duration": 0.367596,
     "end_time": "2020-12-04T13:28:49.843824",
     "exception": false,
     "start_time": "2020-12-04T13:28:49.476228",
     "status": "completed"
    },
    "tags": []
   },
   "outputs": [
    {
     "data": {
      "text/plain": [
       "[0.7388059701492538,\n",
       " 0.8022388059701493,\n",
       " 0.8022388059701493,\n",
       " 0.8059701492537313,\n",
       " 0.8134328358208955,\n",
       " 0.7947761194029851,\n",
       " 0.8097014925373134,\n",
       " 0.8097014925373134,\n",
       " 0.8059701492537313,\n",
       " 0.8059701492537313,\n",
       " 0.8208955223880597]"
      ]
     },
     "execution_count": 60,
     "metadata": {},
     "output_type": "execute_result"
    }
   ],
   "source": [
    "best_knn = []\n",
    "for n in range(1,12):\n",
    "    knn = KNeighborsClassifier(n_neighbors=n)\n",
    "    knn.fit(X_train, y_train)\n",
    "    best_knn.insert(n, knn.score(X_test,y_test))\n",
    "best_knn\n"
   ]
  },
  {
   "cell_type": "markdown",
   "metadata": {},
   "source": [
    "當演算法有參數可以調整時，需要使用驗證組資料來決定哪個參數比較好"
   ]
  },
  {
   "cell_type": "code",
   "execution_count": 61,
   "metadata": {
    "execution": {
     "iopub.execute_input": "2020-12-04T13:28:50.062235Z",
     "iopub.status.busy": "2020-12-04T13:28:50.061465Z",
     "iopub.status.idle": "2020-12-04T13:28:50.090336Z",
     "shell.execute_reply": "2020-12-04T13:28:50.089496Z"
    },
    "papermill": {
     "duration": 0.14228,
     "end_time": "2020-12-04T13:28:50.090493",
     "exception": false,
     "start_time": "2020-12-04T13:28:49.948213",
     "status": "completed"
    },
    "tags": []
   },
   "outputs": [
    {
     "name": "stdout",
     "output_type": "stream",
     "text": [
      "Accuracy:  0.8059701492537313\n"
     ]
    }
   ],
   "source": [
    "knn_clsf = KNeighborsClassifier(n_neighbors=9)\n",
    "knn_clsf.fit(X_train, y_train)\n",
    "print(\"Accuracy: \", knn_clsf.score(X_test,y_test))"
   ]
  },
  {
   "cell_type": "markdown",
   "metadata": {
    "papermill": {
     "duration": 0.104715,
     "end_time": "2020-12-04T13:28:50.299939",
     "exception": false,
     "start_time": "2020-12-04T13:28:50.195224",
     "status": "completed"
    },
    "tags": []
   },
   "source": [
    "<a id='19'></a><br>\n",
    "## 3- Ensemble Modeling\n",
    "將上面四種不同的分類器合併成一個共同決策的系統"
   ]
  },
  {
   "cell_type": "code",
   "execution_count": 62,
   "metadata": {
    "execution": {
     "iopub.execute_input": "2020-12-04T13:28:50.515946Z",
     "iopub.status.busy": "2020-12-04T13:28:50.515058Z",
     "iopub.status.idle": "2020-12-04T13:28:53.113555Z",
     "shell.execute_reply": "2020-12-04T13:28:53.112773Z"
    },
    "papermill": {
     "duration": 2.709544,
     "end_time": "2020-12-04T13:28:53.113682",
     "exception": false,
     "start_time": "2020-12-04T13:28:50.404138",
     "status": "completed"
    },
    "tags": []
   },
   "outputs": [
    {
     "name": "stdout",
     "output_type": "stream",
     "text": [
      "Accuracy:  0.8171641791044776\n"
     ]
    }
   ],
   "source": [
    "voting_classfication = VotingClassifier(estimators = [('lg', log_reg), ('rfg', rf_reg), ('svc', svm_clsf), ('knn', knn_clsf)], voting=\"hard\", n_jobs=-1)\n",
    "voting_classfication.fit(X_train, y_train)\n",
    "print(\"Accuracy: \", voting_classfication.score(X_test,y_test))"
   ]
  },
  {
   "cell_type": "markdown",
   "metadata": {
    "papermill": {
     "duration": 0.104464,
     "end_time": "2020-12-04T13:28:53.323565",
     "exception": false,
     "start_time": "2020-12-04T13:28:53.219101",
     "status": "completed"
    },
    "tags": []
   },
   "source": [
    "<a id='20'></a><br>\n",
    "## 4-Result\n",
    "\n"
   ]
  },
  {
   "cell_type": "code",
   "execution_count": 63,
   "metadata": {
    "execution": {
     "iopub.execute_input": "2020-12-04T13:28:53.545442Z",
     "iopub.status.busy": "2020-12-04T13:28:53.542309Z",
     "iopub.status.idle": "2020-12-04T13:28:54.060660Z",
     "shell.execute_reply": "2020-12-04T13:28:54.059994Z"
    },
    "papermill": {
     "duration": 0.632761,
     "end_time": "2020-12-04T13:28:54.060791",
     "exception": false,
     "start_time": "2020-12-04T13:28:53.428030",
     "status": "completed"
    },
    "tags": []
   },
   "outputs": [
    {
     "data": {
      "text/html": [
       "<div>\n",
       "<style scoped>\n",
       "    .dataframe tbody tr th:only-of-type {\n",
       "        vertical-align: middle;\n",
       "    }\n",
       "\n",
       "    .dataframe tbody tr th {\n",
       "        vertical-align: top;\n",
       "    }\n",
       "\n",
       "    .dataframe thead th {\n",
       "        text-align: right;\n",
       "    }\n",
       "</style>\n",
       "<table border=\"1\" class=\"dataframe\">\n",
       "  <thead>\n",
       "    <tr style=\"text-align: right;\">\n",
       "      <th></th>\n",
       "      <th>PassengerId</th>\n",
       "      <th>Survived</th>\n",
       "    </tr>\n",
       "  </thead>\n",
       "  <tbody>\n",
       "    <tr>\n",
       "      <th>0</th>\n",
       "      <td>892</td>\n",
       "      <td>0</td>\n",
       "    </tr>\n",
       "    <tr>\n",
       "      <th>1</th>\n",
       "      <td>893</td>\n",
       "      <td>1</td>\n",
       "    </tr>\n",
       "    <tr>\n",
       "      <th>2</th>\n",
       "      <td>894</td>\n",
       "      <td>0</td>\n",
       "    </tr>\n",
       "    <tr>\n",
       "      <th>3</th>\n",
       "      <td>895</td>\n",
       "      <td>0</td>\n",
       "    </tr>\n",
       "    <tr>\n",
       "      <th>4</th>\n",
       "      <td>896</td>\n",
       "      <td>0</td>\n",
       "    </tr>\n",
       "    <tr>\n",
       "      <th>...</th>\n",
       "      <td>...</td>\n",
       "      <td>...</td>\n",
       "    </tr>\n",
       "    <tr>\n",
       "      <th>413</th>\n",
       "      <td>1305</td>\n",
       "      <td>0</td>\n",
       "    </tr>\n",
       "    <tr>\n",
       "      <th>414</th>\n",
       "      <td>1306</td>\n",
       "      <td>1</td>\n",
       "    </tr>\n",
       "    <tr>\n",
       "      <th>415</th>\n",
       "      <td>1307</td>\n",
       "      <td>0</td>\n",
       "    </tr>\n",
       "    <tr>\n",
       "      <th>416</th>\n",
       "      <td>1308</td>\n",
       "      <td>0</td>\n",
       "    </tr>\n",
       "    <tr>\n",
       "      <th>417</th>\n",
       "      <td>1309</td>\n",
       "      <td>1</td>\n",
       "    </tr>\n",
       "  </tbody>\n",
       "</table>\n",
       "<p>418 rows × 2 columns</p>\n",
       "</div>"
      ],
      "text/plain": [
       "     PassengerId  Survived\n",
       "0            892         0\n",
       "1            893         1\n",
       "2            894         0\n",
       "3            895         0\n",
       "4            896         0\n",
       "..           ...       ...\n",
       "413         1305         0\n",
       "414         1306         1\n",
       "415         1307         0\n",
       "416         1308         0\n",
       "417         1309         1\n",
       "\n",
       "[418 rows x 2 columns]"
      ]
     },
     "execution_count": 63,
     "metadata": {},
     "output_type": "execute_result"
    }
   ],
   "source": [
    "test_result = pd.Series(voting_classfication.predict(test), name = \"Survived\").astype(int)\n",
    "results = pd.concat([test_data[\"PassengerId\"], test_result],axis = 1)\n",
    "results\n",
    "# results.to_csv(\"hba_titanic_eda.csv\", index = False)"
   ]
  },
  {
   "cell_type": "markdown",
   "metadata": {},
   "source": [
    "titanic_test_leaked.csv 是對應考題 titanic_test.csv 洩漏的答案"
   ]
  },
  {
   "cell_type": "code",
   "execution_count": 64,
   "metadata": {},
   "outputs": [
    {
     "name": "stdout",
     "output_type": "stream",
     "text": [
      "Test Accuracy 0.7799043062200957\n"
     ]
    }
   ],
   "source": [
    "test_leaked = pd.read_csv('data/titanic_test_leaked.csv')\n",
    "results['leaked'] = test_leaked['Survived']\n",
    "results['isCorrect'] = (results['Survived'] == results['leaked'])\n",
    "# results[results['isCorrect']==True].count()\n",
    "print('Test Accuracy', results['isCorrect'].sum() / results.shape[0])"
   ]
  },
  {
   "attachments": {},
   "cell_type": "markdown",
   "metadata": {},
   "source": [
    "## Cross Validation 交叉驗證\n",
    "為了驗證需要將資料分成訓練組跟驗證組，但是當資料筆數已經稀少時再分成兩組很困難。此時可以使用交叉驗證的方式，將資料切割成n組，每次將其中一組當成驗證資料，重複跑n次驗證再整合起來。\n",
    "![Alt text](https://upload.wikimedia.org/wikipedia/commons/thumb/c/c7/LOOCV.gif/450px-LOOCV.gif \"Cross Validation 交叉驗證 示意圖\")"
   ]
  },
  {
   "cell_type": "code",
   "execution_count": 67,
   "metadata": {},
   "outputs": [
    {
     "name": "stdout",
     "output_type": "stream",
     "text": [
      "[0.8547486  0.8258427  0.8258427  0.80337079 0.85955056]\n",
      "0.8338710689849979\n"
     ]
    }
   ],
   "source": [
    "train = data[:len(train_data)].copy()\n",
    "X_train = train.drop(labels = \"Survived\", axis=1)\n",
    "y_train = train[\"Survived\"]\n",
    "\n",
    "from sklearn.model_selection import cross_val_score\n",
    "svm_clsf = SVC()\n",
    "svm_clsf.fit(X_train, y_train)\n",
    "scores = cross_val_score(svm_clsf,X_train,y_train,cv=5,scoring='accuracy')\n",
    "print(scores)\n",
    "print(scores.mean())"
   ]
  },
  {
   "cell_type": "markdown",
   "metadata": {},
   "source": [
    "### [scoring 的選擇](https://scikit-learn.org/stable/modules/model_evaluation.html#scoring-parameter)\n",
    "\n",
    "<table class=\"docutils align-default\">\n",
    "<colgroup>\n",
    "<col style=\"width: 28%\">\n",
    "<col style=\"width: 41%\">\n",
    "<col style=\"width: 31%\">\n",
    "</colgroup>\n",
    "<thead>\n",
    "<tr class=\"row-odd\"><th class=\"head\"><p>Scoring</p></th>\n",
    "<th class=\"head\"><p>Function</p></th>\n",
    "<th class=\"head\"><p>Comment</p></th>\n",
    "</tr>\n",
    "</thead>\n",
    "<tbody>\n",
    "<tr class=\"row-even\"><td><p><strong>Classification</strong></p></td>\n",
    "<td></td>\n",
    "<td></td>\n",
    "</tr>\n",
    "<tr class=\"row-odd\"><td><p>‘accuracy’</p></td>\n",
    "<td><p><a class=\"reference internal\" href=\"generated/sklearn.metrics.accuracy_score.html#sklearn.metrics.accuracy_score\" title=\"sklearn.metrics.accuracy_score\"><code class=\"xref py py-func docutils literal notranslate\"><span class=\"pre\">metrics.accuracy_score</span></code></a></p></td>\n",
    "<td></td>\n",
    "</tr>\n",
    "<tr class=\"row-even\"><td><p>‘balanced_accuracy’</p></td>\n",
    "<td><p><a class=\"reference internal\" href=\"generated/sklearn.metrics.balanced_accuracy_score.html#sklearn.metrics.balanced_accuracy_score\" title=\"sklearn.metrics.balanced_accuracy_score\"><code class=\"xref py py-func docutils literal notranslate\"><span class=\"pre\">metrics.balanced_accuracy_score</span></code></a></p></td>\n",
    "<td></td>\n",
    "</tr>\n",
    "<tr class=\"row-odd\"><td><p>‘average_precision’</p></td>\n",
    "<td><p><a class=\"reference internal\" href=\"generated/sklearn.metrics.average_precision_score.html#sklearn.metrics.average_precision_score\" title=\"sklearn.metrics.average_precision_score\"><code class=\"xref py py-func docutils literal notranslate\"><span class=\"pre\">metrics.average_precision_score</span></code></a></p></td>\n",
    "<td></td>\n",
    "</tr>\n",
    "<tr class=\"row-even\"><td><p>‘neg_brier_score’</p></td>\n",
    "<td><p><a class=\"reference internal\" href=\"generated/sklearn.metrics.brier_score_loss.html#sklearn.metrics.brier_score_loss\" title=\"sklearn.metrics.brier_score_loss\"><code class=\"xref py py-func docutils literal notranslate\"><span class=\"pre\">metrics.brier_score_loss</span></code></a></p></td>\n",
    "<td></td>\n",
    "</tr>\n",
    "<tr class=\"row-odd\"><td><p>‘f1’</p></td>\n",
    "<td><p><a class=\"reference internal\" href=\"generated/sklearn.metrics.f1_score.html#sklearn.metrics.f1_score\" title=\"sklearn.metrics.f1_score\"><code class=\"xref py py-func docutils literal notranslate\"><span class=\"pre\">metrics.f1_score</span></code></a></p></td>\n",
    "<td><p>for binary targets</p></td>\n",
    "</tr>\n",
    "<tr class=\"row-even\"><td><p>‘f1_micro’</p></td>\n",
    "<td><p><a class=\"reference internal\" href=\"generated/sklearn.metrics.f1_score.html#sklearn.metrics.f1_score\" title=\"sklearn.metrics.f1_score\"><code class=\"xref py py-func docutils literal notranslate\"><span class=\"pre\">metrics.f1_score</span></code></a></p></td>\n",
    "<td><p>micro-averaged</p></td>\n",
    "</tr>\n",
    "<tr class=\"row-odd\"><td><p>‘f1_macro’</p></td>\n",
    "<td><p><a class=\"reference internal\" href=\"generated/sklearn.metrics.f1_score.html#sklearn.metrics.f1_score\" title=\"sklearn.metrics.f1_score\"><code class=\"xref py py-func docutils literal notranslate\"><span class=\"pre\">metrics.f1_score</span></code></a></p></td>\n",
    "<td><p>macro-averaged</p></td>\n",
    "</tr>\n",
    "<tr class=\"row-even\"><td><p>‘f1_weighted’</p></td>\n",
    "<td><p><a class=\"reference internal\" href=\"generated/sklearn.metrics.f1_score.html#sklearn.metrics.f1_score\" title=\"sklearn.metrics.f1_score\"><code class=\"xref py py-func docutils literal notranslate\"><span class=\"pre\">metrics.f1_score</span></code></a></p></td>\n",
    "<td><p>weighted average</p></td>\n",
    "</tr>\n",
    "<tr class=\"row-odd\"><td><p>‘f1_samples’</p></td>\n",
    "<td><p><a class=\"reference internal\" href=\"generated/sklearn.metrics.f1_score.html#sklearn.metrics.f1_score\" title=\"sklearn.metrics.f1_score\"><code class=\"xref py py-func docutils literal notranslate\"><span class=\"pre\">metrics.f1_score</span></code></a></p></td>\n",
    "<td><p>by multilabel sample</p></td>\n",
    "</tr>\n",
    "<tr class=\"row-even\"><td><p>‘neg_log_loss’</p></td>\n",
    "<td><p><a class=\"reference internal\" href=\"generated/sklearn.metrics.log_loss.html#sklearn.metrics.log_loss\" title=\"sklearn.metrics.log_loss\"><code class=\"xref py py-func docutils literal notranslate\"><span class=\"pre\">metrics.log_loss</span></code></a></p></td>\n",
    "<td><p>requires <code class=\"docutils literal notranslate\"><span class=\"pre\">predict_proba</span></code> support</p></td>\n",
    "</tr>\n",
    "<tr class=\"row-odd\"><td><p>‘precision’ etc.</p></td>\n",
    "<td><p><a class=\"reference internal\" href=\"generated/sklearn.metrics.precision_score.html#sklearn.metrics.precision_score\" title=\"sklearn.metrics.precision_score\"><code class=\"xref py py-func docutils literal notranslate\"><span class=\"pre\">metrics.precision_score</span></code></a></p></td>\n",
    "<td><p>suffixes apply as with ‘f1’</p></td>\n",
    "</tr>\n",
    "<tr class=\"row-even\"><td><p>‘recall’ etc.</p></td>\n",
    "<td><p><a class=\"reference internal\" href=\"generated/sklearn.metrics.recall_score.html#sklearn.metrics.recall_score\" title=\"sklearn.metrics.recall_score\"><code class=\"xref py py-func docutils literal notranslate\"><span class=\"pre\">metrics.recall_score</span></code></a></p></td>\n",
    "<td><p>suffixes apply as with ‘f1’</p></td>\n",
    "</tr>\n",
    "<tr class=\"row-odd\"><td><p>‘jaccard’ etc.</p></td>\n",
    "<td><p><a class=\"reference internal\" href=\"generated/sklearn.metrics.jaccard_score.html#sklearn.metrics.jaccard_score\" title=\"sklearn.metrics.jaccard_score\"><code class=\"xref py py-func docutils literal notranslate\"><span class=\"pre\">metrics.jaccard_score</span></code></a></p></td>\n",
    "<td><p>suffixes apply as with ‘f1’</p></td>\n",
    "</tr>\n",
    "<tr class=\"row-even\"><td><p>‘roc_auc’</p></td>\n",
    "<td><p><a class=\"reference internal\" href=\"generated/sklearn.metrics.roc_auc_score.html#sklearn.metrics.roc_auc_score\" title=\"sklearn.metrics.roc_auc_score\"><code class=\"xref py py-func docutils literal notranslate\"><span class=\"pre\">metrics.roc_auc_score</span></code></a></p></td>\n",
    "<td></td>\n",
    "</tr>\n",
    "<tr class=\"row-odd\"><td><p>‘roc_auc_ovr’</p></td>\n",
    "<td><p><a class=\"reference internal\" href=\"generated/sklearn.metrics.roc_auc_score.html#sklearn.metrics.roc_auc_score\" title=\"sklearn.metrics.roc_auc_score\"><code class=\"xref py py-func docutils literal notranslate\"><span class=\"pre\">metrics.roc_auc_score</span></code></a></p></td>\n",
    "<td></td>\n",
    "</tr>\n",
    "<tr class=\"row-even\"><td><p>‘roc_auc_ovo’</p></td>\n",
    "<td><p><a class=\"reference internal\" href=\"generated/sklearn.metrics.roc_auc_score.html#sklearn.metrics.roc_auc_score\" title=\"sklearn.metrics.roc_auc_score\"><code class=\"xref py py-func docutils literal notranslate\"><span class=\"pre\">metrics.roc_auc_score</span></code></a></p></td>\n",
    "<td></td>\n",
    "</tr>\n",
    "<tr class=\"row-odd\"><td><p>‘roc_auc_ovr_weighted’</p></td>\n",
    "<td><p><a class=\"reference internal\" href=\"generated/sklearn.metrics.roc_auc_score.html#sklearn.metrics.roc_auc_score\" title=\"sklearn.metrics.roc_auc_score\"><code class=\"xref py py-func docutils literal notranslate\"><span class=\"pre\">metrics.roc_auc_score</span></code></a></p></td>\n",
    "<td></td>\n",
    "</tr>\n",
    "<tr class=\"row-even\"><td><p>‘roc_auc_ovo_weighted’</p></td>\n",
    "<td><p><a class=\"reference internal\" href=\"generated/sklearn.metrics.roc_auc_score.html#sklearn.metrics.roc_auc_score\" title=\"sklearn.metrics.roc_auc_score\"><code class=\"xref py py-func docutils literal notranslate\"><span class=\"pre\">metrics.roc_auc_score</span></code></a></p></td>\n",
    "<td></td>\n",
    "</tr>\n",
    "<tr class=\"row-odd\"><td><p><strong>Clustering</strong></p></td>\n",
    "<td></td>\n",
    "<td></td>\n",
    "</tr>\n",
    "<tr class=\"row-even\"><td><p>‘adjusted_mutual_info_score’</p></td>\n",
    "<td><p><a class=\"reference internal\" href=\"generated/sklearn.metrics.adjusted_mutual_info_score.html#sklearn.metrics.adjusted_mutual_info_score\" title=\"sklearn.metrics.adjusted_mutual_info_score\"><code class=\"xref py py-func docutils literal notranslate\"><span class=\"pre\">metrics.adjusted_mutual_info_score</span></code></a></p></td>\n",
    "<td></td>\n",
    "</tr>\n",
    "<tr class=\"row-odd\"><td><p>‘adjusted_rand_score’</p></td>\n",
    "<td><p><a class=\"reference internal\" href=\"generated/sklearn.metrics.adjusted_rand_score.html#sklearn.metrics.adjusted_rand_score\" title=\"sklearn.metrics.adjusted_rand_score\"><code class=\"xref py py-func docutils literal notranslate\"><span class=\"pre\">metrics.adjusted_rand_score</span></code></a></p></td>\n",
    "<td></td>\n",
    "</tr>\n",
    "<tr class=\"row-even\"><td><p>‘completeness_score’</p></td>\n",
    "<td><p><a class=\"reference internal\" href=\"generated/sklearn.metrics.completeness_score.html#sklearn.metrics.completeness_score\" title=\"sklearn.metrics.completeness_score\"><code class=\"xref py py-func docutils literal notranslate\"><span class=\"pre\">metrics.completeness_score</span></code></a></p></td>\n",
    "<td></td>\n",
    "</tr>\n",
    "<tr class=\"row-odd\"><td><p>‘fowlkes_mallows_score’</p></td>\n",
    "<td><p><a class=\"reference internal\" href=\"generated/sklearn.metrics.fowlkes_mallows_score.html#sklearn.metrics.fowlkes_mallows_score\" title=\"sklearn.metrics.fowlkes_mallows_score\"><code class=\"xref py py-func docutils literal notranslate\"><span class=\"pre\">metrics.fowlkes_mallows_score</span></code></a></p></td>\n",
    "<td></td>\n",
    "</tr>\n",
    "<tr class=\"row-even\"><td><p>‘homogeneity_score’</p></td>\n",
    "<td><p><a class=\"reference internal\" href=\"generated/sklearn.metrics.homogeneity_score.html#sklearn.metrics.homogeneity_score\" title=\"sklearn.metrics.homogeneity_score\"><code class=\"xref py py-func docutils literal notranslate\"><span class=\"pre\">metrics.homogeneity_score</span></code></a></p></td>\n",
    "<td></td>\n",
    "</tr>\n",
    "<tr class=\"row-odd\"><td><p>‘mutual_info_score’</p></td>\n",
    "<td><p><a class=\"reference internal\" href=\"generated/sklearn.metrics.mutual_info_score.html#sklearn.metrics.mutual_info_score\" title=\"sklearn.metrics.mutual_info_score\"><code class=\"xref py py-func docutils literal notranslate\"><span class=\"pre\">metrics.mutual_info_score</span></code></a></p></td>\n",
    "<td></td>\n",
    "</tr>\n",
    "<tr class=\"row-even\"><td><p>‘normalized_mutual_info_score’</p></td>\n",
    "<td><p><a class=\"reference internal\" href=\"generated/sklearn.metrics.normalized_mutual_info_score.html#sklearn.metrics.normalized_mutual_info_score\" title=\"sklearn.metrics.normalized_mutual_info_score\"><code class=\"xref py py-func docutils literal notranslate\"><span class=\"pre\">metrics.normalized_mutual_info_score</span></code></a></p></td>\n",
    "<td></td>\n",
    "</tr>\n",
    "<tr class=\"row-odd\"><td><p>‘v_measure_score’</p></td>\n",
    "<td><p><a class=\"reference internal\" href=\"generated/sklearn.metrics.v_measure_score.html#sklearn.metrics.v_measure_score\" title=\"sklearn.metrics.v_measure_score\"><code class=\"xref py py-func docutils literal notranslate\"><span class=\"pre\">metrics.v_measure_score</span></code></a></p></td>\n",
    "<td></td>\n",
    "</tr>\n",
    "<tr class=\"row-even\"><td><p><strong>Regression</strong></p></td>\n",
    "<td></td>\n",
    "<td></td>\n",
    "</tr>\n",
    "<tr class=\"row-odd\"><td><p>‘explained_variance’</p></td>\n",
    "<td><p><a class=\"reference internal\" href=\"generated/sklearn.metrics.explained_variance_score.html#sklearn.metrics.explained_variance_score\" title=\"sklearn.metrics.explained_variance_score\"><code class=\"xref py py-func docutils literal notranslate\"><span class=\"pre\">metrics.explained_variance_score</span></code></a></p></td>\n",
    "<td></td>\n",
    "</tr>\n",
    "<tr class=\"row-even\"><td><p>‘max_error’</p></td>\n",
    "<td><p><a class=\"reference internal\" href=\"generated/sklearn.metrics.max_error.html#sklearn.metrics.max_error\" title=\"sklearn.metrics.max_error\"><code class=\"xref py py-func docutils literal notranslate\"><span class=\"pre\">metrics.max_error</span></code></a></p></td>\n",
    "<td></td>\n",
    "</tr>\n",
    "<tr class=\"row-odd\"><td><p>‘neg_mean_absolute_error’</p></td>\n",
    "<td><p><a class=\"reference internal\" href=\"generated/sklearn.metrics.mean_absolute_error.html#sklearn.metrics.mean_absolute_error\" title=\"sklearn.metrics.mean_absolute_error\"><code class=\"xref py py-func docutils literal notranslate\"><span class=\"pre\">metrics.mean_absolute_error</span></code></a></p></td>\n",
    "<td></td>\n",
    "</tr>\n",
    "<tr class=\"row-even\"><td><p>‘neg_mean_squared_error’</p></td>\n",
    "<td><p><a class=\"reference internal\" href=\"generated/sklearn.metrics.mean_squared_error.html#sklearn.metrics.mean_squared_error\" title=\"sklearn.metrics.mean_squared_error\"><code class=\"xref py py-func docutils literal notranslate\"><span class=\"pre\">metrics.mean_squared_error</span></code></a></p></td>\n",
    "<td></td>\n",
    "</tr>\n",
    "<tr class=\"row-odd\"><td><p>‘neg_root_mean_squared_error’</p></td>\n",
    "<td><p><a class=\"reference internal\" href=\"generated/sklearn.metrics.mean_squared_error.html#sklearn.metrics.mean_squared_error\" title=\"sklearn.metrics.mean_squared_error\"><code class=\"xref py py-func docutils literal notranslate\"><span class=\"pre\">metrics.mean_squared_error</span></code></a></p></td>\n",
    "<td></td>\n",
    "</tr>\n",
    "<tr class=\"row-even\"><td><p>‘neg_mean_squared_log_error’</p></td>\n",
    "<td><p><a class=\"reference internal\" href=\"generated/sklearn.metrics.mean_squared_log_error.html#sklearn.metrics.mean_squared_log_error\" title=\"sklearn.metrics.mean_squared_log_error\"><code class=\"xref py py-func docutils literal notranslate\"><span class=\"pre\">metrics.mean_squared_log_error</span></code></a></p></td>\n",
    "<td></td>\n",
    "</tr>\n",
    "<tr class=\"row-odd\"><td><p>‘neg_median_absolute_error’</p></td>\n",
    "<td><p><a class=\"reference internal\" href=\"generated/sklearn.metrics.median_absolute_error.html#sklearn.metrics.median_absolute_error\" title=\"sklearn.metrics.median_absolute_error\"><code class=\"xref py py-func docutils literal notranslate\"><span class=\"pre\">metrics.median_absolute_error</span></code></a></p></td>\n",
    "<td></td>\n",
    "</tr>\n",
    "<tr class=\"row-even\"><td><p>‘r2’</p></td>\n",
    "<td><p><a class=\"reference internal\" href=\"generated/sklearn.metrics.r2_score.html#sklearn.metrics.r2_score\" title=\"sklearn.metrics.r2_score\"><code class=\"xref py py-func docutils literal notranslate\"><span class=\"pre\">metrics.r2_score</span></code></a></p></td>\n",
    "<td></td>\n",
    "</tr>\n",
    "<tr class=\"row-odd\"><td><p>‘neg_mean_poisson_deviance’</p></td>\n",
    "<td><p><a class=\"reference internal\" href=\"generated/sklearn.metrics.mean_poisson_deviance.html#sklearn.metrics.mean_poisson_deviance\" title=\"sklearn.metrics.mean_poisson_deviance\"><code class=\"xref py py-func docutils literal notranslate\"><span class=\"pre\">metrics.mean_poisson_deviance</span></code></a></p></td>\n",
    "<td></td>\n",
    "</tr>\n",
    "<tr class=\"row-even\"><td><p>‘neg_mean_gamma_deviance’</p></td>\n",
    "<td><p><a class=\"reference internal\" href=\"generated/sklearn.metrics.mean_gamma_deviance.html#sklearn.metrics.mean_gamma_deviance\" title=\"sklearn.metrics.mean_gamma_deviance\"><code class=\"xref py py-func docutils literal notranslate\"><span class=\"pre\">metrics.mean_gamma_deviance</span></code></a></p></td>\n",
    "<td></td>\n",
    "</tr>\n",
    "</tbody>\n",
    "</table>\n"
   ]
  },
  {
   "cell_type": "code",
   "execution_count": null,
   "metadata": {},
   "outputs": [],
   "source": []
  },
  {
   "cell_type": "code",
   "execution_count": null,
   "metadata": {},
   "outputs": [],
   "source": []
  }
 ],
 "metadata": {
  "kernelspec": {
   "display_name": "Python 3",
   "language": "python",
   "name": "python3"
  },
  "language_info": {
   "codemirror_mode": {
    "name": "ipython",
    "version": 3
   },
   "file_extension": ".py",
   "mimetype": "text/x-python",
   "name": "python",
   "nbconvert_exporter": "python",
   "pygments_lexer": "ipython3",
   "version": "3.8.5"
  },
  "papermill": {
   "duration": 35.602304,
   "end_time": "2020-12-04T13:28:54.275373",
   "environment_variables": {},
   "exception": null,
   "input_path": "__notebook__.ipynb",
   "output_path": "__notebook__.ipynb",
   "parameters": {},
   "start_time": "2020-12-04T13:28:18.673069",
   "version": "2.1.0"
  }
 },
 "nbformat": 4,
 "nbformat_minor": 4
}
