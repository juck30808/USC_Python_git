{
 "cells": [
  {
   "cell_type": "markdown",
   "metadata": {},
   "source": [
    "# 機械學習中常用的評估方法\n",
    "- [維基百科](https://en.wikipedia.org/wiki/Precision_and_recall)"
   ]
  },
  {
   "cell_type": "markdown",
   "metadata": {},
   "source": [
    "# 正確率\n",
    "正確率 = 預測正確的數目 / 資料總數"
   ]
  },
  {
   "cell_type": "code",
   "execution_count": 1,
   "metadata": {},
   "outputs": [
    {
     "name": "stdout",
     "output_type": "stream",
     "text": [
      "正確率為 0.9\n"
     ]
    }
   ],
   "source": [
    "TN = 900 #預測正確的數目\n",
    "Total = 1000 #資料總數\n",
    "Accuracy = TN / Total #正確率\n",
    "print('正確率為', Accuracy)"
   ]
  },
  {
   "cell_type": "markdown",
   "metadata": {},
   "source": [
    "### 正確率的問題\n",
    "當兩類別資料數目不一致時，光用正確率很容易誤判<BR>\n",
    "    譬如總共有<font color=\"blue\">1000</font>筆資料，A類<font color=\"blue\">900</font>筆，B類<font color=\"blue\">100</font>筆。<BR>\n",
    "可以建立一個分類器，不管什麼資料都預測為A類。<BR>\n",
    "    則預測正確的數目為900，錯誤為100，最終的正確率則為<font color=\"red\"><b>0.9</b></font>。"
   ]
  },
  {
   "cell_type": "markdown",
   "metadata": {},
   "source": [
    "## 預測結果的四種狀況\n",
    "<table align='left'>\n",
    "    <tr><td></td><td>實際值 正</td><td>實際值 負</td></tr>\n",
    "    <tr><td>預測值 正</td><td>True positive (TP)</td><td>False positive (FP)</td></tr>\n",
    "    <tr><td>預測值 負</td><td>False negative (FN)</td><td>True negative (TN)</td></tr>\n",
    "</table>"
   ]
  },
  {
   "cell_type": "markdown",
   "metadata": {},
   "source": [
    "- Recall = TP/(TP+FN) ：實際正的資料中，有多少比例可以找出來\n",
    "- Precision = TP/(TP+FP)  ：預測為正的資料中，有多少比例是正確的\n",
    "- F1-score = 2 * Precision * Recall / (Precision + Recall)"
   ]
  },
  {
   "cell_type": "markdown",
   "metadata": {},
   "source": [
    "## 範例\n",
    "以交通執法系統來舉例，有個闖紅燈偵測系統，偵測一萬台經過路口的車子的預測結果如下：\n",
    "\n",
    "<table align='left'>\n",
    "    <tr><td></td><td>實際違規</td><td>實際沒有違規</td></tr>\n",
    "    <tr><td>預測違規</td><td>99 (TP)</td><td>99 (FP)</td></tr>\n",
    "    <tr><td>預測沒有違規</td><td>1 (FN)</td><td>9801 (TN)</td></tr>\n",
    "</table>\n"
   ]
  },
  {
   "cell_type": "markdown",
   "metadata": {},
   "source": [
    "- accuracy = 0.99\n",
    "- recall = 99 / 100 = 0.99\n",
    "- precision = 99 / 198 = 0.5\n",
    "- F1 = 2 * 0.99* 0.5 / (0.99 + 0.5) = 0.6644"
   ]
  },
  {
   "cell_type": "code",
   "execution_count": 5,
   "metadata": {},
   "outputs": [
    {
     "name": "stdout",
     "output_type": "stream",
     "text": [
      "Accuracy 0.999\n",
      "Recall 0.999\n",
      "Precision 0.9098360655737704\n",
      "F1 0.9523355576739752\n"
     ]
    }
   ],
   "source": [
    "accuracy = 0.999 #系統準確率\n",
    "positiveRate = 0.01 #違規率\n",
    "TP = positiveRate*accuracy\n",
    "FN = positiveRate*(1-accuracy)\n",
    "FP = (1-positiveRate)*(1-accuracy)\n",
    "TN = (1-positiveRate)*accuracy\n",
    "Recall = TP/(TP+FN)\n",
    "Precision = TP/(TP+FP)\n",
    "F1 = 2 * Precision * Recall / (Precision + Recall)\n",
    "\n",
    "\n",
    "print('Accuracy', accuracy)\n",
    "print('Recall', Recall)\n",
    "print('Precision', Precision)\n",
    "print('F1', F1)"
   ]
  },
  {
   "cell_type": "code",
   "execution_count": null,
   "metadata": {},
   "outputs": [],
   "source": []
  }
 ],
 "metadata": {
  "kernelspec": {
   "display_name": "Python 3",
   "language": "python",
   "name": "python3"
  },
  "language_info": {
   "codemirror_mode": {
    "name": "ipython",
    "version": 3
   },
   "file_extension": ".py",
   "mimetype": "text/x-python",
   "name": "python",
   "nbconvert_exporter": "python",
   "pygments_lexer": "ipython3",
   "version": "3.8.5"
  }
 },
 "nbformat": 4,
 "nbformat_minor": 4
}
