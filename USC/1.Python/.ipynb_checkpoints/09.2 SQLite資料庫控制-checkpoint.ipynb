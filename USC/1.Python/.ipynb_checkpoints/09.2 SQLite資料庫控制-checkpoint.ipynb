{
 "cells": [
  {
   "cell_type": "markdown",
   "metadata": {},
   "source": [
    "# SQLite資料庫控制\n",
    "參考文件 https://www.runoob.com/sqlite/sqlite-python.html"
   ]
  },
  {
   "cell_type": "code",
   "execution_count": 1,
   "metadata": {},
   "outputs": [
    {
     "data": {
      "text/plain": [
       "<sqlite3.Connection at 0x7ff0175b67b0>"
      ]
     },
     "execution_count": 1,
     "metadata": {},
     "output_type": "execute_result"
    }
   ],
   "source": [
    "# 連接資料庫\n",
    "import sqlite3\n",
    "conn = sqlite3.connect('data/SQL_TEST.db')\n",
    "conn"
   ]
  },
  {
   "cell_type": "code",
   "execution_count": 2,
   "metadata": {},
   "outputs": [
    {
     "data": {
      "text/plain": [
       "<sqlite3.Cursor at 0x7ff01766e260>"
      ]
     },
     "execution_count": 2,
     "metadata": {},
     "output_type": "execute_result"
    }
   ],
   "source": [
    "# 建立資料庫操作物件\n",
    "cursor = conn.cursor()\n",
    "cursor"
   ]
  },
  {
   "cell_type": "markdown",
   "metadata": {},
   "source": [
    "測試用的命令\n",
    "INSERT INTO orders (id, sales_id, sale_date, price) VALUES ('30', '3', '2020/03/09', '21.7')"
   ]
  },
  {
   "cell_type": "code",
   "execution_count": 3,
   "metadata": {},
   "outputs": [
    {
     "data": {
      "text/plain": [
       "<sqlite3.Cursor at 0x7ff01766e260>"
      ]
     },
     "execution_count": 3,
     "metadata": {},
     "output_type": "execute_result"
    }
   ],
   "source": [
    "# 執行SQL命令\n",
    "result = cursor.execute(\"INSERT INTO orders (id, sales_id, sale_date, price) VALUES ('30', '3', '2020/03/09', '21.7')\")\n",
    "result"
   ]
  },
  {
   "cell_type": "code",
   "execution_count": 17,
   "metadata": {},
   "outputs": [],
   "source": [
    "# 必須執行這行指令資料庫才會進行更新\n",
    "conn.commit()\n",
    "#conn.close()"
   ]
  },
  {
   "cell_type": "code",
   "execution_count": 18,
   "metadata": {},
   "outputs": [
    {
     "data": {
      "text/plain": [
       "<sqlite3.Cursor at 0x7fd7e47fb340>"
      ]
     },
     "execution_count": 18,
     "metadata": {},
     "output_type": "execute_result"
    }
   ],
   "source": [
    "# 當SQL指令錯誤時會產生ERROR\n",
    "#result = cursor.execute(\"INSERT INTO orders22 (id, sales_id, sale_date, price) VALUES ('30', '3', '2020/03/09', '21.7')\")\n",
    "result\n",
    "\n",
    "# table:orders\n",
    "#     -id\n",
    "#     -sales_id\n",
    "#     -sales_date\n",
    "#     -price\n",
    "# table:sales\n",
    "#     -id\n",
    "#     -name\n",
    "#     -city"
   ]
  },
  {
   "cell_type": "markdown",
   "metadata": {},
   "source": [
    "## 查詢資料"
   ]
  },
  {
   "cell_type": "code",
   "execution_count": 8,
   "metadata": {},
   "outputs": [
    {
     "name": "stdout",
     "output_type": "stream",
     "text": [
      "1 Ken 台北市\n",
      "2 Kim 台中市\n",
      "3 Niki 桃園市\n"
     ]
    }
   ],
   "source": [
    "# 取得查詢的資料\n",
    "cursor.execute('select * from sales')\n",
    "for id, name, city in cursor:\n",
    "    print(id, name, city)"
   ]
  },
  {
   "cell_type": "code",
   "execution_count": 13,
   "metadata": {},
   "outputs": [
    {
     "name": "stdout",
     "output_type": "stream",
     "text": [
      "1 Ken 台北市\n",
      "2 Kim 台中市\n",
      "3 Niki 桃園市\n"
     ]
    }
   ],
   "source": [
    "import sqlite3\n",
    "sql = \"UPDATE sales SET name = 'Andy' where id = 1\"\n",
    "conn = sqlite3.connect('data/SQL_TEST.db')\n",
    "cursor = conn.cursor()\n",
    "\n",
    "cursor.execute('select * from sales')\n",
    "for id, name, city in cursor:\n",
    "    print(id, name, city)\n",
    "    \n",
    "conn.commit()\n",
    "conn.close()"
   ]
  },
  {
   "cell_type": "code",
   "execution_count": 25,
   "metadata": {},
   "outputs": [
    {
     "name": "stdout",
     "output_type": "stream",
     "text": [
      "資料筆數： -1\n",
      "1 Ken 台北市\n",
      "2 Kim 台中市\n",
      "3 Niki 桃園市\n"
     ]
    }
   ],
   "source": [
    "# 使用 fetchall 將資料一次全部抓到 Python 中再處理\n",
    "cursor.execute('select * from sales')\n",
    "records = cursor.fetchall()\n",
    "print(\"資料筆數：\", cursor.rowcount)\n",
    "\n",
    "for id, name, city in records:\n",
    "    print(id, name, city)"
   ]
  },
  {
   "cell_type": "code",
   "execution_count": null,
   "metadata": {},
   "outputs": [],
   "source": []
  },
  {
   "cell_type": "code",
   "execution_count": 26,
   "metadata": {},
   "outputs": [
    {
     "data": {
      "text/plain": [
       "[(1, 'Ken', '台北市'), (2, 'Kim', '台中市'), (3, 'Niki', '桃園市')]"
      ]
     },
     "execution_count": 26,
     "metadata": {},
     "output_type": "execute_result"
    }
   ],
   "source": [
    "records"
   ]
  },
  {
   "cell_type": "code",
   "execution_count": 16,
   "metadata": {},
   "outputs": [],
   "source": [
    "# 關閉資料庫連線\n",
    "conn.close()"
   ]
  },
  {
   "cell_type": "code",
   "execution_count": 7,
   "metadata": {},
   "outputs": [
    {
     "name": "stdout",
     "output_type": "stream",
     "text": [
      "4 1 2020/03/05 14.6\n",
      "5 3 2020/03/06 14.6\n",
      "11 1 2020/03/14 15.6\n",
      "12 1 2020/03/14 15.6\n",
      "13 2 2020/03/06 13.2\n",
      "14 2 2020/03/04 14.6\n",
      "15 1 2020/03/04 11.0\n",
      "17 1 2020/03/24 8.2\n",
      "22 2 2020/03/09 11.5\n"
     ]
    }
   ],
   "source": [
    "# 練習題\n",
    "# 從 orders 裡尋找 價格小於20元的訂單，並列出來\n",
    "\n",
    "\n",
    "import sqlite3\n",
    "conn = sqlite3.connect('data/SQL_TEST.db')\n",
    "\n",
    "cursor = conn.cursor()\n",
    "\n",
    "sql = 'select * from orders where price < 20'\n",
    "cursor.execute(sql)\n",
    "\n",
    "for id, sales_id, sale_date, price in cursor:\n",
    "    print(id, sales_id, sale_date, price)\n",
    " \n",
    "conn.commit()\n",
    "conn.close()\n",
    "\n"
   ]
  },
  {
   "cell_type": "code",
   "execution_count": 8,
   "metadata": {},
   "outputs": [
    {
     "name": "stdout",
     "output_type": "stream",
     "text": [
      "(227.0,)\n"
     ]
    }
   ],
   "source": [
    "# 練習題\n",
    "# 請統計 2020/03/04 當天營業額的總和\n",
    "import sqlite3\n",
    "conn = sqlite3.connect('data/SQL_TEST.db')\n",
    "\n",
    "cursor = conn.cursor()\n",
    "\n",
    "sql = \"select sum(price) from orders where sale_date = '2020/03/04'\"\n",
    "cursor.execute(sql)\n",
    "\n",
    "for total in cursor:\n",
    "    print(total)\n",
    " \n",
    "conn.commit()\n",
    "conn.close()\n",
    "\n"
   ]
  },
  {
   "cell_type": "code",
   "execution_count": 9,
   "metadata": {},
   "outputs": [
    {
     "name": "stdout",
     "output_type": "stream",
     "text": [
      "2020/02/17 75.0\n",
      "2020/03/04 227.0\n",
      "2020/03/05 54.7\n",
      "2020/03/06 27.799999999999997\n",
      "2020/03/09 158.6\n",
      "2020/03/14 31.2\n",
      "2020/03/24 58.8\n"
     ]
    }
   ],
   "source": [
    "# 練習題\n",
    "# 請分開統計 每天營業額的總和\n",
    "\n",
    "import sqlite3\n",
    "conn = sqlite3.connect('data/SQL_TEST.db')\n",
    "\n",
    "cursor = conn.cursor()\n",
    "\n",
    "sql = \"select sum(price), sale_date from orders group by sale_date\"\n",
    "cursor.execute(sql)\n",
    "\n",
    "for total, date in cursor:\n",
    "    print(date, total)\n",
    " \n",
    "conn.commit()\n",
    "conn.close()\n"
   ]
  },
  {
   "cell_type": "code",
   "execution_count": 10,
   "metadata": {},
   "outputs": [
    {
     "name": "stdout",
     "output_type": "stream",
     "text": [
      "1 2020/02/17 33.5\n",
      "3 2020/02/17 41.5\n",
      "1 2020/03/04 105.5\n",
      "2 2020/03/04 88.3\n",
      "3 2020/03/04 33.2\n",
      "1 2020/03/05 54.7\n",
      "2 2020/03/06 13.2\n",
      "3 2020/03/06 14.6\n",
      "1 2020/03/09 40.2\n",
      "2 2020/03/09 11.5\n",
      "3 2020/03/09 106.9\n",
      "1 2020/03/14 31.2\n",
      "1 2020/03/24 58.8\n"
     ]
    }
   ],
   "source": [
    "# 練習題\n",
    "# 請分開統計 每天每個營業員的營業額總和\n",
    "import sqlite3\n",
    "conn = sqlite3.connect('data/SQL_TEST.db')\n",
    "\n",
    "cursor = conn.cursor()\n",
    "\n",
    "sql = \"select sum(price), sale_date, sales_id from orders group by sale_date, sales_id\"\n",
    "cursor.execute(sql)\n",
    "\n",
    "for total, date, sales_id in cursor:\n",
    "    print(sales_id, date, total)\n",
    " \n",
    "conn.commit()\n",
    "conn.close()\n"
   ]
  },
  {
   "cell_type": "code",
   "execution_count": 11,
   "metadata": {},
   "outputs": [
    {
     "name": "stdout",
     "output_type": "stream",
     "text": [
      "1 Ken 2020/02/17 33.5\n",
      "3 Niki 2020/02/17 41.5\n",
      "1 Ken 2020/03/04 105.5\n",
      "2 Kim 2020/03/04 88.3\n",
      "3 Niki 2020/03/04 33.2\n",
      "1 Ken 2020/03/05 54.7\n",
      "2 Kim 2020/03/06 13.2\n",
      "3 Niki 2020/03/06 14.6\n",
      "1 Ken 2020/03/09 40.2\n",
      "2 Kim 2020/03/09 11.5\n",
      "3 Niki 2020/03/09 106.9\n",
      "1 Ken 2020/03/14 31.2\n",
      "1 Ken 2020/03/24 58.8\n"
     ]
    }
   ],
   "source": [
    "# 練習題\n",
    "# 請分開統計 每天每個營業員的營業額總和，同時列出營業員名字跟日期\n",
    "import sqlite3\n",
    "conn = sqlite3.connect('data/SQL_TEST.db')\n",
    "\n",
    "cursor = conn.cursor()\n",
    "\n",
    "sql = \"select sum(price), sale_date, sales_id, name from orders join sales on orders.sales_id = sales.id group by sale_date, sales_id\"\n",
    "cursor.execute(sql)\n",
    "\n",
    "for total, date, sales_id, name in cursor:\n",
    "    print(sales_id, name, date, total)\n",
    " \n",
    "conn.commit()\n",
    "conn.close()\n"
   ]
  },
  {
   "cell_type": "code",
   "execution_count": null,
   "metadata": {},
   "outputs": [],
   "source": []
  }
 ],
 "metadata": {
  "kernelspec": {
   "display_name": "Python 3",
   "language": "python",
   "name": "python3"
  },
  "language_info": {
   "codemirror_mode": {
    "name": "ipython",
    "version": 3
   },
   "file_extension": ".py",
   "mimetype": "text/x-python",
   "name": "python",
   "nbconvert_exporter": "python",
   "pygments_lexer": "ipython3",
   "version": "3.8.5"
  }
 },
 "nbformat": 4,
 "nbformat_minor": 4
}
