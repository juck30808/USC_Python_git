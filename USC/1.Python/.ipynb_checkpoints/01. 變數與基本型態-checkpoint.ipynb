{
 "cells": [
  {
   "cell_type": "markdown",
   "metadata": {
    "id": "51hJYmpOJCHl"
   },
   "source": [
    "# <font color = 'green'> 文件主要參考 https://docs.python.org/zh-tw/3/tutorial/index.html"
   ]
  },
  {
   "cell_type": "markdown",
   "metadata": {
    "id": "Wb4IdKrHJVvH"
   },
   "source": [
    "***test***"
   ]
  },
  {
   "cell_type": "markdown",
   "metadata": {
    "id": "ioLrnZV5JCHm"
   },
   "source": [
    "# 數字"
   ]
  },
  {
   "cell_type": "code",
   "execution_count": 43,
   "metadata": {
    "id": "qXcf8oFcJCHn",
    "outputId": "83787fd8-2cc9-4ca4-d4ae-70a00efa63d5"
   },
   "outputs": [
    {
     "data": {
      "text/plain": [
       "3"
      ]
     },
     "execution_count": 43,
     "metadata": {},
     "output_type": "execute_result"
    }
   ],
   "source": [
    "1+2"
   ]
  },
  {
   "cell_type": "code",
   "execution_count": 44,
   "metadata": {
    "id": "wSw7PTvmJCHv",
    "outputId": "ed498464-d71c-42b5-d27c-09d15507feb8"
   },
   "outputs": [
    {
     "data": {
      "text/plain": [
       "20"
      ]
     },
     "execution_count": 44,
     "metadata": {},
     "output_type": "execute_result"
    }
   ],
   "source": [
    "50 - 5*6"
   ]
  },
  {
   "cell_type": "code",
   "execution_count": 3,
   "metadata": {
    "id": "uV4bX4ZMJCHz",
    "outputId": "48ca5f86-c9c5-4cd8-872f-1f21236bcbbb"
   },
   "outputs": [
    {
     "data": {
      "text/plain": [
       "5.0"
      ]
     },
     "execution_count": 3,
     "metadata": {},
     "output_type": "execute_result"
    }
   ],
   "source": [
    "(50 - 5*6) / 4"
   ]
  },
  {
   "cell_type": "code",
   "execution_count": 45,
   "metadata": {
    "id": "UcOJI8DWJCH5",
    "outputId": "df9e6f92-fde2-4b7e-f579-771cbb940756"
   },
   "outputs": [
    {
     "data": {
      "text/plain": [
       "5.666666666666667"
      ]
     },
     "execution_count": 45,
     "metadata": {},
     "output_type": "execute_result"
    }
   ],
   "source": [
    "17 / 3  # 浮點計算"
   ]
  },
  {
   "cell_type": "code",
   "execution_count": 46,
   "metadata": {
    "id": "giiqNMJbJCH8",
    "outputId": "114ddf42-193d-41b8-fd5b-0218ce2be3b0"
   },
   "outputs": [
    {
     "data": {
      "text/plain": [
       "5"
      ]
     },
     "execution_count": 46,
     "metadata": {},
     "output_type": "execute_result"
    }
   ],
   "source": [
    "17 // 3  # 當成整數來除"
   ]
  },
  {
   "cell_type": "code",
   "execution_count": 47,
   "metadata": {
    "id": "PbBY9-A_JCH_",
    "outputId": "6a0a5d75-2d42-49f3-d384-49675ddd615e"
   },
   "outputs": [
    {
     "data": {
      "text/plain": [
       "2"
      ]
     },
     "execution_count": 47,
     "metadata": {},
     "output_type": "execute_result"
    }
   ],
   "source": [
    "17 % 3  # 求除法的餘數"
   ]
  },
  {
   "cell_type": "code",
   "execution_count": 10,
   "metadata": {
    "id": "lbBsMKyRJCID",
    "outputId": "17f817a1-a9f7-4a58-d96d-1bc52a517a00"
   },
   "outputs": [
    {
     "data": {
      "text/plain": [
       "25"
      ]
     },
     "execution_count": 10,
     "metadata": {},
     "output_type": "execute_result"
    }
   ],
   "source": [
    "# 5 ^ 2\n",
    "5 ** 2"
   ]
  },
  {
   "cell_type": "code",
   "execution_count": 11,
   "metadata": {
    "id": "qdtsUHi4JCIG",
    "outputId": "00defb6d-6535-4a8b-ec46-c4c50933de88"
   },
   "outputs": [
    {
     "data": {
      "text/plain": [
       "256"
      ]
     },
     "execution_count": 11,
     "metadata": {},
     "output_type": "execute_result"
    }
   ],
   "source": [
    "# 2 ^ 8\n",
    "2 ** 8"
   ]
  },
  {
   "cell_type": "code",
   "execution_count": 12,
   "metadata": {
    "id": "KmLXvWGYJCIK",
    "outputId": "c7871a5d-3ab8-464c-db56-e07e816003a9"
   },
   "outputs": [
    {
     "data": {
      "text/plain": [
       "50"
      ]
     },
     "execution_count": 12,
     "metadata": {},
     "output_type": "execute_result"
    }
   ],
   "source": [
    "# 將數字存在變數中再[進行運算\n",
    "寬 = 5\n",
    "高 = 10\n",
    "寬 * 高"
   ]
  },
  {
   "cell_type": "markdown",
   "metadata": {
    "id": "hy5obSj3JCIU"
   },
   "source": [
    "# 字串 String"
   ]
  },
  {
   "cell_type": "code",
   "execution_count": 14,
   "metadata": {
    "id": "LZtoqLgKJCIU",
    "outputId": "283217b3-6701-465b-e1b2-bfba6b5ef069"
   },
   "outputs": [
    {
     "data": {
      "text/plain": [
       "'Hello world'"
      ]
     },
     "execution_count": 14,
     "metadata": {},
     "output_type": "execute_result"
    }
   ],
   "source": [
    "# 可以用單引號也可以用雙引號\n",
    "'Hello world'\n",
    "\"Hello world\""
   ]
  },
  {
   "cell_type": "code",
   "execution_count": 17,
   "metadata": {
    "id": "R2uNIiFTJCId",
    "outputId": "cbd8a5ab-f072-436d-a868-193148a1d901"
   },
   "outputs": [
    {
     "data": {
      "text/plain": [
       "\"Clement's dog\""
      ]
     },
     "execution_count": 17,
     "metadata": {},
     "output_type": "execute_result"
    }
   ],
   "source": [
    "# 當字串中有單引號時的用法\n",
    "'Clement\\'s dog'"
   ]
  },
  {
   "cell_type": "code",
   "execution_count": 18,
   "metadata": {
    "id": "LqjuvpaEJCIh",
    "outputId": "44994e0f-5c2c-4646-dc0b-c7c631ccad98"
   },
   "outputs": [
    {
     "data": {
      "text/plain": [
       "'unununium'"
      ]
     },
     "execution_count": 18,
     "metadata": {},
     "output_type": "execute_result"
    }
   ],
   "source": [
    "# 字串可以使用 + 運算子連接 (concatenate)，並用 * 重覆該字串的內容\n",
    "3 * 'un' + 'ium'"
   ]
  },
  {
   "cell_type": "code",
   "execution_count": 19,
   "metadata": {
    "id": "Z5HQrEouJCIk",
    "outputId": "9887853b-adee-4d63-8f7a-a9c990e638aa"
   },
   "outputs": [
    {
     "data": {
      "text/plain": [
       "'Python'"
      ]
     },
     "execution_count": 19,
     "metadata": {},
     "output_type": "execute_result"
    }
   ],
   "source": [
    "# 兩個以上相鄰的字串值（string literal，即被引號包圍的字串）會被自動連接起來\n",
    "'Py' 'thon'"
   ]
  },
  {
   "cell_type": "code",
   "execution_count": 20,
   "metadata": {
    "id": "WZn33Mu9JCIm",
    "outputId": "dcf6b756-0ebe-4ad0-d0db-14411bf7afd0"
   },
   "outputs": [
    {
     "data": {
      "text/plain": [
       "'Put several strings within parentheses to have them joined together.'"
      ]
     },
     "execution_count": 20,
     "metadata": {},
     "output_type": "execute_result"
    }
   ],
   "source": [
    "# 當你想要分段一個非常長的字串時，兩相鄰字串值自動連接的特性十分有用\n",
    "text = ('Put several strings within parentheses '\n",
    "    'to have them joined together.')\n",
    "text"
   ]
  },
  {
   "cell_type": "code",
   "execution_count": 33,
   "metadata": {
    "id": "68uFf241JCIt",
    "outputId": "5c2eed40-c143-4b40-f9d1-8d2461585f02"
   },
   "outputs": [
    {
     "data": {
      "text/plain": [
       "'Python'"
      ]
     },
     "execution_count": 33,
     "metadata": {},
     "output_type": "execute_result"
    }
   ],
   "source": [
    "# 需要使用 + 這個運算子來連接\n",
    "prefix = 'Py'\n",
    "prefix = prefix + 'thon'\n",
    "prefix"
   ]
  },
  {
   "cell_type": "code",
   "execution_count": 52,
   "metadata": {},
   "outputs": [
    {
     "name": "stdout",
     "output_type": "stream",
     "text": [
      "Clement's age is 48\n"
     ]
    }
   ],
   "source": [
    "# 正確的方法是要轉型\n",
    "name = 'Clement'\n",
    "age = 48\n",
    "s = name + \"'s age is \" + str(age)  #method 1\n",
    "s = \"%s's age is %d\"%(name,age)     #method 2\n",
    "print(s)"
   ]
  },
  {
   "cell_type": "code",
   "execution_count": 23,
   "metadata": {
    "id": "QOxTb07BJCIx",
    "outputId": "f9d86327-84c3-4fff-f191-adfc63ad745c",
    "scrolled": true
   },
   "outputs": [
    {
     "name": "stdout",
     "output_type": "stream",
     "text": [
      "n\n",
      "Pytho\n"
     ]
    }
   ],
   "source": [
    "# 字串可以被「索引 indexed」(下標，即 subscripted)，第一個字元的索引值為 0。\n",
    "# 沒有獨立表示字元的型別；\n",
    "# 一個字元就是一個大小為 1 的字串\n",
    "word = 'Python'\n",
    "print(word[5])\n",
    "print(word[0:-1])"
   ]
  },
  {
   "cell_type": "code",
   "execution_count": 37,
   "metadata": {
    "id": "lWNm44CyJCJL",
    "outputId": "3e754360-e42b-4f76-af42-f06cc60e725c"
   },
   "outputs": [
    {
     "name": "stdout",
     "output_type": "stream",
     "text": [
      "Py\n",
      "on\n",
      "on\n"
     ]
    }
   ],
   "source": [
    "print(word[:2])  # 取出前兩個字元\n",
    "print(word[-2:]) # 取出最後兩個字元 (更容易的方式)\n",
    "print(word[4:])  # 取出最後兩個字元"
   ]
  },
  {
   "cell_type": "code",
   "execution_count": null,
   "metadata": {
    "id": "SyH8J5RVJCJc",
    "outputId": "0d2f329d-67cc-47fd-9b70-c686381ec077"
   },
   "outputs": [
    {
     "data": {
      "text/plain": [
       "6"
      ]
     },
     "execution_count": 39,
     "metadata": {
      "tags": []
     },
     "output_type": "execute_result"
    }
   ],
   "source": [
    "# 取得字串長度\n",
    "len(word)"
   ]
  },
  {
   "cell_type": "markdown",
   "metadata": {
    "id": "LOeaFPj5JCJg"
   },
   "source": [
    "# List 串列"
   ]
  },
  {
   "cell_type": "code",
   "execution_count": 50,
   "metadata": {
    "id": "UoikgvsOJCJh",
    "outputId": "e24525ae-e296-4f2a-fa6b-bb2104ffdbe0"
   },
   "outputs": [
    {
     "data": {
      "text/plain": [
       "[9, 16, 25]"
      ]
     },
     "execution_count": 50,
     "metadata": {},
     "output_type": "execute_result"
    }
   ],
   "source": [
    "# List 像是一個陣列，儲存多個數值\n",
    "squares = [1, 4, 9, 16, 25]\n",
    "squares[-3:]"
   ]
  },
  {
   "cell_type": "code",
   "execution_count": null,
   "metadata": {
    "id": "WSXbQNgBJCJz",
    "outputId": "cec5276a-0802-44b3-ba35-0809bee1150c"
   },
   "outputs": [
    {
     "data": {
      "text/plain": [
       "[1, 4, 9, 16, 25, 36, 49, 64, 81, 100]"
      ]
     },
     "execution_count": 46,
     "metadata": {
      "tags": []
     },
     "output_type": "execute_result"
    }
   ],
   "source": [
    "# 可以連結兩個 list\n",
    "squares + [36, 49, 64, 81, 100]"
   ]
  },
  {
   "cell_type": "code",
   "execution_count": null,
   "metadata": {
    "id": "X5XMUr-QJCJ2",
    "outputId": "32215d89-4b9c-4604-975c-e2eb3cd74206"
   },
   "outputs": [
    {
     "data": {
      "text/plain": [
       "[1, 8, 27, 64, 125]"
      ]
     },
     "execution_count": 47,
     "metadata": {
      "tags": []
     },
     "output_type": "execute_result"
    }
   ],
   "source": [
    "# 跟字串不一樣的是 list 內的子元素是可以修改的\n",
    "cubes = [1, 8, 27, 65, 125]\n",
    "cubes[3] = 64\n",
    "cubes"
   ]
  },
  {
   "cell_type": "code",
   "execution_count": null,
   "metadata": {
    "id": "Md-GYvoGJCJ7"
   },
   "outputs": [],
   "source": [
    "# 新增一個新元素到list最後面\n",
    "cubes.append(216)"
   ]
  },
  {
   "cell_type": "code",
   "execution_count": null,
   "metadata": {
    "id": "w3b3bCAWJCJ9",
    "outputId": "6de9e173-f677-4e14-c1c6-b093d7ab8772"
   },
   "outputs": [
    {
     "data": {
      "text/plain": [
       "['a', 'b', 'C', 'D', 'E', 'f', 'g']"
      ]
     },
     "execution_count": 49,
     "metadata": {
      "tags": []
     },
     "output_type": "execute_result"
    }
   ],
   "source": [
    "# 也可以對 slice 賦值，這能改變 list 的大小\n",
    "letters = ['a', 'b', 'c', 'd', 'e', 'f', 'g']\n",
    "letters[2:5] = ['C', 'D', 'E']\n",
    "letters"
   ]
  },
  {
   "cell_type": "code",
   "execution_count": null,
   "metadata": {
    "id": "iL66fx9CJCKA",
    "outputId": "efa8ea48-16ed-46f9-a8c7-bc263c136ec6"
   },
   "outputs": [
    {
     "data": {
      "text/plain": [
       "['a', 'b', 'f', 'g']"
      ]
     },
     "execution_count": 50,
     "metadata": {
      "tags": []
     },
     "output_type": "execute_result"
    }
   ],
   "source": [
    "# 移除部分的元素\n",
    "letters[2:5] = []\n",
    "letters"
   ]
  },
  {
   "cell_type": "code",
   "execution_count": null,
   "metadata": {
    "id": "mR1X6lm8JCKD",
    "outputId": "b887d840-2df2-49f4-c4b4-108e65dc0cb4"
   },
   "outputs": [
    {
     "data": {
      "text/plain": [
       "[]"
      ]
     },
     "execution_count": 51,
     "metadata": {
      "tags": []
     },
     "output_type": "execute_result"
    }
   ],
   "source": [
    "# 移除全部的元素\n",
    "letters[:] = []\n",
    "letters"
   ]
  },
  {
   "cell_type": "code",
   "execution_count": null,
   "metadata": {
    "id": "SURZXnAxJCKG",
    "outputId": "4a8edb0d-67ca-4447-a3a1-7ed2673650fb"
   },
   "outputs": [
    {
     "data": {
      "text/plain": [
       "4"
      ]
     },
     "execution_count": 52,
     "metadata": {
      "tags": []
     },
     "output_type": "execute_result"
    }
   ],
   "source": [
    "# 取得 list 的長度跟字串一樣方法\n",
    "letters = ['a', 'b', 'c', 'd']\n",
    "len(letters)"
   ]
  },
  {
   "cell_type": "code",
   "execution_count": null,
   "metadata": {
    "id": "A84I8wgiJCKK",
    "outputId": "bc90087b-84f6-46f7-9663-f0f050b93d86"
   },
   "outputs": [
    {
     "data": {
      "text/plain": [
       "[['a', 'b', 'c'], [1, 2, 3]]"
      ]
     },
     "execution_count": 53,
     "metadata": {
      "tags": []
     },
     "output_type": "execute_result"
    }
   ],
   "source": [
    "# 可以嵌套多層 list （建立 list 包含其他 list）\n",
    "a = ['a', 'b', 'c']\n",
    "n = [1, 2, 3]\n",
    "x = [a, n]\n",
    "x"
   ]
  },
  {
   "cell_type": "code",
   "execution_count": null,
   "metadata": {
    "id": "i3DkKpOFJCKN",
    "outputId": "6ec6dd68-7406-4e32-a89f-ffb749f66128"
   },
   "outputs": [
    {
     "data": {
      "text/plain": [
       "['a', 'b', 'c']"
      ]
     },
     "execution_count": 54,
     "metadata": {
      "tags": []
     },
     "output_type": "execute_result"
    }
   ],
   "source": [
    "x[0]"
   ]
  },
  {
   "cell_type": "code",
   "execution_count": null,
   "metadata": {
    "id": "-tJzA5bdJCKP",
    "outputId": "2eb3b517-8905-4cf0-940e-d3744e174e75",
    "scrolled": true
   },
   "outputs": [
    {
     "data": {
      "text/plain": [
       "'b'"
      ]
     },
     "execution_count": 56,
     "metadata": {
      "tags": []
     },
     "output_type": "execute_result"
    }
   ],
   "source": [
    "# 等同於一個二維的矩陣\n",
    "x[0][1]"
   ]
  },
  {
   "cell_type": "markdown",
   "metadata": {},
   "source": [
    "# %d"
   ]
  },
  {
   "cell_type": "code",
   "execution_count": 53,
   "metadata": {
    "id": "7Hbazf9mJCKR"
   },
   "outputs": [
    {
     "data": {
      "text/plain": [
       "'My age is [ 48]'"
      ]
     },
     "execution_count": 53,
     "metadata": {},
     "output_type": "execute_result"
    }
   ],
   "source": [
    "'My age is [%3d]'%(48)"
   ]
  },
  {
   "cell_type": "code",
   "execution_count": 54,
   "metadata": {
    "id": "MSrxAA9vJCKV"
   },
   "outputs": [
    {
     "data": {
      "text/plain": [
       "'My age is [048]'"
      ]
     },
     "execution_count": 54,
     "metadata": {},
     "output_type": "execute_result"
    }
   ],
   "source": [
    "'My age is [%03d]'%(48)"
   ]
  },
  {
   "cell_type": "code",
   "execution_count": 55,
   "metadata": {
    "id": "UI3ZE9pFJCKZ"
   },
   "outputs": [
    {
     "data": {
      "text/plain": [
       "'The price is [12345.50]'"
      ]
     },
     "execution_count": 55,
     "metadata": {},
     "output_type": "execute_result"
    }
   ],
   "source": [
    "'The price is [%1.2f]'%12345.5"
   ]
  },
  {
   "cell_type": "code",
   "execution_count": 56,
   "metadata": {},
   "outputs": [
    {
     "name": "stdout",
     "output_type": "stream",
     "text": [
      "Clement's age is 48\n"
     ]
    }
   ],
   "source": [
    "# 3.6 版以後的作法\n",
    "name = 'Clement'\n",
    "age = 48\n",
    "s = f\"{name}'s age is {age}\"\n",
    "print(s)"
   ]
  },
  {
   "cell_type": "code",
   "execution_count": 57,
   "metadata": {},
   "outputs": [
    {
     "data": {
      "text/plain": [
       "'The price is [ 12345.50]'"
      ]
     },
     "execution_count": 57,
     "metadata": {},
     "output_type": "execute_result"
    }
   ],
   "source": [
    "x = 12345.5\n",
    "f'The price is [{x:9.2f}]'"
   ]
  },
  {
   "cell_type": "markdown",
   "metadata": {},
   "source": [
    "# 字串處理"
   ]
  },
  {
   "cell_type": "code",
   "execution_count": 60,
   "metadata": {},
   "outputs": [
    {
     "data": {
      "text/plain": [
       "'12 345'"
      ]
     },
     "execution_count": 60,
     "metadata": {},
     "output_type": "execute_result"
    }
   ],
   "source": [
    "x = '  12345  '\n",
    "x.strip()   # 去左右(strip)空格"
   ]
  },
  {
   "cell_type": "code",
   "execution_count": 59,
   "metadata": {},
   "outputs": [
    {
     "data": {
      "text/plain": [
       "'12345  '"
      ]
     },
     "execution_count": 59,
     "metadata": {},
     "output_type": "execute_result"
    }
   ],
   "source": [
    "x = '  12345  '\n",
    "x.lstrip()  # 去左(l)空格"
   ]
  },
  {
   "cell_type": "code",
   "execution_count": 61,
   "metadata": {},
   "outputs": [
    {
     "data": {
      "text/plain": [
       "'  12345'"
      ]
     },
     "execution_count": 61,
     "metadata": {},
     "output_type": "execute_result"
    }
   ],
   "source": [
    "x = '  12345  '\n",
    "x.rstrip()  # 去右(r)空格"
   ]
  },
  {
   "cell_type": "code",
   "execution_count": 62,
   "metadata": {},
   "outputs": [
    {
     "data": {
      "text/plain": [
       "'12345'"
      ]
     },
     "execution_count": 62,
     "metadata": {},
     "output_type": "execute_result"
    }
   ],
   "source": [
    "x = '___123__45____'\n",
    "x.replace('_','')    #replace"
   ]
  },
  {
   "cell_type": "code",
   "execution_count": 63,
   "metadata": {},
   "outputs": [
    {
     "data": {
      "text/plain": [
       "4"
      ]
     },
     "execution_count": 63,
     "metadata": {},
     "output_type": "execute_result"
    }
   ],
   "source": [
    "x = '0123456789'\n",
    "x.index('4')"
   ]
  },
  {
   "cell_type": "code",
   "execution_count": 65,
   "metadata": {},
   "outputs": [
    {
     "data": {
      "text/plain": [
       "4"
      ]
     },
     "execution_count": 65,
     "metadata": {},
     "output_type": "execute_result"
    }
   ],
   "source": [
    "x = '0123456789'\n",
    "x.find('45')      # from right"
   ]
  },
  {
   "cell_type": "code",
   "execution_count": 66,
   "metadata": {},
   "outputs": [
    {
     "data": {
      "text/plain": [
       "14"
      ]
     },
     "execution_count": 66,
     "metadata": {},
     "output_type": "execute_result"
    }
   ],
   "source": [
    "x = '0123456789012345789'\n",
    "x.rfind('45')      #from left"
   ]
  },
  {
   "cell_type": "code",
   "execution_count": 67,
   "metadata": {},
   "outputs": [
    {
     "data": {
      "text/plain": [
       "['If', 'suddenlyyou', 'forget', 'medo', 'not', 'look', 'for', 'me']"
      ]
     },
     "execution_count": 67,
     "metadata": {},
     "output_type": "execute_result"
    }
   ],
   "source": [
    "x = 'If suddenly' \\\n",
    "    'you forget me' \\\n",
    "    'do not look for me'\n",
    "x.split(' ')"
   ]
  },
  {
   "cell_type": "code",
   "execution_count": 68,
   "metadata": {},
   "outputs": [
    {
     "name": "stdout",
     "output_type": "stream",
     "text": [
      "['cricket', 'football', 'horseback riding', 'volleyball']\n",
      "['cricket', 'football', 'volleyball']\n",
      "['cricket', 'football', 'volleyball', 'new']\n",
      "['cricket', 'football', 'new', 'volleyball']\n",
      "['volleyball', 'new', 'football', 'cricket']\n"
     ]
    }
   ],
   "source": [
    "sports = ['cricket', 'football', 'volleyball']\n",
    "sports.insert(2,\"horseback riding\") #插入\n",
    "print(sports)\n",
    "\n",
    "sports.remove(\"horseback riding\") #刪除\n",
    "print(sports)\n",
    "\n",
    "sports.append(\"new\")  #尾部新增\n",
    "print(sports)\n",
    "\n",
    "sports.sort()     #正排序\n",
    "print(sports)\n",
    "\n",
    "sports.reverse()  #倒序\n",
    "print(sports)"
   ]
  },
  {
   "cell_type": "code",
   "execution_count": null,
   "metadata": {},
   "outputs": [],
   "source": []
  }
 ],
 "metadata": {
  "colab": {
   "name": "01. 變數與基本型態.ipynb",
   "provenance": []
  },
  "kernelspec": {
   "display_name": "Python 3",
   "language": "python",
   "name": "python3"
  },
  "language_info": {
   "codemirror_mode": {
    "name": "ipython",
    "version": 3
   },
   "file_extension": ".py",
   "mimetype": "text/x-python",
   "name": "python",
   "nbconvert_exporter": "python",
   "pygments_lexer": "ipython3",
   "version": "3.8.5"
  }
 },
 "nbformat": 4,
 "nbformat_minor": 1
}
