{
 "cells": [
  {
   "cell_type": "markdown",
   "metadata": {},
   "source": [
    "Write a program that checks the websites of several web comics and auto\u0002matically downloads the images if the comic was updated since the program’s \n",
    "last visit. Your operating system’s scheduler (Scheduled Tasks on Windows, \n",
    "launchd on OS X, and cron on Linux) can run your Python program once \n",
    "a day. The Python program itself can download the comic and then copy \n",
    "it to your desktop so that it is easy to find. This will free you from having \n",
    "to check the website yourself to see whether it has updated. (A list of web \n",
    "comics is available at http://nostarch.com/automatestuff/.)"
   ]
  },
  {
   "cell_type": "code",
   "execution_count": 1,
   "metadata": {},
   "outputs": [
    {
     "name": "stdout",
     "output_type": "stream",
     "text": [
      "----first ever request----\n",
      "making comic image request...\n",
      "saving comic image...\n"
     ]
    }
   ],
   "source": [
    "# %load downloader.py\n",
    "import os\n",
    "import shelve\n",
    "\n",
    "import requests\n",
    "import bs4\n",
    "\n",
    "\n",
    "def download(url):\n",
    "    \"\"\" Checks if comic website(buttersafe) updated, and saves comic\n",
    "    Args:\n",
    "        url (str): url of comic site\n",
    "    Returns:\n",
    "        None\n",
    "    \"\"\"\n",
    "    # make requests to website\n",
    "    try:\n",
    "        headers = {'user-agent': 'Mozilla/5.0 (Macintosh; \\\n",
    "                   Intel Mac OS X 10_12_6) AppleWebKit/537.36 \\\n",
    "                   (KHTML, like Gecko) Chrome/74.0.3729.108 Safari/537.36'}\n",
    "        res = requests.get(url, headers=headers)\n",
    "        res.raise_for_status()\n",
    "    except Exception as exc:\n",
    "        print(exc)\n",
    "\n",
    "    # use bs4 to check contents of date\n",
    "    soup = bs4.BeautifulSoup(res.text, 'html.parser')\n",
    "    dateElem = soup.select('#headernav-date')\n",
    "    currDate = dateElem[0].text.strip()\n",
    "\n",
    "    # shelf file\n",
    "    shelfFile = shelve.open('prevDate')\n",
    "  \n",
    "    if not shelfFile.keys():   # if shelve is empty, first time function runs\n",
    "        print('----first ever request----')\n",
    "        shelfFile['prev'] = currDate\n",
    "        \n",
    "    else:\n",
    "        print('staring daily check...')\n",
    "        prevDate = shelfFile['prev']\n",
    "        \n",
    "        # return from function if site hasn't been updated\n",
    "        if prevDate == currDate:\n",
    "            print('no updates available...')\n",
    "            return\n",
    "\n",
    "    # if update was made, get image url, make request & save\n",
    "    imgUrl = soup.select('#comic > img')[0].get('src')\n",
    "    os.makedirs('comics', exist_ok=True)\n",
    "    try:\n",
    "        print('making comic image request...')\n",
    "        res2 = requests.get(imgUrl, headers=headers)\n",
    "        print('saving comic image...')\n",
    "        with open(os.path.join('comics', os.path.basename(imgUrl)), 'wb') as imgFile:\n",
    "            for chunk in res2.iter_content(100000):\n",
    "                imgFile.write(chunk)\n",
    "    except Exception as exc:\n",
    "        print(exc)\n",
    "\n",
    "    # update and close shelve file\n",
    "    shelfFile['prev'] = currDate\n",
    "    shelfFile.close()\n",
    "\n",
    "\n",
    "if __name__ == \"__main__\":\n",
    "    download('http://www.buttersafe.com')"
   ]
  },
  {
   "cell_type": "code",
   "execution_count": null,
   "metadata": {},
   "outputs": [],
   "source": []
  }
 ],
 "metadata": {
  "kernelspec": {
   "display_name": "Python 3",
   "language": "python",
   "name": "python3"
  },
  "language_info": {
   "codemirror_mode": {
    "name": "ipython",
    "version": 3
   },
   "file_extension": ".py",
   "mimetype": "text/x-python",
   "name": "python",
   "nbconvert_exporter": "python",
   "pygments_lexer": "ipython3",
   "version": "3.8.5"
  }
 },
 "nbformat": 4,
 "nbformat_minor": 4
}
