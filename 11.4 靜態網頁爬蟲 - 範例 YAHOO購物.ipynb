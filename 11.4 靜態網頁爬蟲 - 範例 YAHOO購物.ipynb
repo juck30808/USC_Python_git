{
 "cells": [
  {
   "cell_type": "code",
   "execution_count": 53,
   "metadata": {},
   "outputs": [],
   "source": [
    "from bs4 import BeautifulSoup\n",
    "from urllib.parse import unquote\n",
    "import urllib\n",
    "import urllib.request\n",
    "import os\n",
    "import string\n",
    "\n",
    "# url = 'https://tw.buy.yahoo.com/search/product?p=%E7%AD%86%E9%9B%BB'\n",
    "url = 'https://tw.buy.yahoo.com/search/product?p=手機'\n",
    "headers = {'User-Agent':'Mozilla/5.0 (Windows NT 6.1; WOW64; rv:23.0) Gecko/20100101 Firefox/23.0'}\n",
    "req = urllib.request.Request(url= urllib.parse.quote(url, safe=string.printable), headers=headers)\n",
    "html_doc = urllib.request.urlopen(req).read()\n",
    "soup = BeautifulSoup(html_doc, 'html.parser')"
   ]
  },
  {
   "cell_type": "code",
   "execution_count": 54,
   "metadata": {},
   "outputs": [],
   "source": [
    "main_tag = soup.find('div',class_='main')"
   ]
  },
  {
   "cell_type": "code",
   "execution_count": 55,
   "metadata": {},
   "outputs": [],
   "source": [
    "product_tags = main_tag.find_all('li', class_='BaseGridItem__grid___2wuJ7 BaseGridItem__multipleImage___37M7b')"
   ]
  },
  {
   "cell_type": "code",
   "execution_count": 61,
   "metadata": {},
   "outputs": [],
   "source": [
    "product_tag = product_tags[0]"
   ]
  },
  {
   "cell_type": "code",
   "execution_count": 29,
   "metadata": {},
   "outputs": [
    {
     "data": {
      "text/plain": [
       "'https://tw.buy.yahoo.com/gdsale/Acer-A315-55G-52PA-15吋筆電-i5-10210U-MX230-4G-256G-S-8981430.html'"
      ]
     },
     "execution_count": 29,
     "metadata": {},
     "output_type": "execute_result"
    }
   ],
   "source": [
    "product_tag.find('a')['href']"
   ]
  },
  {
   "cell_type": "code",
   "execution_count": 30,
   "metadata": {},
   "outputs": [
    {
     "data": {
      "text/plain": [
       "'(結帳17900)Acer A315-55G-52PA 15吋筆電(i5-10210U/MX230/4G/256G SSD/Aspire 3/黑)'"
      ]
     },
     "execution_count": 30,
     "metadata": {},
     "output_type": "execute_result"
    }
   ],
   "source": [
    "product_tag.find_all('span')[2].get_text()"
   ]
  },
  {
   "cell_type": "code",
   "execution_count": 31,
   "metadata": {},
   "outputs": [
    {
     "data": {
      "text/plain": [
       "'$17,900'"
      ]
     },
     "execution_count": 31,
     "metadata": {},
     "output_type": "execute_result"
    }
   ],
   "source": [
    "product_tag.find('em').get_text()"
   ]
  },
  {
   "cell_type": "code",
   "execution_count": 56,
   "metadata": {},
   "outputs": [
    {
     "name": "stdout",
     "output_type": "stream",
     "text": [
      "https://tw.buy.yahoo.com/gdsale/realme-X50-6G-128G-6-57-吋-雙卡雙待手機-9110093.html\n",
      "券贈品\n",
      "$8,999\n",
      "--------------------\n",
      "https://tw.buy.yahoo.com/gdsale/福利品-LG-K61-4G-128G-6-53吋四鏡頭智慧手機-9238240.html\n",
      "券\n",
      "$4,690\n",
      "--------------------\n",
      "https://tw.buy.yahoo.com/gdsale/SUGAR-T30-3G-64G-6-52吋大電量三鏡頭智慧型手機-9031106.html\n",
      "SUGAR T30 (3G/64G) 6.52吋大電量三鏡頭智慧型手機\n",
      "$4,380\n",
      "--------------------\n",
      "https://tw.buy.yahoo.com/gdsale/SUGAR-T10-3G-64G-6-26吋三鏡頭-8411250.html\n",
      "SUGAR T10 (3G/64G) 6.26吋三鏡頭超廣角手機\n",
      "$3,850\n",
      "--------------------\n",
      "https://tw.buy.yahoo.com/gdsale/SAMSUNG-Galaxy-A71-5G版-6G-128G-6-7吋智慧手機-9081697.html\n",
      "SAMSUNG Galaxy A71 5G版 (8G/128G) 6.7吋智慧手機\n",
      "$15,390\n",
      "--------------------\n",
      "https://tw.buy.yahoo.com/gdsale/SAMSUNG-Galaxy-A21s-4G-64G-6-5吋智慧型手機-9007974.html\n",
      "SAMSUNG Galaxy A21s (4G/64G) 6.5吋智慧型手機\n",
      "$5,890\n",
      "--------------------\n",
      "https://tw.buy.yahoo.com/gdsale/Apple-iPhone-Xs-Max-64G-6-5吋智慧型手機-9234894.html\n",
      "\n",
      "$27,500\n",
      "--------------------\n",
      "https://tw.buy.yahoo.com/gdsale/拆封新品-ASUS-ZenFone-Max-Pro-M2-ZB631KL-6G-64G-智慧手機-9238865.html\n",
      "$6,166$6,490\n",
      "$6,166\n",
      "--------------------\n",
      "https://tw.buy.yahoo.com/gdsale/vivo-X50e-5G-8GB-128GB-6-44吋四鏡頭智慧型手機-9190134.html\n",
      "vivo X50e 5G(8GB/128GB) 6.44吋四鏡頭智慧型手機\n",
      "$11,111\n",
      "--------------------\n",
      "https://tw.buy.yahoo.com/gdsale/ASUS-ZenFone-Max-ZB555KL-2G-16G-智慧手機-9164516.html\n",
      "ASUS ZenFone Max ZB555KL 2G/16G 智慧手機\n",
      "$3,990\n",
      "--------------------\n",
      "https://tw.buy.yahoo.com/gdsale/拆封新品-ASUS-ZenFone-Max-M1-ZB555KL-2G-16G-智慧型手機-9143315.html\n",
      "【拆封新品】ASUS ZenFone Max M1 ZB555KL (2G/16G) 智慧型手機\n",
      "$2,461\n",
      "--------------------\n",
      "https://tw.buy.yahoo.com/gdsale/vivo-X50e-8G-128G-6-44吋-雙卡雙待-智慧型手機-9185475.html\n",
      "vivo X50e (8G/128G) 6.44吋 雙卡雙待 智慧型手機\n",
      "$10,111\n",
      "--------------------\n",
      "https://tw.buy.yahoo.com/gdsale/SAMSUNG-Galaxy-A71-5G-6G-128G-6-7吋智慧手機-9065014.html\n",
      "雙11券\n",
      "$15,210\n",
      "--------------------\n",
      "https://tw.buy.yahoo.com/gdsale/OPPO-Reno4-Z-8G-128G-6-57-吋-智慧型手機-9187587.html\n",
      "券\n",
      "$10,999\n",
      "--------------------\n",
      "https://tw.buy.yahoo.com/gdsale/TWM-Amazing-A32-5吋智慧手機-8007524.html\n",
      "TWM Amazing A32 5吋智慧手機\n",
      "$1,588\n",
      "--------------------\n"
     ]
    }
   ],
   "source": [
    "for product_tag in product_tags:\n",
    "    print(product_tag.find('a')['href'])\n",
    "    print(product_tag.find_all('span')[2].get_text())\n",
    "    print(product_tag.find('em').get_text())\n",
    "    print('--------------------')"
   ]
  }
 ],
 "metadata": {
  "kernelspec": {
   "display_name": "Python 3",
   "language": "python",
   "name": "python3"
  },
  "language_info": {
   "codemirror_mode": {
    "name": "ipython",
    "version": 3
   },
   "file_extension": ".py",
   "mimetype": "text/x-python",
   "name": "python",
   "nbconvert_exporter": "python",
   "pygments_lexer": "ipython3",
   "version": "3.8.5"
  }
 },
 "nbformat": 4,
 "nbformat_minor": 4
}
