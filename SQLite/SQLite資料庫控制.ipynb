{
 "cells": [
  {
   "cell_type": "markdown",
   "metadata": {},
   "source": [
    "# SQLite資料庫控制\n",
    "參考文件 https://www.runoob.com/sqlite/sqlite-python.html\n",
    "\n",
    "- https://www.w3schools.com/sql/default.asp\n",
    "- http://tw.gitbook.net/sqlite/sqlite_select_query.html"
   ]
  },
  {
   "cell_type": "code",
   "execution_count": 1,
   "metadata": {},
   "outputs": [
    {
     "data": {
      "text/plain": [
       "<sqlite3.Cursor at 0x7f99618528f0>"
      ]
     },
     "execution_count": 1,
     "metadata": {},
     "output_type": "execute_result"
    }
   ],
   "source": [
    "# 連接資料庫\n",
    "import sqlite3\n",
    "conn = sqlite3.connect('data/SQL_TEST.db')   #API\n",
    "cursor = conn.cursor()   # 建立資料庫操作物件\n",
    "cursor"
   ]
  },
  {
   "cell_type": "code",
   "execution_count": 2,
   "metadata": {},
   "outputs": [],
   "source": [
    "#conn.commit() # 必須執行這行指令資料庫才會進行更新\n",
    "#conn.close()"
   ]
  },
  {
   "cell_type": "markdown",
   "metadata": {},
   "source": [
    "## 新增資料 INSERT INTO \n",
    "- Python 控制 SQL 端做資料新增\n",
    "- INSERT INTO Table (A, B, C) VALUES ('A', 'B', 'C')"
   ]
  },
  {
   "cell_type": "code",
   "execution_count": 3,
   "metadata": {},
   "outputs": [],
   "source": [
    "result = cursor.execute(\n",
    "    \"INSERT INTO orders (id, sales_id, sale_date, price) VALUES ('26', '3', '2021/01/05', '19.2')\"\n",
    ")\n",
    "conn.commit() "
   ]
  },
  {
   "cell_type": "code",
   "execution_count": 4,
   "metadata": {},
   "outputs": [],
   "source": [
    "result = cursor.execute(\n",
    "    \"INSERT INTO sales (id, name, city) VALUES ('8', 'Man','台南市')\"\n",
    ")\n",
    "conn.commit()"
   ]
  },
  {
   "cell_type": "markdown",
   "metadata": {},
   "source": [
    "## 刪除資料 Delete from"
   ]
  },
  {
   "cell_type": "markdown",
   "metadata": {},
   "source": [
    "- DELETE FROM table_name WHERE condition;"
   ]
  },
  {
   "cell_type": "code",
   "execution_count": 7,
   "metadata": {},
   "outputs": [],
   "source": [
    "\n",
    "result = cursor.execute(\n",
    "    \"delete from sales where id = 7\"\n",
    ")\n",
    "conn.commit() "
   ]
  },
  {
   "cell_type": "markdown",
   "metadata": {},
   "source": [
    "## 修改資料 Update_Set_where"
   ]
  },
  {
   "cell_type": "markdown",
   "metadata": {},
   "source": [
    "UPDATE table_name\n",
    "SET column1 = value1, column2 = value2, ...\n",
    "WHERE condition;"
   ]
  },
  {
   "cell_type": "code",
   "execution_count": 8,
   "metadata": {},
   "outputs": [],
   "source": [
    "result = cursor.execute(\n",
    "    \"UPDATE orders SET price = 12.1 where id = 15\"\n",
    ")\n",
    "conn.commit() "
   ]
  },
  {
   "cell_type": "markdown",
   "metadata": {},
   "source": [
    "## 查詢資料 select * from table"
   ]
  },
  {
   "cell_type": "code",
   "execution_count": null,
   "metadata": {},
   "outputs": [],
   "source": [
    "# sql = \"UPDATE sales SET name = 'Andy' where id = 1\"\n",
    "# conn = sqlite3.connect('data/SQL_TEST.db')\n",
    "# cursor = conn.cursor()"
   ]
  },
  {
   "cell_type": "code",
   "execution_count": 10,
   "metadata": {
    "scrolled": true
   },
   "outputs": [
    {
     "name": "stdout",
     "output_type": "stream",
     "text": [
      "1 Ken 台北市\n",
      "2 Kim 台中市\n",
      "3 Niki 桃園市\n",
      "4 Jerry 台北市\n",
      "5 Rudy 台北市\n",
      "6 Nick 高雄市\n"
     ]
    }
   ],
   "source": [
    "cursor.execute('select * from sales')\n",
    "\n",
    "for id, name, city in cursor:\n",
    "    print(id, name, city)"
   ]
  },
  {
   "cell_type": "code",
   "execution_count": 11,
   "metadata": {
    "scrolled": true
   },
   "outputs": [
    {
     "data": {
      "text/plain": [
       "[(1, 1, '2020/03/04', 41.5),\n",
       " (3, 1, '2020/03/04', 21.3),\n",
       " (4, 1, '2020/03/05', 14.6),\n",
       " (6, 1, '2020/03/04', 31.7),\n",
       " (8, 1, '2020/02/17', 33.5),\n",
       " (10, 1, '2020/03/05', 40.1),\n",
       " (11, 1, '2020/03/14', 15.6),\n",
       " (12, 1, '2020/03/14', 15.6),\n",
       " (15, 1, '2020/03/04', 12.1),\n",
       " (16, 1, '2020/03/24', 50.6),\n",
       " (17, 1, '2020/03/24', 8.2),\n",
       " (20, 1, '2020/03/09', 51.1),\n",
       " (21, 1, '2020/03/09', 20.1)]"
      ]
     },
     "execution_count": 11,
     "metadata": {},
     "output_type": "execute_result"
    }
   ],
   "source": [
    "# 使用 fetchall 將資料一次全部抓到 Python 中再處理\n",
    "\n",
    "cursor.execute('select * from orders where sales_id = 1')\n",
    "records = cursor.fetchall()\n",
    "records\n",
    "\n",
    "#print(\"資料筆數：\", cursor.rowcount)"
   ]
  },
  {
   "cell_type": "code",
   "execution_count": 12,
   "metadata": {},
   "outputs": [
    {
     "data": {
      "text/plain": [
       "[(1, 1, '2020/03/04', 41.5),\n",
       " (6, 1, '2020/03/04', 31.7),\n",
       " (8, 1, '2020/02/17', 33.5),\n",
       " (10, 1, '2020/03/05', 40.1),\n",
       " (16, 1, '2020/03/24', 50.6),\n",
       " (20, 1, '2020/03/09', 51.1)]"
      ]
     },
     "execution_count": 12,
     "metadata": {},
     "output_type": "execute_result"
    }
   ],
   "source": [
    "# A and B filter\n",
    "\n",
    "cursor.execute('select * from orders where sales_id=1 and price>30')\n",
    "records = cursor.fetchall()\n",
    "records"
   ]
  },
  {
   "cell_type": "code",
   "execution_count": 13,
   "metadata": {},
   "outputs": [
    {
     "data": {
      "text/plain": [
       "[(1, 1, '2020/03/04', 41.5),\n",
       " (3, 1, '2020/03/04', 21.3),\n",
       " (6, 1, '2020/03/04', 31.7),\n",
       " (8, 1, '2020/02/17', 33.5),\n",
       " (10, 1, '2020/03/05', 40.1),\n",
       " (16, 1, '2020/03/24', 50.6),\n",
       " (20, 1, '2020/03/09', 51.1),\n",
       " (21, 1, '2020/03/09', 20.1)]"
      ]
     },
     "execution_count": 13,
     "metadata": {},
     "output_type": "execute_result"
    }
   ],
   "source": [
    "# Sort by\n",
    "\n",
    "cursor.execute('select * from orders where sales_id = 1 and price > 20 order by sale_date and price')\n",
    "records = cursor.fetchall()\n",
    "records"
   ]
  },
  {
   "cell_type": "code",
   "execution_count": 14,
   "metadata": {},
   "outputs": [
    {
     "data": {
      "text/plain": [
       "[(16, 1, '2020/03/24', 50.6),\n",
       " (20, 1, '2020/03/09', 51.1),\n",
       " (21, 1, '2020/03/09', 20.1),\n",
       " (10, 1, '2020/03/05', 40.1),\n",
       " (1, 1, '2020/03/04', 41.5),\n",
       " (3, 1, '2020/03/04', 21.3),\n",
       " (6, 1, '2020/03/04', 31.7),\n",
       " (8, 1, '2020/02/17', 33.5)]"
      ]
     },
     "execution_count": 14,
     "metadata": {},
     "output_type": "execute_result"
    }
   ],
   "source": [
    "# descend （降序）\n",
    "\n",
    "cursor.execute('select * from orders where sales_id = 1 and price > 20 order by sale_date DESC')\n",
    "records = cursor.fetchall()\n",
    "records"
   ]
  },
  {
   "cell_type": "code",
   "execution_count": 15,
   "metadata": {},
   "outputs": [
    {
     "data": {
      "text/plain": [
       "[('2020/03/04',),\n",
       " ('2020/03/05',),\n",
       " ('2020/03/06',),\n",
       " ('2020/02/17',),\n",
       " ('2020/03/14',),\n",
       " ('2020/03/24',),\n",
       " ('2020/03/09',),\n",
       " ('2020/12/04',),\n",
       " ('2021/01/01',),\n",
       " ('2021/01/02',),\n",
       " ('2021/01/05',)]"
      ]
     },
     "execution_count": 15,
     "metadata": {},
     "output_type": "execute_result"
    }
   ],
   "source": [
    "# Return Unique\n",
    "\n",
    "cursor.execute('select DISTINCT sale_date from orders')\n",
    "records = cursor.fetchall()\n",
    "records"
   ]
  },
  {
   "cell_type": "code",
   "execution_count": 16,
   "metadata": {
    "scrolled": true
   },
   "outputs": [
    {
     "data": {
      "text/plain": [
       "[(3, '2020/02/17'),\n",
       " (1, '2020/02/17'),\n",
       " (1, '2020/03/04'),\n",
       " (2, '2020/03/04'),\n",
       " (3, '2020/03/04'),\n",
       " (1, '2020/03/05'),\n",
       " (3, '2020/03/06'),\n",
       " (2, '2020/03/06'),\n",
       " (3, '2020/03/09'),\n",
       " (1, '2020/03/09'),\n",
       " (2, '2020/03/09'),\n",
       " (1, '2020/03/14'),\n",
       " (1, '2020/03/24'),\n",
       " (5, '2020/12/04'),\n",
       " (3, '2021/01/01'),\n",
       " (4, '2021/01/02'),\n",
       " (3, '2021/01/05')]"
      ]
     },
     "execution_count": 16,
     "metadata": {},
     "output_type": "execute_result"
    }
   ],
   "source": [
    "# Return Unique and sort(order) by date\n",
    "\n",
    "cursor.execute('select DISTINCT sales_id, sale_date from orders order by sale_date')\n",
    "records = cursor.fetchall()\n",
    "records\n"
   ]
  },
  {
   "cell_type": "code",
   "execution_count": 17,
   "metadata": {
    "scrolled": true
   },
   "outputs": [
    {
     "name": "stdout",
     "output_type": "stream",
     "text": [
      "4 1 2020/03/05 14.6\n",
      "5 3 2020/03/06 14.6\n",
      "11 1 2020/03/14 15.6\n",
      "12 1 2020/03/14 15.6\n",
      "13 2 2020/03/06 13.2\n",
      "15 1 2020/03/04 12.1\n",
      "17 1 2020/03/24 8.2\n",
      "22 2 2020/03/09 11.5\n",
      "25 4 2021/01/02 12.2\n",
      "26 3 2021/01/05 19.2\n"
     ]
    }
   ],
   "source": [
    "# 從 orders 裡尋找 價格小於20元的訂單，並列出來\n",
    "\n",
    "sql = 'select * from orders where price < 20'\n",
    "cursor.execute(sql)\n",
    "\n",
    "for id, sales_id, sale_date, price in cursor:\n",
    "    print(id, sales_id, sale_date, price)"
   ]
  },
  {
   "cell_type": "markdown",
   "metadata": {},
   "source": [
    "## Join 資料表結合查詢"
   ]
  },
  {
   "cell_type": "markdown",
   "metadata": {},
   "source": [
    "SELECT column_name(s)\n",
    "FROM table1\n",
    "INNER JOIN table2\n",
    "ON table1.column_name = table2.column_name;\n",
    "\n",
    "- 主鍵（PK) to 外鍵(FK)"
   ]
  },
  {
   "cell_type": "code",
   "execution_count": 18,
   "metadata": {},
   "outputs": [
    {
     "data": {
      "text/plain": [
       "[(1, 1, '2020/03/04', 41.5, 1, 'Ken', '台北市'),\n",
       " (2, 2, '2020/03/04', 40.2, 2, 'Kim', '台中市'),\n",
       " (3, 1, '2020/03/04', 21.3, 1, 'Ken', '台北市'),\n",
       " (4, 1, '2020/03/05', 14.6, 1, 'Ken', '台北市'),\n",
       " (5, 3, '2020/03/06', 14.6, 3, 'Niki', '桃園市'),\n",
       " (6, 1, '2020/03/04', 31.7, 1, 'Ken', '台北市'),\n",
       " (7, 3, '2020/02/17', 41.5, 3, 'Niki', '桃園市'),\n",
       " (8, 1, '2020/02/17', 33.5, 1, 'Ken', '台北市'),\n",
       " (9, 2, '2020/03/04', 33.5, 2, 'Kim', '台中市'),\n",
       " (10, 1, '2020/03/05', 40.1, 1, 'Ken', '台北市'),\n",
       " (11, 1, '2020/03/14', 15.6, 1, 'Ken', '台北市'),\n",
       " (12, 1, '2020/03/14', 15.6, 1, 'Ken', '台北市'),\n",
       " (13, 2, '2020/03/06', 13.2, 2, 'Kim', '台中市'),\n",
       " (14, 2, '2020/03/04', 31.1, 2, 'Kim', '台中市'),\n",
       " (15, 1, '2020/03/04', 12.1, 1, 'Ken', '台北市'),\n",
       " (16, 1, '2020/03/24', 50.6, 1, 'Ken', '台北市'),\n",
       " (17, 1, '2020/03/24', 8.2, 1, 'Ken', '台北市'),\n",
       " (18, 3, '2020/03/04', 33.2, 3, 'Niki', '桃園市'),\n",
       " (19, 3, '2020/03/09', 20.1, 3, 'Niki', '桃園市'),\n",
       " (20, 1, '2020/03/09', 51.1, 1, 'Ken', '台北市'),\n",
       " (21, 1, '2020/03/09', 20.1, 1, 'Ken', '台北市'),\n",
       " (22, 2, '2020/03/09', 11.5, 2, 'Kim', '台中市'),\n",
       " (23, 5, '2020/12/04', 50.2, 5, 'Rudy', '台北市'),\n",
       " (24, 3, '2021/01/01', 22.2, 3, 'Niki', '桃園市'),\n",
       " (25, 4, '2021/01/02', 12.2, 4, 'Jerry', '台北市'),\n",
       " (26, 3, '2021/01/05', 19.2, 3, 'Niki', '桃園市')]"
      ]
     },
     "execution_count": 18,
     "metadata": {},
     "output_type": "execute_result"
    }
   ],
   "source": [
    "# 結合兩個資料表一起看\n",
    "\n",
    "cursor.execute('select * from orders join sales on sales_id = sales.id')\n",
    "records = cursor.fetchall()\n",
    "records\n"
   ]
  },
  {
   "cell_type": "code",
   "execution_count": 19,
   "metadata": {},
   "outputs": [
    {
     "data": {
      "text/plain": [
       "[(1, 1, '2020/03/04', 41.5, 1, 'Ken', '台北市'),\n",
       " (2, 2, '2020/03/04', 40.2, 2, 'Kim', '台中市'),\n",
       " (3, 1, '2020/03/04', 21.3, 1, 'Ken', '台北市'),\n",
       " (4, 1, '2020/03/05', 14.6, 1, 'Ken', '台北市'),\n",
       " (5, 3, '2020/03/06', 14.6, 3, 'Niki', '桃園市'),\n",
       " (6, 1, '2020/03/04', 31.7, 1, 'Ken', '台北市'),\n",
       " (7, 3, '2020/02/17', 41.5, 3, 'Niki', '桃園市'),\n",
       " (8, 1, '2020/02/17', 33.5, 1, 'Ken', '台北市'),\n",
       " (9, 2, '2020/03/04', 33.5, 2, 'Kim', '台中市'),\n",
       " (10, 1, '2020/03/05', 40.1, 1, 'Ken', '台北市'),\n",
       " (11, 1, '2020/03/14', 15.6, 1, 'Ken', '台北市'),\n",
       " (12, 1, '2020/03/14', 15.6, 1, 'Ken', '台北市'),\n",
       " (13, 2, '2020/03/06', 13.2, 2, 'Kim', '台中市'),\n",
       " (14, 2, '2020/03/04', 31.1, 2, 'Kim', '台中市'),\n",
       " (15, 1, '2020/03/04', 12.1, 1, 'Ken', '台北市'),\n",
       " (16, 1, '2020/03/24', 50.6, 1, 'Ken', '台北市'),\n",
       " (17, 1, '2020/03/24', 8.2, 1, 'Ken', '台北市'),\n",
       " (18, 3, '2020/03/04', 33.2, 3, 'Niki', '桃園市'),\n",
       " (19, 3, '2020/03/09', 20.1, 3, 'Niki', '桃園市'),\n",
       " (20, 1, '2020/03/09', 51.1, 1, 'Ken', '台北市'),\n",
       " (21, 1, '2020/03/09', 20.1, 1, 'Ken', '台北市'),\n",
       " (22, 2, '2020/03/09', 11.5, 2, 'Kim', '台中市'),\n",
       " (23, 5, '2020/12/04', 50.2, 5, 'Rudy', '台北市'),\n",
       " (24, 3, '2021/01/01', 22.2, 3, 'Niki', '桃園市'),\n",
       " (25, 4, '2021/01/02', 12.2, 4, 'Jerry', '台北市'),\n",
       " (26, 3, '2021/01/05', 19.2, 3, 'Niki', '桃園市')]"
      ]
     },
     "execution_count": 19,
     "metadata": {},
     "output_type": "execute_result"
    }
   ],
   "source": [
    "# 另一種結合資料表的寫法\n",
    "\n",
    "cursor.execute('select * from orders ,sales where sales_id = sales.id')\n",
    "records = cursor.fetchall()\n",
    "records"
   ]
  },
  {
   "cell_type": "markdown",
   "metadata": {},
   "source": [
    "# 數值運算可利用 for 迴圈"
   ]
  },
  {
   "cell_type": "code",
   "execution_count": 20,
   "metadata": {},
   "outputs": [
    {
     "name": "stdout",
     "output_type": "stream",
     "text": [
      "(244.59999999999997,)\n"
     ]
    }
   ],
   "source": [
    "# 請統計 2020/03/04 當天營業額的總和\n",
    "\n",
    "sql = \"select sum(price) from orders where sale_date = '2020/03/04'\"\n",
    "cursor.execute(sql)\n",
    "\n",
    "for total in cursor:\n",
    "    print(total)\n",
    " "
   ]
  },
  {
   "cell_type": "code",
   "execution_count": 21,
   "metadata": {},
   "outputs": [
    {
     "name": "stdout",
     "output_type": "stream",
     "text": [
      "2020/02/17 75.0\n",
      "2020/03/04 244.59999999999997\n",
      "2020/03/05 54.7\n",
      "2020/03/06 27.799999999999997\n",
      "2020/03/09 102.80000000000001\n",
      "2020/03/14 31.2\n",
      "2020/03/24 58.8\n",
      "2020/12/04 50.2\n",
      "2021/01/01 22.2\n",
      "2021/01/02 12.2\n",
      "2021/01/05 19.2\n"
     ]
    }
   ],
   "source": [
    "# 請分開統計 每天營業額的總和\n",
    "\n",
    "sql = \"select sum(price), sale_date from orders group by sale_date\"\n",
    "cursor.execute(sql)\n",
    "\n",
    "for total, date in cursor:\n",
    "    print(date, total)\n"
   ]
  },
  {
   "cell_type": "code",
   "execution_count": 22,
   "metadata": {},
   "outputs": [
    {
     "name": "stdout",
     "output_type": "stream",
     "text": [
      "1 2020/02/17 33.5\n",
      "3 2020/02/17 41.5\n",
      "1 2020/03/04 106.6\n",
      "2 2020/03/04 104.80000000000001\n",
      "3 2020/03/04 33.2\n",
      "1 2020/03/05 54.7\n",
      "2 2020/03/06 13.2\n",
      "3 2020/03/06 14.6\n",
      "1 2020/03/09 71.2\n",
      "2 2020/03/09 11.5\n",
      "3 2020/03/09 20.1\n",
      "1 2020/03/14 31.2\n",
      "1 2020/03/24 58.8\n",
      "5 2020/12/04 50.2\n",
      "3 2021/01/01 22.2\n",
      "4 2021/01/02 12.2\n",
      "3 2021/01/05 19.2\n"
     ]
    }
   ],
   "source": [
    "# 請分開統計 每天每個營業員的營業額總和\n",
    "\n",
    "sql = \"select sum(price), sale_date, sales_id from orders group by sale_date, sales_id\"\n",
    "cursor.execute(sql)\n",
    "\n",
    "for total, date, sales_id in cursor:\n",
    "    print(sales_id, date, total)\n"
   ]
  },
  {
   "cell_type": "code",
   "execution_count": 23,
   "metadata": {
    "scrolled": false
   },
   "outputs": [
    {
     "name": "stdout",
     "output_type": "stream",
     "text": [
      "1 Ken 2020/02/17 33.5\n",
      "3 Niki 2020/02/17 41.5\n",
      "1 Ken 2020/03/04 106.6\n",
      "2 Kim 2020/03/04 104.80000000000001\n",
      "3 Niki 2020/03/04 33.2\n",
      "1 Ken 2020/03/05 54.7\n",
      "2 Kim 2020/03/06 13.2\n",
      "3 Niki 2020/03/06 14.6\n",
      "1 Ken 2020/03/09 71.2\n",
      "2 Kim 2020/03/09 11.5\n",
      "3 Niki 2020/03/09 20.1\n",
      "1 Ken 2020/03/14 31.2\n",
      "1 Ken 2020/03/24 58.8\n",
      "5 Rudy 2020/12/04 50.2\n",
      "3 Niki 2021/01/01 22.2\n",
      "4 Jerry 2021/01/02 12.2\n",
      "3 Niki 2021/01/05 19.2\n"
     ]
    }
   ],
   "source": [
    "# 請分開統計 每天每個營業員的營業額總和，同時列出營業員名字跟日期\n",
    "\n",
    "sql = \"select sum(price), sale_date, sales_id, name from orders join sales on orders.sales_id = sales.id group by sale_date, sales_id\"\n",
    "cursor.execute(sql)\n",
    "\n",
    "for total, date, sales_id, name in cursor:\n",
    "    print(sales_id, name, date, total)\n"
   ]
  },
  {
   "cell_type": "code",
   "execution_count": null,
   "metadata": {},
   "outputs": [],
   "source": []
  },
  {
   "cell_type": "code",
   "execution_count": null,
   "metadata": {},
   "outputs": [],
   "source": []
  },
  {
   "cell_type": "code",
   "execution_count": null,
   "metadata": {},
   "outputs": [],
   "source": []
  },
  {
   "cell_type": "code",
   "execution_count": null,
   "metadata": {},
   "outputs": [],
   "source": []
  },
  {
   "cell_type": "code",
   "execution_count": null,
   "metadata": {},
   "outputs": [],
   "source": []
  },
  {
   "cell_type": "markdown",
   "metadata": {},
   "source": [
    "## --------創造資料表 ---------"
   ]
  },
  {
   "cell_type": "markdown",
   "metadata": {},
   "source": [
    "## Create Table"
   ]
  },
  {
   "cell_type": "markdown",
   "metadata": {},
   "source": [
    "CREATE TABLE table_name (\n",
    "    column1 datatype,\n",
    "    column2 datatype,\n",
    "    column3 datatype,\n",
    "   ....\n",
    ");"
   ]
  },
  {
   "cell_type": "code",
   "execution_count": null,
   "metadata": {},
   "outputs": [],
   "source": [
    "CREATE TABLE \"sales\" (\n",
    "\t\"id\"\tINTEGER,\n",
    "\t\"name\"\tTEXT,\n",
    "\t\"city\"\tTEXT\n",
    ");"
   ]
  },
  {
   "cell_type": "code",
   "execution_count": null,
   "metadata": {},
   "outputs": [],
   "source": [
    "CREATE TABLE \"orders\" (\n",
    "\t\"id\"\tINTEGER,\n",
    "\t\"sales_id\"\tINTEGER,\n",
    "\t\"sale_date\"\tTEXT,\n",
    "\t\"price\"\tREAL\n",
    ");"
   ]
  },
  {
   "cell_type": "code",
   "execution_count": null,
   "metadata": {},
   "outputs": [],
   "source": [
    "CREATE INDEX \"order_sales_id\" ON \"orders\" (\n",
    "\t\"sales_id\"\n",
    ")"
   ]
  },
  {
   "cell_type": "code",
   "execution_count": null,
   "metadata": {},
   "outputs": [],
   "source": [
    "CREATE INDEX \"sales_id\" ON \"sales\" (\n",
    "\t\"id\"\n",
    ")"
   ]
  },
  {
   "cell_type": "code",
   "execution_count": null,
   "metadata": {},
   "outputs": [],
   "source": [
    "## Create Table\n",
    "\n",
    "CREATE TABLE table_name (\n",
    "    column1 datatype,\n",
    "    column2 datatype,\n",
    "    column3 datatype,\n",
    "   ....\n",
    ");\n",
    "\n",
    "CREATE TABLE \"sales\" (\n",
    "\t\"id\"\tINTEGER,\n",
    "\t\"name\"\tTEXT,\n",
    "\t\"city\"\tTEXT\n",
    ");\n",
    "\n",
    "CREATE TABLE \"orders\" (\n",
    "\t\"id\"\tINTEGER,\n",
    "\t\"sales_id\"\tINTEGER,\n",
    "\t\"sale_date\"\tTEXT,\n",
    "\t\"price\"\tREAL\n",
    ");\n",
    "\n",
    "CREATE INDEX \"order_sales_id\" ON \"orders\" (\n",
    "\t\"sales_id\"\n",
    ")\n",
    "\n",
    "CREATE INDEX \"sales_id\" ON \"sales\" (\n",
    "\t\"id\"\n",
    ")"
   ]
  }
 ],
 "metadata": {
  "kernelspec": {
   "display_name": "Python 3",
   "language": "python",
   "name": "python3"
  },
  "language_info": {
   "codemirror_mode": {
    "name": "ipython",
    "version": 3
   },
   "file_extension": ".py",
   "mimetype": "text/x-python",
   "name": "python",
   "nbconvert_exporter": "python",
   "pygments_lexer": "ipython3",
   "version": "3.8.5"
  }
 },
 "nbformat": 4,
 "nbformat_minor": 4
}
