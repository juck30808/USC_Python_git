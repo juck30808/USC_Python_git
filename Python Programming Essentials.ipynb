{
 "cells": [
  {
   "cell_type": "code",
   "execution_count": 3,
   "metadata": {
    "scrolled": true
   },
   "outputs": [
    {
     "name": "stdout",
     "output_type": "stream",
     "text": [
      "Got\n",
      "-47.0\n",
      "Got\n",
      "15.0\n",
      "Got\n",
      "61.0\n",
      "Got\n",
      "-659.0\n"
     ]
    }
   ],
   "source": [
    "#第 5 個問題 Implement the mathematical function \n",
    "\n",
    "import math\n",
    "\n",
    "def f(x):\n",
    "    a = -5 * math.pow(x,5)\n",
    "    b = 67 * math.pow(x,2)\n",
    "    print(\"Got\")\n",
    "    return a+b-47\n",
    "    \n",
    "print(f(0))\n",
    "print(f(1))\n",
    "print(f(2))\n",
    "print(f(3))"
   ]
  },
  {
   "cell_type": "code",
   "execution_count": 9,
   "metadata": {},
   "outputs": [
    {
     "name": "stdout",
     "output_type": "stream",
     "text": [
      "$1000 at 2% compounded daily for 4 years yields $ 1083.2847\n",
      "745.3174\n"
     ]
    }
   ],
   "source": [
    "def future_value(present_value, annual_rate, periods_per_year, years):\n",
    "\n",
    "    PV = present_value\n",
    "    rate_per_period = annual_rate / periods_per_year\n",
    "    rate = annual_rate\n",
    "    periods = periods_per_year * years\n",
    "\n",
    "    # Put your code here.\n",
    "    \n",
    "    PV = present_value\n",
    "    rate = math.pow((1+rate_per_period),periods)\n",
    "    \n",
    "    FV = round(PV * rate,4)\n",
    "    \n",
    "    return FV\n",
    "\n",
    "print(\"$1000 at 2% compounded daily for 4 years yields $\", future_value(1000, .02, 365, 4))\n",
    "print(future_value(500, 0.04, 10, 10))"
   ]
  },
  {
   "cell_type": "code",
   "execution_count": null,
   "metadata": {},
   "outputs": [],
   "source": []
  }
 ],
 "metadata": {
  "kernelspec": {
   "display_name": "Python 3",
   "language": "python",
   "name": "python3"
  },
  "language_info": {
   "codemirror_mode": {
    "name": "ipython",
    "version": 3
   },
   "file_extension": ".py",
   "mimetype": "text/x-python",
   "name": "python",
   "nbconvert_exporter": "python",
   "pygments_lexer": "ipython3",
   "version": "3.8.3"
  }
 },
 "nbformat": 4,
 "nbformat_minor": 4
}
